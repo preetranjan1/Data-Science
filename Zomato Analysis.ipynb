{
 "cells": [
  {
   "cell_type": "code",
   "execution_count": 48,
   "id": "43c17b7b",
   "metadata": {},
   "outputs": [],
   "source": [
    "import pandas as pd\n",
    "import numpy as np\n",
    "import seaborn as sns\n",
    "import matplotlib.pyplot as plt"
   ]
  },
  {
   "cell_type": "code",
   "execution_count": null,
   "id": "05bb4a99",
   "metadata": {},
   "outputs": [],
   "source": []
  },
  {
   "cell_type": "code",
   "execution_count": 49,
   "id": "640ab854",
   "metadata": {},
   "outputs": [],
   "source": [
    "df = pd.read_csv('zomato.csv')"
   ]
  },
  {
   "cell_type": "code",
   "execution_count": 50,
   "id": "6b3c5e9c",
   "metadata": {
    "scrolled": true
   },
   "outputs": [
    {
     "data": {
      "text/html": [
       "<div>\n",
       "<style scoped>\n",
       "    .dataframe tbody tr th:only-of-type {\n",
       "        vertical-align: middle;\n",
       "    }\n",
       "\n",
       "    .dataframe tbody tr th {\n",
       "        vertical-align: top;\n",
       "    }\n",
       "\n",
       "    .dataframe thead th {\n",
       "        text-align: right;\n",
       "    }\n",
       "</style>\n",
       "<table border=\"1\" class=\"dataframe\">\n",
       "  <thead>\n",
       "    <tr style=\"text-align: right;\">\n",
       "      <th></th>\n",
       "      <th>url</th>\n",
       "      <th>address</th>\n",
       "      <th>name</th>\n",
       "      <th>online_order</th>\n",
       "      <th>book_table</th>\n",
       "      <th>rate</th>\n",
       "      <th>votes</th>\n",
       "      <th>phone</th>\n",
       "      <th>location</th>\n",
       "      <th>rest_type</th>\n",
       "      <th>dish_liked</th>\n",
       "      <th>cuisines</th>\n",
       "      <th>approx_cost(for two people)</th>\n",
       "      <th>reviews_list</th>\n",
       "      <th>menu_item</th>\n",
       "      <th>listed_in(type)</th>\n",
       "      <th>listed_in(city)</th>\n",
       "    </tr>\n",
       "  </thead>\n",
       "  <tbody>\n",
       "    <tr>\n",
       "      <th>0</th>\n",
       "      <td>https://www.zomato.com/bangalore/jalsa-banasha...</td>\n",
       "      <td>942, 21st Main Road, 2nd Stage, Banashankari, ...</td>\n",
       "      <td>Jalsa</td>\n",
       "      <td>Yes</td>\n",
       "      <td>Yes</td>\n",
       "      <td>4.1/5</td>\n",
       "      <td>775</td>\n",
       "      <td>080 42297555\\r\\n+91 9743772233</td>\n",
       "      <td>Banashankari</td>\n",
       "      <td>Casual Dining</td>\n",
       "      <td>Pasta, Lunch Buffet, Masala Papad, Paneer Laja...</td>\n",
       "      <td>North Indian, Mughlai, Chinese</td>\n",
       "      <td>800</td>\n",
       "      <td>[('Rated 4.0', 'RATED\\n  A beautiful place to ...</td>\n",
       "      <td>[]</td>\n",
       "      <td>Buffet</td>\n",
       "      <td>Banashankari</td>\n",
       "    </tr>\n",
       "    <tr>\n",
       "      <th>1</th>\n",
       "      <td>https://www.zomato.com/bangalore/spice-elephan...</td>\n",
       "      <td>2nd Floor, 80 Feet Road, Near Big Bazaar, 6th ...</td>\n",
       "      <td>Spice Elephant</td>\n",
       "      <td>Yes</td>\n",
       "      <td>No</td>\n",
       "      <td>4.1/5</td>\n",
       "      <td>787</td>\n",
       "      <td>080 41714161</td>\n",
       "      <td>Banashankari</td>\n",
       "      <td>Casual Dining</td>\n",
       "      <td>Momos, Lunch Buffet, Chocolate Nirvana, Thai G...</td>\n",
       "      <td>Chinese, North Indian, Thai</td>\n",
       "      <td>800</td>\n",
       "      <td>[('Rated 4.0', 'RATED\\n  Had been here for din...</td>\n",
       "      <td>[]</td>\n",
       "      <td>Buffet</td>\n",
       "      <td>Banashankari</td>\n",
       "    </tr>\n",
       "    <tr>\n",
       "      <th>2</th>\n",
       "      <td>https://www.zomato.com/SanchurroBangalore?cont...</td>\n",
       "      <td>1112, Next to KIMS Medical College, 17th Cross...</td>\n",
       "      <td>San Churro Cafe</td>\n",
       "      <td>Yes</td>\n",
       "      <td>No</td>\n",
       "      <td>3.8/5</td>\n",
       "      <td>918</td>\n",
       "      <td>+91 9663487993</td>\n",
       "      <td>Banashankari</td>\n",
       "      <td>Cafe, Casual Dining</td>\n",
       "      <td>Churros, Cannelloni, Minestrone Soup, Hot Choc...</td>\n",
       "      <td>Cafe, Mexican, Italian</td>\n",
       "      <td>800</td>\n",
       "      <td>[('Rated 3.0', \"RATED\\n  Ambience is not that ...</td>\n",
       "      <td>[]</td>\n",
       "      <td>Buffet</td>\n",
       "      <td>Banashankari</td>\n",
       "    </tr>\n",
       "    <tr>\n",
       "      <th>3</th>\n",
       "      <td>https://www.zomato.com/bangalore/addhuri-udupi...</td>\n",
       "      <td>1st Floor, Annakuteera, 3rd Stage, Banashankar...</td>\n",
       "      <td>Addhuri Udupi Bhojana</td>\n",
       "      <td>No</td>\n",
       "      <td>No</td>\n",
       "      <td>3.7/5</td>\n",
       "      <td>88</td>\n",
       "      <td>+91 9620009302</td>\n",
       "      <td>Banashankari</td>\n",
       "      <td>Quick Bites</td>\n",
       "      <td>Masala Dosa</td>\n",
       "      <td>South Indian, North Indian</td>\n",
       "      <td>300</td>\n",
       "      <td>[('Rated 4.0', \"RATED\\n  Great food and proper...</td>\n",
       "      <td>[]</td>\n",
       "      <td>Buffet</td>\n",
       "      <td>Banashankari</td>\n",
       "    </tr>\n",
       "    <tr>\n",
       "      <th>4</th>\n",
       "      <td>https://www.zomato.com/bangalore/grand-village...</td>\n",
       "      <td>10, 3rd Floor, Lakshmi Associates, Gandhi Baza...</td>\n",
       "      <td>Grand Village</td>\n",
       "      <td>No</td>\n",
       "      <td>No</td>\n",
       "      <td>3.8/5</td>\n",
       "      <td>166</td>\n",
       "      <td>+91 8026612447\\r\\n+91 9901210005</td>\n",
       "      <td>Basavanagudi</td>\n",
       "      <td>Casual Dining</td>\n",
       "      <td>Panipuri, Gol Gappe</td>\n",
       "      <td>North Indian, Rajasthani</td>\n",
       "      <td>600</td>\n",
       "      <td>[('Rated 4.0', 'RATED\\n  Very good restaurant ...</td>\n",
       "      <td>[]</td>\n",
       "      <td>Buffet</td>\n",
       "      <td>Banashankari</td>\n",
       "    </tr>\n",
       "  </tbody>\n",
       "</table>\n",
       "</div>"
      ],
      "text/plain": [
       "                                                 url  \\\n",
       "0  https://www.zomato.com/bangalore/jalsa-banasha...   \n",
       "1  https://www.zomato.com/bangalore/spice-elephan...   \n",
       "2  https://www.zomato.com/SanchurroBangalore?cont...   \n",
       "3  https://www.zomato.com/bangalore/addhuri-udupi...   \n",
       "4  https://www.zomato.com/bangalore/grand-village...   \n",
       "\n",
       "                                             address                   name  \\\n",
       "0  942, 21st Main Road, 2nd Stage, Banashankari, ...                  Jalsa   \n",
       "1  2nd Floor, 80 Feet Road, Near Big Bazaar, 6th ...         Spice Elephant   \n",
       "2  1112, Next to KIMS Medical College, 17th Cross...        San Churro Cafe   \n",
       "3  1st Floor, Annakuteera, 3rd Stage, Banashankar...  Addhuri Udupi Bhojana   \n",
       "4  10, 3rd Floor, Lakshmi Associates, Gandhi Baza...          Grand Village   \n",
       "\n",
       "  online_order book_table   rate  votes                             phone  \\\n",
       "0          Yes        Yes  4.1/5    775    080 42297555\\r\\n+91 9743772233   \n",
       "1          Yes         No  4.1/5    787                      080 41714161   \n",
       "2          Yes         No  3.8/5    918                    +91 9663487993   \n",
       "3           No         No  3.7/5     88                    +91 9620009302   \n",
       "4           No         No  3.8/5    166  +91 8026612447\\r\\n+91 9901210005   \n",
       "\n",
       "       location            rest_type  \\\n",
       "0  Banashankari        Casual Dining   \n",
       "1  Banashankari        Casual Dining   \n",
       "2  Banashankari  Cafe, Casual Dining   \n",
       "3  Banashankari          Quick Bites   \n",
       "4  Basavanagudi        Casual Dining   \n",
       "\n",
       "                                          dish_liked  \\\n",
       "0  Pasta, Lunch Buffet, Masala Papad, Paneer Laja...   \n",
       "1  Momos, Lunch Buffet, Chocolate Nirvana, Thai G...   \n",
       "2  Churros, Cannelloni, Minestrone Soup, Hot Choc...   \n",
       "3                                        Masala Dosa   \n",
       "4                                Panipuri, Gol Gappe   \n",
       "\n",
       "                         cuisines approx_cost(for two people)  \\\n",
       "0  North Indian, Mughlai, Chinese                         800   \n",
       "1     Chinese, North Indian, Thai                         800   \n",
       "2          Cafe, Mexican, Italian                         800   \n",
       "3      South Indian, North Indian                         300   \n",
       "4        North Indian, Rajasthani                         600   \n",
       "\n",
       "                                        reviews_list menu_item  \\\n",
       "0  [('Rated 4.0', 'RATED\\n  A beautiful place to ...        []   \n",
       "1  [('Rated 4.0', 'RATED\\n  Had been here for din...        []   \n",
       "2  [('Rated 3.0', \"RATED\\n  Ambience is not that ...        []   \n",
       "3  [('Rated 4.0', \"RATED\\n  Great food and proper...        []   \n",
       "4  [('Rated 4.0', 'RATED\\n  Very good restaurant ...        []   \n",
       "\n",
       "  listed_in(type) listed_in(city)  \n",
       "0          Buffet    Banashankari  \n",
       "1          Buffet    Banashankari  \n",
       "2          Buffet    Banashankari  \n",
       "3          Buffet    Banashankari  \n",
       "4          Buffet    Banashankari  "
      ]
     },
     "execution_count": 50,
     "metadata": {},
     "output_type": "execute_result"
    }
   ],
   "source": [
    "df.head()"
   ]
  },
  {
   "cell_type": "code",
   "execution_count": 51,
   "id": "4c0b8d1c",
   "metadata": {},
   "outputs": [
    {
     "data": {
      "text/plain": [
       "url                                0\n",
       "address                            0\n",
       "name                               0\n",
       "online_order                       0\n",
       "book_table                         0\n",
       "rate                            7775\n",
       "votes                              0\n",
       "phone                           1208\n",
       "location                          21\n",
       "rest_type                        227\n",
       "dish_liked                     28078\n",
       "cuisines                          45\n",
       "approx_cost(for two people)      346\n",
       "reviews_list                       0\n",
       "menu_item                          0\n",
       "listed_in(type)                    0\n",
       "listed_in(city)                    0\n",
       "dtype: int64"
      ]
     },
     "execution_count": 51,
     "metadata": {},
     "output_type": "execute_result"
    }
   ],
   "source": [
    "df.isnull().sum()"
   ]
  },
  {
   "cell_type": "code",
   "execution_count": 52,
   "id": "dc59bdd6",
   "metadata": {},
   "outputs": [
    {
     "data": {
      "text/plain": [
       "(51717, 17)"
      ]
     },
     "execution_count": 52,
     "metadata": {},
     "output_type": "execute_result"
    }
   ],
   "source": [
    "df.shape"
   ]
  },
  {
   "cell_type": "code",
   "execution_count": 53,
   "id": "c37570be",
   "metadata": {},
   "outputs": [
    {
     "name": "stdout",
     "output_type": "stream",
     "text": [
      "<class 'pandas.core.frame.DataFrame'>\n",
      "RangeIndex: 51717 entries, 0 to 51716\n",
      "Data columns (total 17 columns):\n",
      " #   Column                       Non-Null Count  Dtype \n",
      "---  ------                       --------------  ----- \n",
      " 0   url                          51717 non-null  object\n",
      " 1   address                      51717 non-null  object\n",
      " 2   name                         51717 non-null  object\n",
      " 3   online_order                 51717 non-null  object\n",
      " 4   book_table                   51717 non-null  object\n",
      " 5   rate                         43942 non-null  object\n",
      " 6   votes                        51717 non-null  int64 \n",
      " 7   phone                        50509 non-null  object\n",
      " 8   location                     51696 non-null  object\n",
      " 9   rest_type                    51490 non-null  object\n",
      " 10  dish_liked                   23639 non-null  object\n",
      " 11  cuisines                     51672 non-null  object\n",
      " 12  approx_cost(for two people)  51371 non-null  object\n",
      " 13  reviews_list                 51717 non-null  object\n",
      " 14  menu_item                    51717 non-null  object\n",
      " 15  listed_in(type)              51717 non-null  object\n",
      " 16  listed_in(city)              51717 non-null  object\n",
      "dtypes: int64(1), object(16)\n",
      "memory usage: 6.7+ MB\n"
     ]
    }
   ],
   "source": [
    "df.info()"
   ]
  },
  {
   "cell_type": "code",
   "execution_count": 54,
   "id": "a383c7ac",
   "metadata": {},
   "outputs": [
    {
     "data": {
      "text/html": [
       "<div>\n",
       "<style scoped>\n",
       "    .dataframe tbody tr th:only-of-type {\n",
       "        vertical-align: middle;\n",
       "    }\n",
       "\n",
       "    .dataframe tbody tr th {\n",
       "        vertical-align: top;\n",
       "    }\n",
       "\n",
       "    .dataframe thead th {\n",
       "        text-align: right;\n",
       "    }\n",
       "</style>\n",
       "<table border=\"1\" class=\"dataframe\">\n",
       "  <thead>\n",
       "    <tr style=\"text-align: right;\">\n",
       "      <th></th>\n",
       "      <th>votes</th>\n",
       "    </tr>\n",
       "  </thead>\n",
       "  <tbody>\n",
       "    <tr>\n",
       "      <th>count</th>\n",
       "      <td>51717.000000</td>\n",
       "    </tr>\n",
       "    <tr>\n",
       "      <th>mean</th>\n",
       "      <td>283.697527</td>\n",
       "    </tr>\n",
       "    <tr>\n",
       "      <th>std</th>\n",
       "      <td>803.838853</td>\n",
       "    </tr>\n",
       "    <tr>\n",
       "      <th>min</th>\n",
       "      <td>0.000000</td>\n",
       "    </tr>\n",
       "    <tr>\n",
       "      <th>25%</th>\n",
       "      <td>7.000000</td>\n",
       "    </tr>\n",
       "    <tr>\n",
       "      <th>50%</th>\n",
       "      <td>41.000000</td>\n",
       "    </tr>\n",
       "    <tr>\n",
       "      <th>75%</th>\n",
       "      <td>198.000000</td>\n",
       "    </tr>\n",
       "    <tr>\n",
       "      <th>max</th>\n",
       "      <td>16832.000000</td>\n",
       "    </tr>\n",
       "  </tbody>\n",
       "</table>\n",
       "</div>"
      ],
      "text/plain": [
       "              votes\n",
       "count  51717.000000\n",
       "mean     283.697527\n",
       "std      803.838853\n",
       "min        0.000000\n",
       "25%        7.000000\n",
       "50%       41.000000\n",
       "75%      198.000000\n",
       "max    16832.000000"
      ]
     },
     "execution_count": 54,
     "metadata": {},
     "output_type": "execute_result"
    }
   ],
   "source": [
    "df.describe()"
   ]
  },
  {
   "cell_type": "code",
   "execution_count": 55,
   "id": "d755b417",
   "metadata": {},
   "outputs": [
    {
     "data": {
      "text/plain": [
       "[['rate',\n",
       "  'phone',\n",
       "  'location',\n",
       "  'rest_type',\n",
       "  'dish_liked',\n",
       "  'cuisines',\n",
       "  'approx_cost(for two people)']]"
      ]
     },
     "execution_count": 55,
     "metadata": {},
     "output_type": "execute_result"
    }
   ],
   "source": [
    "a = [feature for feature in df.columns if df[feature].isnull().sum()>1]\n",
    "[a]"
   ]
  },
  {
   "cell_type": "code",
   "execution_count": 56,
   "id": "85807f5c",
   "metadata": {},
   "outputs": [
    {
     "name": "stdout",
     "output_type": "stream",
     "text": [
      "rate has 15.03% missing values\n",
      "phone has 2.34% missing values\n",
      "location has 0.04% missing values\n",
      "rest_type has 0.44% missing values\n",
      "dish_liked has 54.29% missing values\n",
      "cuisines has 0.09% missing values\n",
      "approx_cost(for two people) has 0.67% missing values\n"
     ]
    }
   ],
   "source": [
    "for feature in a:\n",
    "    print('{} has {}% missing values'.format(feature, np.round(df[feature].isnull().sum()/len(df)*100,2)))"
   ]
  },
  {
   "cell_type": "code",
   "execution_count": 57,
   "id": "e722ae19",
   "metadata": {},
   "outputs": [
    {
     "name": "stdout",
     "output_type": "stream",
     "text": [
      "<class 'pandas.core.frame.DataFrame'>\n",
      "RangeIndex: 51717 entries, 0 to 51716\n",
      "Data columns (total 17 columns):\n",
      " #   Column                       Non-Null Count  Dtype \n",
      "---  ------                       --------------  ----- \n",
      " 0   url                          51717 non-null  object\n",
      " 1   address                      51717 non-null  object\n",
      " 2   name                         51717 non-null  object\n",
      " 3   online_order                 51717 non-null  object\n",
      " 4   book_table                   51717 non-null  object\n",
      " 5   rate                         43942 non-null  object\n",
      " 6   votes                        51717 non-null  int64 \n",
      " 7   phone                        50509 non-null  object\n",
      " 8   location                     51696 non-null  object\n",
      " 9   rest_type                    51490 non-null  object\n",
      " 10  dish_liked                   23639 non-null  object\n",
      " 11  cuisines                     51672 non-null  object\n",
      " 12  approx_cost(for two people)  51371 non-null  object\n",
      " 13  reviews_list                 51717 non-null  object\n",
      " 14  menu_item                    51717 non-null  object\n",
      " 15  listed_in(type)              51717 non-null  object\n",
      " 16  listed_in(city)              51717 non-null  object\n",
      "dtypes: int64(1), object(16)\n",
      "memory usage: 6.7+ MB\n"
     ]
    }
   ],
   "source": [
    "df.info()"
   ]
  },
  {
   "cell_type": "code",
   "execution_count": 58,
   "id": "1825dd18",
   "metadata": {},
   "outputs": [
    {
     "data": {
      "text/html": [
       "<div>\n",
       "<style scoped>\n",
       "    .dataframe tbody tr th:only-of-type {\n",
       "        vertical-align: middle;\n",
       "    }\n",
       "\n",
       "    .dataframe tbody tr th {\n",
       "        vertical-align: top;\n",
       "    }\n",
       "\n",
       "    .dataframe thead th {\n",
       "        text-align: right;\n",
       "    }\n",
       "</style>\n",
       "<table border=\"1\" class=\"dataframe\">\n",
       "  <thead>\n",
       "    <tr style=\"text-align: right;\">\n",
       "      <th></th>\n",
       "      <th>url</th>\n",
       "      <th>address</th>\n",
       "      <th>name</th>\n",
       "      <th>online_order</th>\n",
       "      <th>book_table</th>\n",
       "      <th>rate</th>\n",
       "      <th>votes</th>\n",
       "      <th>phone</th>\n",
       "      <th>location</th>\n",
       "      <th>rest_type</th>\n",
       "      <th>dish_liked</th>\n",
       "      <th>cuisines</th>\n",
       "      <th>approx_cost(for two people)</th>\n",
       "      <th>reviews_list</th>\n",
       "      <th>menu_item</th>\n",
       "      <th>listed_in(type)</th>\n",
       "      <th>listed_in(city)</th>\n",
       "    </tr>\n",
       "  </thead>\n",
       "  <tbody>\n",
       "    <tr>\n",
       "      <th>0</th>\n",
       "      <td>https://www.zomato.com/bangalore/jalsa-banasha...</td>\n",
       "      <td>942, 21st Main Road, 2nd Stage, Banashankari, ...</td>\n",
       "      <td>Jalsa</td>\n",
       "      <td>Yes</td>\n",
       "      <td>Yes</td>\n",
       "      <td>4.1/5</td>\n",
       "      <td>775</td>\n",
       "      <td>080 42297555\\r\\n+91 9743772233</td>\n",
       "      <td>Banashankari</td>\n",
       "      <td>Casual Dining</td>\n",
       "      <td>Pasta, Lunch Buffet, Masala Papad, Paneer Laja...</td>\n",
       "      <td>North Indian, Mughlai, Chinese</td>\n",
       "      <td>800</td>\n",
       "      <td>[('Rated 4.0', 'RATED\\n  A beautiful place to ...</td>\n",
       "      <td>[]</td>\n",
       "      <td>Buffet</td>\n",
       "      <td>Banashankari</td>\n",
       "    </tr>\n",
       "    <tr>\n",
       "      <th>1</th>\n",
       "      <td>https://www.zomato.com/bangalore/spice-elephan...</td>\n",
       "      <td>2nd Floor, 80 Feet Road, Near Big Bazaar, 6th ...</td>\n",
       "      <td>Spice Elephant</td>\n",
       "      <td>Yes</td>\n",
       "      <td>No</td>\n",
       "      <td>4.1/5</td>\n",
       "      <td>787</td>\n",
       "      <td>080 41714161</td>\n",
       "      <td>Banashankari</td>\n",
       "      <td>Casual Dining</td>\n",
       "      <td>Momos, Lunch Buffet, Chocolate Nirvana, Thai G...</td>\n",
       "      <td>Chinese, North Indian, Thai</td>\n",
       "      <td>800</td>\n",
       "      <td>[('Rated 4.0', 'RATED\\n  Had been here for din...</td>\n",
       "      <td>[]</td>\n",
       "      <td>Buffet</td>\n",
       "      <td>Banashankari</td>\n",
       "    </tr>\n",
       "    <tr>\n",
       "      <th>2</th>\n",
       "      <td>https://www.zomato.com/SanchurroBangalore?cont...</td>\n",
       "      <td>1112, Next to KIMS Medical College, 17th Cross...</td>\n",
       "      <td>San Churro Cafe</td>\n",
       "      <td>Yes</td>\n",
       "      <td>No</td>\n",
       "      <td>3.8/5</td>\n",
       "      <td>918</td>\n",
       "      <td>+91 9663487993</td>\n",
       "      <td>Banashankari</td>\n",
       "      <td>Cafe, Casual Dining</td>\n",
       "      <td>Churros, Cannelloni, Minestrone Soup, Hot Choc...</td>\n",
       "      <td>Cafe, Mexican, Italian</td>\n",
       "      <td>800</td>\n",
       "      <td>[('Rated 3.0', \"RATED\\n  Ambience is not that ...</td>\n",
       "      <td>[]</td>\n",
       "      <td>Buffet</td>\n",
       "      <td>Banashankari</td>\n",
       "    </tr>\n",
       "    <tr>\n",
       "      <th>3</th>\n",
       "      <td>https://www.zomato.com/bangalore/addhuri-udupi...</td>\n",
       "      <td>1st Floor, Annakuteera, 3rd Stage, Banashankar...</td>\n",
       "      <td>Addhuri Udupi Bhojana</td>\n",
       "      <td>No</td>\n",
       "      <td>No</td>\n",
       "      <td>3.7/5</td>\n",
       "      <td>88</td>\n",
       "      <td>+91 9620009302</td>\n",
       "      <td>Banashankari</td>\n",
       "      <td>Quick Bites</td>\n",
       "      <td>Masala Dosa</td>\n",
       "      <td>South Indian, North Indian</td>\n",
       "      <td>300</td>\n",
       "      <td>[('Rated 4.0', \"RATED\\n  Great food and proper...</td>\n",
       "      <td>[]</td>\n",
       "      <td>Buffet</td>\n",
       "      <td>Banashankari</td>\n",
       "    </tr>\n",
       "    <tr>\n",
       "      <th>4</th>\n",
       "      <td>https://www.zomato.com/bangalore/grand-village...</td>\n",
       "      <td>10, 3rd Floor, Lakshmi Associates, Gandhi Baza...</td>\n",
       "      <td>Grand Village</td>\n",
       "      <td>No</td>\n",
       "      <td>No</td>\n",
       "      <td>3.8/5</td>\n",
       "      <td>166</td>\n",
       "      <td>+91 8026612447\\r\\n+91 9901210005</td>\n",
       "      <td>Basavanagudi</td>\n",
       "      <td>Casual Dining</td>\n",
       "      <td>Panipuri, Gol Gappe</td>\n",
       "      <td>North Indian, Rajasthani</td>\n",
       "      <td>600</td>\n",
       "      <td>[('Rated 4.0', 'RATED\\n  Very good restaurant ...</td>\n",
       "      <td>[]</td>\n",
       "      <td>Buffet</td>\n",
       "      <td>Banashankari</td>\n",
       "    </tr>\n",
       "  </tbody>\n",
       "</table>\n",
       "</div>"
      ],
      "text/plain": [
       "                                                 url  \\\n",
       "0  https://www.zomato.com/bangalore/jalsa-banasha...   \n",
       "1  https://www.zomato.com/bangalore/spice-elephan...   \n",
       "2  https://www.zomato.com/SanchurroBangalore?cont...   \n",
       "3  https://www.zomato.com/bangalore/addhuri-udupi...   \n",
       "4  https://www.zomato.com/bangalore/grand-village...   \n",
       "\n",
       "                                             address                   name  \\\n",
       "0  942, 21st Main Road, 2nd Stage, Banashankari, ...                  Jalsa   \n",
       "1  2nd Floor, 80 Feet Road, Near Big Bazaar, 6th ...         Spice Elephant   \n",
       "2  1112, Next to KIMS Medical College, 17th Cross...        San Churro Cafe   \n",
       "3  1st Floor, Annakuteera, 3rd Stage, Banashankar...  Addhuri Udupi Bhojana   \n",
       "4  10, 3rd Floor, Lakshmi Associates, Gandhi Baza...          Grand Village   \n",
       "\n",
       "  online_order book_table   rate  votes                             phone  \\\n",
       "0          Yes        Yes  4.1/5    775    080 42297555\\r\\n+91 9743772233   \n",
       "1          Yes         No  4.1/5    787                      080 41714161   \n",
       "2          Yes         No  3.8/5    918                    +91 9663487993   \n",
       "3           No         No  3.7/5     88                    +91 9620009302   \n",
       "4           No         No  3.8/5    166  +91 8026612447\\r\\n+91 9901210005   \n",
       "\n",
       "       location            rest_type  \\\n",
       "0  Banashankari        Casual Dining   \n",
       "1  Banashankari        Casual Dining   \n",
       "2  Banashankari  Cafe, Casual Dining   \n",
       "3  Banashankari          Quick Bites   \n",
       "4  Basavanagudi        Casual Dining   \n",
       "\n",
       "                                          dish_liked  \\\n",
       "0  Pasta, Lunch Buffet, Masala Papad, Paneer Laja...   \n",
       "1  Momos, Lunch Buffet, Chocolate Nirvana, Thai G...   \n",
       "2  Churros, Cannelloni, Minestrone Soup, Hot Choc...   \n",
       "3                                        Masala Dosa   \n",
       "4                                Panipuri, Gol Gappe   \n",
       "\n",
       "                         cuisines approx_cost(for two people)  \\\n",
       "0  North Indian, Mughlai, Chinese                         800   \n",
       "1     Chinese, North Indian, Thai                         800   \n",
       "2          Cafe, Mexican, Italian                         800   \n",
       "3      South Indian, North Indian                         300   \n",
       "4        North Indian, Rajasthani                         600   \n",
       "\n",
       "                                        reviews_list menu_item  \\\n",
       "0  [('Rated 4.0', 'RATED\\n  A beautiful place to ...        []   \n",
       "1  [('Rated 4.0', 'RATED\\n  Had been here for din...        []   \n",
       "2  [('Rated 3.0', \"RATED\\n  Ambience is not that ...        []   \n",
       "3  [('Rated 4.0', \"RATED\\n  Great food and proper...        []   \n",
       "4  [('Rated 4.0', 'RATED\\n  Very good restaurant ...        []   \n",
       "\n",
       "  listed_in(type) listed_in(city)  \n",
       "0          Buffet    Banashankari  \n",
       "1          Buffet    Banashankari  \n",
       "2          Buffet    Banashankari  \n",
       "3          Buffet    Banashankari  \n",
       "4          Buffet    Banashankari  "
      ]
     },
     "execution_count": 58,
     "metadata": {},
     "output_type": "execute_result"
    }
   ],
   "source": [
    "df.head()"
   ]
  },
  {
   "cell_type": "code",
   "execution_count": 59,
   "id": "84e74c85",
   "metadata": {},
   "outputs": [
    {
     "data": {
      "text/plain": [
       "dtype('O')"
      ]
     },
     "execution_count": 59,
     "metadata": {},
     "output_type": "execute_result"
    }
   ],
   "source": [
    "df['approx_cost(for two people)'].dtype"
   ]
  },
  {
   "cell_type": "code",
   "execution_count": 60,
   "id": "ea71f29e",
   "metadata": {},
   "outputs": [
    {
     "data": {
      "text/plain": [
       "array(['800', '300', '600', '700', '550', '500', '450', '650', '400',\n",
       "       '900', '200', '750', '150', '850', '100', '1,200', '350', '250',\n",
       "       '950', '1,000', '1,500', '1,300', '199', '80', '1,100', '160',\n",
       "       '1,600', '230', '130', '50', '190', '1,700', nan, '1,400', '180',\n",
       "       '1,350', '2,200', '2,000', '1,800', '1,900', '330', '2,500',\n",
       "       '2,100', '3,000', '2,800', '3,400', '40', '1,250', '3,500',\n",
       "       '4,000', '2,400', '2,600', '120', '1,450', '469', '70', '3,200',\n",
       "       '60', '560', '240', '360', '6,000', '1,050', '2,300', '4,100',\n",
       "       '5,000', '3,700', '1,650', '2,700', '4,500', '140'], dtype=object)"
      ]
     },
     "execution_count": 60,
     "metadata": {},
     "output_type": "execute_result"
    }
   ],
   "source": [
    "df['approx_cost(for two people)'].unique()"
   ]
  },
  {
   "cell_type": "code",
   "execution_count": 61,
   "id": "baded585",
   "metadata": {},
   "outputs": [],
   "source": [
    "def remove_comma(x):\n",
    "    return x.replace(',','')"
   ]
  },
  {
   "cell_type": "code",
   "execution_count": 62,
   "id": "ec5aed50",
   "metadata": {},
   "outputs": [],
   "source": [
    "### lambda"
   ]
  },
  {
   "cell_type": "code",
   "execution_count": null,
   "id": "e0317b9d",
   "metadata": {},
   "outputs": [],
   "source": []
  },
  {
   "cell_type": "code",
   "execution_count": 63,
   "id": "bde873b9",
   "metadata": {},
   "outputs": [],
   "source": [
    "df['approx_cost(for two people)']=df['approx_cost(for two people)'].astype(str).apply(remove_comma)"
   ]
  },
  {
   "cell_type": "code",
   "execution_count": 64,
   "id": "d995f579",
   "metadata": {},
   "outputs": [],
   "source": [
    "df['approx_cost(for two people)']=df['approx_cost(for two people)'].astype(float)"
   ]
  },
  {
   "cell_type": "code",
   "execution_count": 65,
   "id": "40571f37",
   "metadata": {},
   "outputs": [
    {
     "name": "stdout",
     "output_type": "stream",
     "text": [
      "<class 'pandas.core.frame.DataFrame'>\n",
      "RangeIndex: 51717 entries, 0 to 51716\n",
      "Data columns (total 17 columns):\n",
      " #   Column                       Non-Null Count  Dtype  \n",
      "---  ------                       --------------  -----  \n",
      " 0   url                          51717 non-null  object \n",
      " 1   address                      51717 non-null  object \n",
      " 2   name                         51717 non-null  object \n",
      " 3   online_order                 51717 non-null  object \n",
      " 4   book_table                   51717 non-null  object \n",
      " 5   rate                         43942 non-null  object \n",
      " 6   votes                        51717 non-null  int64  \n",
      " 7   phone                        50509 non-null  object \n",
      " 8   location                     51696 non-null  object \n",
      " 9   rest_type                    51490 non-null  object \n",
      " 10  dish_liked                   23639 non-null  object \n",
      " 11  cuisines                     51672 non-null  object \n",
      " 12  approx_cost(for two people)  51371 non-null  float64\n",
      " 13  reviews_list                 51717 non-null  object \n",
      " 14  menu_item                    51717 non-null  object \n",
      " 15  listed_in(type)              51717 non-null  object \n",
      " 16  listed_in(city)              51717 non-null  object \n",
      "dtypes: float64(1), int64(1), object(15)\n",
      "memory usage: 6.7+ MB\n"
     ]
    }
   ],
   "source": [
    "df.info()"
   ]
  },
  {
   "cell_type": "code",
   "execution_count": 66,
   "id": "56241081",
   "metadata": {},
   "outputs": [
    {
     "data": {
      "text/plain": [
       "dtype('O')"
      ]
     },
     "execution_count": 66,
     "metadata": {},
     "output_type": "execute_result"
    }
   ],
   "source": [
    "df['rate'].dtype"
   ]
  },
  {
   "cell_type": "code",
   "execution_count": 67,
   "id": "8616343e",
   "metadata": {},
   "outputs": [
    {
     "data": {
      "text/plain": [
       "array(['4.1/5', '3.8/5', '3.7/5', '3.6/5', '4.6/5', '4.0/5', '4.2/5',\n",
       "       '3.9/5', '3.1/5', '3.0/5', '3.2/5', '3.3/5', '2.8/5', '4.4/5',\n",
       "       '4.3/5', 'NEW', '2.9/5', '3.5/5', nan, '2.6/5', '3.8 /5', '3.4/5',\n",
       "       '4.5/5', '2.5/5', '2.7/5', '4.7/5', '2.4/5', '2.2/5', '2.3/5',\n",
       "       '3.4 /5', '-', '3.6 /5', '4.8/5', '3.9 /5', '4.2 /5', '4.0 /5',\n",
       "       '4.1 /5', '3.7 /5', '3.1 /5', '2.9 /5', '3.3 /5', '2.8 /5',\n",
       "       '3.5 /5', '2.7 /5', '2.5 /5', '3.2 /5', '2.6 /5', '4.5 /5',\n",
       "       '4.3 /5', '4.4 /5', '4.9/5', '2.1/5', '2.0/5', '1.8/5', '4.6 /5',\n",
       "       '4.9 /5', '3.0 /5', '4.8 /5', '2.3 /5', '4.7 /5', '2.4 /5',\n",
       "       '2.1 /5', '2.2 /5', '2.0 /5', '1.8 /5'], dtype=object)"
      ]
     },
     "execution_count": 67,
     "metadata": {},
     "output_type": "execute_result"
    }
   ],
   "source": [
    "df['rate'].unique()"
   ]
  },
  {
   "cell_type": "code",
   "execution_count": 68,
   "id": "4de18673",
   "metadata": {},
   "outputs": [
    {
     "data": {
      "text/plain": [
       "7775"
      ]
     },
     "execution_count": 68,
     "metadata": {},
     "output_type": "execute_result"
    }
   ],
   "source": [
    "df['rate'].isnull().sum()"
   ]
  },
  {
   "cell_type": "code",
   "execution_count": 69,
   "id": "28dbb279",
   "metadata": {},
   "outputs": [
    {
     "data": {
      "text/plain": [
       "'4.1'"
      ]
     },
     "execution_count": 69,
     "metadata": {},
     "output_type": "execute_result"
    }
   ],
   "source": [
    "df['rate'][0].split('/')[0]"
   ]
  },
  {
   "cell_type": "code",
   "execution_count": 70,
   "id": "84068c8d",
   "metadata": {},
   "outputs": [],
   "source": [
    "def split(x):\n",
    "    return x.split('/')[0]"
   ]
  },
  {
   "cell_type": "code",
   "execution_count": 71,
   "id": "ee1050ce",
   "metadata": {},
   "outputs": [],
   "source": [
    "df['rate']=df['rate'].astype(str).apply(split)"
   ]
  },
  {
   "cell_type": "code",
   "execution_count": 72,
   "id": "d9f76bbf",
   "metadata": {},
   "outputs": [
    {
     "data": {
      "text/plain": [
       "array(['4.1', '3.8', '3.7', '3.6', '4.6', '4.0', '4.2', '3.9', '3.1',\n",
       "       '3.0', '3.2', '3.3', '2.8', '4.4', '4.3', 'NEW', '2.9', '3.5',\n",
       "       'nan', '2.6', '3.8 ', '3.4', '4.5', '2.5', '2.7', '4.7', '2.4',\n",
       "       '2.2', '2.3', '3.4 ', '-', '3.6 ', '4.8', '3.9 ', '4.2 ', '4.0 ',\n",
       "       '4.1 ', '3.7 ', '3.1 ', '2.9 ', '3.3 ', '2.8 ', '3.5 ', '2.7 ',\n",
       "       '2.5 ', '3.2 ', '2.6 ', '4.5 ', '4.3 ', '4.4 ', '4.9', '2.1',\n",
       "       '2.0', '1.8', '4.6 ', '4.9 ', '3.0 ', '4.8 ', '2.3 ', '4.7 ',\n",
       "       '2.4 ', '2.1 ', '2.2 ', '2.0 ', '1.8 '], dtype=object)"
      ]
     },
     "execution_count": 72,
     "metadata": {},
     "output_type": "execute_result"
    }
   ],
   "source": [
    "df['rate'].unique()"
   ]
  },
  {
   "cell_type": "code",
   "execution_count": 73,
   "id": "49c0d67c",
   "metadata": {},
   "outputs": [
    {
     "data": {
      "text/plain": [
       "array(['4.1', '3.8', '3.7', '3.6', '4.6', '4.0', '4.2', '3.9', '3.1',\n",
       "       '3.0', '3.2', '3.3', '2.8', '4.4', '4.3', 'NEW', '2.9', '3.5',\n",
       "       'nan', '2.6', '3.8 ', '3.4', '4.5', '2.5', '2.7', '4.7', '2.4',\n",
       "       '2.2', '2.3', '3.4 ', 0, '3.6 ', '4.8', '3.9 ', '4.2 ', '4.0 ',\n",
       "       '4.1 ', '3.7 ', '3.1 ', '2.9 ', '3.3 ', '2.8 ', '3.5 ', '2.7 ',\n",
       "       '2.5 ', '3.2 ', '2.6 ', '4.5 ', '4.3 ', '4.4 ', '4.9', '2.1',\n",
       "       '2.0', '1.8', '4.6 ', '4.9 ', '3.0 ', '4.8 ', '2.3 ', '4.7 ',\n",
       "       '2.4 ', '2.1 ', '2.2 ', '2.0 ', '1.8 '], dtype=object)"
      ]
     },
     "execution_count": 73,
     "metadata": {},
     "output_type": "execute_result"
    }
   ],
   "source": [
    "df['rate'].replace('-',0, inplace=True)\n",
    "df['rate'].unique()"
   ]
  },
  {
   "cell_type": "code",
   "execution_count": 74,
   "id": "0a345888",
   "metadata": {},
   "outputs": [
    {
     "data": {
      "text/plain": [
       "array(['4.1', '3.8', '3.7', '3.6', '4.6', '4.0', '4.2', '3.9', '3.1',\n",
       "       '3.0', '3.2', '3.3', '2.8', '4.4', '4.3', 0, '2.9', '3.5', 'nan',\n",
       "       '2.6', '3.8 ', '3.4', '4.5', '2.5', '2.7', '4.7', '2.4', '2.2',\n",
       "       '2.3', '3.4 ', '3.6 ', '4.8', '3.9 ', '4.2 ', '4.0 ', '4.1 ',\n",
       "       '3.7 ', '3.1 ', '2.9 ', '3.3 ', '2.8 ', '3.5 ', '2.7 ', '2.5 ',\n",
       "       '3.2 ', '2.6 ', '4.5 ', '4.3 ', '4.4 ', '4.9', '2.1', '2.0', '1.8',\n",
       "       '4.6 ', '4.9 ', '3.0 ', '4.8 ', '2.3 ', '4.7 ', '2.4 ', '2.1 ',\n",
       "       '2.2 ', '2.0 ', '1.8 '], dtype=object)"
      ]
     },
     "execution_count": 74,
     "metadata": {},
     "output_type": "execute_result"
    }
   ],
   "source": [
    "df['rate'].replace('NEW',0, inplace=True)\n",
    "df['rate'].unique()"
   ]
  },
  {
   "cell_type": "code",
   "execution_count": 75,
   "id": "6e26c054",
   "metadata": {},
   "outputs": [],
   "source": [
    "df['rate']=df['rate'].astype(float)"
   ]
  },
  {
   "cell_type": "code",
   "execution_count": 76,
   "id": "94173c0c",
   "metadata": {},
   "outputs": [
    {
     "data": {
      "text/plain": [
       "dtype('float64')"
      ]
     },
     "execution_count": 76,
     "metadata": {},
     "output_type": "execute_result"
    }
   ],
   "source": [
    "df['rate'].dtype"
   ]
  },
  {
   "cell_type": "code",
   "execution_count": 77,
   "id": "6005538c",
   "metadata": {},
   "outputs": [],
   "source": [
    "import plotly.express as px"
   ]
  },
  {
   "cell_type": "code",
   "execution_count": 78,
   "id": "09223e0c",
   "metadata": {},
   "outputs": [
    {
     "data": {
      "text/plain": [
       "url                             object\n",
       "address                         object\n",
       "name                            object\n",
       "online_order                    object\n",
       "book_table                      object\n",
       "rate                           float64\n",
       "votes                            int64\n",
       "phone                           object\n",
       "location                        object\n",
       "rest_type                       object\n",
       "dish_liked                      object\n",
       "cuisines                        object\n",
       "approx_cost(for two people)    float64\n",
       "reviews_list                    object\n",
       "menu_item                       object\n",
       "listed_in(type)                 object\n",
       "listed_in(city)                 object\n",
       "dtype: object"
      ]
     },
     "execution_count": 78,
     "metadata": {},
     "output_type": "execute_result"
    }
   ],
   "source": [
    "df.dtypes"
   ]
  },
  {
   "cell_type": "code",
   "execution_count": 79,
   "id": "f70c6e95",
   "metadata": {},
   "outputs": [
    {
     "data": {
      "text/html": [
       "<div>\n",
       "<style scoped>\n",
       "    .dataframe tbody tr th:only-of-type {\n",
       "        vertical-align: middle;\n",
       "    }\n",
       "\n",
       "    .dataframe tbody tr th {\n",
       "        vertical-align: top;\n",
       "    }\n",
       "\n",
       "    .dataframe thead th {\n",
       "        text-align: right;\n",
       "    }\n",
       "</style>\n",
       "<table border=\"1\" class=\"dataframe\">\n",
       "  <thead>\n",
       "    <tr style=\"text-align: right;\">\n",
       "      <th></th>\n",
       "      <th>name</th>\n",
       "      <th>votes</th>\n",
       "      <th>url</th>\n",
       "      <th>approx_cost(for two people)</th>\n",
       "      <th>rate</th>\n",
       "    </tr>\n",
       "  </thead>\n",
       "  <tbody>\n",
       "    <tr>\n",
       "      <th>0</th>\n",
       "      <td>#FeelTheROLL</td>\n",
       "      <td>14</td>\n",
       "      <td>2</td>\n",
       "      <td>200.0</td>\n",
       "      <td>3.400000</td>\n",
       "    </tr>\n",
       "    <tr>\n",
       "      <th>1</th>\n",
       "      <td>#L-81 Cafe</td>\n",
       "      <td>432</td>\n",
       "      <td>9</td>\n",
       "      <td>400.0</td>\n",
       "      <td>3.900000</td>\n",
       "    </tr>\n",
       "    <tr>\n",
       "      <th>2</th>\n",
       "      <td>#Vibes Restro</td>\n",
       "      <td>0</td>\n",
       "      <td>3</td>\n",
       "      <td>700.0</td>\n",
       "      <td>NaN</td>\n",
       "    </tr>\n",
       "    <tr>\n",
       "      <th>3</th>\n",
       "      <td>#refuel</td>\n",
       "      <td>111</td>\n",
       "      <td>3</td>\n",
       "      <td>400.0</td>\n",
       "      <td>3.700000</td>\n",
       "    </tr>\n",
       "    <tr>\n",
       "      <th>4</th>\n",
       "      <td>'Brahmins' Thatte Idli</td>\n",
       "      <td>0</td>\n",
       "      <td>1</td>\n",
       "      <td>100.0</td>\n",
       "      <td>NaN</td>\n",
       "    </tr>\n",
       "    <tr>\n",
       "      <th>...</th>\n",
       "      <td>...</td>\n",
       "      <td>...</td>\n",
       "      <td>...</td>\n",
       "      <td>...</td>\n",
       "      <td>...</td>\n",
       "    </tr>\n",
       "    <tr>\n",
       "      <th>8787</th>\n",
       "      <td>late100</td>\n",
       "      <td>0</td>\n",
       "      <td>5</td>\n",
       "      <td>200.0</td>\n",
       "      <td>NaN</td>\n",
       "    </tr>\n",
       "    <tr>\n",
       "      <th>8788</th>\n",
       "      <td>nu.tree</td>\n",
       "      <td>1443</td>\n",
       "      <td>8</td>\n",
       "      <td>400.0</td>\n",
       "      <td>4.314286</td>\n",
       "    </tr>\n",
       "    <tr>\n",
       "      <th>8789</th>\n",
       "      <td>re:cess - Hilton Bangalore Embassy GolfLinks</td>\n",
       "      <td>438</td>\n",
       "      <td>3</td>\n",
       "      <td>1200.0</td>\n",
       "      <td>4.100000</td>\n",
       "    </tr>\n",
       "    <tr>\n",
       "      <th>8790</th>\n",
       "      <td>repEAT Hub</td>\n",
       "      <td>0</td>\n",
       "      <td>2</td>\n",
       "      <td>200.0</td>\n",
       "      <td>NaN</td>\n",
       "    </tr>\n",
       "    <tr>\n",
       "      <th>8791</th>\n",
       "      <td>sCoolMeal</td>\n",
       "      <td>0</td>\n",
       "      <td>5</td>\n",
       "      <td>300.0</td>\n",
       "      <td>NaN</td>\n",
       "    </tr>\n",
       "  </tbody>\n",
       "</table>\n",
       "<p>8792 rows × 5 columns</p>\n",
       "</div>"
      ],
      "text/plain": [
       "                                              name  votes  url  \\\n",
       "0                                     #FeelTheROLL     14    2   \n",
       "1                                       #L-81 Cafe    432    9   \n",
       "2                                    #Vibes Restro      0    3   \n",
       "3                                          #refuel    111    3   \n",
       "4                           'Brahmins' Thatte Idli      0    1   \n",
       "...                                            ...    ...  ...   \n",
       "8787                                       late100      0    5   \n",
       "8788                                       nu.tree   1443    8   \n",
       "8789  re:cess - Hilton Bangalore Embassy GolfLinks    438    3   \n",
       "8790                                    repEAT Hub      0    2   \n",
       "8791                                     sCoolMeal      0    5   \n",
       "\n",
       "      approx_cost(for two people)      rate  \n",
       "0                           200.0  3.400000  \n",
       "1                           400.0  3.900000  \n",
       "2                           700.0       NaN  \n",
       "3                           400.0  3.700000  \n",
       "4                           100.0       NaN  \n",
       "...                           ...       ...  \n",
       "8787                        200.0       NaN  \n",
       "8788                        400.0  4.314286  \n",
       "8789                       1200.0  4.100000  \n",
       "8790                        200.0       NaN  \n",
       "8791                        300.0       NaN  \n",
       "\n",
       "[8792 rows x 5 columns]"
      ]
     },
     "execution_count": 79,
     "metadata": {},
     "output_type": "execute_result"
    }
   ],
   "source": [
    "rest = df.groupby('name').agg({'votes':'sum','url':'count','approx_cost(for two people)':'mean','rate':'mean'}).reset_index()\n",
    "rest"
   ]
  },
  {
   "cell_type": "code",
   "execution_count": 80,
   "id": "08e19fb1",
   "metadata": {},
   "outputs": [],
   "source": [
    "rest.columns = ['name','total_votes','total_unities','average_approx_cost','mean_rating']"
   ]
  },
  {
   "cell_type": "code",
   "execution_count": 81,
   "id": "779eac89",
   "metadata": {},
   "outputs": [
    {
     "data": {
      "text/html": [
       "<div>\n",
       "<style scoped>\n",
       "    .dataframe tbody tr th:only-of-type {\n",
       "        vertical-align: middle;\n",
       "    }\n",
       "\n",
       "    .dataframe tbody tr th {\n",
       "        vertical-align: top;\n",
       "    }\n",
       "\n",
       "    .dataframe thead th {\n",
       "        text-align: right;\n",
       "    }\n",
       "</style>\n",
       "<table border=\"1\" class=\"dataframe\">\n",
       "  <thead>\n",
       "    <tr style=\"text-align: right;\">\n",
       "      <th></th>\n",
       "      <th>name</th>\n",
       "      <th>total_votes</th>\n",
       "      <th>total_unities</th>\n",
       "      <th>average_approx_cost</th>\n",
       "      <th>mean_rating</th>\n",
       "    </tr>\n",
       "  </thead>\n",
       "  <tbody>\n",
       "    <tr>\n",
       "      <th>0</th>\n",
       "      <td>#FeelTheROLL</td>\n",
       "      <td>14</td>\n",
       "      <td>2</td>\n",
       "      <td>200.0</td>\n",
       "      <td>3.4</td>\n",
       "    </tr>\n",
       "    <tr>\n",
       "      <th>1</th>\n",
       "      <td>#L-81 Cafe</td>\n",
       "      <td>432</td>\n",
       "      <td>9</td>\n",
       "      <td>400.0</td>\n",
       "      <td>3.9</td>\n",
       "    </tr>\n",
       "    <tr>\n",
       "      <th>2</th>\n",
       "      <td>#Vibes Restro</td>\n",
       "      <td>0</td>\n",
       "      <td>3</td>\n",
       "      <td>700.0</td>\n",
       "      <td>NaN</td>\n",
       "    </tr>\n",
       "    <tr>\n",
       "      <th>3</th>\n",
       "      <td>#refuel</td>\n",
       "      <td>111</td>\n",
       "      <td>3</td>\n",
       "      <td>400.0</td>\n",
       "      <td>3.7</td>\n",
       "    </tr>\n",
       "    <tr>\n",
       "      <th>4</th>\n",
       "      <td>'Brahmins' Thatte Idli</td>\n",
       "      <td>0</td>\n",
       "      <td>1</td>\n",
       "      <td>100.0</td>\n",
       "      <td>NaN</td>\n",
       "    </tr>\n",
       "  </tbody>\n",
       "</table>\n",
       "</div>"
      ],
      "text/plain": [
       "                     name  total_votes  total_unities  average_approx_cost  \\\n",
       "0            #FeelTheROLL           14              2                200.0   \n",
       "1              #L-81 Cafe          432              9                400.0   \n",
       "2           #Vibes Restro            0              3                700.0   \n",
       "3                 #refuel          111              3                400.0   \n",
       "4  'Brahmins' Thatte Idli            0              1                100.0   \n",
       "\n",
       "   mean_rating  \n",
       "0          3.4  \n",
       "1          3.9  \n",
       "2          NaN  \n",
       "3          3.7  \n",
       "4          NaN  "
      ]
     },
     "execution_count": 81,
     "metadata": {},
     "output_type": "execute_result"
    }
   ],
   "source": [
    "rest.head()"
   ]
  },
  {
   "cell_type": "code",
   "execution_count": 82,
   "id": "094f4613",
   "metadata": {},
   "outputs": [],
   "source": [
    "rest['votes_per_unity']=rest['total_votes']/rest['total_unities']"
   ]
  },
  {
   "cell_type": "code",
   "execution_count": 83,
   "id": "9cbe3cae",
   "metadata": {},
   "outputs": [
    {
     "data": {
      "text/html": [
       "<div>\n",
       "<style scoped>\n",
       "    .dataframe tbody tr th:only-of-type {\n",
       "        vertical-align: middle;\n",
       "    }\n",
       "\n",
       "    .dataframe tbody tr th {\n",
       "        vertical-align: top;\n",
       "    }\n",
       "\n",
       "    .dataframe thead th {\n",
       "        text-align: right;\n",
       "    }\n",
       "</style>\n",
       "<table border=\"1\" class=\"dataframe\">\n",
       "  <thead>\n",
       "    <tr style=\"text-align: right;\">\n",
       "      <th></th>\n",
       "      <th>name</th>\n",
       "      <th>total_votes</th>\n",
       "      <th>total_unities</th>\n",
       "      <th>average_approx_cost</th>\n",
       "      <th>mean_rating</th>\n",
       "      <th>votes_per_unity</th>\n",
       "    </tr>\n",
       "  </thead>\n",
       "  <tbody>\n",
       "    <tr>\n",
       "      <th>0</th>\n",
       "      <td>#FeelTheROLL</td>\n",
       "      <td>14</td>\n",
       "      <td>2</td>\n",
       "      <td>200.0</td>\n",
       "      <td>3.4</td>\n",
       "      <td>7.0</td>\n",
       "    </tr>\n",
       "    <tr>\n",
       "      <th>1</th>\n",
       "      <td>#L-81 Cafe</td>\n",
       "      <td>432</td>\n",
       "      <td>9</td>\n",
       "      <td>400.0</td>\n",
       "      <td>3.9</td>\n",
       "      <td>48.0</td>\n",
       "    </tr>\n",
       "    <tr>\n",
       "      <th>2</th>\n",
       "      <td>#Vibes Restro</td>\n",
       "      <td>0</td>\n",
       "      <td>3</td>\n",
       "      <td>700.0</td>\n",
       "      <td>NaN</td>\n",
       "      <td>0.0</td>\n",
       "    </tr>\n",
       "    <tr>\n",
       "      <th>3</th>\n",
       "      <td>#refuel</td>\n",
       "      <td>111</td>\n",
       "      <td>3</td>\n",
       "      <td>400.0</td>\n",
       "      <td>3.7</td>\n",
       "      <td>37.0</td>\n",
       "    </tr>\n",
       "    <tr>\n",
       "      <th>4</th>\n",
       "      <td>'Brahmins' Thatte Idli</td>\n",
       "      <td>0</td>\n",
       "      <td>1</td>\n",
       "      <td>100.0</td>\n",
       "      <td>NaN</td>\n",
       "      <td>0.0</td>\n",
       "    </tr>\n",
       "  </tbody>\n",
       "</table>\n",
       "</div>"
      ],
      "text/plain": [
       "                     name  total_votes  total_unities  average_approx_cost  \\\n",
       "0            #FeelTheROLL           14              2                200.0   \n",
       "1              #L-81 Cafe          432              9                400.0   \n",
       "2           #Vibes Restro            0              3                700.0   \n",
       "3                 #refuel          111              3                400.0   \n",
       "4  'Brahmins' Thatte Idli            0              1                100.0   \n",
       "\n",
       "   mean_rating  votes_per_unity  \n",
       "0          3.4              7.0  \n",
       "1          3.9             48.0  \n",
       "2          NaN              0.0  \n",
       "3          3.7             37.0  \n",
       "4          NaN              0.0  "
      ]
     },
     "execution_count": 83,
     "metadata": {},
     "output_type": "execute_result"
    }
   ],
   "source": [
    "rest.head()"
   ]
  },
  {
   "cell_type": "code",
   "execution_count": 84,
   "id": "ba6822a9",
   "metadata": {},
   "outputs": [],
   "source": [
    "popular = rest.sort_values(by = 'total_unities',ascending=True)"
   ]
  },
  {
   "cell_type": "code",
   "execution_count": 85,
   "id": "a998324b",
   "metadata": {},
   "outputs": [
    {
     "data": {
      "text/plain": [
       "(8792, 6)"
      ]
     },
     "execution_count": 85,
     "metadata": {},
     "output_type": "execute_result"
    }
   ],
   "source": [
    "popular.shape"
   ]
  },
  {
   "cell_type": "code",
   "execution_count": 86,
   "id": "eebd4cec",
   "metadata": {},
   "outputs": [
    {
     "data": {
      "text/plain": [
       "8792"
      ]
     },
     "execution_count": 86,
     "metadata": {},
     "output_type": "execute_result"
    }
   ],
   "source": [
    "popular['name'].nunique()"
   ]
  },
  {
   "cell_type": "code",
   "execution_count": 87,
   "id": "ad5682f2",
   "metadata": {},
   "outputs": [],
   "source": [
    "### avg votes received by restaurants\n",
    "### top 5 most voted restaurants\n",
    "### top 5 less voted restaurants"
   ]
  },
  {
   "cell_type": "code",
   "execution_count": 88,
   "id": "df327845",
   "metadata": {},
   "outputs": [
    {
     "data": {
      "image/png": "[encoded data removed]",
      "text/plain": [
       "<Figure size 1440x2160 with 3 Axes>"
      ]
     },
     "metadata": {
      "needs_background": "light"
     },
     "output_type": "display_data"
    }
   ],
   "source": [
    "fig, (ax1,ax2,ax3)=plt.subplots(3,1,figsize=(20,30))\n",
    "ax1.axis('off')\n",
    "fig = sns.barplot(x='total_votes',y='name',data=popular.sort_values(by='total_votes',ascending=False).query('total_votes > 0').head(5),ax=ax2)\n",
    "fig = sns.barplot(x='total_votes',y='name',data=popular.sort_values(by='total_votes',ascending=False).query('total_votes > 0').tail(5),ax=ax3)"
   ]
  },
  {
   "cell_type": "code",
   "execution_count": 89,
   "id": "67d8f119",
   "metadata": {},
   "outputs": [],
   "source": [
    "x=df['online_order'].value_counts()\n",
    "labels=['Accepted','Not Accepted']"
   ]
  },
  {
   "cell_type": "code",
   "execution_count": 90,
   "id": "2bd752d5",
   "metadata": {},
   "outputs": [],
   "source": [
    "import plotly.graph_objs as go\n",
    "from plotly.offline import iplot\n"
   ]
  },
  {
   "cell_type": "code",
   "execution_count": 91,
   "id": "606e7c27",
   "metadata": {},
   "outputs": [
    {
     "data": {
      "application/vnd.plotly.v1+json": {
       "config": {
        "plotlyServerURL": "https://plot.ly"
       },
       "data": [
        {
         "domain": {
          "x": [
           0,
           1
          ],
          "y": [
           0,
           1
          ]
         },
         "hovertemplate": "label=%{label}<br>value=%{value}<extra></extra>",
         "labels": [
          "Accepted",
          "Not Accepted"
         ],
         "legendgroup": "",
         "name": "",
         "showlegend": true,
         "type": "pie",
         "values": [
          30444,
          21273
         ]
        }
       ],
       "layout": {
        "legend": {
         "tracegroupgap": 0
        },
        "template": {
         "data": {
          "bar": [
           {
            "error_x": {
             "color": "#2a3f5f"
            },
            "error_y": {
             "color": "#2a3f5f"
            },
            "marker": {
             "line": {
              "color": "#E5ECF6",
              "width": 0.5
             }
            },
            "type": "bar"
           }
          ],
          "barpolar": [
           {
            "marker": {
             "line": {
              "color": "#E5ECF6",
              "width": 0.5
             }
            },
            "type": "barpolar"
           }
          ],
          "carpet": [
           {
            "aaxis": {
             "endlinecolor": "#2a3f5f",
             "gridcolor": "white",
             "linecolor": "white",
             "minorgridcolor": "white",
             "startlinecolor": "#2a3f5f"
            },
            "baxis": {
             "endlinecolor": "#2a3f5f",
             "gridcolor": "white",
             "linecolor": "white",
             "minorgridcolor": "white",
             "startlinecolor": "#2a3f5f"
            },
            "type": "carpet"
           }
          ],
          "choropleth": [
           {
            "colorbar": {
             "outlinewidth": 0,
             "ticks": ""
            },
            "type": "choropleth"
           }
          ],
          "contour": [
           {
            "colorbar": {
             "outlinewidth": 0,
             "ticks": ""
            },
            "colorscale": [
             [
              0,
              "#0d0887"
             ],
             [
              0.1111111111111111,
              "#46039f"
             ],
             [
              0.2222222222222222,
              "#7201a8"
             ],
             [
              0.3333333333333333,
              "#9c179e"
             ],
             [
              0.4444444444444444,
              "#bd3786"
             ],
             [
              0.5555555555555556,
              "#d8576b"
             ],
             [
              0.6666666666666666,
              "#ed7953"
             ],
             [
              0.7777777777777778,
              "#fb9f3a"
             ],
             [
              0.8888888888888888,
              "#fdca26"
             ],
             [
              1,
              "#f0f921"
             ]
            ],
            "type": "contour"
           }
          ],
          "contourcarpet": [
           {
            "colorbar": {
             "outlinewidth": 0,
             "ticks": ""
            },
            "type": "contourcarpet"
           }
          ],
          "heatmap": [
           {
            "colorbar": {
             "outlinewidth": 0,
             "ticks": ""
            },
            "colorscale": [
             [
              0,
              "#0d0887"
             ],
             [
              0.1111111111111111,
              "#46039f"
             ],
             [
              0.2222222222222222,
              "#7201a8"
             ],
             [
              0.3333333333333333,
              "#9c179e"
             ],
             [
              0.4444444444444444,
              "#bd3786"
             ],
             [
              0.5555555555555556,
              "#d8576b"
             ],
             [
              0.6666666666666666,
              "#ed7953"
             ],
             [
              0.7777777777777778,
              "#fb9f3a"
             ],
             [
              0.8888888888888888,
              "#fdca26"
             ],
             [
              1,
              "#f0f921"
             ]
            ],
            "type": "heatmap"
           }
          ],
          "heatmapgl": [
           {
            "colorbar": {
             "outlinewidth": 0,
             "ticks": ""
            },
            "colorscale": [
             [
              0,
              "#0d0887"
             ],
             [
              0.1111111111111111,
              "#46039f"
             ],
             [
              0.2222222222222222,
              "#7201a8"
             ],
             [
              0.3333333333333333,
              "#9c179e"
             ],
             [
              0.4444444444444444,
              "#bd3786"
             ],
             [
              0.5555555555555556,
              "#d8576b"
             ],
             [
              0.6666666666666666,
              "#ed7953"
             ],
             [
              0.7777777777777778,
              "#fb9f3a"
             ],
             [
              0.8888888888888888,
              "#fdca26"
             ],
             [
              1,
              "#f0f921"
             ]
            ],
            "type": "heatmapgl"
           }
          ],
          "histogram": [
           {
            "marker": {
             "colorbar": {
              "outlinewidth": 0,
              "ticks": ""
             }
            },
            "type": "histogram"
           }
          ],
          "histogram2d": [
           {
            "colorbar": {
             "outlinewidth": 0,
             "ticks": ""
            },
            "colorscale": [
             [
              0,
              "#0d0887"
             ],
             [
              0.1111111111111111,
              "#46039f"
             ],
             [
              0.2222222222222222,
              "#7201a8"
             ],
             [
              0.3333333333333333,
              "#9c179e"
             ],
             [
              0.4444444444444444,
              "#bd3786"
             ],
             [
              0.5555555555555556,
              "#d8576b"
             ],
             [
              0.6666666666666666,
              "#ed7953"
             ],
             [
              0.7777777777777778,
              "#fb9f3a"
             ],
             [
              0.8888888888888888,
              "#fdca26"
             ],
             [
              1,
              "#f0f921"
             ]
            ],
            "type": "histogram2d"
           }
          ],
          "histogram2dcontour": [
           {
            "colorbar": {
             "outlinewidth": 0,
             "ticks": ""
            },
            "colorscale": [
             [
              0,
              "#0d0887"
             ],
             [
              0.1111111111111111,
              "#46039f"
             ],
             [
              0.2222222222222222,
              "#7201a8"
             ],
             [
              0.3333333333333333,
              "#9c179e"
             ],
             [
              0.4444444444444444,
              "#bd3786"
             ],
             [
              0.5555555555555556,
              "#d8576b"
             ],
             [
              0.6666666666666666,
              "#ed7953"
             ],
             [
              0.7777777777777778,
              "#fb9f3a"
             ],
             [
              0.8888888888888888,
              "#fdca26"
             ],
             [
              1,
              "#f0f921"
             ]
            ],
            "type": "histogram2dcontour"
           }
          ],
          "mesh3d": [
           {
            "colorbar": {
             "outlinewidth": 0,
             "ticks": ""
            },
            "type": "mesh3d"
           }
          ],
          "parcoords": [
           {
            "line": {
             "colorbar": {
              "outlinewidth": 0,
              "ticks": ""
             }
            },
            "type": "parcoords"
           }
          ],
          "pie": [
           {
            "automargin": true,
            "type": "pie"
           }
          ],
          "scatter": [
           {
            "marker": {
             "colorbar": {
              "outlinewidth": 0,
              "ticks": ""
             }
            },
            "type": "scatter"
           }
          ],
          "scatter3d": [
           {
            "line": {
             "colorbar": {
              "outlinewidth": 0,
              "ticks": ""
             }
            },
            "marker": {
             "colorbar": {
              "outlinewidth": 0,
              "ticks": ""
             }
            },
            "type": "scatter3d"
           }
          ],
          "scattercarpet": [
           {
            "marker": {
             "colorbar": {
              "outlinewidth": 0,
              "ticks": ""
             }
            },
            "type": "scattercarpet"
           }
          ],
          "scattergeo": [
           {
            "marker": {
             "colorbar": {
              "outlinewidth": 0,
              "ticks": ""
             }
            },
            "type": "scattergeo"
           }
          ],
          "scattergl": [
           {
            "marker": {
             "colorbar": {
              "outlinewidth": 0,
              "ticks": ""
             }
            },
            "type": "scattergl"
           }
          ],
          "scattermapbox": [
           {
            "marker": {
             "colorbar": {
              "outlinewidth": 0,
              "ticks": ""
             }
            },
            "type": "scattermapbox"
           }
          ],
          "scatterpolar": [
           {
            "marker": {
             "colorbar": {
              "outlinewidth": 0,
              "ticks": ""
             }
            },
            "type": "scatterpolar"
           }
          ],
          "scatterpolargl": [
           {
            "marker": {
             "colorbar": {
              "outlinewidth": 0,
              "ticks": ""
             }
            },
            "type": "scatterpolargl"
           }
          ],
          "scatterternary": [
           {
            "marker": {
             "colorbar": {
              "outlinewidth": 0,
              "ticks": ""
             }
            },
            "type": "scatterternary"
           }
          ],
          "surface": [
           {
            "colorbar": {
             "outlinewidth": 0,
             "ticks": ""
            },
            "colorscale": [
             [
              0,
              "#0d0887"
             ],
             [
              0.1111111111111111,
              "#46039f"
             ],
             [
              0.2222222222222222,
              "#7201a8"
             ],
             [
              0.3333333333333333,
              "#9c179e"
             ],
             [
              0.4444444444444444,
              "#bd3786"
             ],
             [
              0.5555555555555556,
              "#d8576b"
             ],
             [
              0.6666666666666666,
              "#ed7953"
             ],
             [
              0.7777777777777778,
              "#fb9f3a"
             ],
             [
              0.8888888888888888,
              "#fdca26"
             ],
             [
              1,
              "#f0f921"
             ]
            ],
            "type": "surface"
           }
          ],
          "table": [
           {
            "cells": {
             "fill": {
              "color": "#EBF0F8"
             },
             "line": {
              "color": "white"
             }
            },
            "header": {
             "fill": {
              "color": "#C8D4E3"
             },
             "line": {
              "color": "white"
             }
            },
            "type": "table"
           }
          ]
         },
         "layout": {
          "annotationdefaults": {
           "arrowcolor": "#2a3f5f",
           "arrowhead": 0,
           "arrowwidth": 1
          },
          "autotypenumbers": "strict",
          "coloraxis": {
           "colorbar": {
            "outlinewidth": 0,
            "ticks": ""
           }
          },
          "colorscale": {
           "diverging": [
            [
             0,
             "#8e0152"
            ],
            [
             0.1,
             "#c51b7d"
            ],
            [
             0.2,
             "#de77ae"
            ],
            [
             0.3,
             "#f1b6da"
            ],
            [
             0.4,
             "#fde0ef"
            ],
            [
             0.5,
             "#f7f7f7"
            ],
            [
             0.6,
             "#e6f5d0"
            ],
            [
             0.7,
             "#b8e186"
            ],
            [
             0.8,
             "#7fbc41"
            ],
            [
             0.9,
             "#4d9221"
            ],
            [
             1,
             "#276419"
            ]
           ],
           "sequential": [
            [
             0,
             "#0d0887"
            ],
            [
             0.1111111111111111,
             "#46039f"
            ],
            [
             0.2222222222222222,
             "#7201a8"
            ],
            [
             0.3333333333333333,
             "#9c179e"
            ],
            [
             0.4444444444444444,
             "#bd3786"
            ],
            [
             0.5555555555555556,
             "#d8576b"
            ],
            [
             0.6666666666666666,
             "#ed7953"
            ],
            [
             0.7777777777777778,
             "#fb9f3a"
            ],
            [
             0.8888888888888888,
             "#fdca26"
            ],
            [
             1,
             "#f0f921"
            ]
           ],
           "sequentialminus": [
            [
             0,
             "#0d0887"
            ],
            [
             0.1111111111111111,
             "#46039f"
            ],
            [
             0.2222222222222222,
             "#7201a8"
            ],
            [
             0.3333333333333333,
             "#9c179e"
            ],
            [
             0.4444444444444444,
             "#bd3786"
            ],
            [
             0.5555555555555556,
             "#d8576b"
            ],
            [
             0.6666666666666666,
             "#ed7953"
            ],
            [
             0.7777777777777778,
             "#fb9f3a"
            ],
            [
             0.8888888888888888,
             "#fdca26"
            ],
            [
             1,
             "#f0f921"
            ]
           ]
          },
          "colorway": [
           "#636efa",
           "#EF553B",
           "#00cc96",
           "#ab63fa",
           "#FFA15A",
           "#19d3f3",
           "#FF6692",
           "#B6E880",
           "#FF97FF",
           "#FECB52"
          ],
          "font": {
           "color": "#2a3f5f"
          },
          "geo": {
           "bgcolor": "white",
           "lakecolor": "white",
           "landcolor": "#E5ECF6",
           "showlakes": true,
           "showland": true,
           "subunitcolor": "white"
          },
          "hoverlabel": {
           "align": "left"
          },
          "hovermode": "closest",
          "mapbox": {
           "style": "light"
          },
          "paper_bgcolor": "white",
          "plot_bgcolor": "#E5ECF6",
          "polar": {
           "angularaxis": {
            "gridcolor": "white",
            "linecolor": "white",
            "ticks": ""
           },
           "bgcolor": "#E5ECF6",
           "radialaxis": {
            "gridcolor": "white",
            "linecolor": "white",
            "ticks": ""
           }
          },
          "scene": {
           "xaxis": {
            "backgroundcolor": "#E5ECF6",
            "gridcolor": "white",
            "gridwidth": 2,
            "linecolor": "white",
            "showbackground": true,
            "ticks": "",
            "zerolinecolor": "white"
           },
           "yaxis": {
            "backgroundcolor": "#E5ECF6",
            "gridcolor": "white",
            "gridwidth": 2,
            "linecolor": "white",
            "showbackground": true,
            "ticks": "",
            "zerolinecolor": "white"
           },
           "zaxis": {
            "backgroundcolor": "#E5ECF6",
            "gridcolor": "white",
            "gridwidth": 2,
            "linecolor": "white",
            "showbackground": true,
            "ticks": "",
            "zerolinecolor": "white"
           }
          },
          "shapedefaults": {
           "line": {
            "color": "#2a3f5f"
           }
          },
          "ternary": {
           "aaxis": {
            "gridcolor": "white",
            "linecolor": "white",
            "ticks": ""
           },
           "baxis": {
            "gridcolor": "white",
            "linecolor": "white",
            "ticks": ""
           },
           "bgcolor": "#E5ECF6",
           "caxis": {
            "gridcolor": "white",
            "linecolor": "white",
            "ticks": ""
           }
          },
          "title": {
           "x": 0.05
          },
          "xaxis": {
           "automargin": true,
           "gridcolor": "white",
           "linecolor": "white",
           "ticks": "",
           "title": {
            "standoff": 15
           },
           "zerolinecolor": "white",
           "zerolinewidth": 2
          },
          "yaxis": {
           "automargin": true,
           "gridcolor": "white",
           "linecolor": "white",
           "ticks": "",
           "title": {
            "standoff": 15
           },
           "zerolinecolor": "white",
           "zerolinewidth": 2
          }
         }
        },
        "title": {
         "text": "Pie Chart"
        }
       }
      },
      "text/html": [
       "<div>                            <div id=\"23abcb23-147a-4cd2-b1a9-cf0cdf69e2d8\" class=\"plotly-graph-div\" style=\"height:525px; width:100%;\"></div>            <script type=\"text/javascript\">                require([\"plotly\"], function(Plotly) {                    window.PLOTLYENV=window.PLOTLYENV || {};                                    if (document.getElementById(\"23abcb23-147a-4cd2-b1a9-cf0cdf69e2d8\")) {                    Plotly.newPlot(                        \"23abcb23-147a-4cd2-b1a9-cf0cdf69e2d8\",                        [{\"domain\": {\"x\": [0.0, 1.0], \"y\": [0.0, 1.0]}, \"hovertemplate\": \"label=%{label}<br>value=%{value}<extra></extra>\", \"labels\": [\"Accepted\", \"Not Accepted\"], \"legendgroup\": \"\", \"name\": \"\", \"showlegend\": true, \"type\": \"pie\", \"values\": [30444, 21273]}],                        {\"legend\": {\"tracegroupgap\": 0}, \"template\": {\"data\": {\"bar\": [{\"error_x\": {\"color\": \"#2a3f5f\"}, \"error_y\": {\"color\": \"#2a3f5f\"}, \"marker\": {\"line\": {\"color\": \"#E5ECF6\", \"width\": 0.5}}, \"type\": \"bar\"}], \"barpolar\": [{\"marker\": {\"line\": {\"color\": \"#E5ECF6\", \"width\": 0.5}}, \"type\": \"barpolar\"}], \"carpet\": [{\"aaxis\": {\"endlinecolor\": \"#2a3f5f\", \"gridcolor\": \"white\", \"linecolor\": \"white\", \"minorgridcolor\": \"white\", \"startlinecolor\": \"#2a3f5f\"}, \"baxis\": {\"endlinecolor\": \"#2a3f5f\", \"gridcolor\": \"white\", \"linecolor\": \"white\", \"minorgridcolor\": \"white\", \"startlinecolor\": \"#2a3f5f\"}, \"type\": \"carpet\"}], \"choropleth\": [{\"colorbar\": {\"outlinewidth\": 0, \"ticks\": \"\"}, \"type\": \"choropleth\"}], \"contour\": [{\"colorbar\": {\"outlinewidth\": 0, \"ticks\": \"\"}, \"colorscale\": [[0.0, \"#0d0887\"], [0.1111111111111111, \"#46039f\"], [0.2222222222222222, \"#7201a8\"], [0.3333333333333333, \"#9c179e\"], [0.4444444444444444, \"#bd3786\"], [0.5555555555555556, \"#d8576b\"], [0.6666666666666666, \"#ed7953\"], [0.7777777777777778, \"#fb9f3a\"], [0.8888888888888888, \"#fdca26\"], [1.0, \"#f0f921\"]], \"type\": \"contour\"}], \"contourcarpet\": [{\"colorbar\": {\"outlinewidth\": 0, \"ticks\": \"\"}, \"type\": \"contourcarpet\"}], \"heatmap\": [{\"colorbar\": {\"outlinewidth\": 0, \"ticks\": \"\"}, \"colorscale\": [[0.0, \"#0d0887\"], [0.1111111111111111, \"#46039f\"], [0.2222222222222222, \"#7201a8\"], [0.3333333333333333, \"#9c179e\"], [0.4444444444444444, \"#bd3786\"], [0.5555555555555556, \"#d8576b\"], [0.6666666666666666, \"#ed7953\"], [0.7777777777777778, \"#fb9f3a\"], [0.8888888888888888, \"#fdca26\"], [1.0, \"#f0f921\"]], \"type\": \"heatmap\"}], \"heatmapgl\": [{\"colorbar\": {\"outlinewidth\": 0, \"ticks\": \"\"}, \"colorscale\": [[0.0, \"#0d0887\"], [0.1111111111111111, \"#46039f\"], [0.2222222222222222, \"#7201a8\"], [0.3333333333333333, \"#9c179e\"], [0.4444444444444444, \"#bd3786\"], [0.5555555555555556, \"#d8576b\"], [0.6666666666666666, \"#ed7953\"], [0.7777777777777778, \"#fb9f3a\"], [0.8888888888888888, \"#fdca26\"], [1.0, \"#f0f921\"]], \"type\": \"heatmapgl\"}], \"histogram\": [{\"marker\": {\"colorbar\": {\"outlinewidth\": 0, \"ticks\": \"\"}}, \"type\": \"histogram\"}], \"histogram2d\": [{\"colorbar\": {\"outlinewidth\": 0, \"ticks\": \"\"}, \"colorscale\": [[0.0, \"#0d0887\"], [0.1111111111111111, \"#46039f\"], [0.2222222222222222, \"#7201a8\"], [0.3333333333333333, \"#9c179e\"], [0.4444444444444444, \"#bd3786\"], [0.5555555555555556, \"#d8576b\"], [0.6666666666666666, \"#ed7953\"], [0.7777777777777778, \"#fb9f3a\"], [0.8888888888888888, \"#fdca26\"], [1.0, \"#f0f921\"]], \"type\": \"histogram2d\"}], \"histogram2dcontour\": [{\"colorbar\": {\"outlinewidth\": 0, \"ticks\": \"\"}, \"colorscale\": [[0.0, \"#0d0887\"], [0.1111111111111111, \"#46039f\"], [0.2222222222222222, \"#7201a8\"], [0.3333333333333333, \"#9c179e\"], [0.4444444444444444, \"#bd3786\"], [0.5555555555555556, \"#d8576b\"], [0.6666666666666666, \"#ed7953\"], [0.7777777777777778, \"#fb9f3a\"], [0.8888888888888888, \"#fdca26\"], [1.0, \"#f0f921\"]], \"type\": \"histogram2dcontour\"}], \"mesh3d\": [{\"colorbar\": {\"outlinewidth\": 0, \"ticks\": \"\"}, \"type\": \"mesh3d\"}], \"parcoords\": [{\"line\": {\"colorbar\": {\"outlinewidth\": 0, \"ticks\": \"\"}}, \"type\": \"parcoords\"}], \"pie\": [{\"automargin\": true, \"type\": \"pie\"}], \"scatter\": [{\"marker\": {\"colorbar\": {\"outlinewidth\": 0, \"ticks\": \"\"}}, \"type\": \"scatter\"}], \"scatter3d\": [{\"line\": {\"colorbar\": {\"outlinewidth\": 0, \"ticks\": \"\"}}, \"marker\": {\"colorbar\": {\"outlinewidth\": 0, \"ticks\": \"\"}}, \"type\": \"scatter3d\"}], \"scattercarpet\": [{\"marker\": {\"colorbar\": {\"outlinewidth\": 0, \"ticks\": \"\"}}, \"type\": \"scattercarpet\"}], \"scattergeo\": [{\"marker\": {\"colorbar\": {\"outlinewidth\": 0, \"ticks\": \"\"}}, \"type\": \"scattergeo\"}], \"scattergl\": [{\"marker\": {\"colorbar\": {\"outlinewidth\": 0, \"ticks\": \"\"}}, \"type\": \"scattergl\"}], \"scattermapbox\": [{\"marker\": {\"colorbar\": {\"outlinewidth\": 0, \"ticks\": \"\"}}, \"type\": \"scattermapbox\"}], \"scatterpolar\": [{\"marker\": {\"colorbar\": {\"outlinewidth\": 0, \"ticks\": \"\"}}, \"type\": \"scatterpolar\"}], \"scatterpolargl\": [{\"marker\": {\"colorbar\": {\"outlinewidth\": 0, \"ticks\": \"\"}}, \"type\": \"scatterpolargl\"}], \"scatterternary\": [{\"marker\": {\"colorbar\": {\"outlinewidth\": 0, \"ticks\": \"\"}}, \"type\": \"scatterternary\"}], \"surface\": [{\"colorbar\": {\"outlinewidth\": 0, \"ticks\": \"\"}, \"colorscale\": [[0.0, \"#0d0887\"], [0.1111111111111111, \"#46039f\"], [0.2222222222222222, \"#7201a8\"], [0.3333333333333333, \"#9c179e\"], [0.4444444444444444, \"#bd3786\"], [0.5555555555555556, \"#d8576b\"], [0.6666666666666666, \"#ed7953\"], [0.7777777777777778, \"#fb9f3a\"], [0.8888888888888888, \"#fdca26\"], [1.0, \"#f0f921\"]], \"type\": \"surface\"}], \"table\": [{\"cells\": {\"fill\": {\"color\": \"#EBF0F8\"}, \"line\": {\"color\": \"white\"}}, \"header\": {\"fill\": {\"color\": \"#C8D4E3\"}, \"line\": {\"color\": \"white\"}}, \"type\": \"table\"}]}, \"layout\": {\"annotationdefaults\": {\"arrowcolor\": \"#2a3f5f\", \"arrowhead\": 0, \"arrowwidth\": 1}, \"autotypenumbers\": \"strict\", \"coloraxis\": {\"colorbar\": {\"outlinewidth\": 0, \"ticks\": \"\"}}, \"colorscale\": {\"diverging\": [[0, \"#8e0152\"], [0.1, \"#c51b7d\"], [0.2, \"#de77ae\"], [0.3, \"#f1b6da\"], [0.4, \"#fde0ef\"], [0.5, \"#f7f7f7\"], [0.6, \"#e6f5d0\"], [0.7, \"#b8e186\"], [0.8, \"#7fbc41\"], [0.9, \"#4d9221\"], [1, \"#276419\"]], \"sequential\": [[0.0, \"#0d0887\"], [0.1111111111111111, \"#46039f\"], [0.2222222222222222, \"#7201a8\"], [0.3333333333333333, \"#9c179e\"], [0.4444444444444444, \"#bd3786\"], [0.5555555555555556, \"#d8576b\"], [0.6666666666666666, \"#ed7953\"], [0.7777777777777778, \"#fb9f3a\"], [0.8888888888888888, \"#fdca26\"], [1.0, \"#f0f921\"]], \"sequentialminus\": [[0.0, \"#0d0887\"], [0.1111111111111111, \"#46039f\"], [0.2222222222222222, \"#7201a8\"], [0.3333333333333333, \"#9c179e\"], [0.4444444444444444, \"#bd3786\"], [0.5555555555555556, \"#d8576b\"], [0.6666666666666666, \"#ed7953\"], [0.7777777777777778, \"#fb9f3a\"], [0.8888888888888888, \"#fdca26\"], [1.0, \"#f0f921\"]]}, \"colorway\": [\"#636efa\", \"#EF553B\", \"#00cc96\", \"#ab63fa\", \"#FFA15A\", \"#19d3f3\", \"#FF6692\", \"#B6E880\", \"#FF97FF\", \"#FECB52\"], \"font\": {\"color\": \"#2a3f5f\"}, \"geo\": {\"bgcolor\": \"white\", \"lakecolor\": \"white\", \"landcolor\": \"#E5ECF6\", \"showlakes\": true, \"showland\": true, \"subunitcolor\": \"white\"}, \"hoverlabel\": {\"align\": \"left\"}, \"hovermode\": \"closest\", \"mapbox\": {\"style\": \"light\"}, \"paper_bgcolor\": \"white\", \"plot_bgcolor\": \"#E5ECF6\", \"polar\": {\"angularaxis\": {\"gridcolor\": \"white\", \"linecolor\": \"white\", \"ticks\": \"\"}, \"bgcolor\": \"#E5ECF6\", \"radialaxis\": {\"gridcolor\": \"white\", \"linecolor\": \"white\", \"ticks\": \"\"}}, \"scene\": {\"xaxis\": {\"backgroundcolor\": \"#E5ECF6\", \"gridcolor\": \"white\", \"gridwidth\": 2, \"linecolor\": \"white\", \"showbackground\": true, \"ticks\": \"\", \"zerolinecolor\": \"white\"}, \"yaxis\": {\"backgroundcolor\": \"#E5ECF6\", \"gridcolor\": \"white\", \"gridwidth\": 2, \"linecolor\": \"white\", \"showbackground\": true, \"ticks\": \"\", \"zerolinecolor\": \"white\"}, \"zaxis\": {\"backgroundcolor\": \"#E5ECF6\", \"gridcolor\": \"white\", \"gridwidth\": 2, \"linecolor\": \"white\", \"showbackground\": true, \"ticks\": \"\", \"zerolinecolor\": \"white\"}}, \"shapedefaults\": {\"line\": {\"color\": \"#2a3f5f\"}}, \"ternary\": {\"aaxis\": {\"gridcolor\": \"white\", \"linecolor\": \"white\", \"ticks\": \"\"}, \"baxis\": {\"gridcolor\": \"white\", \"linecolor\": \"white\", \"ticks\": \"\"}, \"bgcolor\": \"#E5ECF6\", \"caxis\": {\"gridcolor\": \"white\", \"linecolor\": \"white\", \"ticks\": \"\"}}, \"title\": {\"x\": 0.05}, \"xaxis\": {\"automargin\": true, \"gridcolor\": \"white\", \"linecolor\": \"white\", \"ticks\": \"\", \"title\": {\"standoff\": 15}, \"zerolinecolor\": \"white\", \"zerolinewidth\": 2}, \"yaxis\": {\"automargin\": true, \"gridcolor\": \"white\", \"linecolor\": \"white\", \"ticks\": \"\", \"title\": {\"standoff\": 15}, \"zerolinecolor\": \"white\", \"zerolinewidth\": 2}}}, \"title\": {\"text\": \"Pie Chart\"}},                        {\"responsive\": true}                    ).then(function(){\n",
       "                            \n",
       "var gd = document.getElementById('23abcb23-147a-4cd2-b1a9-cf0cdf69e2d8');\n",
       "var x = new MutationObserver(function (mutations, observer) {{\n",
       "        var display = window.getComputedStyle(gd).display;\n",
       "        if (!display || display === 'none') {{\n",
       "            console.log([gd, 'removed!']);\n",
       "            Plotly.purge(gd);\n",
       "            observer.disconnect();\n",
       "        }}\n",
       "}});\n",
       "\n",
       "// Listen for the removal of the full notebook cells\n",
       "var notebookContainer = gd.closest('#notebook-container');\n",
       "if (notebookContainer) {{\n",
       "    x.observe(notebookContainer, {childList: true});\n",
       "}}\n",
       "\n",
       "// Listen for the clearing of the current output cell\n",
       "var outputEl = gd.closest('.output');\n",
       "if (outputEl) {{\n",
       "    x.observe(outputEl, {childList: true});\n",
       "}}\n",
       "\n",
       "                        })                };                });            </script>        </div>"
      ]
     },
     "metadata": {},
     "output_type": "display_data"
    }
   ],
   "source": [
    "fig=px.pie(df,names=labels, values = x,title='Pie Chart')\n",
    "fig.show()"
   ]
  },
  {
   "cell_type": "code",
   "execution_count": 92,
   "id": "ce884f47",
   "metadata": {},
   "outputs": [],
   "source": [
    "#finding best budget restaurant in any location"
   ]
  },
  {
   "cell_type": "code",
   "execution_count": 93,
   "id": "32c7cdfb",
   "metadata": {},
   "outputs": [
    {
     "data": {
      "text/html": [
       "<div>\n",
       "<style scoped>\n",
       "    .dataframe tbody tr th:only-of-type {\n",
       "        vertical-align: middle;\n",
       "    }\n",
       "\n",
       "    .dataframe tbody tr th {\n",
       "        vertical-align: top;\n",
       "    }\n",
       "\n",
       "    .dataframe thead th {\n",
       "        text-align: right;\n",
       "    }\n",
       "</style>\n",
       "<table border=\"1\" class=\"dataframe\">\n",
       "  <thead>\n",
       "    <tr style=\"text-align: right;\">\n",
       "      <th></th>\n",
       "      <th>url</th>\n",
       "      <th>address</th>\n",
       "      <th>name</th>\n",
       "      <th>online_order</th>\n",
       "      <th>book_table</th>\n",
       "      <th>rate</th>\n",
       "      <th>votes</th>\n",
       "      <th>phone</th>\n",
       "      <th>location</th>\n",
       "      <th>rest_type</th>\n",
       "      <th>dish_liked</th>\n",
       "      <th>cuisines</th>\n",
       "      <th>approx_cost(for two people)</th>\n",
       "      <th>reviews_list</th>\n",
       "      <th>menu_item</th>\n",
       "      <th>listed_in(type)</th>\n",
       "      <th>listed_in(city)</th>\n",
       "    </tr>\n",
       "  </thead>\n",
       "  <tbody>\n",
       "    <tr>\n",
       "      <th>0</th>\n",
       "      <td>https://www.zomato.com/bangalore/jalsa-banasha...</td>\n",
       "      <td>942, 21st Main Road, 2nd Stage, Banashankari, ...</td>\n",
       "      <td>Jalsa</td>\n",
       "      <td>Yes</td>\n",
       "      <td>Yes</td>\n",
       "      <td>4.1</td>\n",
       "      <td>775</td>\n",
       "      <td>080 42297555\\r\\n+91 9743772233</td>\n",
       "      <td>Banashankari</td>\n",
       "      <td>Casual Dining</td>\n",
       "      <td>Pasta, Lunch Buffet, Masala Papad, Paneer Laja...</td>\n",
       "      <td>North Indian, Mughlai, Chinese</td>\n",
       "      <td>800.0</td>\n",
       "      <td>[('Rated 4.0', 'RATED\\n  A beautiful place to ...</td>\n",
       "      <td>[]</td>\n",
       "      <td>Buffet</td>\n",
       "      <td>Banashankari</td>\n",
       "    </tr>\n",
       "    <tr>\n",
       "      <th>1</th>\n",
       "      <td>https://www.zomato.com/bangalore/spice-elephan...</td>\n",
       "      <td>2nd Floor, 80 Feet Road, Near Big Bazaar, 6th ...</td>\n",
       "      <td>Spice Elephant</td>\n",
       "      <td>Yes</td>\n",
       "      <td>No</td>\n",
       "      <td>4.1</td>\n",
       "      <td>787</td>\n",
       "      <td>080 41714161</td>\n",
       "      <td>Banashankari</td>\n",
       "      <td>Casual Dining</td>\n",
       "      <td>Momos, Lunch Buffet, Chocolate Nirvana, Thai G...</td>\n",
       "      <td>Chinese, North Indian, Thai</td>\n",
       "      <td>800.0</td>\n",
       "      <td>[('Rated 4.0', 'RATED\\n  Had been here for din...</td>\n",
       "      <td>[]</td>\n",
       "      <td>Buffet</td>\n",
       "      <td>Banashankari</td>\n",
       "    </tr>\n",
       "    <tr>\n",
       "      <th>2</th>\n",
       "      <td>https://www.zomato.com/SanchurroBangalore?cont...</td>\n",
       "      <td>1112, Next to KIMS Medical College, 17th Cross...</td>\n",
       "      <td>San Churro Cafe</td>\n",
       "      <td>Yes</td>\n",
       "      <td>No</td>\n",
       "      <td>3.8</td>\n",
       "      <td>918</td>\n",
       "      <td>+91 9663487993</td>\n",
       "      <td>Banashankari</td>\n",
       "      <td>Cafe, Casual Dining</td>\n",
       "      <td>Churros, Cannelloni, Minestrone Soup, Hot Choc...</td>\n",
       "      <td>Cafe, Mexican, Italian</td>\n",
       "      <td>800.0</td>\n",
       "      <td>[('Rated 3.0', \"RATED\\n  Ambience is not that ...</td>\n",
       "      <td>[]</td>\n",
       "      <td>Buffet</td>\n",
       "      <td>Banashankari</td>\n",
       "    </tr>\n",
       "    <tr>\n",
       "      <th>3</th>\n",
       "      <td>https://www.zomato.com/bangalore/addhuri-udupi...</td>\n",
       "      <td>1st Floor, Annakuteera, 3rd Stage, Banashankar...</td>\n",
       "      <td>Addhuri Udupi Bhojana</td>\n",
       "      <td>No</td>\n",
       "      <td>No</td>\n",
       "      <td>3.7</td>\n",
       "      <td>88</td>\n",
       "      <td>+91 9620009302</td>\n",
       "      <td>Banashankari</td>\n",
       "      <td>Quick Bites</td>\n",
       "      <td>Masala Dosa</td>\n",
       "      <td>South Indian, North Indian</td>\n",
       "      <td>300.0</td>\n",
       "      <td>[('Rated 4.0', \"RATED\\n  Great food and proper...</td>\n",
       "      <td>[]</td>\n",
       "      <td>Buffet</td>\n",
       "      <td>Banashankari</td>\n",
       "    </tr>\n",
       "    <tr>\n",
       "      <th>4</th>\n",
       "      <td>https://www.zomato.com/bangalore/grand-village...</td>\n",
       "      <td>10, 3rd Floor, Lakshmi Associates, Gandhi Baza...</td>\n",
       "      <td>Grand Village</td>\n",
       "      <td>No</td>\n",
       "      <td>No</td>\n",
       "      <td>3.8</td>\n",
       "      <td>166</td>\n",
       "      <td>+91 8026612447\\r\\n+91 9901210005</td>\n",
       "      <td>Basavanagudi</td>\n",
       "      <td>Casual Dining</td>\n",
       "      <td>Panipuri, Gol Gappe</td>\n",
       "      <td>North Indian, Rajasthani</td>\n",
       "      <td>600.0</td>\n",
       "      <td>[('Rated 4.0', 'RATED\\n  Very good restaurant ...</td>\n",
       "      <td>[]</td>\n",
       "      <td>Buffet</td>\n",
       "      <td>Banashankari</td>\n",
       "    </tr>\n",
       "  </tbody>\n",
       "</table>\n",
       "</div>"
      ],
      "text/plain": [
       "                                                 url  \\\n",
       "0  https://www.zomato.com/bangalore/jalsa-banasha...   \n",
       "1  https://www.zomato.com/bangalore/spice-elephan...   \n",
       "2  https://www.zomato.com/SanchurroBangalore?cont...   \n",
       "3  https://www.zomato.com/bangalore/addhuri-udupi...   \n",
       "4  https://www.zomato.com/bangalore/grand-village...   \n",
       "\n",
       "                                             address                   name  \\\n",
       "0  942, 21st Main Road, 2nd Stage, Banashankari, ...                  Jalsa   \n",
       "1  2nd Floor, 80 Feet Road, Near Big Bazaar, 6th ...         Spice Elephant   \n",
       "2  1112, Next to KIMS Medical College, 17th Cross...        San Churro Cafe   \n",
       "3  1st Floor, Annakuteera, 3rd Stage, Banashankar...  Addhuri Udupi Bhojana   \n",
       "4  10, 3rd Floor, Lakshmi Associates, Gandhi Baza...          Grand Village   \n",
       "\n",
       "  online_order book_table  rate  votes                             phone  \\\n",
       "0          Yes        Yes   4.1    775    080 42297555\\r\\n+91 9743772233   \n",
       "1          Yes         No   4.1    787                      080 41714161   \n",
       "2          Yes         No   3.8    918                    +91 9663487993   \n",
       "3           No         No   3.7     88                    +91 9620009302   \n",
       "4           No         No   3.8    166  +91 8026612447\\r\\n+91 9901210005   \n",
       "\n",
       "       location            rest_type  \\\n",
       "0  Banashankari        Casual Dining   \n",
       "1  Banashankari        Casual Dining   \n",
       "2  Banashankari  Cafe, Casual Dining   \n",
       "3  Banashankari          Quick Bites   \n",
       "4  Basavanagudi        Casual Dining   \n",
       "\n",
       "                                          dish_liked  \\\n",
       "0  Pasta, Lunch Buffet, Masala Papad, Paneer Laja...   \n",
       "1  Momos, Lunch Buffet, Chocolate Nirvana, Thai G...   \n",
       "2  Churros, Cannelloni, Minestrone Soup, Hot Choc...   \n",
       "3                                        Masala Dosa   \n",
       "4                                Panipuri, Gol Gappe   \n",
       "\n",
       "                         cuisines  approx_cost(for two people)  \\\n",
       "0  North Indian, Mughlai, Chinese                        800.0   \n",
       "1     Chinese, North Indian, Thai                        800.0   \n",
       "2          Cafe, Mexican, Italian                        800.0   \n",
       "3      South Indian, North Indian                        300.0   \n",
       "4        North Indian, Rajasthani                        600.0   \n",
       "\n",
       "                                        reviews_list menu_item  \\\n",
       "0  [('Rated 4.0', 'RATED\\n  A beautiful place to ...        []   \n",
       "1  [('Rated 4.0', 'RATED\\n  Had been here for din...        []   \n",
       "2  [('Rated 3.0', \"RATED\\n  Ambience is not that ...        []   \n",
       "3  [('Rated 4.0', \"RATED\\n  Great food and proper...        []   \n",
       "4  [('Rated 4.0', 'RATED\\n  Very good restaurant ...        []   \n",
       "\n",
       "  listed_in(type) listed_in(city)  \n",
       "0          Buffet    Banashankari  \n",
       "1          Buffet    Banashankari  \n",
       "2          Buffet    Banashankari  \n",
       "3          Buffet    Banashankari  \n",
       "4          Buffet    Banashankari  "
      ]
     },
     "execution_count": 93,
     "metadata": {},
     "output_type": "execute_result"
    }
   ],
   "source": [
    "df.head()\n"
   ]
  },
  {
   "cell_type": "code",
   "execution_count": null,
   "id": "6c9ea9a7",
   "metadata": {},
   "outputs": [],
   "source": []
  },
  {
   "cell_type": "code",
   "execution_count": 94,
   "id": "298b2a2b",
   "metadata": {},
   "outputs": [
    {
     "data": {
      "text/html": [
       "<div>\n",
       "<style scoped>\n",
       "    .dataframe tbody tr th:only-of-type {\n",
       "        vertical-align: middle;\n",
       "    }\n",
       "\n",
       "    .dataframe tbody tr th {\n",
       "        vertical-align: top;\n",
       "    }\n",
       "\n",
       "    .dataframe thead th {\n",
       "        text-align: right;\n",
       "    }\n",
       "</style>\n",
       "<table border=\"1\" class=\"dataframe\">\n",
       "  <thead>\n",
       "    <tr style=\"text-align: right;\">\n",
       "      <th></th>\n",
       "      <th>url</th>\n",
       "      <th>address</th>\n",
       "      <th>name</th>\n",
       "      <th>online_order</th>\n",
       "      <th>book_table</th>\n",
       "      <th>rate</th>\n",
       "      <th>votes</th>\n",
       "      <th>phone</th>\n",
       "      <th>location</th>\n",
       "      <th>rest_type</th>\n",
       "      <th>dish_liked</th>\n",
       "      <th>cuisines</th>\n",
       "      <th>approx_cost(for two people)</th>\n",
       "      <th>reviews_list</th>\n",
       "      <th>menu_item</th>\n",
       "      <th>listed_in(type)</th>\n",
       "      <th>listed_in(city)</th>\n",
       "    </tr>\n",
       "  </thead>\n",
       "  <tbody>\n",
       "    <tr>\n",
       "      <th>928</th>\n",
       "      <td>https://www.zomato.com/bangalore/hiyar-majhe-k...</td>\n",
       "      <td>57/1, Near Alliance University, 19th Cross, 7t...</td>\n",
       "      <td>Hiyar Majhe Kolkata</td>\n",
       "      <td>Yes</td>\n",
       "      <td>No</td>\n",
       "      <td>4.0</td>\n",
       "      <td>244</td>\n",
       "      <td>+91 9108919806\\r\\r\\n+91 9739059571</td>\n",
       "      <td>BTM</td>\n",
       "      <td>Quick Bites</td>\n",
       "      <td>Radhaballavi, Biryani, Egg Noodles, Egg Roll, ...</td>\n",
       "      <td>Bengali, North Indian</td>\n",
       "      <td>400.0</td>\n",
       "      <td>[('Rated 4.0', 'RATED\\n  I like this restauran...</td>\n",
       "      <td>[]</td>\n",
       "      <td>Delivery</td>\n",
       "      <td>Bannerghatta Road</td>\n",
       "    </tr>\n",
       "    <tr>\n",
       "      <th>934</th>\n",
       "      <td>https://www.zomato.com/bangalore/swadista-aaha...</td>\n",
       "      <td>947, 16th Main Road, 2nd Stage, BTM, Bangalore</td>\n",
       "      <td>Swadista Aahar</td>\n",
       "      <td>Yes</td>\n",
       "      <td>No</td>\n",
       "      <td>4.1</td>\n",
       "      <td>775</td>\n",
       "      <td>+91 9844006825\\r\\r\\n+91 9844615361</td>\n",
       "      <td>BTM</td>\n",
       "      <td>Quick Bites</td>\n",
       "      <td>Panneer Butter Masala, Idli, Masala Dosa, Vada...</td>\n",
       "      <td>South Indian, North Indian, Chinese, Street Food</td>\n",
       "      <td>300.0</td>\n",
       "      <td>[('Rated 3.0', \"RATED\\n  Ordered south Indian ...</td>\n",
       "      <td>[]</td>\n",
       "      <td>Delivery</td>\n",
       "      <td>Bannerghatta Road</td>\n",
       "    </tr>\n",
       "    <tr>\n",
       "      <th>940</th>\n",
       "      <td>https://www.zomato.com/bangalore/swad-punjab-d...</td>\n",
       "      <td>324, 23rd Main, 3rd Cross, 2nd Stage, BTM, Ban...</td>\n",
       "      <td>Swad Punjab Da</td>\n",
       "      <td>Yes</td>\n",
       "      <td>No</td>\n",
       "      <td>4.0</td>\n",
       "      <td>126</td>\n",
       "      <td>+91 8360151853</td>\n",
       "      <td>BTM</td>\n",
       "      <td>Quick Bites</td>\n",
       "      <td>Lassi, Roti, Veg Thali, Aloo Paratha, Egg Curry</td>\n",
       "      <td>North Indian</td>\n",
       "      <td>150.0</td>\n",
       "      <td>[('Rated 4.0', 'RATED\\n  If you can visit and ...</td>\n",
       "      <td>['Dal with Sabji Combo', 'Dal Sabji with 4 Cha...</td>\n",
       "      <td>Delivery</td>\n",
       "      <td>Bannerghatta Road</td>\n",
       "    </tr>\n",
       "    <tr>\n",
       "      <th>942</th>\n",
       "      <td>https://www.zomato.com/bangalore/roti-wala-btm...</td>\n",
       "      <td>688, 7th Main, 10th Cross Main Road, 2nd Stage...</td>\n",
       "      <td>Roti Wala</td>\n",
       "      <td>Yes</td>\n",
       "      <td>No</td>\n",
       "      <td>4.0</td>\n",
       "      <td>197</td>\n",
       "      <td>+91 9731100002</td>\n",
       "      <td>BTM</td>\n",
       "      <td>Quick Bites</td>\n",
       "      <td>Gulab Jamun, Buttermilk, Egg Bhurji, Sprout Sa...</td>\n",
       "      <td>North Indian</td>\n",
       "      <td>300.0</td>\n",
       "      <td>[('Rated 5.0', 'RATED\\n  Well, I never had a c...</td>\n",
       "      <td>[]</td>\n",
       "      <td>Delivery</td>\n",
       "      <td>Bannerghatta Road</td>\n",
       "    </tr>\n",
       "    <tr>\n",
       "      <th>954</th>\n",
       "      <td>https://www.zomato.com/bangalore/litti-twist-b...</td>\n",
       "      <td>No 43, 7th Main Road, NS Palaya, BTM 2nd Stage...</td>\n",
       "      <td>Litti Twist</td>\n",
       "      <td>Yes</td>\n",
       "      <td>No</td>\n",
       "      <td>4.1</td>\n",
       "      <td>464</td>\n",
       "      <td>+91 8884270523</td>\n",
       "      <td>BTM</td>\n",
       "      <td>Quick Bites</td>\n",
       "      <td>Litti, Liti Chokha, Lassi, Tea, Paratha, Thali...</td>\n",
       "      <td>North Indian, Bihari</td>\n",
       "      <td>300.0</td>\n",
       "      <td>[('Rated 4.0', \"RATED\\n  It's a great outlet t...</td>\n",
       "      <td>[]</td>\n",
       "      <td>Delivery</td>\n",
       "      <td>Bannerghatta Road</td>\n",
       "    </tr>\n",
       "    <tr>\n",
       "      <th>...</th>\n",
       "      <td>...</td>\n",
       "      <td>...</td>\n",
       "      <td>...</td>\n",
       "      <td>...</td>\n",
       "      <td>...</td>\n",
       "      <td>...</td>\n",
       "      <td>...</td>\n",
       "      <td>...</td>\n",
       "      <td>...</td>\n",
       "      <td>...</td>\n",
       "      <td>...</td>\n",
       "      <td>...</td>\n",
       "      <td>...</td>\n",
       "      <td>...</td>\n",
       "      <td>...</td>\n",
       "      <td>...</td>\n",
       "      <td>...</td>\n",
       "    </tr>\n",
       "    <tr>\n",
       "      <th>37151</th>\n",
       "      <td>https://www.zomato.com/bangalore/muthashys-btm...</td>\n",
       "      <td>3, Brindavan Complex, 20th Main, Maruthi Nagar...</td>\n",
       "      <td>Muthashy's</td>\n",
       "      <td>Yes</td>\n",
       "      <td>No</td>\n",
       "      <td>4.2</td>\n",
       "      <td>472</td>\n",
       "      <td>080 42274488\\n+91 9844162560</td>\n",
       "      <td>BTM</td>\n",
       "      <td>Quick Bites</td>\n",
       "      <td>Fish, Appam, Egg Roast, Kadala Curry, Chicken ...</td>\n",
       "      <td>Kerala, South Indian, Chinese</td>\n",
       "      <td>400.0</td>\n",
       "      <td>[('Rated 4.0', 'RATED\\n  Typical Kerala cusine...</td>\n",
       "      <td>['Parotta', 'Egg Curry', 'Veg Kuruma', 'Fish C...</td>\n",
       "      <td>Dine-out</td>\n",
       "      <td>Koramangala 7th Block</td>\n",
       "    </tr>\n",
       "    <tr>\n",
       "      <th>37152</th>\n",
       "      <td>https://www.zomato.com/bangalore/kannur-food-p...</td>\n",
       "      <td>6/21, 10th Cross, 1st Main, Venkateshwara Layo...</td>\n",
       "      <td>Kannur Food Point</td>\n",
       "      <td>No</td>\n",
       "      <td>No</td>\n",
       "      <td>4.0</td>\n",
       "      <td>141</td>\n",
       "      <td>+91 9886165106</td>\n",
       "      <td>BTM</td>\n",
       "      <td>Quick Bites</td>\n",
       "      <td>Roast Chicken, Thalassery Biryani</td>\n",
       "      <td>Kerala, Chinese</td>\n",
       "      <td>200.0</td>\n",
       "      <td>[('Rated 5.0', \"RATED\\n  Order chicken roast a...</td>\n",
       "      <td>[]</td>\n",
       "      <td>Dine-out</td>\n",
       "      <td>Koramangala 7th Block</td>\n",
       "    </tr>\n",
       "    <tr>\n",
       "      <th>37181</th>\n",
       "      <td>https://www.zomato.com/bangalore/ashirvaad-gra...</td>\n",
       "      <td>Makana Tower, Tavarekere Main Road</td>\n",
       "      <td>Ashirvaad Grand</td>\n",
       "      <td>Yes</td>\n",
       "      <td>No</td>\n",
       "      <td>4.0</td>\n",
       "      <td>115</td>\n",
       "      <td>080 26844799\\n080 26847799</td>\n",
       "      <td>BTM</td>\n",
       "      <td>Quick Bites</td>\n",
       "      <td>Masala Dosa, Panneer Butter Masala</td>\n",
       "      <td>Chinese, North Indian, South Indian</td>\n",
       "      <td>400.0</td>\n",
       "      <td>[('Rated 5.0', 'RATED\\n  Very quick delivery a...</td>\n",
       "      <td>['3 Idly', 'Idly Vada', 'Chow Chow Bath', 'Mas...</td>\n",
       "      <td>Dine-out</td>\n",
       "      <td>Koramangala 7th Block</td>\n",
       "    </tr>\n",
       "    <tr>\n",
       "      <th>37201</th>\n",
       "      <td>https://www.zomato.com/bangalore/swad-punjab-d...</td>\n",
       "      <td>324, 23rd Main, 3rd Cross, 2nd Stage, BTM, Ban...</td>\n",
       "      <td>Swad Punjab Da</td>\n",
       "      <td>Yes</td>\n",
       "      <td>No</td>\n",
       "      <td>4.1</td>\n",
       "      <td>134</td>\n",
       "      <td>+91 8360151853</td>\n",
       "      <td>BTM</td>\n",
       "      <td>Quick Bites</td>\n",
       "      <td>Lassi, Veg Thali, Roti, Aloo Paratha, Egg Curry</td>\n",
       "      <td>North Indian</td>\n",
       "      <td>150.0</td>\n",
       "      <td>[('Rated 5.0', 'RATED\\n  Good delivery'), ('Ra...</td>\n",
       "      <td>[]</td>\n",
       "      <td>Dine-out</td>\n",
       "      <td>Koramangala 7th Block</td>\n",
       "    </tr>\n",
       "    <tr>\n",
       "      <th>37233</th>\n",
       "      <td>https://www.zomato.com/bangalore/the-biriyani-...</td>\n",
       "      <td>3rd Cross Road, Venkateshwara Layout, Suddagun...</td>\n",
       "      <td>The Biriyani Pedia</td>\n",
       "      <td>Yes</td>\n",
       "      <td>No</td>\n",
       "      <td>4.0</td>\n",
       "      <td>59</td>\n",
       "      <td>+91 9809202588</td>\n",
       "      <td>BTM</td>\n",
       "      <td>Quick Bites</td>\n",
       "      <td>Chicken Stew, Ghee Rice, Chai, Beef Biryani</td>\n",
       "      <td>Biryani, North Indian</td>\n",
       "      <td>300.0</td>\n",
       "      <td>[('Rated 5.0', \"RATED\\n  Quite easy on the poc...</td>\n",
       "      <td>['Ghee Rice', 'Thalassery Chicken Dum Biryani'...</td>\n",
       "      <td>Dine-out</td>\n",
       "      <td>Koramangala 7th Block</td>\n",
       "    </tr>\n",
       "  </tbody>\n",
       "</table>\n",
       "<p>153 rows × 17 columns</p>\n",
       "</div>"
      ],
      "text/plain": [
       "                                                     url  \\\n",
       "928    https://www.zomato.com/bangalore/hiyar-majhe-k...   \n",
       "934    https://www.zomato.com/bangalore/swadista-aaha...   \n",
       "940    https://www.zomato.com/bangalore/swad-punjab-d...   \n",
       "942    https://www.zomato.com/bangalore/roti-wala-btm...   \n",
       "954    https://www.zomato.com/bangalore/litti-twist-b...   \n",
       "...                                                  ...   \n",
       "37151  https://www.zomato.com/bangalore/muthashys-btm...   \n",
       "37152  https://www.zomato.com/bangalore/kannur-food-p...   \n",
       "37181  https://www.zomato.com/bangalore/ashirvaad-gra...   \n",
       "37201  https://www.zomato.com/bangalore/swad-punjab-d...   \n",
       "37233  https://www.zomato.com/bangalore/the-biriyani-...   \n",
       "\n",
       "                                                 address                 name  \\\n",
       "928    57/1, Near Alliance University, 19th Cross, 7t...  Hiyar Majhe Kolkata   \n",
       "934       947, 16th Main Road, 2nd Stage, BTM, Bangalore       Swadista Aahar   \n",
       "940    324, 23rd Main, 3rd Cross, 2nd Stage, BTM, Ban...       Swad Punjab Da   \n",
       "942    688, 7th Main, 10th Cross Main Road, 2nd Stage...            Roti Wala   \n",
       "954    No 43, 7th Main Road, NS Palaya, BTM 2nd Stage...          Litti Twist   \n",
       "...                                                  ...                  ...   \n",
       "37151  3, Brindavan Complex, 20th Main, Maruthi Nagar...           Muthashy's   \n",
       "37152  6/21, 10th Cross, 1st Main, Venkateshwara Layo...    Kannur Food Point   \n",
       "37181                 Makana Tower, Tavarekere Main Road      Ashirvaad Grand   \n",
       "37201  324, 23rd Main, 3rd Cross, 2nd Stage, BTM, Ban...       Swad Punjab Da   \n",
       "37233  3rd Cross Road, Venkateshwara Layout, Suddagun...   The Biriyani Pedia   \n",
       "\n",
       "      online_order book_table  rate  votes  \\\n",
       "928            Yes         No   4.0    244   \n",
       "934            Yes         No   4.1    775   \n",
       "940            Yes         No   4.0    126   \n",
       "942            Yes         No   4.0    197   \n",
       "954            Yes         No   4.1    464   \n",
       "...            ...        ...   ...    ...   \n",
       "37151          Yes         No   4.2    472   \n",
       "37152           No         No   4.0    141   \n",
       "37181          Yes         No   4.0    115   \n",
       "37201          Yes         No   4.1    134   \n",
       "37233          Yes         No   4.0     59   \n",
       "\n",
       "                                    phone location    rest_type  \\\n",
       "928    +91 9108919806\\r\\r\\n+91 9739059571      BTM  Quick Bites   \n",
       "934    +91 9844006825\\r\\r\\n+91 9844615361      BTM  Quick Bites   \n",
       "940                        +91 8360151853      BTM  Quick Bites   \n",
       "942                        +91 9731100002      BTM  Quick Bites   \n",
       "954                        +91 8884270523      BTM  Quick Bites   \n",
       "...                                   ...      ...          ...   \n",
       "37151        080 42274488\\n+91 9844162560      BTM  Quick Bites   \n",
       "37152                      +91 9886165106      BTM  Quick Bites   \n",
       "37181          080 26844799\\n080 26847799      BTM  Quick Bites   \n",
       "37201                      +91 8360151853      BTM  Quick Bites   \n",
       "37233                      +91 9809202588      BTM  Quick Bites   \n",
       "\n",
       "                                              dish_liked  \\\n",
       "928    Radhaballavi, Biryani, Egg Noodles, Egg Roll, ...   \n",
       "934    Panneer Butter Masala, Idli, Masala Dosa, Vada...   \n",
       "940      Lassi, Roti, Veg Thali, Aloo Paratha, Egg Curry   \n",
       "942    Gulab Jamun, Buttermilk, Egg Bhurji, Sprout Sa...   \n",
       "954    Litti, Liti Chokha, Lassi, Tea, Paratha, Thali...   \n",
       "...                                                  ...   \n",
       "37151  Fish, Appam, Egg Roast, Kadala Curry, Chicken ...   \n",
       "37152                  Roast Chicken, Thalassery Biryani   \n",
       "37181                 Masala Dosa, Panneer Butter Masala   \n",
       "37201    Lassi, Veg Thali, Roti, Aloo Paratha, Egg Curry   \n",
       "37233        Chicken Stew, Ghee Rice, Chai, Beef Biryani   \n",
       "\n",
       "                                               cuisines  \\\n",
       "928                               Bengali, North Indian   \n",
       "934    South Indian, North Indian, Chinese, Street Food   \n",
       "940                                        North Indian   \n",
       "942                                        North Indian   \n",
       "954                                North Indian, Bihari   \n",
       "...                                                 ...   \n",
       "37151                     Kerala, South Indian, Chinese   \n",
       "37152                                   Kerala, Chinese   \n",
       "37181               Chinese, North Indian, South Indian   \n",
       "37201                                      North Indian   \n",
       "37233                             Biryani, North Indian   \n",
       "\n",
       "       approx_cost(for two people)  \\\n",
       "928                          400.0   \n",
       "934                          300.0   \n",
       "940                          150.0   \n",
       "942                          300.0   \n",
       "954                          300.0   \n",
       "...                            ...   \n",
       "37151                        400.0   \n",
       "37152                        200.0   \n",
       "37181                        400.0   \n",
       "37201                        150.0   \n",
       "37233                        300.0   \n",
       "\n",
       "                                            reviews_list  \\\n",
       "928    [('Rated 4.0', 'RATED\\n  I like this restauran...   \n",
       "934    [('Rated 3.0', \"RATED\\n  Ordered south Indian ...   \n",
       "940    [('Rated 4.0', 'RATED\\n  If you can visit and ...   \n",
       "942    [('Rated 5.0', 'RATED\\n  Well, I never had a c...   \n",
       "954    [('Rated 4.0', \"RATED\\n  It's a great outlet t...   \n",
       "...                                                  ...   \n",
       "37151  [('Rated 4.0', 'RATED\\n  Typical Kerala cusine...   \n",
       "37152  [('Rated 5.0', \"RATED\\n  Order chicken roast a...   \n",
       "37181  [('Rated 5.0', 'RATED\\n  Very quick delivery a...   \n",
       "37201  [('Rated 5.0', 'RATED\\n  Good delivery'), ('Ra...   \n",
       "37233  [('Rated 5.0', \"RATED\\n  Quite easy on the poc...   \n",
       "\n",
       "                                               menu_item listed_in(type)  \\\n",
       "928                                                   []        Delivery   \n",
       "934                                                   []        Delivery   \n",
       "940    ['Dal with Sabji Combo', 'Dal Sabji with 4 Cha...        Delivery   \n",
       "942                                                   []        Delivery   \n",
       "954                                                   []        Delivery   \n",
       "...                                                  ...             ...   \n",
       "37151  ['Parotta', 'Egg Curry', 'Veg Kuruma', 'Fish C...        Dine-out   \n",
       "37152                                                 []        Dine-out   \n",
       "37181  ['3 Idly', 'Idly Vada', 'Chow Chow Bath', 'Mas...        Dine-out   \n",
       "37201                                                 []        Dine-out   \n",
       "37233  ['Ghee Rice', 'Thalassery Chicken Dum Biryani'...        Dine-out   \n",
       "\n",
       "             listed_in(city)  \n",
       "928        Bannerghatta Road  \n",
       "934        Bannerghatta Road  \n",
       "940        Bannerghatta Road  \n",
       "942        Bannerghatta Road  \n",
       "954        Bannerghatta Road  \n",
       "...                      ...  \n",
       "37151  Koramangala 7th Block  \n",
       "37152  Koramangala 7th Block  \n",
       "37181  Koramangala 7th Block  \n",
       "37201  Koramangala 7th Block  \n",
       "37233  Koramangala 7th Block  \n",
       "\n",
       "[153 rows x 17 columns]"
      ]
     },
     "execution_count": 94,
     "metadata": {},
     "output_type": "execute_result"
    }
   ],
   "source": [
    "filter = (df['approx_cost(for two people)']<=400) & (df['location']=='BTM') & (df['rate']>=4) & (df['rest_type'] =='Quick Bites')\n",
    "budget=df[filter]\n",
    "budget"
   ]
  },
  {
   "cell_type": "code",
   "execution_count": 95,
   "id": "3d1d97a6",
   "metadata": {},
   "outputs": [
    {
     "data": {
      "text/plain": [
       "array(['Hiyar Majhe Kolkata', 'Swadista Aahar', 'Swad Punjab Da',\n",
       "       'Roti Wala', 'Litti Twist', 'The Shawarma Shop', 'Gorbandh',\n",
       "       'Yum In My Tum', 'Nanna Munna Paratha House', 'Chaatimes',\n",
       "       'Andhra Kitchen', \"Muthashy's\", 'Ashirvaad Grand', 'Petoo',\n",
       "       'Ilyazsab The House Of Chicken', 'Kannur Food Point',\n",
       "       \"Domino's Pizza\", 'KFC', 'Hari Super Sandwich',\n",
       "       'The Biriyani Pedia', 'World Of Asia'], dtype=object)"
      ]
     },
     "execution_count": 95,
     "metadata": {},
     "output_type": "execute_result"
    }
   ],
   "source": [
    "budget['name'].unique()"
   ]
  },
  {
   "cell_type": "code",
   "execution_count": 96,
   "id": "2143989c",
   "metadata": {},
   "outputs": [],
   "source": [
    "def return_budget(location, restaurant_type):\n",
    "    filter = (df['approx_cost(for two people)']<=400) & (df['location']=='BTM') & (df['rate']>=4) & (df['rest_type'] =='Quick Bites')\n",
    "    budget = df[filter]\n",
    "    return (budget['name'].unique())"
   ]
  },
  {
   "cell_type": "code",
   "execution_count": 97,
   "id": "344edee4",
   "metadata": {},
   "outputs": [],
   "source": [
    "## Lat, Long\n",
    "##geographical analysis"
   ]
  },
  {
   "cell_type": "code",
   "execution_count": 98,
   "id": "c5615e4f",
   "metadata": {},
   "outputs": [
    {
     "data": {
      "text/html": [
       "<div>\n",
       "<style scoped>\n",
       "    .dataframe tbody tr th:only-of-type {\n",
       "        vertical-align: middle;\n",
       "    }\n",
       "\n",
       "    .dataframe tbody tr th {\n",
       "        vertical-align: top;\n",
       "    }\n",
       "\n",
       "    .dataframe thead th {\n",
       "        text-align: right;\n",
       "    }\n",
       "</style>\n",
       "<table border=\"1\" class=\"dataframe\">\n",
       "  <thead>\n",
       "    <tr style=\"text-align: right;\">\n",
       "      <th></th>\n",
       "      <th>url</th>\n",
       "      <th>address</th>\n",
       "      <th>name</th>\n",
       "      <th>online_order</th>\n",
       "      <th>book_table</th>\n",
       "      <th>rate</th>\n",
       "      <th>votes</th>\n",
       "      <th>phone</th>\n",
       "      <th>location</th>\n",
       "      <th>rest_type</th>\n",
       "      <th>dish_liked</th>\n",
       "      <th>cuisines</th>\n",
       "      <th>approx_cost(for two people)</th>\n",
       "      <th>reviews_list</th>\n",
       "      <th>menu_item</th>\n",
       "      <th>listed_in(type)</th>\n",
       "      <th>listed_in(city)</th>\n",
       "    </tr>\n",
       "  </thead>\n",
       "  <tbody>\n",
       "    <tr>\n",
       "      <th>0</th>\n",
       "      <td>https://www.zomato.com/bangalore/jalsa-banasha...</td>\n",
       "      <td>942, 21st Main Road, 2nd Stage, Banashankari, ...</td>\n",
       "      <td>Jalsa</td>\n",
       "      <td>Yes</td>\n",
       "      <td>Yes</td>\n",
       "      <td>4.1</td>\n",
       "      <td>775</td>\n",
       "      <td>080 42297555\\r\\n+91 9743772233</td>\n",
       "      <td>Banashankari</td>\n",
       "      <td>Casual Dining</td>\n",
       "      <td>Pasta, Lunch Buffet, Masala Papad, Paneer Laja...</td>\n",
       "      <td>North Indian, Mughlai, Chinese</td>\n",
       "      <td>800.0</td>\n",
       "      <td>[('Rated 4.0', 'RATED\\n  A beautiful place to ...</td>\n",
       "      <td>[]</td>\n",
       "      <td>Buffet</td>\n",
       "      <td>Banashankari</td>\n",
       "    </tr>\n",
       "    <tr>\n",
       "      <th>1</th>\n",
       "      <td>https://www.zomato.com/bangalore/spice-elephan...</td>\n",
       "      <td>2nd Floor, 80 Feet Road, Near Big Bazaar, 6th ...</td>\n",
       "      <td>Spice Elephant</td>\n",
       "      <td>Yes</td>\n",
       "      <td>No</td>\n",
       "      <td>4.1</td>\n",
       "      <td>787</td>\n",
       "      <td>080 41714161</td>\n",
       "      <td>Banashankari</td>\n",
       "      <td>Casual Dining</td>\n",
       "      <td>Momos, Lunch Buffet, Chocolate Nirvana, Thai G...</td>\n",
       "      <td>Chinese, North Indian, Thai</td>\n",
       "      <td>800.0</td>\n",
       "      <td>[('Rated 4.0', 'RATED\\n  Had been here for din...</td>\n",
       "      <td>[]</td>\n",
       "      <td>Buffet</td>\n",
       "      <td>Banashankari</td>\n",
       "    </tr>\n",
       "    <tr>\n",
       "      <th>2</th>\n",
       "      <td>https://www.zomato.com/SanchurroBangalore?cont...</td>\n",
       "      <td>1112, Next to KIMS Medical College, 17th Cross...</td>\n",
       "      <td>San Churro Cafe</td>\n",
       "      <td>Yes</td>\n",
       "      <td>No</td>\n",
       "      <td>3.8</td>\n",
       "      <td>918</td>\n",
       "      <td>+91 9663487993</td>\n",
       "      <td>Banashankari</td>\n",
       "      <td>Cafe, Casual Dining</td>\n",
       "      <td>Churros, Cannelloni, Minestrone Soup, Hot Choc...</td>\n",
       "      <td>Cafe, Mexican, Italian</td>\n",
       "      <td>800.0</td>\n",
       "      <td>[('Rated 3.0', \"RATED\\n  Ambience is not that ...</td>\n",
       "      <td>[]</td>\n",
       "      <td>Buffet</td>\n",
       "      <td>Banashankari</td>\n",
       "    </tr>\n",
       "    <tr>\n",
       "      <th>3</th>\n",
       "      <td>https://www.zomato.com/bangalore/addhuri-udupi...</td>\n",
       "      <td>1st Floor, Annakuteera, 3rd Stage, Banashankar...</td>\n",
       "      <td>Addhuri Udupi Bhojana</td>\n",
       "      <td>No</td>\n",
       "      <td>No</td>\n",
       "      <td>3.7</td>\n",
       "      <td>88</td>\n",
       "      <td>+91 9620009302</td>\n",
       "      <td>Banashankari</td>\n",
       "      <td>Quick Bites</td>\n",
       "      <td>Masala Dosa</td>\n",
       "      <td>South Indian, North Indian</td>\n",
       "      <td>300.0</td>\n",
       "      <td>[('Rated 4.0', \"RATED\\n  Great food and proper...</td>\n",
       "      <td>[]</td>\n",
       "      <td>Buffet</td>\n",
       "      <td>Banashankari</td>\n",
       "    </tr>\n",
       "    <tr>\n",
       "      <th>4</th>\n",
       "      <td>https://www.zomato.com/bangalore/grand-village...</td>\n",
       "      <td>10, 3rd Floor, Lakshmi Associates, Gandhi Baza...</td>\n",
       "      <td>Grand Village</td>\n",
       "      <td>No</td>\n",
       "      <td>No</td>\n",
       "      <td>3.8</td>\n",
       "      <td>166</td>\n",
       "      <td>+91 8026612447\\r\\n+91 9901210005</td>\n",
       "      <td>Basavanagudi</td>\n",
       "      <td>Casual Dining</td>\n",
       "      <td>Panipuri, Gol Gappe</td>\n",
       "      <td>North Indian, Rajasthani</td>\n",
       "      <td>600.0</td>\n",
       "      <td>[('Rated 4.0', 'RATED\\n  Very good restaurant ...</td>\n",
       "      <td>[]</td>\n",
       "      <td>Buffet</td>\n",
       "      <td>Banashankari</td>\n",
       "    </tr>\n",
       "  </tbody>\n",
       "</table>\n",
       "</div>"
      ],
      "text/plain": [
       "                                                 url  \\\n",
       "0  https://www.zomato.com/bangalore/jalsa-banasha...   \n",
       "1  https://www.zomato.com/bangalore/spice-elephan...   \n",
       "2  https://www.zomato.com/SanchurroBangalore?cont...   \n",
       "3  https://www.zomato.com/bangalore/addhuri-udupi...   \n",
       "4  https://www.zomato.com/bangalore/grand-village...   \n",
       "\n",
       "                                             address                   name  \\\n",
       "0  942, 21st Main Road, 2nd Stage, Banashankari, ...                  Jalsa   \n",
       "1  2nd Floor, 80 Feet Road, Near Big Bazaar, 6th ...         Spice Elephant   \n",
       "2  1112, Next to KIMS Medical College, 17th Cross...        San Churro Cafe   \n",
       "3  1st Floor, Annakuteera, 3rd Stage, Banashankar...  Addhuri Udupi Bhojana   \n",
       "4  10, 3rd Floor, Lakshmi Associates, Gandhi Baza...          Grand Village   \n",
       "\n",
       "  online_order book_table  rate  votes                             phone  \\\n",
       "0          Yes        Yes   4.1    775    080 42297555\\r\\n+91 9743772233   \n",
       "1          Yes         No   4.1    787                      080 41714161   \n",
       "2          Yes         No   3.8    918                    +91 9663487993   \n",
       "3           No         No   3.7     88                    +91 9620009302   \n",
       "4           No         No   3.8    166  +91 8026612447\\r\\n+91 9901210005   \n",
       "\n",
       "       location            rest_type  \\\n",
       "0  Banashankari        Casual Dining   \n",
       "1  Banashankari        Casual Dining   \n",
       "2  Banashankari  Cafe, Casual Dining   \n",
       "3  Banashankari          Quick Bites   \n",
       "4  Basavanagudi        Casual Dining   \n",
       "\n",
       "                                          dish_liked  \\\n",
       "0  Pasta, Lunch Buffet, Masala Papad, Paneer Laja...   \n",
       "1  Momos, Lunch Buffet, Chocolate Nirvana, Thai G...   \n",
       "2  Churros, Cannelloni, Minestrone Soup, Hot Choc...   \n",
       "3                                        Masala Dosa   \n",
       "4                                Panipuri, Gol Gappe   \n",
       "\n",
       "                         cuisines  approx_cost(for two people)  \\\n",
       "0  North Indian, Mughlai, Chinese                        800.0   \n",
       "1     Chinese, North Indian, Thai                        800.0   \n",
       "2          Cafe, Mexican, Italian                        800.0   \n",
       "3      South Indian, North Indian                        300.0   \n",
       "4        North Indian, Rajasthani                        600.0   \n",
       "\n",
       "                                        reviews_list menu_item  \\\n",
       "0  [('Rated 4.0', 'RATED\\n  A beautiful place to ...        []   \n",
       "1  [('Rated 4.0', 'RATED\\n  Had been here for din...        []   \n",
       "2  [('Rated 3.0', \"RATED\\n  Ambience is not that ...        []   \n",
       "3  [('Rated 4.0', \"RATED\\n  Great food and proper...        []   \n",
       "4  [('Rated 4.0', 'RATED\\n  Very good restaurant ...        []   \n",
       "\n",
       "  listed_in(type) listed_in(city)  \n",
       "0          Buffet    Banashankari  \n",
       "1          Buffet    Banashankari  \n",
       "2          Buffet    Banashankari  \n",
       "3          Buffet    Banashankari  \n",
       "4          Buffet    Banashankari  "
      ]
     },
     "execution_count": 98,
     "metadata": {},
     "output_type": "execute_result"
    }
   ],
   "source": [
    "df.head()"
   ]
  },
  {
   "cell_type": "code",
   "execution_count": 99,
   "id": "c9b58ca0",
   "metadata": {},
   "outputs": [
    {
     "name": "stdout",
     "output_type": "stream",
     "text": [
      "Requirement already satisfied: geopy in c:\\programdata\\anaconda3\\lib\\site-packages (2.1.0)\n",
      "Requirement already satisfied: geographiclib<2,>=1.49 in c:\\programdata\\anaconda3\\lib\\site-packages (from geopy) (1.50)\n"
     ]
    }
   ],
   "source": [
    "!pip install geopy"
   ]
  },
  {
   "cell_type": "code",
   "execution_count": 100,
   "id": "9a50dcff",
   "metadata": {},
   "outputs": [],
   "source": [
    "from geopy.geocoders import Nominatim"
   ]
  },
  {
   "cell_type": "code",
   "execution_count": 101,
   "id": "51e0acb9",
   "metadata": {},
   "outputs": [
    {
     "data": {
      "text/plain": [
       "'Jalsa'"
      ]
     },
     "execution_count": 101,
     "metadata": {},
     "output_type": "execute_result"
    }
   ],
   "source": [
    "geolocator=Nominatim(user_agent='app')\n",
    "data=df['name'][0]\n",
    "data"
   ]
  },
  {
   "cell_type": "code",
   "execution_count": 102,
   "id": "2c129933",
   "metadata": {},
   "outputs": [],
   "source": [
    "data = geolocator.geocode(data)"
   ]
  },
  {
   "cell_type": "code",
   "execution_count": 103,
   "id": "f531b3b6",
   "metadata": {},
   "outputs": [
    {
     "data": {
      "text/plain": [
       "12.9775851"
      ]
     },
     "execution_count": 103,
     "metadata": {},
     "output_type": "execute_result"
    }
   ],
   "source": [
    "data.latitude"
   ]
  },
  {
   "cell_type": "code",
   "execution_count": 104,
   "id": "6f6e511f",
   "metadata": {},
   "outputs": [
    {
     "data": {
      "text/plain": [
       "77.6954241"
      ]
     },
     "execution_count": 104,
     "metadata": {},
     "output_type": "execute_result"
    }
   ],
   "source": [
    "data.longitude"
   ]
  },
  {
   "cell_type": "code",
   "execution_count": 105,
   "id": "320869d5",
   "metadata": {},
   "outputs": [
    {
     "data": {
      "text/html": [
       "<div>\n",
       "<style scoped>\n",
       "    .dataframe tbody tr th:only-of-type {\n",
       "        vertical-align: middle;\n",
       "    }\n",
       "\n",
       "    .dataframe tbody tr th {\n",
       "        vertical-align: top;\n",
       "    }\n",
       "\n",
       "    .dataframe thead th {\n",
       "        text-align: right;\n",
       "    }\n",
       "</style>\n",
       "<table border=\"1\" class=\"dataframe\">\n",
       "  <thead>\n",
       "    <tr style=\"text-align: right;\">\n",
       "      <th></th>\n",
       "      <th>url</th>\n",
       "      <th>address</th>\n",
       "      <th>name</th>\n",
       "      <th>online_order</th>\n",
       "      <th>book_table</th>\n",
       "      <th>rate</th>\n",
       "      <th>votes</th>\n",
       "      <th>phone</th>\n",
       "      <th>location</th>\n",
       "      <th>rest_type</th>\n",
       "      <th>dish_liked</th>\n",
       "      <th>cuisines</th>\n",
       "      <th>approx_cost(for two people)</th>\n",
       "      <th>reviews_list</th>\n",
       "      <th>menu_item</th>\n",
       "      <th>listed_in(type)</th>\n",
       "      <th>listed_in(city)</th>\n",
       "    </tr>\n",
       "  </thead>\n",
       "  <tbody>\n",
       "    <tr>\n",
       "      <th>0</th>\n",
       "      <td>https://www.zomato.com/bangalore/jalsa-banasha...</td>\n",
       "      <td>942, 21st Main Road, 2nd Stage, Banashankari, ...</td>\n",
       "      <td>Jalsa</td>\n",
       "      <td>Yes</td>\n",
       "      <td>Yes</td>\n",
       "      <td>4.1</td>\n",
       "      <td>775</td>\n",
       "      <td>080 42297555\\r\\n+91 9743772233</td>\n",
       "      <td>Banashankari</td>\n",
       "      <td>Casual Dining</td>\n",
       "      <td>Pasta, Lunch Buffet, Masala Papad, Paneer Laja...</td>\n",
       "      <td>North Indian, Mughlai, Chinese</td>\n",
       "      <td>800.0</td>\n",
       "      <td>[('Rated 4.0', 'RATED\\n  A beautiful place to ...</td>\n",
       "      <td>[]</td>\n",
       "      <td>Buffet</td>\n",
       "      <td>Banashankari</td>\n",
       "    </tr>\n",
       "    <tr>\n",
       "      <th>1</th>\n",
       "      <td>https://www.zomato.com/bangalore/spice-elephan...</td>\n",
       "      <td>2nd Floor, 80 Feet Road, Near Big Bazaar, 6th ...</td>\n",
       "      <td>Spice Elephant</td>\n",
       "      <td>Yes</td>\n",
       "      <td>No</td>\n",
       "      <td>4.1</td>\n",
       "      <td>787</td>\n",
       "      <td>080 41714161</td>\n",
       "      <td>Banashankari</td>\n",
       "      <td>Casual Dining</td>\n",
       "      <td>Momos, Lunch Buffet, Chocolate Nirvana, Thai G...</td>\n",
       "      <td>Chinese, North Indian, Thai</td>\n",
       "      <td>800.0</td>\n",
       "      <td>[('Rated 4.0', 'RATED\\n  Had been here for din...</td>\n",
       "      <td>[]</td>\n",
       "      <td>Buffet</td>\n",
       "      <td>Banashankari</td>\n",
       "    </tr>\n",
       "    <tr>\n",
       "      <th>2</th>\n",
       "      <td>https://www.zomato.com/SanchurroBangalore?cont...</td>\n",
       "      <td>1112, Next to KIMS Medical College, 17th Cross...</td>\n",
       "      <td>San Churro Cafe</td>\n",
       "      <td>Yes</td>\n",
       "      <td>No</td>\n",
       "      <td>3.8</td>\n",
       "      <td>918</td>\n",
       "      <td>+91 9663487993</td>\n",
       "      <td>Banashankari</td>\n",
       "      <td>Cafe, Casual Dining</td>\n",
       "      <td>Churros, Cannelloni, Minestrone Soup, Hot Choc...</td>\n",
       "      <td>Cafe, Mexican, Italian</td>\n",
       "      <td>800.0</td>\n",
       "      <td>[('Rated 3.0', \"RATED\\n  Ambience is not that ...</td>\n",
       "      <td>[]</td>\n",
       "      <td>Buffet</td>\n",
       "      <td>Banashankari</td>\n",
       "    </tr>\n",
       "    <tr>\n",
       "      <th>3</th>\n",
       "      <td>https://www.zomato.com/bangalore/addhuri-udupi...</td>\n",
       "      <td>1st Floor, Annakuteera, 3rd Stage, Banashankar...</td>\n",
       "      <td>Addhuri Udupi Bhojana</td>\n",
       "      <td>No</td>\n",
       "      <td>No</td>\n",
       "      <td>3.7</td>\n",
       "      <td>88</td>\n",
       "      <td>+91 9620009302</td>\n",
       "      <td>Banashankari</td>\n",
       "      <td>Quick Bites</td>\n",
       "      <td>Masala Dosa</td>\n",
       "      <td>South Indian, North Indian</td>\n",
       "      <td>300.0</td>\n",
       "      <td>[('Rated 4.0', \"RATED\\n  Great food and proper...</td>\n",
       "      <td>[]</td>\n",
       "      <td>Buffet</td>\n",
       "      <td>Banashankari</td>\n",
       "    </tr>\n",
       "    <tr>\n",
       "      <th>4</th>\n",
       "      <td>https://www.zomato.com/bangalore/grand-village...</td>\n",
       "      <td>10, 3rd Floor, Lakshmi Associates, Gandhi Baza...</td>\n",
       "      <td>Grand Village</td>\n",
       "      <td>No</td>\n",
       "      <td>No</td>\n",
       "      <td>3.8</td>\n",
       "      <td>166</td>\n",
       "      <td>+91 8026612447\\r\\n+91 9901210005</td>\n",
       "      <td>Basavanagudi</td>\n",
       "      <td>Casual Dining</td>\n",
       "      <td>Panipuri, Gol Gappe</td>\n",
       "      <td>North Indian, Rajasthani</td>\n",
       "      <td>600.0</td>\n",
       "      <td>[('Rated 4.0', 'RATED\\n  Very good restaurant ...</td>\n",
       "      <td>[]</td>\n",
       "      <td>Buffet</td>\n",
       "      <td>Banashankari</td>\n",
       "    </tr>\n",
       "  </tbody>\n",
       "</table>\n",
       "</div>"
      ],
      "text/plain": [
       "                                                 url  \\\n",
       "0  https://www.zomato.com/bangalore/jalsa-banasha...   \n",
       "1  https://www.zomato.com/bangalore/spice-elephan...   \n",
       "2  https://www.zomato.com/SanchurroBangalore?cont...   \n",
       "3  https://www.zomato.com/bangalore/addhuri-udupi...   \n",
       "4  https://www.zomato.com/bangalore/grand-village...   \n",
       "\n",
       "                                             address                   name  \\\n",
       "0  942, 21st Main Road, 2nd Stage, Banashankari, ...                  Jalsa   \n",
       "1  2nd Floor, 80 Feet Road, Near Big Bazaar, 6th ...         Spice Elephant   \n",
       "2  1112, Next to KIMS Medical College, 17th Cross...        San Churro Cafe   \n",
       "3  1st Floor, Annakuteera, 3rd Stage, Banashankar...  Addhuri Udupi Bhojana   \n",
       "4  10, 3rd Floor, Lakshmi Associates, Gandhi Baza...          Grand Village   \n",
       "\n",
       "  online_order book_table  rate  votes                             phone  \\\n",
       "0          Yes        Yes   4.1    775    080 42297555\\r\\n+91 9743772233   \n",
       "1          Yes         No   4.1    787                      080 41714161   \n",
       "2          Yes         No   3.8    918                    +91 9663487993   \n",
       "3           No         No   3.7     88                    +91 9620009302   \n",
       "4           No         No   3.8    166  +91 8026612447\\r\\n+91 9901210005   \n",
       "\n",
       "       location            rest_type  \\\n",
       "0  Banashankari        Casual Dining   \n",
       "1  Banashankari        Casual Dining   \n",
       "2  Banashankari  Cafe, Casual Dining   \n",
       "3  Banashankari          Quick Bites   \n",
       "4  Basavanagudi        Casual Dining   \n",
       "\n",
       "                                          dish_liked  \\\n",
       "0  Pasta, Lunch Buffet, Masala Papad, Paneer Laja...   \n",
       "1  Momos, Lunch Buffet, Chocolate Nirvana, Thai G...   \n",
       "2  Churros, Cannelloni, Minestrone Soup, Hot Choc...   \n",
       "3                                        Masala Dosa   \n",
       "4                                Panipuri, Gol Gappe   \n",
       "\n",
       "                         cuisines  approx_cost(for two people)  \\\n",
       "0  North Indian, Mughlai, Chinese                        800.0   \n",
       "1     Chinese, North Indian, Thai                        800.0   \n",
       "2          Cafe, Mexican, Italian                        800.0   \n",
       "3      South Indian, North Indian                        300.0   \n",
       "4        North Indian, Rajasthani                        600.0   \n",
       "\n",
       "                                        reviews_list menu_item  \\\n",
       "0  [('Rated 4.0', 'RATED\\n  A beautiful place to ...        []   \n",
       "1  [('Rated 4.0', 'RATED\\n  Had been here for din...        []   \n",
       "2  [('Rated 3.0', \"RATED\\n  Ambience is not that ...        []   \n",
       "3  [('Rated 4.0', \"RATED\\n  Great food and proper...        []   \n",
       "4  [('Rated 4.0', 'RATED\\n  Very good restaurant ...        []   \n",
       "\n",
       "  listed_in(type) listed_in(city)  \n",
       "0          Buffet    Banashankari  \n",
       "1          Buffet    Banashankari  \n",
       "2          Buffet    Banashankari  \n",
       "3          Buffet    Banashankari  \n",
       "4          Buffet    Banashankari  "
      ]
     },
     "execution_count": 105,
     "metadata": {},
     "output_type": "execute_result"
    }
   ],
   "source": [
    "df.head()"
   ]
  },
  {
   "cell_type": "code",
   "execution_count": 106,
   "id": "117a5dd2",
   "metadata": {
    "scrolled": true
   },
   "outputs": [
    {
     "data": {
      "text/html": [
       "<div>\n",
       "<style scoped>\n",
       "    .dataframe tbody tr th:only-of-type {\n",
       "        vertical-align: middle;\n",
       "    }\n",
       "\n",
       "    .dataframe tbody tr th {\n",
       "        vertical-align: top;\n",
       "    }\n",
       "\n",
       "    .dataframe thead th {\n",
       "        text-align: right;\n",
       "    }\n",
       "</style>\n",
       "<table border=\"1\" class=\"dataframe\">\n",
       "  <thead>\n",
       "    <tr style=\"text-align: right;\">\n",
       "      <th></th>\n",
       "      <th>Name</th>\n",
       "    </tr>\n",
       "  </thead>\n",
       "  <tbody>\n",
       "    <tr>\n",
       "      <th>0</th>\n",
       "      <td>Banashankari</td>\n",
       "    </tr>\n",
       "    <tr>\n",
       "      <th>1</th>\n",
       "      <td>Basavanagudi</td>\n",
       "    </tr>\n",
       "    <tr>\n",
       "      <th>2</th>\n",
       "      <td>Mysore Road</td>\n",
       "    </tr>\n",
       "    <tr>\n",
       "      <th>3</th>\n",
       "      <td>Jayanagar</td>\n",
       "    </tr>\n",
       "    <tr>\n",
       "      <th>4</th>\n",
       "      <td>Kumaraswamy Layout</td>\n",
       "    </tr>\n",
       "    <tr>\n",
       "      <th>...</th>\n",
       "      <td>...</td>\n",
       "    </tr>\n",
       "    <tr>\n",
       "      <th>89</th>\n",
       "      <td>West Bangalore</td>\n",
       "    </tr>\n",
       "    <tr>\n",
       "      <th>90</th>\n",
       "      <td>Magadi Road</td>\n",
       "    </tr>\n",
       "    <tr>\n",
       "      <th>91</th>\n",
       "      <td>Yelahanka</td>\n",
       "    </tr>\n",
       "    <tr>\n",
       "      <th>92</th>\n",
       "      <td>Sahakara Nagar</td>\n",
       "    </tr>\n",
       "    <tr>\n",
       "      <th>93</th>\n",
       "      <td>Peenya</td>\n",
       "    </tr>\n",
       "  </tbody>\n",
       "</table>\n",
       "<p>94 rows × 1 columns</p>\n",
       "</div>"
      ],
      "text/plain": [
       "                  Name\n",
       "0         Banashankari\n",
       "1         Basavanagudi\n",
       "2          Mysore Road\n",
       "3            Jayanagar\n",
       "4   Kumaraswamy Layout\n",
       "..                 ...\n",
       "89      West Bangalore\n",
       "90         Magadi Road\n",
       "91           Yelahanka\n",
       "92      Sahakara Nagar\n",
       "93              Peenya\n",
       "\n",
       "[94 rows x 1 columns]"
      ]
     },
     "execution_count": 106,
     "metadata": {},
     "output_type": "execute_result"
    }
   ],
   "source": [
    "locations = pd.DataFrame({'Name':df['location'].unique()})\n",
    "locations\n",
    "    "
   ]
  },
  {
   "cell_type": "code",
   "execution_count": 107,
   "id": "e609d035",
   "metadata": {},
   "outputs": [],
   "source": [
    "lat=[]\n",
    "lon=[]\n",
    "\n",
    "for location in locations['Name']:\n",
    "    location=geolocator.geocode(location)\n",
    "    if location is None:\n",
    "        lat.append(np.nan)\n",
    "        lon.append(np.nan)\n",
    "    else:\n",
    "        lat.append(location.latitude)\n",
    "        lon.append(location.longitude)"
   ]
  },
  {
   "cell_type": "code",
   "execution_count": 108,
   "id": "ad826e59",
   "metadata": {},
   "outputs": [],
   "source": [
    "locations['latitude']=lat\n",
    "locations['longitude']=lon"
   ]
  },
  {
   "cell_type": "code",
   "execution_count": 109,
   "id": "790bcb40",
   "metadata": {},
   "outputs": [
    {
     "data": {
      "text/html": [
       "<div>\n",
       "<style scoped>\n",
       "    .dataframe tbody tr th:only-of-type {\n",
       "        vertical-align: middle;\n",
       "    }\n",
       "\n",
       "    .dataframe tbody tr th {\n",
       "        vertical-align: top;\n",
       "    }\n",
       "\n",
       "    .dataframe thead th {\n",
       "        text-align: right;\n",
       "    }\n",
       "</style>\n",
       "<table border=\"1\" class=\"dataframe\">\n",
       "  <thead>\n",
       "    <tr style=\"text-align: right;\">\n",
       "      <th></th>\n",
       "      <th>Name</th>\n",
       "      <th>latitude</th>\n",
       "      <th>longitude</th>\n",
       "    </tr>\n",
       "  </thead>\n",
       "  <tbody>\n",
       "    <tr>\n",
       "      <th>0</th>\n",
       "      <td>Banashankari</td>\n",
       "      <td>15.887678</td>\n",
       "      <td>75.704678</td>\n",
       "    </tr>\n",
       "    <tr>\n",
       "      <th>1</th>\n",
       "      <td>Basavanagudi</td>\n",
       "      <td>12.941726</td>\n",
       "      <td>77.575502</td>\n",
       "    </tr>\n",
       "    <tr>\n",
       "      <th>2</th>\n",
       "      <td>Mysore Road</td>\n",
       "      <td>12.387214</td>\n",
       "      <td>76.666963</td>\n",
       "    </tr>\n",
       "    <tr>\n",
       "      <th>3</th>\n",
       "      <td>Jayanagar</td>\n",
       "      <td>27.643927</td>\n",
       "      <td>83.052805</td>\n",
       "    </tr>\n",
       "    <tr>\n",
       "      <th>4</th>\n",
       "      <td>Kumaraswamy Layout</td>\n",
       "      <td>12.908149</td>\n",
       "      <td>77.555318</td>\n",
       "    </tr>\n",
       "  </tbody>\n",
       "</table>\n",
       "</div>"
      ],
      "text/plain": [
       "                 Name   latitude  longitude\n",
       "0        Banashankari  15.887678  75.704678\n",
       "1        Basavanagudi  12.941726  77.575502\n",
       "2         Mysore Road  12.387214  76.666963\n",
       "3           Jayanagar  27.643927  83.052805\n",
       "4  Kumaraswamy Layout  12.908149  77.555318"
      ]
     },
     "execution_count": 109,
     "metadata": {},
     "output_type": "execute_result"
    }
   ],
   "source": [
    "locations.head()"
   ]
  },
  {
   "cell_type": "code",
   "execution_count": 110,
   "id": "629e50c9",
   "metadata": {},
   "outputs": [
    {
     "data": {
      "text/html": [
       "<div>\n",
       "<style scoped>\n",
       "    .dataframe tbody tr th:only-of-type {\n",
       "        vertical-align: middle;\n",
       "    }\n",
       "\n",
       "    .dataframe tbody tr th {\n",
       "        vertical-align: top;\n",
       "    }\n",
       "\n",
       "    .dataframe thead th {\n",
       "        text-align: right;\n",
       "    }\n",
       "</style>\n",
       "<table border=\"1\" class=\"dataframe\">\n",
       "  <thead>\n",
       "    <tr style=\"text-align: right;\">\n",
       "      <th></th>\n",
       "      <th>Name</th>\n",
       "      <th>latitude</th>\n",
       "      <th>longitude</th>\n",
       "    </tr>\n",
       "  </thead>\n",
       "  <tbody>\n",
       "    <tr>\n",
       "      <th>0</th>\n",
       "      <td>Banashankari</td>\n",
       "      <td>15.887678</td>\n",
       "      <td>75.704678</td>\n",
       "    </tr>\n",
       "    <tr>\n",
       "      <th>1</th>\n",
       "      <td>Basavanagudi</td>\n",
       "      <td>12.941726</td>\n",
       "      <td>77.575502</td>\n",
       "    </tr>\n",
       "    <tr>\n",
       "      <th>2</th>\n",
       "      <td>Mysore Road</td>\n",
       "      <td>12.387214</td>\n",
       "      <td>76.666963</td>\n",
       "    </tr>\n",
       "    <tr>\n",
       "      <th>3</th>\n",
       "      <td>Jayanagar</td>\n",
       "      <td>27.643927</td>\n",
       "      <td>83.052805</td>\n",
       "    </tr>\n",
       "    <tr>\n",
       "      <th>4</th>\n",
       "      <td>Kumaraswamy Layout</td>\n",
       "      <td>12.908149</td>\n",
       "      <td>77.555318</td>\n",
       "    </tr>\n",
       "    <tr>\n",
       "      <th>...</th>\n",
       "      <td>...</td>\n",
       "      <td>...</td>\n",
       "      <td>...</td>\n",
       "    </tr>\n",
       "    <tr>\n",
       "      <th>89</th>\n",
       "      <td>West Bangalore</td>\n",
       "      <td>13.001129</td>\n",
       "      <td>77.632562</td>\n",
       "    </tr>\n",
       "    <tr>\n",
       "      <th>90</th>\n",
       "      <td>Magadi Road</td>\n",
       "      <td>12.945048</td>\n",
       "      <td>77.263004</td>\n",
       "    </tr>\n",
       "    <tr>\n",
       "      <th>91</th>\n",
       "      <td>Yelahanka</td>\n",
       "      <td>13.100698</td>\n",
       "      <td>77.596345</td>\n",
       "    </tr>\n",
       "    <tr>\n",
       "      <th>92</th>\n",
       "      <td>Sahakara Nagar</td>\n",
       "      <td>13.062147</td>\n",
       "      <td>77.580061</td>\n",
       "    </tr>\n",
       "    <tr>\n",
       "      <th>93</th>\n",
       "      <td>Peenya</td>\n",
       "      <td>13.032942</td>\n",
       "      <td>77.527325</td>\n",
       "    </tr>\n",
       "  </tbody>\n",
       "</table>\n",
       "<p>94 rows × 3 columns</p>\n",
       "</div>"
      ],
      "text/plain": [
       "                  Name   latitude  longitude\n",
       "0         Banashankari  15.887678  75.704678\n",
       "1         Basavanagudi  12.941726  77.575502\n",
       "2          Mysore Road  12.387214  76.666963\n",
       "3            Jayanagar  27.643927  83.052805\n",
       "4   Kumaraswamy Layout  12.908149  77.555318\n",
       "..                 ...        ...        ...\n",
       "89      West Bangalore  13.001129  77.632562\n",
       "90         Magadi Road  12.945048  77.263004\n",
       "91           Yelahanka  13.100698  77.596345\n",
       "92      Sahakara Nagar  13.062147  77.580061\n",
       "93              Peenya  13.032942  77.527325\n",
       "\n",
       "[94 rows x 3 columns]"
      ]
     },
     "execution_count": 110,
     "metadata": {},
     "output_type": "execute_result"
    }
   ],
   "source": [
    "locations"
   ]
  },
  {
   "cell_type": "code",
   "execution_count": 111,
   "id": "9b775a1e",
   "metadata": {},
   "outputs": [],
   "source": [
    "rest_locations=df['location'].value_counts().reset_index()"
   ]
  },
  {
   "cell_type": "code",
   "execution_count": 112,
   "id": "f2918957",
   "metadata": {},
   "outputs": [],
   "source": [
    "rest_locations.columns=['Name','count']"
   ]
  },
  {
   "cell_type": "code",
   "execution_count": 113,
   "id": "b1ae423a",
   "metadata": {},
   "outputs": [
    {
     "data": {
      "text/html": [
       "<div>\n",
       "<style scoped>\n",
       "    .dataframe tbody tr th:only-of-type {\n",
       "        vertical-align: middle;\n",
       "    }\n",
       "\n",
       "    .dataframe tbody tr th {\n",
       "        vertical-align: top;\n",
       "    }\n",
       "\n",
       "    .dataframe thead th {\n",
       "        text-align: right;\n",
       "    }\n",
       "</style>\n",
       "<table border=\"1\" class=\"dataframe\">\n",
       "  <thead>\n",
       "    <tr style=\"text-align: right;\">\n",
       "      <th></th>\n",
       "      <th>Name</th>\n",
       "      <th>count</th>\n",
       "    </tr>\n",
       "  </thead>\n",
       "  <tbody>\n",
       "    <tr>\n",
       "      <th>0</th>\n",
       "      <td>BTM</td>\n",
       "      <td>5124</td>\n",
       "    </tr>\n",
       "    <tr>\n",
       "      <th>1</th>\n",
       "      <td>HSR</td>\n",
       "      <td>2523</td>\n",
       "    </tr>\n",
       "    <tr>\n",
       "      <th>2</th>\n",
       "      <td>Koramangala 5th Block</td>\n",
       "      <td>2504</td>\n",
       "    </tr>\n",
       "    <tr>\n",
       "      <th>3</th>\n",
       "      <td>JP Nagar</td>\n",
       "      <td>2235</td>\n",
       "    </tr>\n",
       "    <tr>\n",
       "      <th>4</th>\n",
       "      <td>Whitefield</td>\n",
       "      <td>2144</td>\n",
       "    </tr>\n",
       "    <tr>\n",
       "      <th>...</th>\n",
       "      <td>...</td>\n",
       "      <td>...</td>\n",
       "    </tr>\n",
       "    <tr>\n",
       "      <th>88</th>\n",
       "      <td>Yelahanka</td>\n",
       "      <td>6</td>\n",
       "    </tr>\n",
       "    <tr>\n",
       "      <th>89</th>\n",
       "      <td>West Bangalore</td>\n",
       "      <td>6</td>\n",
       "    </tr>\n",
       "    <tr>\n",
       "      <th>90</th>\n",
       "      <td>Jakkur</td>\n",
       "      <td>3</td>\n",
       "    </tr>\n",
       "    <tr>\n",
       "      <th>91</th>\n",
       "      <td>Rajarajeshwari Nagar</td>\n",
       "      <td>2</td>\n",
       "    </tr>\n",
       "    <tr>\n",
       "      <th>92</th>\n",
       "      <td>Peenya</td>\n",
       "      <td>1</td>\n",
       "    </tr>\n",
       "  </tbody>\n",
       "</table>\n",
       "<p>93 rows × 2 columns</p>\n",
       "</div>"
      ],
      "text/plain": [
       "                     Name  count\n",
       "0                     BTM   5124\n",
       "1                     HSR   2523\n",
       "2   Koramangala 5th Block   2504\n",
       "3                JP Nagar   2235\n",
       "4              Whitefield   2144\n",
       "..                    ...    ...\n",
       "88              Yelahanka      6\n",
       "89         West Bangalore      6\n",
       "90                 Jakkur      3\n",
       "91   Rajarajeshwari Nagar      2\n",
       "92                 Peenya      1\n",
       "\n",
       "[93 rows x 2 columns]"
      ]
     },
     "execution_count": 113,
     "metadata": {},
     "output_type": "execute_result"
    }
   ],
   "source": [
    "rest_locations  "
   ]
  },
  {
   "cell_type": "code",
   "execution_count": 114,
   "id": "658f4524",
   "metadata": {},
   "outputs": [
    {
     "name": "stdout",
     "output_type": "stream",
     "text": [
      "                     Name  count   latitude   longitude\n",
      "0                     BTM   5124  45.954851 -112.496595\n",
      "1                     HSR   2523  18.147500   41.538889\n",
      "2   Koramangala 5th Block   2504  12.934377   77.628415\n",
      "3                JP Nagar   2235  12.265594   76.646540\n",
      "4              Whitefield   2144  44.373058  -71.611858\n",
      "..                    ...    ...        ...         ...\n",
      "88              Yelahanka      6  13.100698   77.596345\n",
      "89         West Bangalore      6  13.001129   77.632562\n",
      "90                 Jakkur      3  13.078474   77.606894\n",
      "91   Rajarajeshwari Nagar      2  12.927441   77.515522\n",
      "92                 Peenya      1  13.032942   77.527325\n",
      "\n",
      "[93 rows x 4 columns]\n"
     ]
    },
    {
     "data": {
      "text/html": [
       "<div>\n",
       "<style scoped>\n",
       "    .dataframe tbody tr th:only-of-type {\n",
       "        vertical-align: middle;\n",
       "    }\n",
       "\n",
       "    .dataframe tbody tr th {\n",
       "        vertical-align: top;\n",
       "    }\n",
       "\n",
       "    .dataframe thead th {\n",
       "        text-align: right;\n",
       "    }\n",
       "</style>\n",
       "<table border=\"1\" class=\"dataframe\">\n",
       "  <thead>\n",
       "    <tr style=\"text-align: right;\">\n",
       "      <th></th>\n",
       "      <th>Name</th>\n",
       "      <th>count</th>\n",
       "      <th>latitude</th>\n",
       "      <th>longitude</th>\n",
       "    </tr>\n",
       "  </thead>\n",
       "  <tbody>\n",
       "    <tr>\n",
       "      <th>0</th>\n",
       "      <td>BTM</td>\n",
       "      <td>5124</td>\n",
       "      <td>45.954851</td>\n",
       "      <td>-112.496595</td>\n",
       "    </tr>\n",
       "    <tr>\n",
       "      <th>1</th>\n",
       "      <td>HSR</td>\n",
       "      <td>2523</td>\n",
       "      <td>18.147500</td>\n",
       "      <td>41.538889</td>\n",
       "    </tr>\n",
       "    <tr>\n",
       "      <th>2</th>\n",
       "      <td>Koramangala 5th Block</td>\n",
       "      <td>2504</td>\n",
       "      <td>12.934377</td>\n",
       "      <td>77.628415</td>\n",
       "    </tr>\n",
       "    <tr>\n",
       "      <th>3</th>\n",
       "      <td>JP Nagar</td>\n",
       "      <td>2235</td>\n",
       "      <td>12.265594</td>\n",
       "      <td>76.646540</td>\n",
       "    </tr>\n",
       "    <tr>\n",
       "      <th>4</th>\n",
       "      <td>Whitefield</td>\n",
       "      <td>2144</td>\n",
       "      <td>44.373058</td>\n",
       "      <td>-71.611858</td>\n",
       "    </tr>\n",
       "    <tr>\n",
       "      <th>...</th>\n",
       "      <td>...</td>\n",
       "      <td>...</td>\n",
       "      <td>...</td>\n",
       "      <td>...</td>\n",
       "    </tr>\n",
       "    <tr>\n",
       "      <th>88</th>\n",
       "      <td>Yelahanka</td>\n",
       "      <td>6</td>\n",
       "      <td>13.100698</td>\n",
       "      <td>77.596345</td>\n",
       "    </tr>\n",
       "    <tr>\n",
       "      <th>89</th>\n",
       "      <td>West Bangalore</td>\n",
       "      <td>6</td>\n",
       "      <td>13.001129</td>\n",
       "      <td>77.632562</td>\n",
       "    </tr>\n",
       "    <tr>\n",
       "      <th>90</th>\n",
       "      <td>Jakkur</td>\n",
       "      <td>3</td>\n",
       "      <td>13.078474</td>\n",
       "      <td>77.606894</td>\n",
       "    </tr>\n",
       "    <tr>\n",
       "      <th>91</th>\n",
       "      <td>Rajarajeshwari Nagar</td>\n",
       "      <td>2</td>\n",
       "      <td>12.927441</td>\n",
       "      <td>77.515522</td>\n",
       "    </tr>\n",
       "    <tr>\n",
       "      <th>92</th>\n",
       "      <td>Peenya</td>\n",
       "      <td>1</td>\n",
       "      <td>13.032942</td>\n",
       "      <td>77.527325</td>\n",
       "    </tr>\n",
       "  </tbody>\n",
       "</table>\n",
       "<p>92 rows × 4 columns</p>\n",
       "</div>"
      ],
      "text/plain": [
       "                     Name  count   latitude   longitude\n",
       "0                     BTM   5124  45.954851 -112.496595\n",
       "1                     HSR   2523  18.147500   41.538889\n",
       "2   Koramangala 5th Block   2504  12.934377   77.628415\n",
       "3                JP Nagar   2235  12.265594   76.646540\n",
       "4              Whitefield   2144  44.373058  -71.611858\n",
       "..                    ...    ...        ...         ...\n",
       "88              Yelahanka      6  13.100698   77.596345\n",
       "89         West Bangalore      6  13.001129   77.632562\n",
       "90                 Jakkur      3  13.078474   77.606894\n",
       "91   Rajarajeshwari Nagar      2  12.927441   77.515522\n",
       "92                 Peenya      1  13.032942   77.527325\n",
       "\n",
       "[92 rows x 4 columns]"
      ]
     },
     "execution_count": 114,
     "metadata": {},
     "output_type": "execute_result"
    }
   ],
   "source": [
    "restaurant_locations=rest_locations.merge(locations, on='Name')\n",
    "print(restaurant_locations)\n",
    "restaurant_locations.dropna()"
   ]
  },
  {
   "cell_type": "code",
   "execution_count": 115,
   "id": "7a48959e",
   "metadata": {},
   "outputs": [],
   "source": [
    "rest_loc=restaurant_locations.dropna()"
   ]
  },
  {
   "cell_type": "code",
   "execution_count": 116,
   "id": "778bf36a",
   "metadata": {},
   "outputs": [
    {
     "name": "stdout",
     "output_type": "stream",
     "text": [
      "Requirement already satisfied: folium in c:\\programdata\\anaconda3\\lib\\site-packages (0.12.1)\n",
      "Requirement already satisfied: branca>=0.3.0 in c:\\programdata\\anaconda3\\lib\\site-packages (from folium) (0.4.2)\n",
      "Requirement already satisfied: requests in c:\\programdata\\anaconda3\\lib\\site-packages (from folium) (2.25.1)\n",
      "Requirement already satisfied: jinja2>=2.9 in c:\\programdata\\anaconda3\\lib\\site-packages (from folium) (2.11.3)\n",
      "Requirement already satisfied: numpy in c:\\programdata\\anaconda3\\lib\\site-packages (from folium) (1.20.1)\n",
      "Requirement already satisfied: MarkupSafe>=0.23 in c:\\programdata\\anaconda3\\lib\\site-packages (from jinja2>=2.9->folium) (1.1.1)\n",
      "Requirement already satisfied: urllib3<1.27,>=1.21.1 in c:\\programdata\\anaconda3\\lib\\site-packages (from requests->folium) (1.26.4)\n",
      "Requirement already satisfied: chardet<5,>=3.0.2 in c:\\programdata\\anaconda3\\lib\\site-packages (from requests->folium) (4.0.0)\n",
      "Requirement already satisfied: idna<3,>=2.5 in c:\\programdata\\anaconda3\\lib\\site-packages (from requests->folium) (2.10)\n",
      "Requirement already satisfied: certifi>=2017.4.17 in c:\\programdata\\anaconda3\\lib\\site-packages (from requests->folium) (2020.12.5)\n"
     ]
    }
   ],
   "source": [
    "!pip install folium"
   ]
  },
  {
   "cell_type": "code",
   "execution_count": 117,
   "id": "ced30ee5",
   "metadata": {},
   "outputs": [],
   "source": [
    "import folium\n",
    "from folium.plugins import HeatMap"
   ]
  },
  {
   "cell_type": "code",
   "execution_count": 118,
   "id": "a5621843",
   "metadata": {},
   "outputs": [
    {
     "data": {
      "text/html": [
       "<div style=\"width:100%;\"><div style=\"position:relative;width:100%;height:0;padding-bottom:60%;\"><span style=\"color:#565656\">Make this Notebook Trusted to load map: File -> Trust Notebook</span><iframe src=\"about:blank\" style=\"position:absolute;width:100%;height:100%;left:0;top:0;border:none !important;\" data-html=%3C%21DOCTYPE%20html%3E%0A%3Chead%3E%20%20%20%20%0A%20%20%20%20%3Cmeta%20http-equiv%3D%22content-type%22%20content%3D%22text/html%3B%20charset%3DUTF-8%22%20/%3E%0A%20%20%20%20%0A%20%20%20%20%20%20%20%20%3Cscript%3E%0A%20%20%20%20%20%20%20%20%20%20%20%20L_NO_TOUCH%20%3D%20false%3B%0A%20%20%20%20%20%20%20%20%20%20%20%20L_DISABLE_3D%20%3D%20false%3B%0A%20%20%20%20%20%20%20%20%3C/script%3E%0A%20%20%20%20%0A%20%20%20%20%3Cstyle%3Ehtml%2C%20body%20%7Bwidth%3A%20100%25%3Bheight%3A%20100%25%3Bmargin%3A%200%3Bpadding%3A%200%3B%7D%3C/style%3E%0A%20%20%20%20%3Cstyle%3E%23map%20%7Bposition%3Aabsolute%3Btop%3A0%3Bbottom%3A0%3Bright%3A0%3Bleft%3A0%3B%7D%3C/style%3E%0A%20%20%20%20%3Cscript%20src%3D%22https%3A//cdn.jsdelivr.net/npm/leaflet%401.6.0/dist/leaflet.js%22%3E%3C/script%3E%0A%20%20%20%20%3Cscript%20src%3D%22https%3A//code.jquery.com/jquery-1.12.4.min.js%22%3E%3C/script%3E%0A%20%20%20%20%3Cscript%20src%3D%22https%3A//maxcdn.bootstrapcdn.com/bootstrap/3.2.0/js/bootstrap.min.js%22%3E%3C/script%3E%0A%20%20%20%20%3Cscript%20src%3D%22https%3A//cdnjs.cloudflare.com/ajax/libs/Leaflet.awesome-markers/2.0.2/leaflet.awesome-markers.js%22%3E%3C/script%3E%0A%20%20%20%20%3Clink%20rel%3D%22stylesheet%22%20href%3D%22https%3A//cdn.jsdelivr.net/npm/leaflet%401.6.0/dist/leaflet.css%22/%3E%0A%20%20%20%20%3Clink%20rel%3D%22stylesheet%22%20href%3D%22https%3A//maxcdn.bootstrapcdn.com/bootstrap/3.2.0/css/bootstrap.min.css%22/%3E%0A%20%20%20%20%3Clink%20rel%3D%22stylesheet%22%20href%3D%22https%3A//maxcdn.bootstrapcdn.com/bootstrap/3.2.0/css/bootstrap-theme.min.css%22/%3E%0A%20%20%20%20%3Clink%20rel%3D%22stylesheet%22%20href%3D%22https%3A//maxcdn.bootstrapcdn.com/font-awesome/4.6.3/css/font-awesome.min.css%22/%3E%0A%20%20%20%20%3Clink%20rel%3D%22stylesheet%22%20href%3D%22https%3A//cdnjs.cloudflare.com/ajax/libs/Leaflet.awesome-markers/2.0.2/leaflet.awesome-markers.css%22/%3E%0A%20%20%20%20%3Clink%20rel%3D%22stylesheet%22%20href%3D%22https%3A//cdn.jsdelivr.net/gh/python-visualization/folium/folium/templates/leaflet.awesome.rotate.min.css%22/%3E%0A%20%20%20%20%0A%20%20%20%20%20%20%20%20%20%20%20%20%3Cmeta%20name%3D%22viewport%22%20content%3D%22width%3Ddevice-width%2C%0A%20%20%20%20%20%20%20%20%20%20%20%20%20%20%20%20initial-scale%3D1.0%2C%20maximum-scale%3D1.0%2C%20user-scalable%3Dno%22%20/%3E%0A%20%20%20%20%20%20%20%20%20%20%20%20%3Cstyle%3E%0A%20%20%20%20%20%20%20%20%20%20%20%20%20%20%20%20%23map_c0a614a6259e46a6b366a2b1c861dccc%20%7B%0A%20%20%20%20%20%20%20%20%20%20%20%20%20%20%20%20%20%20%20%20position%3A%20relative%3B%0A%20%20%20%20%20%20%20%20%20%20%20%20%20%20%20%20%20%20%20%20width%3A%20100.0%25%3B%0A%20%20%20%20%20%20%20%20%20%20%20%20%20%20%20%20%20%20%20%20height%3A%20100.0%25%3B%0A%20%20%20%20%20%20%20%20%20%20%20%20%20%20%20%20%20%20%20%20left%3A%200.0%25%3B%0A%20%20%20%20%20%20%20%20%20%20%20%20%20%20%20%20%20%20%20%20top%3A%200.0%25%3B%0A%20%20%20%20%20%20%20%20%20%20%20%20%20%20%20%20%7D%0A%20%20%20%20%20%20%20%20%20%20%20%20%3C/style%3E%0A%20%20%20%20%20%20%20%20%0A%3C/head%3E%0A%3Cbody%3E%20%20%20%20%0A%20%20%20%20%0A%20%20%20%20%20%20%20%20%20%20%20%20%3Cdiv%20class%3D%22folium-map%22%20id%3D%22map_c0a614a6259e46a6b366a2b1c861dccc%22%20%3E%3C/div%3E%0A%20%20%20%20%20%20%20%20%0A%3C/body%3E%0A%3Cscript%3E%20%20%20%20%0A%20%20%20%20%0A%20%20%20%20%20%20%20%20%20%20%20%20var%20map_c0a614a6259e46a6b366a2b1c861dccc%20%3D%20L.map%28%0A%20%20%20%20%20%20%20%20%20%20%20%20%20%20%20%20%22map_c0a614a6259e46a6b366a2b1c861dccc%22%2C%0A%20%20%20%20%20%20%20%20%20%20%20%20%20%20%20%20%7B%0A%20%20%20%20%20%20%20%20%20%20%20%20%20%20%20%20%20%20%20%20center%3A%20%5B12.97%2C%2077.59%5D%2C%0A%20%20%20%20%20%20%20%20%20%20%20%20%20%20%20%20%20%20%20%20crs%3A%20L.CRS.EPSG3857%2C%0A%20%20%20%20%20%20%20%20%20%20%20%20%20%20%20%20%20%20%20%20zoom%3A%2010%2C%0A%20%20%20%20%20%20%20%20%20%20%20%20%20%20%20%20%20%20%20%20zoomControl%3A%20true%2C%0A%20%20%20%20%20%20%20%20%20%20%20%20%20%20%20%20%20%20%20%20preferCanvas%3A%20false%2C%0A%20%20%20%20%20%20%20%20%20%20%20%20%20%20%20%20%7D%0A%20%20%20%20%20%20%20%20%20%20%20%20%29%3B%0A%0A%20%20%20%20%20%20%20%20%20%20%20%20%0A%0A%20%20%20%20%20%20%20%20%0A%20%20%20%20%0A%20%20%20%20%20%20%20%20%20%20%20%20var%20tile_layer_fb55c0f333084d8895fbb9e148842123%20%3D%20L.tileLayer%28%0A%20%20%20%20%20%20%20%20%20%20%20%20%20%20%20%20%22https%3A//%7Bs%7D.tile.openstreetmap.org/%7Bz%7D/%7Bx%7D/%7By%7D.png%22%2C%0A%20%20%20%20%20%20%20%20%20%20%20%20%20%20%20%20%7B%22attribution%22%3A%20%22Data%20by%20%5Cu0026copy%3B%20%5Cu003ca%20href%3D%5C%22http%3A//openstreetmap.org%5C%22%5Cu003eOpenStreetMap%5Cu003c/a%5Cu003e%2C%20under%20%5Cu003ca%20href%3D%5C%22http%3A//www.openstreetmap.org/copyright%5C%22%5Cu003eODbL%5Cu003c/a%5Cu003e.%22%2C%20%22detectRetina%22%3A%20false%2C%20%22maxNativeZoom%22%3A%2018%2C%20%22maxZoom%22%3A%2018%2C%20%22minZoom%22%3A%200%2C%20%22noWrap%22%3A%20false%2C%20%22opacity%22%3A%201%2C%20%22subdomains%22%3A%20%22abc%22%2C%20%22tms%22%3A%20false%7D%0A%20%20%20%20%20%20%20%20%20%20%20%20%29.addTo%28map_c0a614a6259e46a6b366a2b1c861dccc%29%3B%0A%20%20%20%20%20%20%20%20%0A%3C/script%3E onload=\"this.contentDocument.open();this.contentDocument.write(    decodeURIComponent(this.getAttribute('data-html')));this.contentDocument.close();\" allowfullscreen webkitallowfullscreen mozallowfullscreen></iframe></div></div>"
      ],
      "text/plain": [
       "<folium.folium.Map at 0x285a1db7b20>"
      ]
     },
     "execution_count": 118,
     "metadata": {},
     "output_type": "execute_result"
    }
   ],
   "source": [
    "basemap=folium.Map(\n",
    "            location=[12.97,77.59])\n",
    "basemap"
   ]
  },
  {
   "cell_type": "code",
   "execution_count": 119,
   "id": "a73ec0fa",
   "metadata": {
    "scrolled": true
   },
   "outputs": [
    {
     "data": {
      "text/plain": [
       "<folium.plugins.heat_map.HeatMap at 0x285a2f9f040>"
      ]
     },
     "execution_count": 119,
     "metadata": {},
     "output_type": "execute_result"
    }
   ],
   "source": [
    "HeatMap(data=rest_loc[['latitude','longitude','count']]).add_to(basemap)"
   ]
  },
  {
   "cell_type": "code",
   "execution_count": 120,
   "id": "9694c885",
   "metadata": {},
   "outputs": [
    {
     "data": {
      "text/html": [
       "<div style=\"width:100%;\"><div style=\"position:relative;width:100%;height:0;padding-bottom:60%;\"><span style=\"color:#565656\">Make this Notebook Trusted to load map: File -> Trust Notebook</span><iframe src=\"about:blank\" style=\"position:absolute;width:100%;height:100%;left:0;top:0;border:none !important;\" data-html=%3C%21DOCTYPE%20html%3E%0A%3Chead%3E%20%20%20%20%0A%20%20%20%20%3Cmeta%20http-equiv%3D%22content-type%22%20content%3D%22text/html%3B%20charset%3DUTF-8%22%20/%3E%0A%20%20%20%20%0A%20%20%20%20%20%20%20%20%3Cscript%3E%0A%20%20%20%20%20%20%20%20%20%20%20%20L_NO_TOUCH%20%3D%20false%3B%0A%20%20%20%20%20%20%20%20%20%20%20%20L_DISABLE_3D%20%3D%20false%3B%0A%20%20%20%20%20%20%20%20%3C/script%3E%0A%20%20%20%20%0A%20%20%20%20%3Cstyle%3Ehtml%2C%20body%20%7Bwidth%3A%20100%25%3Bheight%3A%20100%25%3Bmargin%3A%200%3Bpadding%3A%200%3B%7D%3C/style%3E%0A%20%20%20%20%3Cstyle%3E%23map%20%7Bposition%3Aabsolute%3Btop%3A0%3Bbottom%3A0%3Bright%3A0%3Bleft%3A0%3B%7D%3C/style%3E%0A%20%20%20%20%3Cscript%20src%3D%22https%3A//cdn.jsdelivr.net/npm/leaflet%401.6.0/dist/leaflet.js%22%3E%3C/script%3E%0A%20%20%20%20%3Cscript%20src%3D%22https%3A//code.jquery.com/jquery-1.12.4.min.js%22%3E%3C/script%3E%0A%20%20%20%20%3Cscript%20src%3D%22https%3A//maxcdn.bootstrapcdn.com/bootstrap/3.2.0/js/bootstrap.min.js%22%3E%3C/script%3E%0A%20%20%20%20%3Cscript%20src%3D%22https%3A//cdnjs.cloudflare.com/ajax/libs/Leaflet.awesome-markers/2.0.2/leaflet.awesome-markers.js%22%3E%3C/script%3E%0A%20%20%20%20%3Clink%20rel%3D%22stylesheet%22%20href%3D%22https%3A//cdn.jsdelivr.net/npm/leaflet%401.6.0/dist/leaflet.css%22/%3E%0A%20%20%20%20%3Clink%20rel%3D%22stylesheet%22%20href%3D%22https%3A//maxcdn.bootstrapcdn.com/bootstrap/3.2.0/css/bootstrap.min.css%22/%3E%0A%20%20%20%20%3Clink%20rel%3D%22stylesheet%22%20href%3D%22https%3A//maxcdn.bootstrapcdn.com/bootstrap/3.2.0/css/bootstrap-theme.min.css%22/%3E%0A%20%20%20%20%3Clink%20rel%3D%22stylesheet%22%20href%3D%22https%3A//maxcdn.bootstrapcdn.com/font-awesome/4.6.3/css/font-awesome.min.css%22/%3E%0A%20%20%20%20%3Clink%20rel%3D%22stylesheet%22%20href%3D%22https%3A//cdnjs.cloudflare.com/ajax/libs/Leaflet.awesome-markers/2.0.2/leaflet.awesome-markers.css%22/%3E%0A%20%20%20%20%3Clink%20rel%3D%22stylesheet%22%20href%3D%22https%3A//cdn.jsdelivr.net/gh/python-visualization/folium/folium/templates/leaflet.awesome.rotate.min.css%22/%3E%0A%20%20%20%20%0A%20%20%20%20%20%20%20%20%20%20%20%20%3Cmeta%20name%3D%22viewport%22%20content%3D%22width%3Ddevice-width%2C%0A%20%20%20%20%20%20%20%20%20%20%20%20%20%20%20%20initial-scale%3D1.0%2C%20maximum-scale%3D1.0%2C%20user-scalable%3Dno%22%20/%3E%0A%20%20%20%20%20%20%20%20%20%20%20%20%3Cstyle%3E%0A%20%20%20%20%20%20%20%20%20%20%20%20%20%20%20%20%23map_c0a614a6259e46a6b366a2b1c861dccc%20%7B%0A%20%20%20%20%20%20%20%20%20%20%20%20%20%20%20%20%20%20%20%20position%3A%20relative%3B%0A%20%20%20%20%20%20%20%20%20%20%20%20%20%20%20%20%20%20%20%20width%3A%20100.0%25%3B%0A%20%20%20%20%20%20%20%20%20%20%20%20%20%20%20%20%20%20%20%20height%3A%20100.0%25%3B%0A%20%20%20%20%20%20%20%20%20%20%20%20%20%20%20%20%20%20%20%20left%3A%200.0%25%3B%0A%20%20%20%20%20%20%20%20%20%20%20%20%20%20%20%20%20%20%20%20top%3A%200.0%25%3B%0A%20%20%20%20%20%20%20%20%20%20%20%20%20%20%20%20%7D%0A%20%20%20%20%20%20%20%20%20%20%20%20%3C/style%3E%0A%20%20%20%20%20%20%20%20%0A%20%20%20%20%3Cscript%20src%3D%22https%3A//cdn.jsdelivr.net/gh/python-visualization/folium%40master/folium/templates/leaflet_heat.min.js%22%3E%3C/script%3E%0A%3C/head%3E%0A%3Cbody%3E%20%20%20%20%0A%20%20%20%20%0A%20%20%20%20%20%20%20%20%20%20%20%20%3Cdiv%20class%3D%22folium-map%22%20id%3D%22map_c0a614a6259e46a6b366a2b1c861dccc%22%20%3E%3C/div%3E%0A%20%20%20%20%20%20%20%20%0A%3C/body%3E%0A%3Cscript%3E%20%20%20%20%0A%20%20%20%20%0A%20%20%20%20%20%20%20%20%20%20%20%20var%20map_c0a614a6259e46a6b366a2b1c861dccc%20%3D%20L.map%28%0A%20%20%20%20%20%20%20%20%20%20%20%20%20%20%20%20%22map_c0a614a6259e46a6b366a2b1c861dccc%22%2C%0A%20%20%20%20%20%20%20%20%20%20%20%20%20%20%20%20%7B%0A%20%20%20%20%20%20%20%20%20%20%20%20%20%20%20%20%20%20%20%20center%3A%20%5B12.97%2C%2077.59%5D%2C%0A%20%20%20%20%20%20%20%20%20%20%20%20%20%20%20%20%20%20%20%20crs%3A%20L.CRS.EPSG3857%2C%0A%20%20%20%20%20%20%20%20%20%20%20%20%20%20%20%20%20%20%20%20zoom%3A%2010%2C%0A%20%20%20%20%20%20%20%20%20%20%20%20%20%20%20%20%20%20%20%20zoomControl%3A%20true%2C%0A%20%20%20%20%20%20%20%20%20%20%20%20%20%20%20%20%20%20%20%20preferCanvas%3A%20false%2C%0A%20%20%20%20%20%20%20%20%20%20%20%20%20%20%20%20%7D%0A%20%20%20%20%20%20%20%20%20%20%20%20%29%3B%0A%0A%20%20%20%20%20%20%20%20%20%20%20%20%0A%0A%20%20%20%20%20%20%20%20%0A%20%20%20%20%0A%20%20%20%20%20%20%20%20%20%20%20%20var%20tile_layer_fb55c0f333084d8895fbb9e148842123%20%3D%20L.tileLayer%28%0A%20%20%20%20%20%20%20%20%20%20%20%20%20%20%20%20%22https%3A//%7Bs%7D.tile.openstreetmap.org/%7Bz%7D/%7Bx%7D/%7By%7D.png%22%2C%0A%20%20%20%20%20%20%20%20%20%20%20%20%20%20%20%20%7B%22attribution%22%3A%20%22Data%20by%20%5Cu0026copy%3B%20%5Cu003ca%20href%3D%5C%22http%3A//openstreetmap.org%5C%22%5Cu003eOpenStreetMap%5Cu003c/a%5Cu003e%2C%20under%20%5Cu003ca%20href%3D%5C%22http%3A//www.openstreetmap.org/copyright%5C%22%5Cu003eODbL%5Cu003c/a%5Cu003e.%22%2C%20%22detectRetina%22%3A%20false%2C%20%22maxNativeZoom%22%3A%2018%2C%20%22maxZoom%22%3A%2018%2C%20%22minZoom%22%3A%200%2C%20%22noWrap%22%3A%20false%2C%20%22opacity%22%3A%201%2C%20%22subdomains%22%3A%20%22abc%22%2C%20%22tms%22%3A%20false%7D%0A%20%20%20%20%20%20%20%20%20%20%20%20%29.addTo%28map_c0a614a6259e46a6b366a2b1c861dccc%29%3B%0A%20%20%20%20%20%20%20%20%0A%20%20%20%20%0A%20%20%20%20%20%20%20%20%20%20%20%20var%20heat_map_a5cff32a4104486bb64cf82c93ebcfea%20%3D%20L.heatLayer%28%0A%20%20%20%20%20%20%20%20%20%20%20%20%20%20%20%20%5B%5B45.95485055%2C%20-112.49659530324134%2C%205124.0%5D%2C%20%5B18.1475%2C%2041.538889%2C%202523.0%5D%2C%20%5B12.9343774%2C%2077.628415%2C%202504.0%5D%2C%20%5B12.2655944%2C%2076.6465404%2C%202235.0%5D%2C%20%5B44.3730577%2C%20-71.6118577%2C%202144.0%5D%2C%20%5B12.9732913%2C%2077.6404672%2C%202083.0%5D%2C%20%5B27.64392675%2C%2083.05280519687284%2C%201926.0%5D%2C%20%5B12.9552572%2C%2077.6984163%2C%201846.0%5D%2C%20%5B12.887979%2C%2077.5970812%2C%201630.0%5D%2C%20%5B12.93577245%2C%2077.66676103753434%2C%201286.0%5D%2C%20%5B-6.2659285%2C%20106.7842561%2C%201258.0%5D%2C%20%5B14.5395813%2C%20121.070371%2C%201238.0%5D%2C%20%5B40.28745%2C%20-76.964526%2C%201218.0%5D%2C%20%5B12.9302645%2C%2077.6332585%2C%201181.0%5D%2C%20%5B12.9400321%2C%2077.6203272%2C%201156.0%5D%2C%20%5B12.9242381%2C%2077.6289059%2C%201065.0%5D%2C%20%5B12.9778793%2C%2077.6246697%2C%201023.0%5D%2C%20%5B12.93433385%2C%2077.63040639553275%2C%201017.0%5D%2C%20%5B17.9895618%2C%2079.5967057%2C%20918.0%5D%2C%20%5B15.8876779%2C%2075.7046777%2C%20906.0%5D%2C%20%5B13.0221416%2C%2077.6403368%2C%20853.0%5D%2C%20%5B50.7721586%2C%200.09772783661369303%2C%20812.0%5D%2C%20%5B12.996845%2C%2077.6130165%2C%20727.0%5D%2C%20%5B13.0027353%2C%2077.5703253%2C%20725.0%5D%2C%20%5B12.9417261%2C%2077.5755021%2C%20684.0%5D%2C%20%5B38.7385916%2C%20-77.5275749%2C%20675.0%5D%2C%20%5B13.0141618%2C%2077.6518539%2C%20664.0%5D%2C%20%5B33.5935063%2C%20-79.0345627%2C%20658.0%5D%2C%20%5B13.0346384%2C%2077.5681733%2C%20649.0%5D%2C%20%5B13.0093455%2C%2077.6377094%2C%20648.0%5D%2C%20%5B12.9882338%2C%2077.554883%2C%20591.0%5D%2C%20%5B51.373656%2C%20-0.1042366%2C%20569.0%5D%2C%20%5B40.7652844%2C%20-76.373824%2C%20529.0%5D%2C%20%5B12.9575547%2C%2077.5979099%2C%20511.0%5D%2C%20%5B18.5322493%2C%2073.8499601124847%2C%20499.0%5D%2C%20%5B12.9624669%2C%2077.6381958%2C%20496.0%5D%2C%20%5B31.89376%2C%20-88.066644%2C%20491.0%5D%2C%20%5B1.3061622%2C%20103.8822692%2C%20446.0%5D%2C%20%5B12.945245%2C%2077.6269144%2C%20439.0%5D%2C%20%5B51.516977%2C%20-0.0732447%2C%20370.0%5D%2C%20%5B51.5227651%2C%20-0.7354457%2C%20352.0%5D%2C%20%5B12.9417812%2C%2077.6160146%2C%20320.0%5D%2C%20%5B12.988721250000001%2C%2077.58516877601824%2C%20295.0%5D%2C%20%5B12.9678074%2C%2077.6568367%2C%20272.0%5D%2C%20%5B12.9489339%2C%2077.5968273%2C%20246.0%5D%2C%20%5B12.9089453%2C%2077.6239038%2C%20238.0%5D%2C%20%5B12.9271867%2C%2077.6266252%2C%20216.0%5D%2C%20%5B12.9081487%2C%2077.5553179%2C%20195.0%5D%2C%20%5B12.973936%2C%2077.6509982%2C%20194.0%5D%2C%20%5B12.9932739%2C%2077.5388099%2C%20191.0%5D%2C%20%5B13.2227%2C%2078.5541977%2C%20187.0%5D%2C%20%5B12.9931876%2C%2077.5753419%2C%20165.0%5D%2C%20%5B13.0258087%2C%2077.6305067%2C%20161.0%5D%2C%20%5B1.2847055%2C%20103.84320655721689%2C%20155.0%5D%2C%20%5B13.0358698%2C%2077.6323597%2C%20153.0%5D%2C%20%5B34.977289%2C%20-78.974578%2C%20151.0%5D%2C%20%5B1.306731%2C%20103.8497839%2C%20139.0%5D%2C%20%5B39.76880625%2C%20-86.15345077251979%2C%20126.0%5D%2C%20%5B13.02383%2C%2077.5529215%2C%20119.0%5D%2C%20%5B12.9414662%2C%2077.7470942%2C%20117.0%5D%2C%20%5B12.967576%2C%2077.7150877%2C%20113.0%5D%2C%20%5B13.0646907%2C%2077.49626895712257%2C%20107.0%5D%2C%20%5B12.9243509%2C%2077.6255562%2C%20102.0%5D%2C%20%5B12.773175%2C%2077.7831871%2C%20102.0%5D%2C%20%5B12.9846713%2C%2077.6790908%2C%20101.0%5D%2C%20%5B17.2510682%2C%2080.1651978%2C%2090.0%5D%2C%20%5B13.0227204%2C%2077.595715%2C%2080.0%5D%2C%20%5B23.1883478%2C%2079.9092722%2C%2080.0%5D%2C%20%5B23.1485712%2C%2081.6048241%2C%2076.0%5D%2C%20%5B15.8782951%2C%2074.5084834%2C%2063.0%5D%2C%20%5B13.0621474%2C%2077.58006135480495%2C%2053.0%5D%2C%20%5B13.2923988%2C%2077.7519261%2C%2048.0%5D%2C%20%5B13.0215466%2C%2077.7640586%2C%2044.0%5D%2C%20%5B11.9917786%2C%2076.5066292%2C%2038.0%5D%2C%20%5B12.945048%2C%2077.263004%2C%2034.0%5D%2C%20%5B12.957998%2C%2077.6037312%2C%2027.0%5D%2C%20%5B38.7801076%2C%20-121.5056438%2C%2027.0%5D%2C%20%5B13.194416%2C%2078.7011301%2C%2022.0%5D%2C%20%5B12.3872141%2C%2076.6669626%2C%2022.0%5D%2C%20%5B12.5607431%2C%2077.4258375%2C%2019.0%5D%2C%20%5B13.007516%2C%2077.695935%2C%2018.0%5D%2C%20%5B12.9055682%2C%2077.5455438%2C%2017.0%5D%2C%20%5B13.0217151%2C%2077.7660547%2C%2014.0%5D%2C%20%5B13.0382184%2C%2077.5919%2C%2014.0%5D%2C%20%5B12.9546741%2C%2077.5121724%2C%209.0%5D%2C%20%5B12.9176571%2C%2077.4837568%2C%209.0%5D%2C%20%5B13.0101286%2C%2077.5548006%2C%208.0%5D%2C%20%5B13.1006982%2C%2077.5963454%2C%206.0%5D%2C%20%5B13.0011289%2C%2077.6325617%2C%206.0%5D%2C%20%5B13.0784743%2C%2077.6068938%2C%203.0%5D%2C%20%5B12.9274413%2C%2077.5155224%2C%202.0%5D%2C%20%5B13.0329419%2C%2077.5273253%2C%201.0%5D%5D%2C%0A%20%20%20%20%20%20%20%20%20%20%20%20%20%20%20%20%7B%22blur%22%3A%2015%2C%20%22maxZoom%22%3A%2018%2C%20%22minOpacity%22%3A%200.5%2C%20%22radius%22%3A%2025%7D%0A%20%20%20%20%20%20%20%20%20%20%20%20%29.addTo%28map_c0a614a6259e46a6b366a2b1c861dccc%29%3B%0A%20%20%20%20%20%20%20%20%0A%3C/script%3E onload=\"this.contentDocument.open();this.contentDocument.write(    decodeURIComponent(this.getAttribute('data-html')));this.contentDocument.close();\" allowfullscreen webkitallowfullscreen mozallowfullscreen></iframe></div></div>"
      ],
      "text/plain": [
       "<folium.folium.Map at 0x285a1db7b20>"
      ]
     },
     "execution_count": 120,
     "metadata": {},
     "output_type": "execute_result"
    }
   ],
   "source": [
    "basemap"
   ]
  },
  {
   "cell_type": "code",
   "execution_count": 121,
   "id": "b0b294b6",
   "metadata": {},
   "outputs": [],
   "source": [
    "## wordcloud -- Block where we have hundred words, of different font sizes"
   ]
  },
  {
   "cell_type": "code",
   "execution_count": 122,
   "id": "b7ebdd25",
   "metadata": {},
   "outputs": [
    {
     "name": "stdout",
     "output_type": "stream",
     "text": [
      "Requirement already satisfied: wordcloud in c:\\programdata\\anaconda3\\lib\\site-packages (1.8.1)\n",
      "Requirement already satisfied: pillow in c:\\programdata\\anaconda3\\lib\\site-packages (from wordcloud) (8.2.0)\n",
      "Requirement already satisfied: matplotlib in c:\\programdata\\anaconda3\\lib\\site-packages (from wordcloud) (3.3.4)\n",
      "Requirement already satisfied: numpy>=1.6.1 in c:\\programdata\\anaconda3\\lib\\site-packages (from wordcloud) (1.20.1)\n",
      "Requirement already satisfied: python-dateutil>=2.1 in c:\\programdata\\anaconda3\\lib\\site-packages (from matplotlib->wordcloud) (2.8.1)\n",
      "Requirement already satisfied: kiwisolver>=1.0.1 in c:\\programdata\\anaconda3\\lib\\site-packages (from matplotlib->wordcloud) (1.3.1)\n",
      "Requirement already satisfied: pyparsing!=2.0.4,!=2.1.2,!=2.1.6,>=2.0.3 in c:\\programdata\\anaconda3\\lib\\site-packages (from matplotlib->wordcloud) (2.4.7)\n",
      "Requirement already satisfied: cycler>=0.10 in c:\\programdata\\anaconda3\\lib\\site-packages (from matplotlib->wordcloud) (0.10.0)\n",
      "Requirement already satisfied: six in c:\\programdata\\anaconda3\\lib\\site-packages (from cycler>=0.10->matplotlib->wordcloud) (1.15.0)\n"
     ]
    }
   ],
   "source": [
    "!pip install wordcloud"
   ]
  },
  {
   "cell_type": "code",
   "execution_count": 123,
   "id": "07893f0e",
   "metadata": {},
   "outputs": [],
   "source": [
    "from wordcloud import WordCloud, STOPWORDS"
   ]
  },
  {
   "cell_type": "code",
   "execution_count": 124,
   "id": "a74a7c93",
   "metadata": {
    "scrolled": true
   },
   "outputs": [
    {
     "data": {
      "text/html": [
       "<div>\n",
       "<style scoped>\n",
       "    .dataframe tbody tr th:only-of-type {\n",
       "        vertical-align: middle;\n",
       "    }\n",
       "\n",
       "    .dataframe tbody tr th {\n",
       "        vertical-align: top;\n",
       "    }\n",
       "\n",
       "    .dataframe thead th {\n",
       "        text-align: right;\n",
       "    }\n",
       "</style>\n",
       "<table border=\"1\" class=\"dataframe\">\n",
       "  <thead>\n",
       "    <tr style=\"text-align: right;\">\n",
       "      <th></th>\n",
       "      <th>url</th>\n",
       "      <th>address</th>\n",
       "      <th>name</th>\n",
       "      <th>online_order</th>\n",
       "      <th>book_table</th>\n",
       "      <th>rate</th>\n",
       "      <th>votes</th>\n",
       "      <th>phone</th>\n",
       "      <th>location</th>\n",
       "      <th>rest_type</th>\n",
       "      <th>dish_liked</th>\n",
       "      <th>cuisines</th>\n",
       "      <th>approx_cost(for two people)</th>\n",
       "      <th>reviews_list</th>\n",
       "      <th>menu_item</th>\n",
       "      <th>listed_in(type)</th>\n",
       "      <th>listed_in(city)</th>\n",
       "    </tr>\n",
       "  </thead>\n",
       "  <tbody>\n",
       "    <tr>\n",
       "      <th>3</th>\n",
       "      <td>https://www.zomato.com/bangalore/addhuri-udupi...</td>\n",
       "      <td>1st Floor, Annakuteera, 3rd Stage, Banashankar...</td>\n",
       "      <td>Addhuri Udupi Bhojana</td>\n",
       "      <td>No</td>\n",
       "      <td>No</td>\n",
       "      <td>3.7</td>\n",
       "      <td>88</td>\n",
       "      <td>+91 9620009302</td>\n",
       "      <td>Banashankari</td>\n",
       "      <td>Quick Bites</td>\n",
       "      <td>Masala Dosa</td>\n",
       "      <td>South Indian, North Indian</td>\n",
       "      <td>300.0</td>\n",
       "      <td>[('Rated 4.0', \"RATED\\n  Great food and proper...</td>\n",
       "      <td>[]</td>\n",
       "      <td>Buffet</td>\n",
       "      <td>Banashankari</td>\n",
       "    </tr>\n",
       "    <tr>\n",
       "      <th>31</th>\n",
       "      <td>https://www.zomato.com/bangalore/foodiction-1-...</td>\n",
       "      <td>2/1, 7th Main, Dwarakangar, Hosakeregalli, Ban...</td>\n",
       "      <td>Foodiction</td>\n",
       "      <td>Yes</td>\n",
       "      <td>No</td>\n",
       "      <td>2.8</td>\n",
       "      <td>506</td>\n",
       "      <td>+91 9916107070</td>\n",
       "      <td>Banashankari</td>\n",
       "      <td>Quick Bites</td>\n",
       "      <td>Burgers, Lassi, Chicken Grill, Naan, Momos, Ch...</td>\n",
       "      <td>North Indian, Fast Food, Chinese, Burger</td>\n",
       "      <td>500.0</td>\n",
       "      <td>[('Rated 1.0', \"RATED\\n  Worst restaurant ever...</td>\n",
       "      <td>[]</td>\n",
       "      <td>Delivery</td>\n",
       "      <td>Banashankari</td>\n",
       "    </tr>\n",
       "    <tr>\n",
       "      <th>34</th>\n",
       "      <td>https://www.zomato.com/bangalore/faasos-banash...</td>\n",
       "      <td>80, BDA Complex, 2nd Stage, Banashankari, Bang...</td>\n",
       "      <td>Faasos</td>\n",
       "      <td>Yes</td>\n",
       "      <td>No</td>\n",
       "      <td>4.2</td>\n",
       "      <td>415</td>\n",
       "      <td>+91 7700020020</td>\n",
       "      <td>Banashankari</td>\n",
       "      <td>Quick Bites</td>\n",
       "      <td>Rolls, Veggie Wrap, Chocolate Fantasy, Rice Bo...</td>\n",
       "      <td>North Indian, Biryani, Fast Food</td>\n",
       "      <td>500.0</td>\n",
       "      <td>[('Rated 3.0', 'RATED\\n  Not worth for the mon...</td>\n",
       "      <td>['Chole Kulcha Meal', 'Upvas Aloo Paratha With...</td>\n",
       "      <td>Delivery</td>\n",
       "      <td>Banashankari</td>\n",
       "    </tr>\n",
       "    <tr>\n",
       "      <th>36</th>\n",
       "      <td>https://www.zomato.com/bangalore/fast-and-fres...</td>\n",
       "      <td>32, 7th Main Road, Dwaraka Nagar,Near PES Coll...</td>\n",
       "      <td>Fast And Fresh</td>\n",
       "      <td>Yes</td>\n",
       "      <td>No</td>\n",
       "      <td>2.8</td>\n",
       "      <td>91</td>\n",
       "      <td>+91 9742974232</td>\n",
       "      <td>Banashankari</td>\n",
       "      <td>Quick Bites</td>\n",
       "      <td>NaN</td>\n",
       "      <td>North Indian, Chinese, Fast Food</td>\n",
       "      <td>400.0</td>\n",
       "      <td>[('Rated 1.0', 'RATED\\n  Half baked rice in a ...</td>\n",
       "      <td>[]</td>\n",
       "      <td>Delivery</td>\n",
       "      <td>Banashankari</td>\n",
       "    </tr>\n",
       "    <tr>\n",
       "      <th>39</th>\n",
       "      <td>https://www.zomato.com/bangalore/maruthi-davan...</td>\n",
       "      <td>556/A, Water Tank Road, 3rd Stage, Banashankar...</td>\n",
       "      <td>Maruthi Davangere Benne Dosa</td>\n",
       "      <td>Yes</td>\n",
       "      <td>No</td>\n",
       "      <td>4.0</td>\n",
       "      <td>17</td>\n",
       "      <td>+91 9019563485</td>\n",
       "      <td>Banashankari</td>\n",
       "      <td>Quick Bites</td>\n",
       "      <td>NaN</td>\n",
       "      <td>South Indian</td>\n",
       "      <td>150.0</td>\n",
       "      <td>[('Rated 5.0', \"RATED\\n  This restaurant serve...</td>\n",
       "      <td>['Benne Dosa', 'Benne Masala Dosa', 'Benne Kal...</td>\n",
       "      <td>Delivery</td>\n",
       "      <td>Banashankari</td>\n",
       "    </tr>\n",
       "  </tbody>\n",
       "</table>\n",
       "</div>"
      ],
      "text/plain": [
       "                                                  url  \\\n",
       "3   https://www.zomato.com/bangalore/addhuri-udupi...   \n",
       "31  https://www.zomato.com/bangalore/foodiction-1-...   \n",
       "34  https://www.zomato.com/bangalore/faasos-banash...   \n",
       "36  https://www.zomato.com/bangalore/fast-and-fres...   \n",
       "39  https://www.zomato.com/bangalore/maruthi-davan...   \n",
       "\n",
       "                                              address  \\\n",
       "3   1st Floor, Annakuteera, 3rd Stage, Banashankar...   \n",
       "31  2/1, 7th Main, Dwarakangar, Hosakeregalli, Ban...   \n",
       "34  80, BDA Complex, 2nd Stage, Banashankari, Bang...   \n",
       "36  32, 7th Main Road, Dwaraka Nagar,Near PES Coll...   \n",
       "39  556/A, Water Tank Road, 3rd Stage, Banashankar...   \n",
       "\n",
       "                            name online_order book_table  rate  votes  \\\n",
       "3          Addhuri Udupi Bhojana           No         No   3.7     88   \n",
       "31                    Foodiction          Yes         No   2.8    506   \n",
       "34                        Faasos          Yes         No   4.2    415   \n",
       "36                Fast And Fresh          Yes         No   2.8     91   \n",
       "39  Maruthi Davangere Benne Dosa          Yes         No   4.0     17   \n",
       "\n",
       "             phone      location    rest_type  \\\n",
       "3   +91 9620009302  Banashankari  Quick Bites   \n",
       "31  +91 9916107070  Banashankari  Quick Bites   \n",
       "34  +91 7700020020  Banashankari  Quick Bites   \n",
       "36  +91 9742974232  Banashankari  Quick Bites   \n",
       "39  +91 9019563485  Banashankari  Quick Bites   \n",
       "\n",
       "                                           dish_liked  \\\n",
       "3                                         Masala Dosa   \n",
       "31  Burgers, Lassi, Chicken Grill, Naan, Momos, Ch...   \n",
       "34  Rolls, Veggie Wrap, Chocolate Fantasy, Rice Bo...   \n",
       "36                                                NaN   \n",
       "39                                                NaN   \n",
       "\n",
       "                                    cuisines  approx_cost(for two people)  \\\n",
       "3                 South Indian, North Indian                        300.0   \n",
       "31  North Indian, Fast Food, Chinese, Burger                        500.0   \n",
       "34          North Indian, Biryani, Fast Food                        500.0   \n",
       "36          North Indian, Chinese, Fast Food                        400.0   \n",
       "39                              South Indian                        150.0   \n",
       "\n",
       "                                         reviews_list  \\\n",
       "3   [('Rated 4.0', \"RATED\\n  Great food and proper...   \n",
       "31  [('Rated 1.0', \"RATED\\n  Worst restaurant ever...   \n",
       "34  [('Rated 3.0', 'RATED\\n  Not worth for the mon...   \n",
       "36  [('Rated 1.0', 'RATED\\n  Half baked rice in a ...   \n",
       "39  [('Rated 5.0', \"RATED\\n  This restaurant serve...   \n",
       "\n",
       "                                            menu_item listed_in(type)  \\\n",
       "3                                                  []          Buffet   \n",
       "31                                                 []        Delivery   \n",
       "34  ['Chole Kulcha Meal', 'Upvas Aloo Paratha With...        Delivery   \n",
       "36                                                 []        Delivery   \n",
       "39  ['Benne Dosa', 'Benne Masala Dosa', 'Benne Kal...        Delivery   \n",
       "\n",
       "   listed_in(city)  \n",
       "3     Banashankari  \n",
       "31    Banashankari  \n",
       "34    Banashankari  \n",
       "36    Banashankari  \n",
       "39    Banashankari  "
      ]
     },
     "execution_count": 124,
     "metadata": {},
     "output_type": "execute_result"
    }
   ],
   "source": [
    "data=df[df['rest_type']=='Quick Bites']\n",
    "data.head()"
   ]
  },
  {
   "cell_type": "code",
   "execution_count": 125,
   "id": "47703e60",
   "metadata": {},
   "outputs": [
    {
     "data": {
      "text/plain": [
       "13843"
      ]
     },
     "execution_count": 125,
     "metadata": {},
     "output_type": "execute_result"
    }
   ],
   "source": [
    "data['dish_liked'].isnull().sum()"
   ]
  },
  {
   "cell_type": "code",
   "execution_count": null,
   "id": "35178d45",
   "metadata": {},
   "outputs": [],
   "source": []
  },
  {
   "cell_type": "code",
   "execution_count": null,
   "id": "a1bf44a0",
   "metadata": {},
   "outputs": [],
   "source": []
  },
  {
   "cell_type": "code",
   "execution_count": 126,
   "id": "ed18c257",
   "metadata": {},
   "outputs": [],
   "source": [
    "dishes = ''\n",
    "\n",
    "for word in data['dish_liked'].dropna():\n",
    "    words=word.split(' ')\n",
    "    for i in range(len(words)):\n",
    "        words[i]=words[i].lower()\n",
    "    dishes=dishes+' '.join(words)+' '"
   ]
  },
  {
   "cell_type": "code",
   "execution_count": 127,
   "id": "cd43c447",
   "metadata": {},
   "outputs": [
    {
     "data": {
      "text/plain": [
       "'masala dosa burgers, lassi, chicken grill, naan, momos, chicken burger, biryani rolls, veggie wrap, chocolate fantasy, rice bowls, chicken rice, paneer makhanwala, chicken tikka wrap dabeli, faluda, masala poori, sandwiches, tokri chaat, pav bhaji, dahipuri burgers, fries, hot chocolate pane pizza, lava cake, pasta, stuffed garlic bread, chocolava cake, tacos biryani paratha, pasta pasta, momos, rolls, chicken roll, chilli chicken, paneer roll, spaghetti grape juice, chicken grill, chicken tikka roll, shawarma roll, chicken shawarama, biryani combo, rolls vegetable biryani, ginger chicken, chicken biryani, donne biryani, chicken kebab, egg bhurji, dum biryani rolls, momos, fries, veggie roll, chicken kebab roll, paneer roll, cheese roll benne dosa, mirchi bajji, filter coffee, poha, tea, butter dosa, crispy dosa masala dosa panipuri, chaat, noodles, dahi bhalle rooftop ambience coffee, tea, kesari bath, open dosa, vada, idli, bread dosa masala dosa, tirupathi pongal, filter coffee, vada, kharabath, kali dosa, rava idli rolls, paratha, chicken biryani burgers, french fries chicken biryani, rolls coffee, chaat pizza, nachos, salads, peri peri fries, brownie, pasta alfredo, spaghetti chicken grill, biryani, roti, chicken masala chaat, pav bhaji, dabeli, vada pav, tawa pulav, panipuri, malpua pizza, burgers biryani paratha, vada pav, chaat, pav bhaji, panipuri, masala poori, dhokla whole meat shawarma, fries panneer butter masala, lassi, paratha, jeera rice, paneer parantha, bhindi fry, veg kolhapuri jowar roti, buttermilk, sabudana vada, thali, mirchi bajji, brinjal curry white pasta, noodles, babycorn manchurian, pizza, veg momos, fry momos, tawa pulav masala dosa, sandwiches, coffee, onion dosa, rava dosa, chaat, sandwich french fries, burgers noodles, pasta, schezwan momos, chicken momo, teriyaki chicken, thukpa, fries sweet lassi, gulab jamun, palak paneer paratha, paneer parantha pizza, white sauce pasta, masala garlic bread burgers, fries, mojito, chicken burger chicken biryani, mutton biryani, egg biryani, chicken fry, mutton fry sandwiches, chocolate sandwich, chaat, veg cheese sandwich, chilli cheese, corn sandwich veggie delight, paneer tikka, salad faluda, brownie, sandwich, kulfi, fruit salad, sweet lassi, chocolate fudge roti, masala dosa filter coffee, tea, hot coffee, hatti samosa badam milk, potato twister, pav bhaji, panipuri, tikki chaat, cheese cutlet chicken biryani kharabath, crispy vada, filter coffee, idli vada, idli chutney, kesari bath, gulab jamun jowar roti, buttermilk, jolada rotti, brinjal curry, coffee, pongal, vegetable biryani sweet pongal, mini idlis, filter coffee, open masala dosa, pakoda, vada, raagi dosa paratha, coffee, halwa, lassi coffee, masala dosa tandoori chicken, rolls aloo paratha sandwiches, noodles, sandwich vada, masala dosa, idli coffee, masala dosa, vegetable biryani sweet pongal, curd rice waffles, sandwiches, maggi, thick shakes, chocolate sandwich honey chilli potatoes, nachos, lemonade, hakka noodles, babycorn manchurian, mushroom manchurian, spring roll masala vada pav, cheese vada pav, fries coffee, thali, kharabath, masala dosa, idli vada, vanilla ice cream, bisi bele bhaath paratha, lassi, manchurian, thali rolls, burgers, juicy momos, chicken momo, chocolate momos, mushroom momo, paneer momos chicken grill sugarcane juice, popcorn rava dosa, roti, masala dosa, kulcha, sandwiches, vada pav, idli masala poori, bhel puri, panipuri, chaat, dahipuri, sev puri, dahi aloo puri neer dosa, sea food, pepper chicken masala dosa, idli, filter coffee, medu dosa paratha, kachori, tea, lassi, samosa, vada pav lassi, panneer butter masala, paratha, thali mughlai paratha, laccha paratha, rolls panneer butter masala, vada, curd rice, idli, jeera rice, naan, kulcha biryani, chilli chicken, neer dosa biryani panneer butter masala, lassi, paratha, jeera rice, paneer parantha, bhindi fry, veg kolhapuri roti, masala dosa kesari bath, masala dosa masala dosa, vada, upma, filter coffee, kesari bath, idli chutney, kharabath panneer butter masala, vada, curd rice, idli, jeera rice, naan, kulcha pasta, momos, rolls, chicken roll, chilli chicken, paneer roll, spaghetti burgers, french fries jowar roti, buttermilk, sabudana vada, thali, mirchi bajji, brinjal curry burgers, fries, hot chocolate masala dosa, idli chutney, kharabath, filter coffee, kesari bath, idli vada, maddur vada tandoori maggi, paneer sizzler, pasta, pizza, butter garlic fries, peri peri maggi, garlic maggi masala dosa, idli, filter coffee, medu dosa chicken biryani masala dosa, tirupathi pongal, filter coffee, vada, kharabath, kali dosa, rava idli burgers, lassi, chicken grill, naan, momos, chicken burger, biryani vegetable biryani, ginger chicken, chicken biryani, donne biryani, chicken kebab, egg bhurji, dum biryani masala dosa veggie delight, paneer tikka, salad khali dosa, kali dosa, masala dosa, vada sambar coffee, jeera rice, masala dosa, neer dosa masala dosa pane pizza, lava cake, pasta, stuffed garlic bread, chocolava cake, tacos vegetable biryani, masala dosa, kulcha, masala papad, tomato soup chicken grill garlic bread, pasta, nachos, salsa, thin crust pizza rolls, veggie wrap, chocolate fantasy, rice bowls, chicken rice, paneer makhanwala, chicken tikka wrap lassi, panneer butter masala, paratha, thali coffee, masala dosa, kharabath, idli vada, kesari bath panipuri, chaat, noodles, dahi bhalle rooftop ambience chicken grill, biryani, roti, chicken masala paratha, kachori, tea, lassi, samosa, vada pav coffee, tea, kesari bath, open dosa, vada, idli, bread dosa rolls, burgers, juicy momos, chicken momo, chocolate momos, mushroom momo, paneer momos biryani coffee, masala dosa cheese dosa, chocolate dosa, corn dosa, pesarattu, bread dosa neer dosa, sea food, pepper chicken mutton biryani, mutton chops, chicken biryani, chicken fry, paya, mutton fry, chilli chicken filter kaapi, filter coffee, khara bhath, maddur vada, crispy masala dosa, kesari bath, ghee masala dosa sweet pongal, curd rice benne dosa, mirchi bajji, filter coffee, poha, tea, butter dosa, crispy dosa chicken biryani, mutton biryani, egg biryani, chicken fry, mutton fry coffee, vada, curd rice, ghee roast paneer, thali sweet pongal, mini idlis, filter coffee, open masala dosa, pakoda, vada, raagi dosa khali dosa, kali dosa, upma, filter coffee, kesari bath, set dosa, masala dosa masala dosa, vada, obbattu, badam milk, khara bhath, coffee, puri saagu masala vada pav, cheese vada pav, fries masala poori, rumali roti, sandwiches, chaat, burgers kharabath, crispy vada, filter coffee, idli vada, idli chutney, kesari bath, gulab jamun masala dosa, vada, set dosa, filter coffee, raita, idli sambar, crispy dosa filter coffee, rava idli, kali dosa, carrot halwa, idli vada, vada sambar, bonda sandwiches, veg burger, pizza sandwich, burgers, french fries, wedges, club sandwich coffee, masala dosa, vegetable biryani jowar roti, buttermilk, jolada rotti, brinjal curry, coffee, pongal, vegetable biryani coffee, idli, masala dosa, sagu dosa, kesari bath, kharabath, plain dosa dabeli, faluda, masala poori, sandwiches, tokri chaat, pav bhaji, dahipuri masala dosa, idli, vada sambar buttermilk, jolada rotti sandwiches, chocolate sandwich, chaat, veg cheese sandwich, chilli cheese, corn sandwich radhaballavi, biryani, egg noodles, egg roll, fish curry, egg devils, thali paratha, shahi paneer panneer butter masala, idli, masala dosa, vada, coffee, roti, thali dal makhani, lassi, butter chicken, panneer butter masala, mix veg, saag, butter naan lassi, roti, veg thali, aloo paratha, egg curry gulab jamun, buttermilk, egg bhurji, sprout salad, roti peri peri chicken, chicken pizza, white pasta, kit kat shake pav bhaji, coffee, set dosa, vada, masala poori thali, egg masala, chole, paratha, roti, butter chicken, paneer manchurian paratha, kadai paneer biryani rasgulla, mutton kosha, chicken kasha, samosa chaat, kheer, veg thali chole bhature, pav bhaji, misal pav biryani, kshatriya kebab litti, liti chokha, lassi, tea, paratha, thali, chai fries fruit custard, russian cutlet prompt service salad lassi chicken grill, biryani, shawarma roll, rolls, chicken kebab, chicken shwarma roll, pulpy grape juice burgers, whopper meal, crispy chicken, french fries, grilled wings neer dosa, coffee, pav bhaji, khali dosa, panipuri, masala dosa, tea pasta, fries, cheesiano pizza, veggie pizza, cheesy garlic bread, peri peri paneer pizza burgers, wings, fries, rice bowl, popcorn chicken, zinger burger, chicken snacker masala dosa, idli, coffee, vada, set dosa paratha, chicken kebab, biryani, lassi, butter chicken, veg kolhapuri, pahari chicken egg biryani, donne biryani fries, whole meat shawarma coffee rumali roti, rumali shawarma, burgers, shawarma burger kheer, lassi, paratha, amritsari kulcha, dal makhani, chole bhature, aloo kulcha rolls, momos, paratha, chicken tikka roll, mutton keema, egg roll lassi, amritsari kulcha, punjabi kulcha, paneer kulcha, punjabi chole, aloo kulcha, paratha chaat, samosa, thali, sweet lassi, biryani, egg roll, masala paneer aloo paratha, samosa, kachori, poha, chaat shawarma, chicken grill, tandoori chicken, butter chicken, rolls, chicken tikka, grape juice chicken curry, chicken biryani, jeera rice, paneer biryani, ghee rice, roti, aloo matar momos, manchow soup, pizza sandwich, spring roll, noodles, fries, fried rice rolls, chicken roll, tandoori chicken, biryani, chicken lollipop, paratha, chicken grill samosa, chicken chettinad, murgh makhani malai kofta, sandwiches, aloo paratha, chole bhature, panneer butter masala, kulcha, poori chole tacos, fries, nachos, burrito buttermilk, dal makhani, boondi raita, baingan bharta, aloo paratha, roti, thali cheese dosa, tea, pizza dosa mutton kosha, basanti pulao, chicken biryani vada, coffee, masala dosa, gulab jamun, roti, idli, tomato soup thali, dhokla, samosa, poha, club kachori, paratha, tea pie, thin crust pizza, cheesy pizza, pepperoni pizza, paneer pizza paratha, palak paneer paratha, chole bhature, lassi, thali, paneer parantha masala prawn, mutton kosha, thali, mutton curry, luchi, fish cutlet, bengali pulao burgers, mocha frappe, french fries, maharaja mac, oreo shake, egg wrap fish, rasmalai, doi katla, aalo bhaja, bhetki paturi, chicken kasha, aloo posto pizza, garlic bread tortilla chips, tabasco pizza, salsa, mixed sauce pasta, white sauce pasta, manali pizza, nawabi pizza noodles, corn momo, manchurian, momo platter, veg momos, potato momos, tandoori momos burgers, chicken popcorn, peri peri chicken, wings, peri peri burger, fries, crunchy veg burger paratha, chicken curry pizza, garlic bread, chicken lasagne sea food, neer dosa chicken biryani, butter chicken aloo paratha, manchurian sea food, neer dosa, fish, crab sukha, biryani, chicken thali, chicken meal poha, tea, paratha burgers, chicken wings panneer butter masala, manchurian, noodles, tandoori roti, naan, paratha, french fries vada, masala dosa, filter coffee, kesari bath, kharabath, open dosa chicken biryani roti, dal makhani, lassi, panneer butter masala, kulcha, masala papad, butter chicken akki rottis, neer dosa roti, chicken biryani shawarma coffee, masala dosa appam, tea, chicken curry, kadala curry, fish, egg curry, idiyappam poha, jalebi, paratha, bhindi masala, kachori, puri sabzi, samosa chicken grill, roast chicken, chicken wings, sweet potato mash, pulled chicken burger, sweet potato fries masala dosa, vada, filter coffee paratha, butter naan, thali, tandoori roti, lassi rice bowl, nachos, rice bowls, salad, california burrito, tacos, salads tandoori chicken, butter naan, kadai paneer, pepper chicken coffee, pav bhaji, masala dosa, vada sambar lassi, chai, paratha veg thali, fish thali masala dosa, chole bhature, coffee noodles tea dal makhani, thali, rajma masala, dal fry, sweet lassi, gulab jamun biryani, butter chicken, chicken wings, tandoori chicken, chicken grill, arabian grape juice vada, pongal, podi idli, masala dosa, podi dosa, idiyappam, rice biryani, manchow soup, naan vada burgers, masala dosa, millet pizza, falafel wrap masala dosa, idli, coffee, vada, set dosa pav bhaji, coffee, set dosa, vada, masala poori rice bowl, nachos, rice bowls, salad, california burrito, tacos, salads burgers, mocha frappe, french fries, maharaja mac, oreo shake, egg wrap chole bhature, pav bhaji, misal pav dal makhani, lassi, butter chicken, panneer butter masala, mix veg, saag, butter naan tacos, fries, nachos, burrito chaat, thali, jalebi, rajma, paneer tikka, paratha, kulfi sea food, neer dosa pizza, peppy paneer malai kofta, sandwiches, aloo paratha, chole bhature, panneer butter masala, kulcha, poori chole burgers, whopper meal, crispy chicken, french fries, grilled wings rice bowl, paneer zinger burger, burgers, crispy chicken, chicken boneless strips vada, masala dosa, coffee, akki rottis, idli chutney, curd rice, ghee roast dosa paratha, chicken curry burgers, chicken popcorn, peri peri chicken, wings, peri peri burger, fries, crunchy veg burger chicken biryani, butter chicken appam, tea, chicken curry, kadala curry, fish, egg curry, idiyappam chicken biryani salad paratha, chicken kebab, biryani, lassi, butter chicken, veg kolhapuri, pahari chicken chicken curry, chicken biryani, jeera rice, paneer biryani, ghee rice, roti, aloo matar fries, whole meat shawarma chicken wrap, veggie wrap, rolls, paneer wrap chaat, panipuri, lassi, aloo paratha, chai, gulab jamun tea pizza, garlic bread, veg supreme masala prawn, mutton kosha, thali, mutton curry, luchi, fish cutlet, bengali pulao burgers, masala dosa, millet pizza, falafel wrap buttermilk, dal makhani, boondi raita, baingan bharta, aloo paratha, roti, thali roti, chicken biryani masala dosa, idli masala dosa, chole bhature, coffee noodles akki rottis, neer dosa paratha, chole bhature, lassi, thali, paneer parantha aloo paratha biryani paneer hyderabadi, panneer butter masala, roti, coffee, masala dosa, mughlai biryani, idli vada biryani, butter chicken, chicken wings, tandoori chicken, chicken grill, arabian grape juice chicken grill, shawarma, tandoori chicken, rolls, chicken kebab, chicken tikka, butter chicken pot biryani, sea food, fish thali shawarma, chicken grill, tandoori chicken, butter chicken, rolls, chicken tikka, grape juice coffee, pav bhaji, masala dosa, vada sambar vada, pongal, podi idli, masala dosa, podi dosa, idiyappam, rice tortilla chips, tabasco pizza, salsa, mixed sauce pasta, white sauce pasta, manali pizza, nawabi pizza biryani, kshatriya kebab fries radhaballavi, biryani, egg noodles, egg roll, fish curry, egg devils, thali litti, liti chokha, lassi, tea, paratha, thali, chai rasgulla, mutton kosha, chicken kasha, samosa chaat, kheer, veg thali aloo paratha, samosa, kachori, poha, chaat paratha, palak paneer paratha, butter naan, thali, tandoori roti, lassi biryani, manchow soup, naan vada lassi paratha, shahi paneer burgers, fries, chicken filet burger, peri peri chicken wings, peri peri chicken salad, peri peri chicken burger, falafel pizza, nachos, salads, peri peri fries, brownie, pasta alfredo, spaghetti chaat, pav bhaji, dabeli, vada pav, tawa pulav, panipuri, malpua burgers, french fries masala dosa, tirupathi pongal, filter coffee, vada, kharabath, kali dosa, rava idli paratha, thali chocolate cookies, mexican patty coffee, masala dosa, tea, badam milk, vada, idli, raagi dosa dabeli, faluda, masala poori, sandwiches, tokri chaat, pav bhaji, dahipuri whole meat shawarma, malgoum shawarma, rolls, pita bread, kerala parotta grape juice, chicken grill, chicken tikka roll, shawarma roll, chicken shawarama, biryani combo, rolls chicken stew, ghee rice, biryani, chai paratha dabeli, samosa, tawa pulav, cheese vada pav neer dosa, coffee, pav bhaji, khali dosa, panipuri, masala dosa, tea sweet pongal, mini idlis, filter coffee, open masala dosa, pakoda, vada, raagi dosa paratha, vada pav, chaat, pav bhaji, panipuri, masala poori, dhokla biryani coffee white pasta, noodles, babycorn manchurian, pizza, veg momos, fry momos, tawa pulav chicken biryani, rolls rolls, veggie wrap, chocolate fantasy, rice bowls, chicken rice, paneer makhanwala, chicken tikka wrap masala dosa, idli, filter coffee, medu dosa rolls, burgers, juicy momos, chicken momo, chocolate momos, mushroom momo, paneer momos jowar roti, buttermilk, sabudana vada, thali, mirchi bajji, brinjal curry vada, coffee, masala dosa, gulab jamun, roti, idli, tomato soup paratha, coffee, halwa, lassi rasmalai, kaju katli, paratha, pav bhaji, badam milk, rasgulla, dhokla chai, lemon tea, chicken roll panneer butter masala, lassi, paratha, jeera rice, paneer parantha, bhindi fry, veg kolhapuri coffee, masala dosa masala vada pav, cheese vada pav, fries biryani, chicken curry, paya soup, paratha, mutton keema, chicken guntur, pepper chicken french fries, burgers garlic bread, sandwiches, aloo tikki burger, club sandwich, white sauce pasta, garlic rice thali, dhokla, samosa, poha, club kachori, paratha, tea noodles, pasta, schezwan momos, chicken momo, teriyaki chicken, thukpa, fries masala dosa, sandwiches, coffee, onion dosa, rava dosa, chaat, sandwich burgers, tea, ferrero rocher, sandwich, french fries masala dosa, coffee, pongal, tea, bonda burgers, fries, schezwan burger, maharaja mac burgers, chicken popcorn, peri peri chicken, wings, peri peri burger, fries, crunchy veg burger rolls, biryani, mutton seekh, egg roll, chicken tikka, chicken roll rolls, burgers, sandwiches, nachos, sweet lassi, fries, methi paratha chaat, aloo tikki, dabeli, panipuri, pav bhaji, vada pav, masala poori chicken biryani pizza waffles, sandwiches, maggi, thick shakes, chocolate sandwich chicken grill, biryani, roti, chicken masala burgers, fries, wood fire pizza pizza, white sauce pasta, masala garlic bread benne dosa, mirchi bajji, filter coffee, poha, tea, butter dosa, crispy dosa filter coffee, tea, hot coffee, hatti samosa sugarcane juice, popcorn sandwiches, noodles, sandwich coffee, masala dosa, vegetable biryani vada, masala dosa, idli kachori, indori poha, cheese paratha, paneer parantha, thali, poha jalebi lassi, chai, paratha lassi, panneer butter masala, paratha, thali coffee, thali, kharabath, masala dosa, idli vada, vanilla ice cream, bisi bele bhaath chocolate sandwich, corn sandwich, chocolate sandwiches, lassi, chilli cheese, chaat, panipuri kharabath, filter coffee, idli vada, crispy vada, kesari bath, hot coffee, tea coffee neer dosa, sea food, pepper chicken roti, chicken biryani tandoori chicken, butter chicken, tandoori roti, bhindi masala, paratha, dal makhani sweet lassi, gulab jamun, palak paneer paratha, paneer parantha roti, masala dosa vada pav, misal pav, sabudana vada, dabeli, pav bhaji, sabudana khichdi, lassi badam milk, potato twister, pav bhaji, panipuri, tikki chaat, cheese cutlet sweet pongal, curd rice honey chilli potatoes, nachos, lemonade, hakka noodles, babycorn manchurian, mushroom manchurian, spring roll butter naan, buttermilk, jowar roti, panneer butter masala chicken biryani, mutton biryani, egg biryani, chicken fry, mutton fry benne dosa, idli, coffee sandwiches, chocolate sandwich, chaat, veg cheese sandwich, chilli cheese, corn sandwich masala poori, bhel puri, panipuri, chaat, dahipuri, sev puri, dahi aloo puri sea food, neer dosa, fish, crab sukha, biryani, chicken thali, chicken meal dal makhani, thali, rajma masala, dal fry, sweet lassi, gulab jamun paratha, lassi, manchurian, thali jowar roti, buttermilk, jolada rotti, brinjal curry, coffee, pongal, vegetable biryani paratha, kachori, tea, lassi, samosa, vada pav kharabath, crispy vada, filter coffee, idli vada, idli chutney, kesari bath, gulab jamun rooftop ambience chicken grill, rumali roti, rolls faluda, brownie, sandwich, kulfi, fruit salad, sweet lassi, chocolate fudge fish curry, appam, tea, egg roast, sea food pasta, momos, rolls, chicken roll, chilli chicken, paneer roll, spaghetti rolls, momos, fries, veggie roll, chicken kebab roll, paneer roll, cheese roll masala dosa panipuri, chaat, noodles, dahi bhalle coffee, thali, kharabath, masala dosa, idli vada, vanilla ice cream, bisi bele bhaath chicken biryani, mutton biryani, egg biryani, chicken fry, mutton fry rava idli, filter coffee, ghee masala dosa, badam halwa, upma, raita, rasam rice filter kaapi, filter coffee, khara bhath, maddur vada, crispy masala dosa, kesari bath, ghee masala dosa filter coffee, kesari bath, idli vada, upma, badam milk, kharabath, tea sweet pongal, curd rice grape juice, chicken grill, chicken tikka roll, shawarma roll, chicken shawarama, biryani combo, rolls benne dosa, mirchi bajji, filter coffee, poha, tea, butter dosa, crispy dosa pizza, nachos, salads, peri peri fries, brownie, pasta alfredo, spaghetti masala poori, bhel puri, panipuri, chaat, dahipuri, sev puri, dahi aloo puri fries, hot wings, burgers, rice bowl coffee, vada, curd rice, ghee roast paneer, thali burgers, fries, schezwan burger, maharaja mac khali dosa, kali dosa, upma, filter coffee, kesari bath, set dosa, masala dosa sweet pongal, mini idlis, filter coffee, open masala dosa, pakoda, vada, raagi dosa chocolate sandwich, corn sandwich, chocolate sandwiches, lassi, chilli cheese, chaat, panipuri kharabath, crispy vada, filter coffee, idli vada, idli chutney, kesari bath, gulab jamun masala dosa, vada, obbattu, badam milk, khara bhath, coffee, puri saagu masala vada pav, cheese vada pav, fries coffee, masala dosa, vegetable biryani masala poori, rumali roti, sandwiches, chaat, burgers stuffed garlic bread, tacos, golden corn pizza, chocolava masala dosa, vada, set dosa, filter coffee, raita, idli sambar, bonda sandwich, masala dosa, set dosa, onion dosa, coffee, rava dosa, chaat garlic bread, sandwiches, veg burger, pizza sandwich, burgers, french fries, wedges white pasta, noodles, babycorn manchurian, pizza, veg momos, fry momos, tawa pulav jowar roti, buttermilk, manchurian, brinjal curry, jolada rotti, coffee, panneer butter masala masala dosa, filter coffee, vada, kali dosa, rava idli, carrot halwa, khali dosa garlic bread coffee, idli, masala dosa, sagu dosa, kesari bath, kharabath, plain dosa chocolate cookies, mexican patty, double chocolate cookie, veggie delight coffee, masala dosa, vada, idli, puri saagu, upma, set dosa masala dosa, rava dosa, khali dosa, vada, filter coffee, kali dosa, kesari bath dabeli, faluda, masala poori, tokri chaat, sandwiches, pav bhaji, basket chat coffee, masala dosa, masala poori, kadhai paneer, thali badam milk, potato twister, pav bhaji, panipuri, tikki chaat, cheese cutlet buttermilk, jolada rotti butter naan, buttermilk, jowar roti, panneer butter masala sandwiches, chocolate sandwich, chaat, veg cheese sandwich, chilli cheese, corn sandwich pizza, white sauce pasta, masala garlic bread burgers, chicken whopper, french fries mutton biryani, mutton chops, chicken fry, chicken biryani, paya, mutton fry, chilli chicken lassi, panneer butter masala, paratha, jeera rice, paneer parantha, veg kolhapuri, bhindi fry chicken fry, mutton fry, mutton biryani, chicken biryani, chicken kebab, donne biryani, chilli chicken coffee, thali, kharabath, masala dosa, idli vada, vanilla ice cream, bisi bele bhaath vada, masala dosa, idli kesari bath, benne masala dosa, kharabath, tea, filter coffee, idli vada, aloo palya pasta, momos, rolls, chicken roll, chilli chicken, paneer roll, spaghetti chicken kebab, ghee rice, chicken grill, paratha, chicken biryani masala dosa, coffee, pongal, tea, bonda filter coffee, masala dosa, upma, aloo palya, crispy vada, kharabath, idli vada rava dosa, roti, masala dosa, kulcha, sandwiches, vada pav, idli masala dosa, idli chutney, kharabath, filter coffee, kesari bath, idli vada, maddur vada honey chilli potatoes, nachos, lemonade, hakka noodles, babycorn manchurian, mushroom manchurian, spring roll tandoori maggi, paneer sizzler, pasta, pizza, butter garlic fries, peri peri maggi, garlic maggi noodles, pasta, schezwan momos, chicken momo, teriyaki chicken, thukpa, fries curd rice, bisi bele bhaath, pongal paratha, coffee, halwa, lassi khali dosa, kali dosa, masala dosa, vada sambar puri saagu, idli sambar, filter coffee, plain dosa, idli vada, vada sambar, rava idli coffee, masala dosa coffee, jeera rice, masala dosa, neer dosa neer dosa, sea food, pepper chicken masala dosa vegetable biryani, masala dosa, kulcha, masala papad, tomato soup chicken grill, biryani, roti, chicken masala vada, idli, coffee, masala dosa lassi, panneer butter masala, paratha, thali masala dosa, idli, vada sambar chicken biryani rolls, biryani, mutton seekh, egg roll, chicken tikka, chicken roll burgers, fries, chicken filet burger, peri peri chicken wings, peri peri chicken salad, peri peri chicken burger, falafel kesari bath, masala dosa chicken biryani, rolls coffee, masala dosa, kharabath, idli vada, kesari bath coffee, tomato soup, thali, vada sambar, biryani rolls, burgers, juicy momos, chicken momo, chocolate momos, mushroom momo, paneer momos panipuri, chaat, noodles, dahi bhalle rooftop ambience cheese dosa, chocolate dosa, corn dosa, pesarattu, bread dosa jeera rice, thali, roti tea, biryani naan, paratha, sweet lassi, egg masala, matar paneer, dal tadka, panneer butter masala chicken curry, paratha, fish, kerala parotta gulab jamun, thali, salad panneer butter masala, butter chicken, kadhai paneer, egg biryani, noodles, chilli paneer lassi, naan, chicken biryani, butter chicken, aloo paratha, manchurian, paneer tikka masala burgers lassi, thali, paratha, rajma, malai kofta, buttermilk, phulke ghar ke sandwiches, paratha, fruit lassi, gulab jamun momos, rolls, paratha, chaap hyderabadi biryani, paneer biryani filter coffee, vada, biryani, masala dosa rolls, chicken biryani roti rice bowl, burgers, french fries, popcorn chicken chocolate momos, thukpa, momo burger, chicken momo beef fry, beef biryani, fish curry, appam, karimeen fry aloo paratha, panneer butter masala garlic bread lassi, paratha, chur chur naan, raita, chana masala, kheer, buttermilk rolls, chicken wrap, veggie wrap, thali, paneer curry, sabudana vada, sabudana kheer tea, coffee, sabudana khichdi, samosa, sandwiches, khichda, onion pakoda fries, whole meat shawarma, rolls chaat, vada pav, fafda, sandwiches, kutchi dabeli, sev puri coffee, vada, chaat, rava idli biryani, gulab jamun, shikanji, kulfi, chaat burgers, jerk chicken salad, salads, lemon mojito, lemonade, chicken patty, veg burger thali, mutton handi chicken grill, grape juice, tandoori chicken, shawarma roll, wings, rolls, chicken curry cheese naan, biryani, onion rings pizza burger, garlic bread, chocolava aloo paratha, dal makhani, paneer parantha, chaat rolls, paratha thalassery biryani, chicken fry, chicken biryani burgers, strawberry shake, fries, pancakes, chicken salad, lamb sandwiches, maggi, rolls, chole bhature, ginger tea, paratha, rava masala dosa paratha, thali, rajma thali, lassi, dal bati churma, paratha, buttermilk, paneer malai kofta, dal tadka pizza, hyderabadi chicken biryani, chicken tikka biryani rajma, fried rice, lassi, butter phulkas, bhindi fry, thali, butter chicken liti chokha, noodles, litti, paratha, pav bhaji burgers, fries rolls, chicken shawarama, chicken shwarma roll, abbabi chicken, shawarma roll paratha, thali, rajma, poha vada, coffee, idli, masala dosa, tea, onion dosa, podi dosa masala vada pav, kulfi pita bread, rolls, shawarma roll, lebanese shawarma, chicken grill, barbeque chicken kulcha, samosa chaat, panipuri, sev puri, chai, filter coffee, aloo tikki chole chai, vada pav, pizza paneer tikka, dal bati, gulab jamun, thali, tandoori mushrooms, chole, chinese bhel pasta, pizza, garlic bread dal tadka paratha dal tadka, matar methi malai, malai kofta, jeera rice, roti chicken grill, butter chicken, shawarma, chicken shwarma roll, chicken lollipop, rumali roti, rolls burgers liti chokha, chilli chicken, chicken litti, paratha, lassi, pan fried momos, egg curry chicken drumsticks, wood fire pizza, thin crust pizza, barbeque chicken, lime soda, veggie pizza, bbq chicken paneer tikka, tandoori momos, soya chaap, afghani chaap rolls, beda roti, chicken baida roti, chicken tikka roll, aloo tikka roll, mushroom roll paratha, rajma chawal chicken biryani, mutton biryani chole, lassi, paratha paratha, puri sabzi, tea, chole chaat, burgers, cheese maggi, tea, chocolate shake, lassi, cheese vada pav sattu paratha, lassi, dal makhani, roti rolls, veg momos, chicken momo, paneer tikka roll dal tadka, matar methi malai, malai kofta, jeera rice, roti thali, lassi, dal bati churma, paratha, buttermilk, paneer malai kofta, dal tadka filter coffee, vada, biryani, masala dosa lassi, paratha, chur chur naan, raita, chana masala, kheer, buttermilk lassi, thali, paratha, rajma, malai kofta, buttermilk, phulke ghar ke hyderabadi biryani, paneer biryani chole, lassi, paratha lassi, naan, chicken biryani, butter chicken, aloo paratha, manchurian, paneer tikka masala beef fry, beef biryani, fish curry, appam, karimeen fry burgers, fries aloo paratha, panneer butter masala rajma, fried rice, lassi, butter phulkas, bhindi fry, thali, butter chicken chai, vada pav, pizza rolls, chicken shawarama, chicken shwarma roll, abbabi chicken, shawarma roll masala vada pav, kulfi paratha, thali, rajma, poha cheese naan, biryani, onion rings tea, biryani chicken biryani, mutton biryani paneer tikka, dal bati, gulab jamun, thali, tandoori mushrooms, chole, chinese bhel pizza burger naan, paratha, sweet lassi, egg masala, matar paneer, dal tadka, panneer butter masala rolls, paratha chaat, thali, chole bhature, dahipuri, raita, raj kachori, lassi liti chokha, noodles, litti, paratha, pav bhaji tea, coffee, sabudana khichdi, samosa, sandwiches, khichda, onion pakoda thalassery biryani, chicken fry, chicken biryani vada, coffee, idli, masala dosa, tea, onion dosa, podi dosa shawarma, pita bread paratha, rajma chawal chicken grill, butter chicken, shawarma, chicken shwarma roll, chicken lollipop, rumali roti, rolls idli, vada, pongal, filter coffee, mini idlis, rava masala dosa, tea chicken curry, paratha, fish, kerala parotta sattu paratha, lassi, dal makhani, roti pasta, pizza, garlic bread chicken grill, shawarma roll, biryani, pulpy grape juice, paratha, chicken shawarama, chicken tikka rolls, beda roti, chicken baida roti, chicken tikka roll, aloo tikka roll, mushroom roll dal tadka rolls, whole meat shawarma, chicken shawarama, malgoum shawarma rolls, veg momos, chicken momo, paneer tikka roll biryani fish curry, roast chicken, kerala parotta, appam, mutton pepper fry, sea food, ghee rice pepper chicken, chicken biryani, mutton biryani burgers, fries, peri peri chicken, nachos, wings, rolls, tandoori burger burgers, tandoori grill burger, mango shake, cheesy fries, whopper burger, chicken keema burger, chicken crisp burger rolls, beda roti, veggie roll, chicken seekh roll, chicken kalimirch, kathi roll, mutton kebab roll rolls, fries, egg roll butter chicken, paratha dal fry burgers, crispy chicken, chicken zinger burger, french fries, chicken fries, hot wings rolls, chicken grill coffee, roti, vada pav chicken biryani, lemon chicken roll biryani salad, salads, sandwiches rolls, chicken tikka roll, cheese roll chilli chicken rolls, shawarma, beef roll, chicken shawarama, beef shwarma, haleem, chicken roll pizza, pasta, burgers, lasagne, masala garlic bread peri peri chicken, shawarma, biryani, rolls filter coffee, kesari bath, curd rice, idli vada, crispy masala dosa, masala tea, thick coconut chutney rolls, egg roll, chai, ginger tea, biryani, rasgulla, luchi rolls, burgers, sandwiches, nachos, sweet lassi, fries, methi paratha pizza, garlic bread rolls, whole meat shawarma vada, masala dosa, filter coffee hariyali chicken, rice kheer, chicken kebab, chicken biryani, firewood biryani, mutton biryani, badam phirni dum biryani burgers, mc spicy chicken, chicken burger, maharaja mac paratha, paneer pakora, chole bhature, rajma chawal, chaach, lassi, buttermilk rolls, biryani, butter chicken, chicken manchurian roll coffee, idli, masala dosa, burgers chole, tea, filter coffee, vada, upma, butter masala dosa, idli masala dosa, coffee vada, idli, kharabath, noodles, filter coffee masala dosa, panneer butter masala, thali fried cheese, french fries, maggi, thick shakes, chilli cheese fries, tea chai, maggi, english breakfast donne biryani, mutton biryani mutton chops, mutton fry, brain fry, mutton masala, mutton curry, donne biryani, chicken curry burgers, salad, mocktails, pasta arrabiata, fries, nutella cheesecake, teriyaki chicken wings momos, chicken lollipop, chicken momo, noodles, chicken thukpa filter coffee, mini idlis irish coffee, gelato ice cream, italian icecream, chocolate cake sandwiches, tea, masala chai, pasta, maggi, sandwich, chicken burger lassi, amritsari kulcha, chole butter naan, buttermilk, jowar roti, panneer butter masala tandoori chicken, butter chicken, garlic naan burgers, cheesy pizza, chips, fries, rice bowl, white sauce pasta, chicken wings dal makhani mutton biryani, chilli chicken, pepper chicken, chicken fry, donne chicken biryani, chicken guntur, chicken kebab lassi, shahi paneer, kheer, paneer bhurji, methi paratha, paneer parantha, stuffed paratha paratha, chaat, masala dosa, pav bhaji, tea, kulcha, filter coffee donne chicken biryani, akki rottis, roti, mutton chops, chicken curry, vada, coffee beef biryani, chicken biryani, chicken kebab, mutton biryani, beef kabab, paratha, ghee rice momos, noodles, chop suey sandwiches, fruit bowl, panipuri, corn sandwich, palak paneer, arabian grape juice, cheesy grilled sandwich burgers, biryani, cheesecake nachos, california burrito, rice bowl, salads shawarma, burgers, beef burger, potato wedges, vegetable noodles, cheese fatayer, garlic fries gobhi pakoda, bajji, raita, ginger tea, jalapeno cheese poppers, mojito, chai garlic naan, tandoori chicken, basmati rice samosa, tea paratha, samosa, vada pav tea, filter coffee, pongal, masala dosa gulab jamun, chaat, jalebi, chole, sev puri, rasgulla, masala poori irish coffee, gelato ice cream, italian icecream, chocolate cake badam milk, chaat, rasmalai, mysore pak, samosa, paneer cutlets, kachori paratha, samosa, vada pav masala dosa, panneer butter masala, thali noodles, thukpa, beef momos, chowmein, veg momos, cheese momos burgers, ginger chicken, virgin mojito, popcorn, rice bowl thukpa, vegetable noodles, steam chicken momos, chowmein, chicken shaptra, chicken manchurian, dumplings sandwich burgers, mc spicy chicken, chicken burger, maharaja mac filter coffee, kesari bath, curd rice, idli vada, crispy masala dosa, masala tea, thick coconut chutney tandoori chicken, butter chicken, garlic naan filter coffee, rava idli, rava masala dosa, vada, raagi dosa, podi dosa, badam halwa biryani garlic naan, tandoori chicken, basmati rice chole, tea, filter coffee, vada, upma, butter masala dosa, idli rolls, beef kabab, seekh kebab, seekh roll burgers, salad, mocktails, pasta arrabiata, fries, nutella cheesecake, teriyaki chicken wings beef biryani, chicken biryani, chicken kebab, mutton biryani, beef kabab, paratha, ghee rice gulab jamun, chaat, jalebi, chole, sev puri, rasgulla, masala poori momos, noodles, chop suey mutton cutlets, filter coffee, masala dosa, omelette, vada, scrambled eggs, hot coffee lassi, amritsari kulcha, chole masala dosa, idli, kali dosa, ghee khali dosa, tomato rice, set dosa, ghee rice biryani burgers, fries, peri peri chicken, nachos, wings, rolls, tandoori burger chicken curry, biryani, chilli chicken, fry prawns, chicken kebab paratha, paneer pakora, chole bhature, rajma chawal, chaach, lassi, buttermilk sandwiches, fruit bowl, panipuri, corn sandwich, palak paneer, arabian grape juice, cheesy grilled sandwich akki rottis, rumali roti, masala dosa, vada, raagi roti, rava idli, coffee coffee, roti, vada pav burgers, biryani, cheesecake filter coffee, idli rolls, shawarma, beef roll, chicken shawarama, beef shwarma, haleem, chicken roll rolls, burgers, sandwiches, nachos, sweet lassi, fries, methi paratha pizza, garlic bread vada, idli, kharabath, noodles, filter coffee pav bhaji, panipuri, chaat sea food, fish fry, fish curry, fish kebab, buttermilk, fry prawns, ragi mudde chilli chicken donne chicken biryani, akki rottis, roti, mutton chops, chicken curry, vada, coffee shawarma, burgers, beef burger, potato wedges, vegetable noodles, cheese fatayer, garlic fries masala dosa, filter coffee, vada, akki rottis, rava dosa donne biryani, mutton biryani rolls, beda roti, afghan chicken, reshmi kebab, chicken tikka roll rolls, chicken tikka roll, cheese roll paratha, chaat, masala dosa, pav bhaji, tea, kulcha, filter coffee hariyali chicken, rice kheer, chicken kebab, chicken biryani, firewood biryani, mutton biryani, badam phirni rolls, veggie wrap, chicken wrap, paneer wrap, chole, dal makhani, jal-jeera masala dosa, filter coffee dal makhani mutton biryani, chilli chicken, pepper chicken, chicken fry, donne chicken biryani, chicken guntur, chicken kebab gobhi pakoda, bajji, raita, ginger tea, jalapeno cheese poppers, mojito, chai pav bhaji, chaat, masala poori, panipuri, dahipuri, sev puri, sandwiches samosa, tea biryani, buttermilk, mutton curry, thali, mutton fry sandwiches, tea, masala chai, pasta, maggi, sandwich, chicken burger masala dosa, khali dosa, kali dosa, gini dosa, idli, potato masala, coffee vada nachos, california burrito, rice bowl, salads nachos, pasta del barone, cheesy garlic bread, thin crust pizza, oreo milkshake, tortilla chips, manali pizza burgers, hot dog, mint mojito, french fries, bbq burger, lime mojito, grilled burger chole, paratha, rajma biryani, sandwich, thali, roti, shahi paneer paratha, thali laccha paratha, murgh lababdar, biryani, mutton bhuna gosht, litti, bhuna chicken poha, vada pav, tea, sandwiches, chicken sandwich, french omelette, french fries rabri, naan, chaap, raita, tandoori chicken, tangdi kabab, dal makhani roti, fish fry, egg noodles chole, roti, vada burgers, mcmuffin, french fries, waffles, pancakes, mc veggie, coffee dum biryani, hyderabadi biryani tandoori chicken paratha dabeli, pav bhaji, cheese vada pav paratha pizza, garlic bread chole bhature, jalebi, chaat, puri sabzi, buttermilk, dhokla, panipuri rolls, falafel, biryani, paratha chole bhature, paratha, veg thali, poori bhaji, chaat, chhole bhature burgers, fries tandoori momos, pasta, afghani momos, chicken wings, roasted chilli pane pizza, garlic bread, thin crust pizza, paneer pizza, pepperoni, pasta biryani, chicken grill, roast chicken, tandoori chicken, pepper chicken, roti, rolls veg platter, chicken kebab roll, chai, aloo samosa, chicken samosa sandwich, paratha, poha, sandwiches, idli vada, tea, roti panneer butter masala, paratha, vegetable biryani chicken biryani fish, paratha, fried rice sandwich, gujarati food, pav bhaji, tea, thali, panipuri poha, aloo paratha dal makhani, paneer thali paratha, paneer thali, tandoori roti, chole bhature thali, biryani, aloo paratha thali, salad, palak paneer, chicken curry, butter chicken, buttermilk, shahi paneer fish, veg thali, biryani chole bhature, deluxe thali, lassi, chaat, aloo paratha, soya chaap biryani, dahipuri fish curry, dal makhani, khichda, chicken handi kheer, paneer chatpata, mango lassi, thali, paratha, gulab jamun, buttermilk rice, paratha, thali butter naan, paratha, kulcha, butter chicken, shawarma, roti, thali rasgulla, mutton kosha, luchi, fish cutlet, aloo posto, alur dom, thali liti chokha, litti, sattu paratha, dal bati, thali, roti burgers, fries, chicken jumbo burger, salads, jumbo royale burger, peri peri wrap, peri peri chicken burger mutton biryani, roti burgers, chicken roll, rolls, fries, wings, tandoori momos, chicken grill french fries, whole meat shawarma, chicken shawarama rolls, chicken tikka roll, chicken bhuna roll, biryani, lassi, paneer bhurji roll, beda roti mutton thali, mutton curry, veg thali sabudana vada, kulfi, schezwan vada pav, ginger tea paratha laccha paratha, butter naan, roti, vegetable biryani plain dosa, palak dosa, mushroom dosa french fries, peri peri fries rolls, rice, biryani paratha paratha, veg thali, chole bhature, gulab jamun, lassi, dal fry, roti chicken grill, dal fry, arabian grape juice, rumali roti, shawarma roll chicken guntur, vegetable biryani, executive chicken biryani, mutton biryani, hyderabadi chicken biryani paratha, thali biryani, idli, vada, chicken curry fish filter coffee, plain dosa biryani, paratha paratha, pizza parantha, tea, sandwich, honey chilli potatoes, pasta alfredo, coffee veg tandoori momos, keema pav, butter chicken, pav bhaji, rolls, galauti kebab, achari paneer mudpie, sandwich, masala dosa, hot coffee, pasta, pizza dosa, paratha biryani, chicken curry mutton biryani chaat, panipuri, jalebi, vada pav, samosa, gol gappe, chole bhature lassi, paratha, chaach, chole bhature, thali thali, lassi, rice, chole bhature, paratha, dal makhani, dal tadka beef fry, appam, chicken curry, kerala parotta, idiyappam, egg curry, biryani dum biryani burgers paratha tacos, nachos, pizza, mexican fries pasta roti, rice roast chicken, appam, kadala curry, fish fry rolls potato fries, chicken curry chai panneer butter masala, lassi paratha, tandoori chicken, panneer butter masala, chole bhature veggie pizza, french fries dal makhani, reshmi kebab, thali, panneer butter masala, naan, rice, masala papad rolls, rasgulla, fish fry, bhetki paturi, mutton kosha, veg thali, luchi thepla, poha, gujarati food, paratha, chocolate sandwich, cheese dabeli non veg thali, egg maggi mutton curry, aloo paratha sandwiches, chaat, panipuri, sandwich samosa, jalebi, rasmalai, poha, aloo poori, panipuri, aloo sabji biryani, raita waffles, burgers, pizza, tea papdi chaat, panneer butter masala, tea, paneer lababdar, biryani, kullad chai, chicken tikka masala pasta, burgers, fries, nachos, exotic garlic bread, pizza, thick shakes veg thali, fish thali rolls, noodles, mughlai paratha, paneer kathi roll, veg manchow soup, crispy chicken, chicken manchurian chole bhature, jalebi, chaat, puri sabzi, buttermilk, dhokla, panipuri fish, veg thali, biryani thali, lassi, rice, chole bhature, paratha, dal makhani, dal tadka chole bhature, jalebi, chaat, puri sabzi, buttermilk, dhokla, panipuri biryani, chicken grill, roast chicken, tandoori chicken, pepper chicken, roti, rolls liti chokha, litti, sattu paratha, dal bati, thali, roti nachos, burrito, rice bowl, pizza, fiesta potatoes, chicken burritos, crispy tacos paratha, gulab jamun, thali, lassi, kheer, roti, palak paneer veggie pizza, french fries burgers, masala fries, wings panneer butter masala, paratha, vegetable biryani zinger burger, hot wings, chicken wings, crispy chicken, fries sabudana vada, kulfi, schezwan vada pav, ginger tea waffles, burgers, pizza, tea panneer butter masala, coffee, tea, idli, manchurian, vada, thali burgers, mcmuffin, french fries, waffles, pancakes, mc veggie, coffee pav bhaji, coffee, tea, masala dosa, naan biryani, chicken curry fish, paratha, fried rice paratha, chicken parantha, chicken curry, panneer butter masala masala dosa, tea, onion dosa, vada, rava idli, kesari bath pizza burgers, hot dog, mint mojito, french fries, bbq burger, lime mojito, grilled burger paratha sandwiches, chaat, panipuri, sandwich mudpie, sandwich, masala dosa, hot coffee, pasta, pizza dosa, paratha paratha, tandoori chicken, panneer butter masala, chole bhature burgers chaat, panipuri, jalebi, vada pav, samosa, gol gappe, chole bhature samosa, jalebi, rasmalai, poha, aloo poori, panipuri, aloo sabji beef fry, appam, chicken curry, kerala parotta, idiyappam, egg curry, biryani mutton curry, aloo paratha laccha paratha, butter naan, roti, vegetable biryani chole bhature, paratha, veg thali, poori bhaji, chaat, chhole bhature sandwich, paratha, poha, sandwiches, idli vada, tea, roti lassi, chaat, chole bhature, jalebi, panipuri, thali, paratha mutton thali, mutton curry, veg thali rasgulla, mutton kosha, luchi, fish cutlet, aloo posto, alur dom, thali dum biryani paratha, pizza parantha, sandwich, tea, honey chilli potatoes, pasta alfredo, coffee paratha chicken grill, dal fry, arabian grape juice, rumali roti, shawarma roll rolls, salad, dal makhani, chicken wrap, pizza, chocolate cake, chocolate fantasy rolls, falafel, biryani, paratha pizza, garlic bread, veg supreme rolls, mix veg papdi chaat, panneer butter masala, tea, paneer lababdar, biryani, kullad chai, chicken tikka masala pasta, burgers, fries, nachos, exotic garlic bread, pizza, thick shakes panneer butter masala, lassi rolls, rasgulla, fish fry, bhetki paturi, mutton kosha, veg thali, luchi coffee, kerala parotta, thalassery dum biriyani, appam, noodles, malabari biryani, thalassery chicken curry chai dal makhani, paneer thali paratha, paneer thali, tandoori roti, chole bhature lassi, paratha, chaach, chole bhature, thali chicken guntur, vegetable biryani, executive chicken biryani, mutton biryani, hyderabadi chicken biryani paratha, thali rolls, rice, biryani filter coffee, idli, vada, masala dosa, tea, pongal, plain dosa coffee, vada, mla dosa pasta paratha, lassi, rolls biryani, idli, vada, chicken curry fish burgers, chicken fries, chicken grill, hot wings, chicken roll paratha panneer butter masala, idli, masala dosa, vada, coffee, roti, thali radhaballavi, biryani, egg noodles, egg roll, fish curry, egg devils, thali roast chicken fish, paratha puttu biryani, egg roast jeera rice, corn paratha, paneer bhurji, gobhi matar, vegetarian, sweet lassi, dal fry gulab jamun, chaat, raita, chole, soya chaap, panipuri, dal makhani fries, white sauce pasta, monster pizza, cheesy garlic bread, cheesy pizza, margherita pizza burgers, wings, whopper burger, cheesy fries, italian fries poha, samosa, jalebi, kachori paratha, shahi paneer burgers, fries, chicken filet burger, peri peri chicken wings, peri peri chicken salad, peri peri chicken burger, falafel biryani thali, egg masala, chole, paratha, roti, butter chicken, paneer manchurian fish, appam, egg roast, kadala curry, chicken curry, beef fry, ghee rice ambur biryani, mutton biryani, raita lassi, roti, veg thali, aloo paratha, egg curry mutton biryani, dragon chicken, chicken dum biryani, vegetable biryani, paneer biryani neer dosa rasgulla, mutton kosha, chicken kasha, samosa chaat, kheer, veg thali pyaz kachori, chaat, gajar ka halwa, shrikhand, jalebi rabri, churma, boondi raita tacos, nachos, potato pops, potato burrito, fiery potato, rice bowls, taco joint coffee, masala dosa, tea, badam milk, vada, idli, raagi dosa neer dosa, coffee, pav bhaji, khali dosa, panipuri, masala dosa, tea rava idli, filter coffee, tea, vada, paper masala dosa, donne biryani fries paratha, kadai paneer chicken stew, ghee rice, chai, beef biryani ghee rice fruit custard, russian cutlet burgers, crispy chicken, fiery chicken, chicken wings, chicken grill, rice bowl, hot wings masala dosa thali, coffee, buttermilk, tea, methi paratha, sweet lassi, aamras butter naan, tandoori chicken, chicken tikka masala, malai kofta, biryani, wheat paratha, noodles pizza, spinach curry, salad lassi masala dosa, panneer butter masala coffee, peri peri fries, hot chocolate, scrambled eggs, donut, grilled chicken wrap, ice tea pasta, fries, cheesiano pizza, veggie pizza, cheesy garlic bread, peri peri paneer pizza raita, vegetable biryani, biryani combo podi idli, masala dosa, pongal, coffee, mini idlis, appam, raagi dosa prompt service dabeli, samosa, tawa pulav, cheese vada pav biryani, chicken curry, paya soup, paratha, mutton keema, chicken guntur, pepper chicken vada, rava idli, masala dosa, coffee masala dosa lassi, punjabi chicken, paratha, kadhai murgh, butter naan, lemon chicken, roti chaat, samosa, thali, sweet lassi, biryani, egg roll, masala paneer poha, bread omelette, ginger chai, ginger tea kulcha, chole, mutton curry, paratha, mint raita, chicken curry, dal makhani lassi, amritsari kulcha, punjabi kulcha, paneer kulcha, punjabi chole, aloo kulcha, paratha mutton kosha, kosha mangsho fish thali, aloo paratha vada, coffee, masala dosa, gulab jamun, roti, idli, tomato soup idli, coffee, vada coffee, dahi vada, chaat chaat, pav bhaji, panipuri, basket chat, mango lassi, sev puri, misal chaat, dabeli, pav bhaji, dhokla, gujarati food, jalebi, panipuri aloo paratha, samosa, kachori, poha, chaat masala dosa, coffee, pongal, tea, bonda noodles, pasta, tibetan momos, clear soup, chicken momo, tibetan thukpa, tea beef fry, fish fry, appam, masala prawn, egg roast, chicken curry, biryani thali, dhokla, samosa, poha, club kachori, paratha, tea tea, chole, khichda, butter paneer, paneer bhurji, paratha, masala chai mutton kosha, basanti pulao, chicken biryani paratha, rolls, roti masala dosa, pongal, filter coffee, tea, idli paneer biryani, naan ginger chai, ginger tea, pakoda, paratha, maggi, pav bhaji, sulemani chai pizza, chicken biryani pav bhaji, dabeli, paratha, raj kachori, vada pav shawarma, sandwiches dal makhani, amritsari kulcha paratha, palak paneer masala dosa, vada, tea, coffee, idli cheese paratha benne dosa coffee, burgers, pasta, beef steak, chicken lasagne, salads, sandwiches sabudana vada, masala dosa, filter coffee, pesarattu upma, podi idli, mirchi bajji, pongal burgers, tea, ferrero rocher, sandwich, french fries poha, kachori, samosa, sabudana khichdi, paratha tikki, chicken tikka, chicken biryani, thali, shammi kebab roll, rumali roti, nihari burgers, chicken popcorn, peri peri chicken, wings, peri peri burger, fries, crunchy veg burger friendly staff vada, idli, masala dosa, filter coffee, tea, sandwiches masala dosa, biryani, chicken stew, tea, appam, paratha gulab jamun, samosa, paratha, paneer curry, biryani, chaat, veg cutlet chicken biryani, ambur biryani, kothu paratha, onion raita, fish fry momos, rice noodles, kung pao chicken, noodle, rice bowl, thai green curry, chicken dim sum saag, veg thali filter coffee, badam milk, idli, hot coffee, samosa, lemon tea, mini idlis burgers, fries, chicken wings, popcorn, chicken grill chaat, aloo tikki, dabeli, panipuri, pav bhaji, vada pav, masala poori gulab jamun, buttermilk, egg bhurji, sprout salad, roti shawarma, chicken grill, faluda poha, tea, paratha tea, coffee, neer dosa, gajar ka halwa, thali, chaat, cheese dosa spicy chicken veg momos, noodles, cheese momos, jhol momos, wai wai bhel, brownie, chicken momo pizza parantha, chai, paratha, fries, cheese maggi, rajma chawal kachori, indori poha, cheese paratha, paneer parantha, thali, poha jalebi masala dosa, vada, filter coffee chicken curry, red rice, fish curry whole meat shawarma, fries, jumbo shawarma, malgoum shawarma, rolls, chicken shawarama, kerala parotta ginger tea, filter coffee, sandwich, poha, waffles, vada biryani roti, dal makhani, lassi, panneer butter masala, kulcha, masala papad, butter chicken coffee, sandwiches, tea tandoori chai, tea, paratha, samosa chaat, onion pakoda, raj kachori litti, liti chokha, lassi, tea, paratha, thali, chai biryani, paratha, chicken masala, kerala parotta shawarma paratha, rajma filter coffee, lunch thali, idli, mini idlis, ghee masala dosa, rasam vada, pongal chicken grill, grape juice, biryani, shawarma roll, rolls, chicken kebab, chicken shwarma roll tandoori chicken, butter chicken, tandoori roti, bhindi masala, paratha, dal makhani paratha, chicken kebab, biryani, lassi, butter chicken, veg kolhapuri, pahari chicken egg biryani, donne biryani rolls, chicken roll, tandoori chicken, biryani, chicken lollipop, paratha, chicken grill coffee ginger tea, chai, samosa, bun omelette, elaichi tea, egg bhurji, carrot cake vada, masala dosa, kharabath, filter coffee, kesari bath, idli sambar paratha, chicken curry coffee, pav bhaji, masala dosa, vada sambar lassi, paratha, paneer parantha, butter chicken, punjabi chicken, shahi paneer, chicken kolhapuri paratha, butter naan, thali, tandoori roti, lassi biryani, fish curry tandoori chicken, chicken boneless biryani, hyderabadi biryani, lemon chicken, mutton biryani, raita lassi, chai, paratha bhindi fry, aloo fry, sweet lassi, paratha, tawa roti, palak paneer, butter chicken mutton biryani, chicken kebab, donne biryani paratha, mutton curry momos, pizza sandwich, manchow soup, spring roll, noodles, fries, fried rice chicken biryani, thali, rolls, ambur biryani, palak paneer, salad, bhatti ka murgh rumali roti, rumali shawarma, burgers, shawarma burger mushroom masala, thali, aloo paratha, roti, samosa, panneer butter masala butter chicken, dal makhani, roti, tangdi kabab, panneer butter masala chaat, gulab jamun, panipuri, samosa, dhokla, thali, kachori momos, noodles, thukpa, teriyaki chicken, chicken chowmein, clear chicken soup, beef chilli chicken biryani, dum biryani, vegetable biryani, mutton biryani pizza, peri peri fries, veg paprika fish, rasmalai, doi katla, aalo bhaja, bhetki paturi, chicken kasha, aloo posto burgers, belgian fries, pasta, salads, falafel pockets, greek sandwich noodles, pasta, schezwan momos, chicken momo, teriyaki chicken, thukpa, fries french fries, peri peri fries, cup cake, potato fries, fried cheese, chicken fries, mexican fries baklava, falafel roll, falafel plate, pita bread, mint lemonade, pita pocket, pomegranate juice matar paneer, paratha, chole bhature, lassi sea food, neer dosa tortilla chips, tabasco pizza, salsa, mixed sauce pasta, white sauce pasta, manali pizza, nawabi pizza almond shake, pizza fries shawarma, chicken grill, tandoori chicken, butter chicken, rolls, chicken tikka, grape juice buttermilk, dal makhani, boondi raita, baingan bharta, aloo paratha, roti, thali kosha mangsho, daab chingri, fish curry, dum biryani chicken biryani, butter chicken rolls, biryani, mutton seekh, egg roll, chicken tikka, chicken roll burgers, fries, wood fire pizza pizza, garlic bread, chicken lasagne bingsu, mocktails, custard, chocolate oreo, sandwiches, brownie, korean ice cream veg thali, fish thali chicken biryani, hyderabadi dum biryani, raita akki rottis, neer dosa pizza, rolls, burgers appam, buttermilk, fry prawns, roast beef, masala prawn, chicken stew, murgh ghee roast sandwiches, fruit juices, burgers, chicken sandwich, omelette, french fries, oreo shake peri peri chicken, chicken pizza, white pasta, kit kat shake sea food, neer dosa, fish, crab sukha, biryani, chicken thali, chicken meal honey chilli potatoes, nachos, lemonade, hakka noodles, babycorn manchurian, mushroom manchurian, spring roll roti, chicken biryani sandwiches, fries, sandwich, pizza, thick shakes, garlic bread vada pav, misal pav, sabudana vada, dabeli, pav bhaji, sabudana khichdi, lassi chicken grill, roast chicken, chicken wings, sweet potato mash, pulled chicken burger, sweet potato fries poha, jalebi, paratha, bhindi masala, kachori, puri sabzi, samosa rolls, chicken wings, shawarma, chicken tikka roll, burgers, fries, pasta poha, jalebi, paratha, bhindi masala, kachori, puri sabzi, samosa rolls, chicken wings, shawarma, chicken tikka roll, burgers, fries, pasta chicken nachos, chicken tacos, rice bowl noodles, nasi goreng, rolls, kiwi mojito, brownie, tom yum soup, dumplings lassi, soya chaap, fish, masala papad momos, chicken lollipop, chicken momo, noodles, chicken thukpa egg noodles, biryani paratha vada wood fire pizza noodles, beef momos, chicken shaptra, chicken thukpa, clear soup, beef momo, chicken thupka tandoori chicken, butter naan, kadai paneer, pepper chicken burgers, cheesy pizza, chips, fries, rice bowl, white sauce pasta, chicken wings biryani, manchow soup, naan bhaji dosa hyderabadi biryani, ginger chicken whole meat shawarma, jumbo shawarma, spicy shawarma, momos peri peri chicken, fries, lemongrass chicken, margherita pizza raita, hyderabadi biryani pizza, dragon chicken, butter chicken, noodles, chicken wings, chicken noodle rice, donne biryani, mutton biryani, chicken kebab, chilli chicken, chicken biryani, kshatriya kebab nutella waffle dal makhani, thali, rajma masala, dal fry, sweet lassi, gulab jamun appam, chicken curry, passion fruit juice, crepe thali burgers, zinger burger fish curry, appam, tea, egg roast, sea food benne dosa, idli, coffee dal makhani, rice, buttermilk chicken grill, rumali roti, rolls momos, noodles, thukpa, chicken thupka, manchow soup, chicken momo, crispy honey chicken thali, thepla, gulab jamun, masala lassi, rice, gujarati food, roti cheese dosa, tea, pizza dosa sea food, thali, red snapper, fish fry, neer dosa idli, masala dosa nachos, rice bowl, california burrito, rice bowls, chicken quesadilla, bbq chicken, pink lemonade chai, aloo samosa, tea liti chokha, chilli chicken, chicken litti, paratha, lassi, pan fried momos, egg curry chocolate sandwich, chaat, corn sandwich, chilli cheese, cheese sandwiches, veg sandwich mutton biryani, ghee rice thali, chicken lollipop, gundappa donne biryani, mutton biryani burgers chole bhature, puri sabzi, chaat, panipuri, rasmalai, jalebi, pav bhaji radhaballavi, biryani, egg noodles, egg roll, fish curry, egg devils, thali tandoori chicken, butter naan, kadai paneer, pepper chicken masala dosa burgers, fries, wood fire pizza, nachos momos, pizza sandwich, manchow soup, spring roll, noodles, fries, fried rice lassi, paratha, paneer parantha, butter chicken, punjabi chicken, shahi paneer, chicken kolhapuri rasgulla, mutton kosha, chicken kasha, samosa chaat, kheer, veg thali fish, appam, egg roast, kadala curry, chicken curry, beef fry, ghee rice panneer butter masala, idli, masala dosa, vada, coffee, roti, thali roast chicken, thalassery biryani egg biryani, donne biryani ambur biryani, mutton biryani, prawn, raita, brinjal curry, vegetable biryani, fish rumali roti, rumali shawarma, burgers, shawarma burger litti, liti chokha, lassi, tea, paratha, thali, chai burgers, chicken bucket, paneer zinger burger cheese burst pizza rolls, chicken mayo, bbq chicken, chocolate fantasy, paneer roll, fiery paneer tikka, chicken wrap gulab jamun, buttermilk, egg bhurji, sprout salad, roti poha, jalebi, paratha, bhindi masala, kachori, puri sabzi, samosa masala dosa, panneer butter masala shawarma, chicken grill, faluda aloo paratha, samosa, kachori, poha, chaat paratha, rolls, roti chicken grill, biryani, shawarma roll, rolls, arabian pulpy grape juice lassi, roti, veg thali, aloo paratha, egg curry chaat, gulab jamun, panipuri, samosa, dhokla, thali, kachori rolls, momos, paratha, chicken tikka roll, mutton keema, egg roll whole meat shawarma chaat, dabeli, panipuri idli, masala dosa biryani, rolls, tandoori chicken, chicken egg roll, laccha paratha noodles, nasi goreng, rolls, kiwi mojito, brownie, tom yum soup, dumplings beef fry, fish fry, appam, masala prawn, egg roast, chicken curry, biryani matar paneer, paratha, chole bhature, lassi kachori, indori poha, cheese paratha, paneer parantha, thali, poha jalebi chicken stew, ghee rice, chai, beef biryani paratha, butter naan, thali, tandoori roti, lassi mutton biryani, dragon chicken, chicken dum biryani, vegetable biryani, paneer biryani fish, rasmalai, doi katla, aalo bhaja, bhetki paturi, chicken kasha, aloo posto roti, dal makhani, lassi, panneer butter masala, kulcha, masala papad, butter chicken chole bhature, puri sabzi, chaat, panipuri, rasmalai, jalebi, pav bhaji paratha, rajma burgers, french fries filter coffee, pongal chaat, samosa, thali, sweet lassi, biryani, egg roll, masala paneer raita, hyderabadi biryani sandwiches, fruit juices, burgers, chicken sandwich, omelette, french fries, oreo shake mutton kosha, basanti pulao, chicken biryani pizza parantha, chai, paratha, fries, cheese maggi, rajma chawal dal makhani, rice, buttermilk veg thali, fish thali thali, egg masala, chole, paratha, roti, butter chicken, paneer manchurian masala dosa, vada, filter coffee nutella waffle rolls, chicken roll, tandoori chicken, biryani, chicken lollipop, paratha, chicken grill masala dosa, plain dosa lassi, soya chaap, fish, masala papad pie, thin crust pizza, cheesy pizza, pepperoni pizza, paneer pizza paratha biryani, manchow soup, naan vada wood fire pizza aloo paratha, ande ka funda puttu biryani, egg roast ginger chai, ginger tea, pakoda, paratha, maggi, pav bhaji, sulemani chai tandoori chicken, butter chicken, tandoori roti, bhindi masala, paratha, dal makhani paratha, kadai paneer lassi paratha, shahi paneer paneer hyderabadi, biryani, idli, panneer butter masala, roti, coffee, masala dosa nachos, rice bowl, california burrito, rice bowls, chicken quesadilla, bbq chicken, pink lemonade momos, noodles, thukpa, chicken thupka, manchow soup, chicken momo, crispy honey chicken mutton biryani, ghee rice biryani, chicken curry, paya soup, paratha, mutton keema, chicken guntur, pepper chicken gulab jamun, chaat, raita, chole, soya chaap, panipuri, dal makhani masala dosa, coffee, rava idli, badam halwa, thali, vada, fruit salad momos, noodles, thukpa, teriyaki chicken, chicken chowmein, clear chicken soup, beef chilli pizza, spinach curry, salad burgers, peri peri chicken, grilled lamb burger, chicken burger, french fries appam, buttermilk, fry prawns, roast beef, masala prawn, chicken stew, murgh ghee roast masala idli, filter coffee veg momos, noodles, cheese momos, jhol momos, wai wai bhel, brownie, chicken momo noodles, pasta, tibetan momos, clear soup, chicken momo, tibetan thukpa, tea kulcha, chole, mutton curry, paratha, mint raita, chicken curry, dal makhani lassi, punjabi chicken, paratha, kadhai murgh, butter naan, lemon chicken, roti burgers, chicken crisp burger, chicken whopper, chicken keema burger, chicken fries, mutton whopper, chocolate shake sandwiches, masala pav, chicken burger, filter coffee, burgers, masala chai, french fries mushroom masala, thali, aloo paratha, roti, samosa, panneer butter masala kosha mangsho, daab chingri, fish curry, dum biryani burgers chai, lemon tea, chicken roll tandoori chicken, chicken boneless biryani, hyderabadi biryani, lemon chicken, mutton biryani, raita burgers, tea, ferrero rocher, sandwich, french fries biryani, fish curry noodles, beef momos, chicken shaptra, chicken thukpa, clear soup, beef momo, chicken thupka ginger tea, chai, samosa, bun omelette, elaichi tea, egg bhurji, carrot cake chocolate sandwich, chaat, corn sandwich, chilli cheese, cheese sandwiches, veg sandwich coffee, masala dosa, tea, badam milk, vada, idli, raagi dosa nachos, tacos, mexican pizza, cheesy fiesta potato, fries, rice bowl, salsa chaat, dabeli, pav bhaji, dhokla, gujarati food, jalebi, panipuri coffee tea, coffee, neer dosa, gajar ka halwa, thali, chaat, cheese dosa vada, idli, masala dosa, filter coffee, tea, sandwiches fish thali, aloo paratha pizza, peri peri fries, veg paprika masala dosa vada pav, misal pav, sabudana vada, dabeli, pav bhaji, sabudana khichdi, lassi masala dosa, pongal, filter coffee, tea, idli burgers, chicken popcorn, peri peri chicken, wings, peri peri burger, fries, crunchy veg burger thali, chicken lollipop, gundappa donne biryani, mutton biryani vada, coffee, masala dosa, gulab jamun, roti, idli, tomato soup vada, rava idli, masala dosa, coffee pav bhaji, dabeli, paratha, raj kachori, vada pav biryani, paratha, chicken masala, kerala parotta masala dosa, tea, vada, idli, coffee dal makhani, amritsari kulcha coffee, burgers, pasta, beef steak, chicken lasagne, salads, sandwiches pizza, garlic bread, chicken lasagne tortilla chips, tabasco pizza, salsa, mixed sauce pasta, white sauce pasta, manali pizza, nawabi pizza liti chokha, chilli chicken, pan fried momos, noodles, chicken litti, paratha, lassi hyderabadi biryani, ginger chicken paratha, chicken kebab, biryani, lassi, butter chicken, chicken curry, veg kolhapuri rolls, masala veg frankie, chicken frankie roti, chicken biryani masala dosa, handi biryani, maddur vada, filter coffee, goli bajji, kesari bath, rava idli chaat, panipuri, lassi, aloo paratha, chai, gulab jamun burgers, belgian fries, pasta, salads, falafel pockets, greek sandwich idli, vada, coffee, masala dosa, masala poori coffee, pav bhaji, masala dosa, vada sambar sea food, thali, red snapper, fish fry, neer dosa thali, thepla, gulab jamun, masala lassi, rice, gujarati food, roti akki rottis, neer dosa fish curry, appam, tea, egg roast, sea food burgers, zinger burger chai, lemon tea, ginger tea, rolls falafel, shawarma, chicken shawarama, salad, whole wheat pita, middle eastern food, pizza masala dosa, idli pav bhaji, dahipuri, chaat, paratha, noodles lassi, chai, paratha tea, chole, khichda, butter paneer, paneer bhurji, paratha, masala chai dahi vada, masala dosa, coffee, chaat, roti chicken grill, rumali roti, rolls rolls, veggie roll, chicken tikka roll, beda roti raita, vegetable biryani, biryani combo burgers, cheesy pizza, chips, fries, rice bowl, white sauce pasta, chicken wings sandwiches, tea, masala chai, pasta, maggi, sandwich, chicken burger pizza, chicken pocket, garlic bread dal fry chai, maggi, english breakfast burgers, tandoori grill burger, mango shake, cheesy fries, whopper burger, chicken keema burger, chicken crisp burger biryani rolls, chicken grill chicken biryani, lemon chicken roll pepper chicken, chicken biryani, mutton biryani rolls, french fries, chicken momo, roti, pulpy grape juice, mutton keema, chicken kebab burgers, salad, mocktails, pasta arrabiata, fries, nutella cheesecake, teriyaki chicken wings burgers, fries, peri peri chicken, nachos, wings, rolls, tandoori burger butter chicken, paratha burgers, wedges, mcspicy chicken burger, french fries, mc chicken burgers, crispy chicken, chicken zinger burger, french fries, chicken fries, hot wings momos, noodles, chop suey dum biryani shawarma, burgers, beef burger, potato wedges, vegetable noodles, cheese fatayer, garlic fries hariyali chicken, rice kheer, chicken kebab, chicken biryani, firewood biryani, mutton biryani, badam phirni lassi, amritsari kulcha, chole tea, filter coffee, pongal, masala dosa rolls, shawarma, beef roll, chicken shawarama, beef shwarma, haleem, chicken roll filter coffee, samosa, tea, hot coffee coffee, roti, vada pav pizza, pasta, burgers, lasagne, masala garlic bread paratha, paneer pakora, chole bhature, rajma chawal, chaach, lassi, buttermilk rolls, whole meat shawarma rolls, biryani, butter chicken, chicken manchurian roll donne biryani, mutton biryani lassi, shahi paneer, kheer, paneer bhurji, methi paratha, paneer parantha, stuffed paratha coffee, paratha, chaat, masala dosa, dahipuri, pav bhaji, tea momos, shawarma, chicken shawarama beef biryani, chicken biryani, chicken kebab, mutton biryani, beef kabab, paratha, ghee rice sandwiches, fruit bowl, panipuri, corn sandwich, palak paneer, arabian grape juice, cheesy grilled sandwich burgers, biryani, cheesecake nachos, california burrito, rice bowl, salads veg momos, honey chilli potatoes rolls, momos, paneer roll, veggie roll mutton biryani, chilli chicken, pepper chicken, chicken fry, donne chicken biryani, chicken guntur, chicken kebab gobhi pakoda, bajji, raita, ginger tea, jalapeno cheese poppers, mojito, chai tandoori chicken, butter chicken, garlic naan garlic naan, tandoori chicken, basmati rice samosa, tea paratha, samosa, vada pav rolls, mutton seekh roll, malai tikka, chicken tikka roll, mutton baida roti, reshmi tikka roll, beda roti mutton chops, mutton fry, brain fry, mutton masala, mutton curry, donne biryani, chicken curry vada, idli, kharabath, noodles, filter coffee filter coffee, mini idlis filter coffee, kesari bath, curd rice, idli vada, crispy masala dosa, masala tea, thick coconut chutney dal makhani chilli chicken donne chicken biryani, akki rottis, roti, mutton chops, chicken curry, vada, coffee rolls, chicken tikka roll, cheese roll coffee, idli, masala dosa, burgers vada, masala dosa, filter coffee rice, hyderabadi biryani, crab masala, mutton, chilli chicken masala dosa, coffee masala dosa, panneer butter masala, thali paratha, momos, lassi, sandwiches, burgers, nachos, potato wedges biryani burgers, salad, mocktails, pasta arrabiata, fries, nutella cheesecake, teriyaki chicken wings irish coffee, gelato ice cream, italian icecream, chocolate cake gulab jamun, chaat, jalebi, samosa, chole, sev puri, rasgulla irish coffee, gelato ice cream, italian icecream, chocolate cake badam milk, chaat, rasmalai, mysore pak, samosa, paneer cutlets, kachori paratha, samosa, vada pav biryani momos, noodles, chop suey mutton cutlets, filter coffee, masala dosa, omelette, vada, scrambled eggs, hot coffee shawarma, burgers, beef burger, potato wedges, vegetable noodles, cheese fatayer, garlic fries paratha, momos, lassi, sandwiches, burgers, nachos, potato wedges donne biryani, mutton biryani masala dosa, filter coffee rolls, chicken tikka roll, cheese roll filter coffee, rava idli, rava masala dosa, vada, raagi dosa, podi dosa, badam halwa biryani masala dosa, panneer butter masala, thali noodles, thukpa, beef momos, chowmein, veg momos, cheese momos garlic naan, tandoori chicken, basmati rice chole, tea, filter coffee, vada, upma, butter masala dosa, idli beef biryani, chicken biryani, chicken kebab, mutton biryani, beef kabab, paratha, ghee rice gulab jamun, chaat, jalebi, samosa, chole, sev puri, rasgulla rolls, beef kabab, seekh kebab, seekh roll lassi, amritsari kulcha, chole burgers, salad, mocktails, pasta arrabiata, fries, nutella cheesecake, teriyaki chicken wings masala dosa, idli, kali dosa, ghee khali dosa, tomato rice, set dosa, ghee rice sandwiches, fruit bowl, panipuri, corn sandwich, palak paneer, arabian grape juice, cheesy grilled sandwich chicken curry, biryani, chilli chicken, fry prawns, chicken kebab burgers, fries, peri peri chicken, nachos, wings, rolls, tandoori burger coffee, roti, vada pav akki rottis, rumali roti, masala dosa, vada, raagi roti, rava idli, coffee burgers, ginger chicken, virgin mojito, popcorn, rice bowl pizza, garlic bread rolls, shawarma, beef roll, chicken shawarama, beef shwarma, haleem, chicken roll burgers, biryani, cheesecake filter coffee, idli chilli chicken paratha, paneer pakora, chole bhature, rajma chawal, chaach, lassi, buttermilk vada, idli, kharabath, noodles, filter coffee donne chicken biryani, akki rottis, roti, mutton chops, chicken curry, vada, coffee hariyali chicken, rice kheer, chicken kebab, chicken biryani, firewood biryani, mutton biryani, badam phirni pav bhaji, panipuri, chaat sea food, fish fry, fish curry, fish kebab, buttermilk, fry prawns, ragi mudde thukpa, vegetable noodles, steam chicken momos, chowmein, chicken shaptra, chicken manchurian, dumplings burgers, french fries, maharaja chicken burger, mc flurry masala dosa, filter coffee, vada, akki rottis, rava dosa burgers, chicken tandoori grill burger, cheesy chicken fries, chicken whopper, whopper burger, tandoor chicken burger, mutton whopper salad, salads, sandwiches rolls, beda roti, afghan chicken, reshmi kebab, chicken tikka roll mutton biryani, chilli chicken, pepper chicken, chicken fry, donne chicken biryani, chicken guntur, chicken kebab filter coffee, kesari bath, curd rice, idli vada, crispy masala dosa, masala tea, thick coconut chutney rolls, veggie wrap, chicken wrap, paneer wrap, chole, dal makhani, jal-jeera gobhi pakoda, bajji, raita, ginger tea, jalapeno cheese poppers, mojito, chai tandoori chicken, butter chicken, garlic naan pav bhaji, chaat, masala poori, panipuri, dahipuri, sev puri, sandwiches samosa, tea dal makhani biryani, buttermilk, mutton curry, thali, mutton fry masala dosa, khali dosa, kali dosa, gini dosa, idli, potato masala, coffee sandwiches, tea, masala chai, pasta, maggi, sandwich, chicken burger rolls, biryani, butter chicken, chicken manchurian roll vada nachos, california burrito, rice bowl, salads veg momos, honey chilli potatoes coffee, paratha, chaat, masala dosa, dahipuri, pav bhaji, tea rolls, fries, egg roll nachos, pasta del barone, cheesy garlic bread, thin crust pizza, oreo milkshake, tortilla chips, manali pizza burgers, chicken bbq burger, mojito, french fries, hot dog, lamb burger, paneer burger chicken grill, salad, ghee rice paratha, biryani tandoori roti, soya chaap paratha, chicken butter masala, chicken parantha, palak paneer, hariyali chicken, thali butter chicken, rumali roti, ghee rice, chicken biryani, panneer butter masala, sweet lassi, lemon chicken burgers, chicken burger, chips, veg burger burgers, chocolate shake, chicken fries, veg whopper, chicken whopper, veg burger, grilled chicken burger hyderabadi biryani, chicken biryani, vegetable biryani egg dosa paratha, samosa, paneer parantha, salad, sweet lassi, dal makhani, raita matar paneer chicken biryani, hyderabadi biryani burgers, fries, potato krisper, chicken bucket, chicken popcorn, hot wings, rice bowl fish thali, chicken curry, chicken biryani, aalo bhaja vada, filter coffee chicken grill, shawarma, coconut juice chicken biryani, wings fish, egg tadka, kachori, luchi naan, shawarma, chicken grill, noodles pizza pasta, potato wedges, ice tea, thin crust pizza, supreme pizza, farm pizza chole bhature, veg thali noodles egg noodles, lamb chops, hyderabadi chicken dum biryani, gajar ka halwa, al faham chicken, fried rice masala vada pav chicken grill, cheese balls, vegetable noodles badam milk, masala dosa, filter coffee, pav bhaji, noodles, idli, chole bhature rolls, paratha, panneer butter masala pizza, waffles sandwiches, chaat, rasmalai, pizza, ginger tea, sandwich, paratha samosa chat, tea, aloo samosa, chai, ginger paneer, burger samosa, chicken kebab lassi, vada pav, chole bhature, thali tea, masala poha, chicken roll, pasta pizza dosa, chicken kheema dosa, keema dosa, masala dosa dal fry paratha, chicken curry, biryani burgers, chicken bbq burger, mojito, french fries, hot dog, lamb burger, paneer burger chicken burger, corn sandwich, french fries, veg burger pot biryani, paneer biryani, tandoori chicken, chicken chettinad, egg biryani, chicken dum biryani, kulcha pizza, sandwiches, burgers, chaat, panipuri garlic bread, thin crust pizza, pizza burger masala dosa, chaat, vada, sandwiches, filter coffee chaat, rasmalai, samosa, pav bhaji, raj kachori chicken boneless biryani, chicken kebab, nati biryani vegetable biryani, chicken wings, chicken biryani pizza, waffles biryani, andhra meal, chicken curry egg noodles, lamb chops, hyderabadi chicken dum biryani, gajar ka halwa, al faham chicken, fried rice masala dosa, chaat, vada, sandwiches, filter coffee chole bhature, veg thali pizza dosa, chicken kheema dosa, keema dosa, masala dosa rajasthani thali, paratha, gulab jamun, paneer tikka masala, sweet lassi, buttermilk, gatte ki subzi burgers, chicken bbq burger, mojito, french fries, hot dog, lamb burger, paneer burger chicken biryani, wings badam milk, masala dosa, filter coffee, pav bhaji, noodles, idli, chole bhature egg dosa paratha, lassi, chai, dal bati churma thali, chole bhature paratha, biryani pizza, waffles rolls, chocolate fantasy, chicken rice, chocolava, paneer wrap, kheer, veggie wrap hot wings tea, masala poha, chicken roll, pasta burgers, rice bowl sandwiches, chaat, rasmalai, pizza, ginger tea, sandwich, paratha tea, vada, fruit juices, filter coffee lassi, vada pav, chole bhature, thali naan, shawarma, chicken grill, noodles fish, egg tadka, kachori, luchi noodles, rolls, maggi noodles samosa chat, tea, aloo samosa, chai, ginger paneer, burger samosa, chicken kebab fish thali, chicken curry, chicken biryani, aalo bhaja pizza, sandwiches, burgers, chaat, panipuri tandoori roti, soya chaap paratha, chicken butter masala, chicken parantha, palak paneer, hariyali chicken, thali paratha, chicken curry, biryani burgers, chocolate shake, chicken fries, veg whopper, chicken whopper, veg burger, grilled chicken burger chicken grill, shawarma, coconut juice pot biryani, paneer biryani, tandoori chicken, chicken chettinad, egg biryani, chicken dum biryani, kulcha garlic bread, pasta rolls, paratha, panneer butter masala chaat, rasmalai, samosa, pav bhaji, raj kachori chicken boneless biryani, chicken kebab, nati biryani vegetable biryani, chicken wings, chicken biryani chicken grill, salad, ghee rice chicken grill, cheese balls, vegetable noodles dal fry paratha, chole bhature paratha, samosa, paneer parantha, salad, sweet lassi, dal makhani, raita matar paneer burgers, fries, peri peri chicken, nachos, wings, rolls, tandoori burger burgers, tandoori grill burger, mango shake, cheesy fries, whopper burger, chicken keema burger, chicken crisp burger pepper chicken, chicken biryani, mutton biryani fries, malgoum shawarma rolls, jumbo chicken roll, falafel roll, chicken kudu roll, shawarma, mutton roll, spicy roll rolls, biryani, butter chicken, chicken manchurian roll dal fry rolls, beda roti, veggie roll, chicken seekh roll, chicken kalimirch, kathi roll, mutton kebab roll deluxe thali, chole bhature rolls, fries, egg roll rolls, chicken grill burgers, crispy chicken, chicken zinger burger, french fries, chicken fries, hot wings tacos, nachos, tikka masala burrito, chicken quesadilla, salsa, mexican fries, paneer taco burgers, beef burger, cheesy fries, peri peri chicken burger, beef patty, oreo shake, steak burger lassi, amritsari kulcha, chole coffee, roti, vada pav sandwiches, tea, masala chai, pasta, maggi, sandwich, chicken burger chicken biryani, lemon chicken roll fish curry, appam, paratha, sea food, beef biryani, beef curry, beef fry pepperoni, cheesy pizza biryani chicken momo, chilli pork, chicken thukpa, noodles, manchow soup, pork momo, veg momos french fries, chicken roll, sandwich, falafel roll, charcoal shawarma, chicken fries, brosted chicken garlic bread, nachos, pasta, thin crust pizza, manali pizza, hawaian pizza salad, salads, sandwiches rolls, mutton seekh, chicken roll mutton chops, mutton fry, brain fry, mutton masala, mutton curry, donne biryani, chicken curry pizza, pasta, burgers, lasagne, masala garlic bread burgers chicken biryani, chicken samosa, hyderabadi biryani, kheer, mutton biryani burgers, hot wings, fries tea vada, masala dosa, filter coffee pork thali, chicken curry, prawn curry, momos, pork fry, smoked pork, salad coffee, roti, masala dosa rolls, chicken tikka roll, cheese roll burgers, mojito, sea food, hot dog, french fries, crab burger, peri fries momos, shawarma, chicken shawarama momos, thukpa, butter tea dal makhani noodles, chicken lollipop pizza burgers, mc spicy chicken, chicken burger, maharaja mac vada, idli, kharabath, noodles, filter coffee paratha, momos, pasta, lassi, sandwiches, burgers, nachos chai, maggi, english breakfast masala dosa, coffee donne biryani, mutton biryani chole, tea, filter coffee, vada, upma, butter masala dosa, idli burgers, salad, mocktails, pasta arrabiata, fries, nutella cheesecake, teriyaki chicken wings masala dosa, panneer butter masala, thali biryani, chicken tikka coffee, idli, masala dosa, burgers irish coffee, gelato ice cream, italian icecream, chocolate cake kesari bath, vada, filter coffee chilli chicken veg momos, honey chilli potatoes fried cheese, french fries, maggi, thick shakes, chilli cheese fries, tea filter coffee, mini idlis lassi, shahi paneer, kheer, paneer bhurji, methi paratha, paneer parantha, stuffed paratha paratha, paneer pakora, chole bhature, rajma chawal, chaach, lassi, buttermilk filter coffee, kesari bath, curd rice, idli vada, crispy masala dosa, masala tea, thick coconut chutney donne biryani, chilli chicken, chicken guntur, mutton biryani, chicken biryani, mutton thali rice, hyderabadi biryani, crab masala, mutton, chilli chicken nachos, california burrito, rice bowl, salads rolls, momos, paneer roll, veggie roll gobhi pakoda, bajji, raita, ginger tea, jalapeno cheese poppers, mojito, chai paratha, samosa, vada pav shawarma, falafel pita, veg bonanza pizza, cheese manakeesh, arabic cuisine, cheese steak pizza masala dosa, filter coffee gulab jamun, chaat, jalebi, samosa, chole, sev puri, rasgulla paratha, samosa, vada pav pizza, pasta, burgers, lasagne, masala garlic bread lassi, shahi paneer, kheer, paneer bhurji, methi paratha, paneer parantha, stuffed paratha biryani, chicken tikka sandwiches, tea, masala chai, pasta, maggi, sandwich, chicken burger rolls, biryani, butter chicken, chicken manchurian roll rolls, mutton seekh, chicken roll pizza masala dosa, filter coffee veg momos, honey chilli potatoes zinger burger, burgers, popcorn chicken coffee, idli, masala dosa, burgers rolls, fries, egg roll rolls, veggie wrap, chicken wrap, kheer sandwich, salad gulab jamun, chaat, jalebi, samosa, chole, sev puri, rasgulla filter coffee, idli burgers, chicken tandoori grill burger, cheesy chicken fries, chicken whopper, whopper burger, tandoor chicken burger, mutton whopper pav bhaji, panipuri, chaat burgers, peri peri fries gobhi pakoda, bajji, raita, ginger tea, jalapeno cheese poppers, mojito, chai pav bhaji, chaat, masala poori, panipuri, dahipuri, sev puri, sandwiches lassi, amritsari kulcha, chole biryani, buttermilk, mutton curry, thali, mutton fry coffee, roti, vada pav nachos, california burrito, rice bowl, salads rolls, momos, paneer roll, veggie roll dal makhani masala dosa, coffee pizza, dragon chicken, butter chicken, noodles, chicken wings, chicken noodle burgers, cheesy pizza, chips, fries, rice bowl, white sauce pasta, chicken wings hyderabadi biryani, ginger chicken raita, vegetable biryani, biryani combo coffee, peri peri fries, hot chocolate, scrambled eggs, donut, grilled chicken wrap, ice tea jeera rice, corn paratha, paneer bhurji, gobhi matar, vegetarian, sweet lassi, dal fry stuffed garlic bread mutton biryani, chicken kebab, donne biryani rice bowl, california burrito, mexican samosa vada, masala dosa, kharabath, filter coffee, kesari bath, idli sambar burgers, wings, whopper burger, cheesy fries, italian fries fries, white sauce pasta, monster pizza, cheesy garlic bread, cheesy pizza, margherita pizza chicken burger, rolls, tea, fries, kathi roll, sandwich, mango juice vada, masala dosa, coffee idli, plain dosa, neer dosa, masala dosa, thali, uddin vada rolls, momos, masala fries, chicken tikka roll, paratha burgers, strawberry shake, fries, pancakes, chicken salad, lamb bingsu, mocktails, custard, chocolate oreo, sandwiches, brownie, korean ice cream pizza, risotto, aglio olio pasta, pasta barbaresca coffee, vada, rava masala dosa, upma chicken biryani poha, samosa, jalebi, kachori mango kulfi, kulcha, chole, rice, tandoori chicken, shahi tukda, paneer wrap biryani, rice chicken biryani, ambur biryani, kothu paratha, onion raita, fish fry tandoori chicken, chicken boneless biryani, hyderabadi biryani, lemon chicken, mutton biryani, raita burgers, crispy chicken, fiery chicken, chicken wings, chicken grill, rice bowl, hot wings panneer butter masala, butter chicken, kadhai paneer, egg biryani, paratha, noodles, chilli paneer masala dosa, pongal, filter coffee, tea, idli fries, whole meat shawarma, rolls roti tandoori chai, tea, paratha, samosa chaat, onion pakoda, raj kachori kachori, tea, badam milk, lassi, chaat, paratha, rabri tea, biryani chicken biryani, thali, rolls, ambur biryani, palak paneer, salad, bhatti ka murgh fish, paratha thali, mutton handi biryani, fish curry rava idli, filter coffee, tea, vada, paper masala dosa, donne biryani benne dosa bhindi fry, aloo fry, sweet lassi, paratha, tawa roti, palak paneer, butter chicken paratha, rajma chawal burgers mushroom masala, thali, aloo paratha, roti, samosa, panneer butter masala lassi, punjabi chicken, paratha, kadhai murgh, butter naan, lemon chicken, roti chicken drumsticks, wood fire pizza, thin crust pizza, barbeque chicken, lime soda, veggie pizza, bbq chicken mutton kosha, kosha mangsho rolls, paratha thali chicken noodle, noodles, paneer lababdar, paratha pizza, bannoffee pie, mocktails, pasta alfredo, burgers, nachos, veg burger exotic garlic bread, spicy falafel, burgers, pasta, pita pocket, pita pizza, veggie pizza chicken curry, red rice, fish curry chicken biryani, hyderabadi dum biryani, raita momos, rice noodles, kung pao chicken, noodle, rice bowl, thai green curry, chicken dim sum tomato basil soup, mushroom soup, veg supreme pizza, masala lemonade, creamy mushroom pasta, garlic bread stick pizza, chicken biryani coffee, dahi vada, chaat masala dosa, biryani, chicken stew, tea, appam, paratha pav bhaji, dabeli, paratha, raj kachori, vada pav ambur biryani, mutton biryani, raita lassi, jeera rice, sattu paratha masala vada pav, kulfi lassi, thali, paratha, rajma, malai kofta, buttermilk, phulke ghar ke chaat, chole bhature, pav bhaji, gulab jamun, bhel puri, paneer pakora lassi, dal makhani, ajwaini paratha, mushroom masala, roti, shahi tukda, shahi paneer chai, vada pav, pizza pita bread, rolls, shawarma roll, lebanese shawarma, chicken grill, barbeque chicken chole, lassi, paratha ghee rice idli, coffee, vada spicy chicken lassi, liti chokha, chicken keema paratha, buttermilk, raita, aloo paratha, chocolate paratha rolls, beda roti, chicken baida roti, chicken tikka roll, aloo tikka roll, mushroom roll masala dosa, vada, tea, coffee, idli paneer tikka, dal bati, gulab jamun, thali, tandoori mushrooms, chole, chinese bhel pizza, rolls, burgers sandwiches, fries, sandwich, pizza, thick shakes, garlic bread poha, bread omelette, ginger chai, ginger tea chai, ginger tea, maggi, aloo paratha, samosa, coffee, sandwich momos, rolls, paratha, chaap chaat, burgers, cheese maggi, tea, chocolate shake, lassi, cheese vada pav chaat, vada pav, fafda, sandwiches, kutchi dabeli, sev puri saag, veg thali paneer tikka, tandoori momos, soya chaap, afghani chaap pasta, pizza, garlic bread burgers paratha, puri sabzi, tea, chole chicken grill, shawarma roll, biryani, pulpy grape juice, paratha, chicken shawarama, chicken tikka vada, idli, masala dosa, filter coffee, tea, sandwiches rolls, chicken shawarama, chicken shwarma roll, abbabi chicken, shawarma roll chicken biryani, dum biryani, vegetable biryani, mutton biryani sandwiches, maggi, rolls, chole bhature, ginger tea, paratha, rava masala dosa rajma, fried rice, lassi, butter phulkas, bhindi fry, thali, butter chicken tikki, chicken tikka, chicken biryani, thali, shammi kebab roll, rumali roti, nihari chicken grill, butter chicken, shawarma, chicken shwarma roll, chicken lollipop, rumali roti, rolls prompt service paratha thalassery biryani, chicken fry, chicken biryani pizza, hyderabadi chicken biryani, chicken tikka biryani coffee, vada, chaat, rava idli appam, chicken curry, passion fruit juice, crepe chaat, raj kachori, bhel puri, sev puri, pav bhaji, panipuri, vada pav sabudana vada, masala dosa, filter coffee, pesarattu upma, podi idli, mirchi bajji, pongal burgers, waffles, fries, peri peri chicken wings, jumbo royale burger, chicken doner, salad thali, coffee, buttermilk, tea, methi paratha, sweet lassi, aamras baklava, falafel roll, falafel plate, pita bread, mint lemonade, pita pocket, pomegranate juice paneer biryani, naan liti chokha, chilli chicken, chicken litti, paratha, lassi, pan fried momos, egg curry tea, coffee, sabudana khichdi, samosa, sandwiches, onion pakoda, khichda panipuri, paratha, badam milk, chaat, chole bhature, raj kachori, rasmalai chaat, panipuri, badam milk, aloo tikki chat liti chokha, chilli chicken, chicken litti, paratha, lassi, pan fried momos, egg curry thali, coffee, buttermilk, tea, methi paratha, sweet lassi, aamras pizza, bannoffee pie, mocktails, pasta alfredo, burgers, nachos, veg burger burgers, waffles, fries, peri peri chicken wings, jumbo royale burger, chicken doner, salad pizza, hyderabadi chicken biryani, chicken tikka biryani mutton biryani, chicken kebab, donne biryani chaat, chole bhature, pav bhaji, gulab jamun, bhel puri, paneer pakora burgers, crispy chicken, fiery chicken, chicken wings, chicken grill, rice bowl, hot wings lassi, dal makhani, ajwaini paratha, mushroom masala, roti, shahi tukda, shahi paneer idli sambar, bisi bele bhaath, podi masala dosa, tea, filter coffee, curd rice, vada paneer biryani, naan rava idli, filter coffee, tea, vada, paper masala dosa, donne biryani tandoori chai, tea, paratha, samosa chaat, onion pakoda, raj kachori rice bowl, california burrito, mexican samosa rolls, veggie wrap, panneer butter masala, veggie roll, chicken wrap, paneer roll, chicken roll chicken biryani, hyderabadi dum biryani, raita mushroom masala, thali, aloo paratha, roti, samosa, panneer butter masala thali, mutton handi burgers chicken grill, grape juice, tandoori chicken, shawarma roll, wings, rolls, chicken curry ghee rice panneer butter masala, butter chicken, kadhai paneer, egg biryani, paratha, noodles, chilli paneer benne dosa tandoori chicken, chicken boneless biryani, hyderabadi biryani, lemon chicken, mutton biryani, raita biryani, fish curry coffee, peri peri fries, hot chocolate, scrambled eggs, donut, grilled chicken wrap, ice tea burgers, strawberry shake, fries, pancakes, chicken salad, lamb prompt service rice, donne biryani, mutton biryani, chicken kebab, chilli chicken, chicken biryani, kshatriya kebab coffee, vada, chaat, rava idli pizza, garlic bread, pasta, chocolava cake, chicken fiesta coffee, dahi vada, chaat panipuri, paratha, badam milk, chaat, chole bhature, raj kachori, rasmalai chicken biryani, ambur biryani, kothu paratha, onion raita, fish fry exotic garlic bread, spicy falafel, burgers, pasta, pita pocket, pita pizza, veggie pizza pita bread, rolls, shawarma roll, lebanese shawarma, chicken grill, barbeque chicken fish, paratha mutton kosha, kosha mangsho paneer tikka, tandoori momos, soya chaap, afghani chaap chicken burger, rolls, tea, fries, kathi roll, sandwich, mango juice sandwiches, fries, sandwich, pizza, thick shakes, garlic bread vada, idli, masala dosa, filter coffee, tea, sandwiches veg salad, sandwich chai, keema fries, sandwiches, chicken keema, rajma chawal, ginger tea, momos spicy chicken momos, rolls, paratha, chaap masala dosa, pongal, filter coffee, tea, idli sattu paratha, rajma, masala papad, onion paratha, aloo paratha kachori, tea, badam milk, lassi, chaat, paratha, rabri sabudana vada, masala dosa, filter coffee, pesarattu upma, podi idli, mirchi bajji, pongal chicken biryani, dum biryani, vegetable biryani, mutton biryani idli, plain dosa, neer dosa, masala dosa, thali, uddin vada paratha paratha, puri sabzi, tea, chole roti tomato basil soup, mushroom soup, veg supreme pizza, masala lemonade, creamy mushroom pasta, garlic bread stick chaat, vada pav, fafda, sandwiches, kutchi dabeli, sev puri rolls, momos, masala fries, chicken tikka roll, paratha pizza, risotto, aglio olio pasta, pasta barbaresca coffee, vada, rava masala dosa, upma vada, masala dosa, coffee pizza, rolls, burgers sandwiches, maggi, rolls, chole bhature, ginger tea, paratha, rava masala dosa chaat, burgers, cheese maggi, tea, chocolate shake, lassi, cheese vada pav pizza, chicken biryani lassi, liti chokha, chicken keema paratha, buttermilk, raita, aloo paratha, chocolate paratha chicken biryani charcoal chicken, shawarma, biryani, pulpy grape juice, veg fried rice, fish, mutton seekh mango kulfi, kulcha, chole, rice, tandoori chicken, shahi tukda, paneer wrap biryani, rice chicken drumsticks, wood fire pizza, thin crust pizza, barbeque chicken, lime soda, veggie pizza, bbq chicken idli, coffee, vada chaat, raj kachori, bhel puri, sev puri, pav bhaji, panipuri, vada pav lassi, punjabi chicken, paratha, kadhai murgh, butter naan, lemon chicken, roti chicken biryani, thali, rolls, ambur biryani, palak paneer, salad, bhatti ka murgh plain paratha, prawn, chicken biryani, chicken dak bunglow, chicken masala, roti, aloo posto pav bhaji, dabeli, paratha, raj kachori, vada pav saag, veg thali hyderabadi biryani, ginger chicken masala dosa, biryani, chicken stew, tea, appam, paratha jeera rice, corn paratha, paneer bhurji, gobhi matar, vegetarian, sweet lassi, dal fry pie, thin crust pizza, cheesy pizza, pepperoni pizza, paneer pizza filter coffee, masala dosa chicken noodle, noodles, paneer lababdar, paratha poha, bread omelette, ginger chai, ginger tea raita, vegetable biryani, biryani combo burgers, mojito, sea food, hot dog, french fries, crab burger, peri fries burgers, steak, pancakes, beef burger, oreo thick shakes, chicken juicy burger, pasta idli vada, tea, masala dosa, filter coffee, pav bhaji, kesari bath, chaat chaat, dabeli, pav bhaji, sandwiches, farsan, sandwich, vada pav pepper chicken, chicken biryani, mutton biryani fish curry, roast chicken, kerala parotta, appam, mutton pepper fry, sea food, ghee rice burgers, tandoori grill burger, mango shake, cheesy fries, whopper burger, chicken keema burger, chicken crisp burger paratha, soya chaap, lassi, tandoori chaap, malai chaap, biryani, gulab jamun kadhai paneer, paratha dal fry butter chicken, paratha idli vada, filter coffee, masala dosa, curd rice biryani burgers, peri peri chicken, fries, jumbo royale burger, falafel roll, shawarma, chicken jumbo burger rolls, chicken grill gulab jamun, chaat, paratha, vada pav, masala pav bhaji, buttermilk, aloo tikki chat roast beef, chicken curry, tea, pazham pori, fish fry, beef fry, puttu biryani kesari bath, vada, filter coffee chai, maggi, english breakfast donne biryani, chicken biryani combo, pepper chicken, chicken fry rajma, tandoori roti, sweet lassi, tandoori chicken, naan, dal makhani, veg thali dal tadka burgers, ginger chicken, hot wings, veg burger, french fries, rice bowl coffee, roti, vada pav lassi, amritsari kulcha, chole rolls burgers, french fries, garlic bread, sandwiches, cheesy juicy burger, veg burger tacos, nachos, tikka masala burrito, chicken quesadilla, salsa, mexican fries, paneer taco sandwich samosa, poha, chaat, chhole bhature, ginger tea, chole, aloo tikki masala dosa, rava dosa, rava idli, filter coffee, vada, kesari bath, veg sandwich mutton chops, mutton fry, brain fry, mutton masala, mutton curry, donne biryani, chicken curry peri peri chicken, shawarma, biryani, rolls sandwiches, sandwich, french fries, creme caramel, onion rings, potato fries chicken curry, fish, thali, rolls, rasgulla, chicken biryani pasta, supreme pizza, thin crust pizza, cheesy garlic bread burgers, fries, mcaloo tikki, vegetarian, mc spicy chicken, sandwiches pizza, pasta, burgers, lasagne, masala garlic bread shawarma, rolls, chicken grill, kathi roll, paneer roll, chicken shawarama, egg roll poha, bun maskas, ginger chai, sabudana khichdi, vada pav, samosa bun, sandwiches sea food, fish, tomato masala, murgh ghee roast, neer dosa, ghee roast mutton, mutton sukha burgers, steak, pancakes, beef burger, oreo thick shakes, chicken juicy burger, pasta pizza, garlic bread thali, lassi, litti, pav bhaji, chole bhature, aloo paratha rolls, paratha, double egg roll chicken grill, rolls, chicken roll, shawarma roll, rumali roti, paneer roll, tandoori chicken momos, thukpa, butter tea burgers, mojito, sea food, hot dog, french fries, crab burger, peri fries paratha, gulab jamun, sweet lassi, paneer bhurji, chaach, paneer parantha, raita paneer biryani, vegetable biryani, paratha schezwan momos, noodles dum biryani rolls, paratha, chicken chaap, kathi roll, chicken egg roll, mutton biryani sandwiches, maggi, ginger chai, samosa, ginger tea, kesar chai, masala chai momos, thick shakes, peri peri fries, burgers, hot chocolate, sandwich, virgin mojito rolls, beda roti, chicken malai roll, peri peri chicken, mutton baida roti, chicken beda, chicken baida roti noodles, paneer manchurian, chaat, paratha, paneer fried rice, babycorn manchurian filter coffee, mini idlis burgers, raita, fries, chicken noodle, bbq burger, poha, sandwiches masala dosa, panneer butter masala, thali salads, pasta, sandwiches, momos, hakka noodles, veg salad, russian salad burgers, fries, veg burger, wings tandoori chicken, aloo paratha, chicken curry, butter naan, paneer bhurji biryani, murgh lababdar, thali filter coffee, kesari bath, curd rice, idli vada, crispy masala dosa, masala tea, thick coconut chutney fried cheese, french fries, maggi, thick shakes, chilli cheese fries, tea andhra meal, biryani, chicken curry egg noodles, biryani rolls, beda roti, veggie roll, chicken seekh roll, chicken kalimirch, kathi roll, mutton kebab roll masala dosa, idli, tea, podi dosa, pongal, filter coffee, mini idlis palak chicken, mutton keema masala, sarson ka saag, mushroom masala, makkai roti, palak paneer, butter chicken sweet lassi, thali, kadhai paneer, kadhi, aloo paratha, paneer bhurji, chole rolls, egg roll, chai, ginger tea, biryani, rasgulla, luchi seekh kebab, hyderabadi biryani, vegetable biryani, chicken biryani, raita, kheer, egg biryani momos, shawarma, chicken shawarama dal makhani noodles, chicken lollipop rolls, whole meat shawarma chicken grill, chicken shawarama, shawarma, tandoori chicken, rumali roti, rolls, egg biryani paratha, panneer butter masala, dal tadka, shahi paneer, sweet lassi, dal makhani, biryani butter chicken rolls, momos, biryani, veggie roll, vada, paratha lassi, shahi paneer, kheer, paneer bhurji, methi paratha, paneer parantha, stuffed paratha veg momos chole, veg thali burgers, rice coffee, vegetable biryani, masala chai, roti ginger tea, cheesy samosa, ginger chai, masala tea, indori poha, chocolate samosa, chicken samosa beef fry, kerala parotta, fish, roast beef, appam, crab toast, mackerel fry burgers cajun potato, pasta, panneer butter masala, sandwich, kulcha, raita, dal makhani rice, hyderabadi biryani, crab masala, mutton, chilli chicken donne biryani, chilli chicken, chicken guntur, mutton biryani, chicken biryani, mutton thali biryani chaat, pav bhaji, kheer, jalebi, panipuri, tea, dahipuri ambur biryani chaat, pav bhaji, panipuri, samosa, chole bhature, jalebi, paratha panneer butter masala, rolls, chicken roll, paneer roll, tandoori chicken, naan, egg bhurji salads, pasta, sandwiches, momos, hakka noodles, veg salad, russian salad rasgulla, mishti doi, samosa, kheer kadam, veg cutlet, rasmalai tandoori chicken, aloo paratha, chicken curry, butter naan, paneer bhurji masala dosa, filter coffee, lunch thali, rava idli, neer dosa, medu vada, tea burgers, fries, mcaloo tikki, vegetarian, mc spicy chicken, sandwiches tea, tomato rice, filter coffee, idli, biryani zinger burger, crispy chicken, rice bowl, hot wings, pizza, chicken popcorn, virgin mojito peri peri chicken, shawarma, biryani, rolls idli vada, tea, masala dosa, filter coffee, pav bhaji, kesari bath, chaat tacos, nachos, tikka masala burrito, chicken quesadilla, salsa, mexican fries, paneer taco kesari bath, vada, filter coffee pane pizza, garlic bread, pepperoni pizza, chocolava cake, veggie pizza, cheese burst pizza burgers, chicken bucket, rolls, chicken fries chaat, dabeli, pav bhaji, sandwiches, farsan, sandwich, vada pav chai, maggi, english breakfast burgers, tandoori grill burger, mango shake, cheesy fries, whopper burger, chicken keema burger, chicken crisp burger donne biryani, chilli chicken, chicken guntur, mutton biryani, chicken biryani, mutton thali salads, pasta, sandwiches, momos, hakka noodles, veg salad, russian salad rolls, egg roll, chai, ginger tea, biryani, rasgulla, luchi burgers, chocolate mousse, peri peri wings, peri peri fries, wedges, peri peri chicken salad, salads burgers, mojito, sea food, hot dog, french fries, crab burger, peri fries burgers, steak, pancakes, beef burger, oreo thick shakes, chicken juicy burger, pasta kadhai paneer, paratha coffee rolls, beda roti, veggie roll, chicken seekh roll, chicken kalimirch, kathi roll, mutton kebab roll beef fry, kerala parotta, fish, roast beef, appam, crab toast, mackerel fry burgers, french fries, garlic bread, sandwiches, cheesy juicy burger, veg burger idli, filter coffee, vada curry, podi dosa, sweet pongal momos, thukpa, butter tea paratha, panneer butter masala, dal tadka, shahi paneer, sweet lassi, dal makhani, biryani momos, thick shakes, peri peri fries, burgers, hot chocolate, sandwich, virgin mojito vada, masala dosa, filter coffee donne biryani, chicken biryani combo, pepper chicken, chicken fry andhra meal, biryani, chicken curry chicken teriyaki bao, kaffir lime, walnut brownie, rice bowls, khao suey, veg bao, snapper burgers, raita, fries, chicken noodle, bbq burger, poha, sandwiches masala dosa, idli, tea, podi dosa, pongal, filter coffee, mini idlis mutton chops, mutton fry, brain fry, mutton masala, mutton curry, donne biryani, chicken curry seekh kebab, hyderabadi biryani, vegetable biryani, chicken biryani, raita, kheer, egg biryani rice bowl, california burrito, nachos, salad, burrito bowl, chips, rice bowls filter coffee, mini idlis paratha, gulab jamun, sweet lassi, paneer bhurji, chaach, paneer parantha, raita rolls, french fries, chicken momo, roti, pulpy grape juice, mutton keema, chicken kebab rice, hyderabadi biryani, crab masala, mutton, chilli chicken rolls, chicken tikka roll, egg roll, veggie roll salads, salad, sandwich, chicken ham, roast chicken sub momos, shawarma, chicken shawarama butter chicken rolls, momos, biryani, veggie roll, vada, paratha veg momos rolls, beda roti, chicken malai roll, peri peri chicken, mutton baida roti, chicken beda, chicken baida roti burgers, rice gulab jamun, chaat, paratha, vada pav, masala pav bhaji, buttermilk, aloo tikki chat pepper chicken, chicken biryani, mutton biryani malabar fish curry, appam, idiyappam, sea food, fish fry, thali, ghee rice sandwiches, sandwich, french fries, creme caramel, onion rings, potato fries shawarma, rolls, chicken grill, kathi roll, paneer roll, chicken shawarama, egg roll ginger tea, cheesy samosa, ginger chai, masala tea, indori poha, chocolate samosa, chicken samosa paratha, soya chaap, lassi, tandoori chaap, malai chaap, biryani, gulab jamun roast beef, chicken curry, tea, pazham pori, fish fry, beef fry, puttu biryani samosa, poha, chaat, chhole bhature, ginger tea, chole, aloo tikki fish curry, roast chicken, kerala parotta, appam, mutton pepper fry, sea food, ghee rice noodles, paneer manchurian, chaat, paratha, paneer fried rice, babycorn manchurian biryani vada, rava masala dosa, biryani chicken grill, chicken shawarama, shawarma, tandoori chicken, rumali roti, rolls, egg biryani chicken grill, rolls, chicken roll, shawarma roll, rumali roti, paneer roll, tandoori chicken sea food, fish, tomato masala, murgh ghee roast, neer dosa, ghee roast mutton, mutton sukha chole, veg thali dum biryani thali, lassi, litti, pav bhaji, chole bhature, aloo paratha chicken wrap, rolls, chicken overload, falafel, paratha, paneer wrap, veggie wrap palak chicken, mutton keema masala, sarson ka saag, mushroom masala, makkai roti, dal tadka, palak paneer chaat, pav bhaji, kheer, jalebi, panipuri, tea, dahipuri burgers, fries, veg burger, wings pav bhaji, masala dosa, tea, roti rolls, paratha, chicken chaap, kathi roll, chicken egg roll, mutton biryani coffee, vegetable biryani, masala chai, roti poha, bun maskas, ginger chai, sabudana khichdi, vada pav, samosa bun, sandwiches idli vada, filter coffee, masala dosa, curd rice ambur biryani chaat, pav bhaji, panipuri, samosa, chole bhature, jalebi, paratha dal fry panneer butter masala, rolls, chicken roll, paneer roll, tandoori chicken, naan, egg bhurji pasta, supreme pizza, thin crust pizza, cheesy garlic bread lassi, amritsari kulcha, chole sandwiches, maggi, ginger chai, samosa, ginger tea, kesar chai, masala chai biryani thali, chole bhature, lassi, gulab jamun, salad rajma, tandoori roti, sweet lassi, tandoori chicken, naan, dal makhani, veg thali biryani, murgh lababdar, thali burgers rolls, chicken grill panneer butter masala, idli, masala dosa, vada, coffee, roti, thali radhaballavi, egg noodles, egg roll, egg devils, alur dom puttu biryani, egg roast burgers, peri peri chicken, grilled lamb burger, chicken burger, french fries gulab jamun, raita, chaat, chole, soya chaap, panipuri, dal makhani shawarma, chicken grill, faluda benne dosa, mirchi bajji, filter coffee, poha, tea, butter dosa, crispy dosa roast chicken paratha, shahi paneer whole meat shawarma, fries, jumbo shawarma, malgoum shawarma, rolls, chicken shawarama, kerala parotta gulab jamun, buttermilk, egg bhurji, sprout salad, roti pizza, nachos, salads, peri peri fries, brownie, pasta alfredo, spaghetti chaat, pav bhaji, dabeli, vada pav, tawa pulav, panipuri, malpua thali, egg masala, chole, paratha, roti, butter chicken, paneer manchurian rasgulla, mutton kosha, chicken kasha, samosa chaat, kheer, veg thali fish, appam, egg roast, kadala curry, chicken curry, beef fry, ghee rice chaat, pav bhaji, panipuri, basket chat, mango lassi, sev puri, misal veg momos, noodles, cheese momos, jhol momos, wai wai bhel, brownie, chicken momo paratha, thali fries biryani, paratha coffee, masala dosa, tea, badam milk, vada, idli, raagi dosa mutton biryani, dragon chicken, chicken dum biryani, vegetable biryani, paneer biryani burgers, chicken crisp burger, chicken whopper, chicken keema burger, chicken fries, mutton whopper, chocolate shake shawarma, chicken grill, grape juice, biryani, rolls, paratha, veggie roll dum biryani, mutton biryani lassi, veg thali, roti, aloo paratha, egg curry chicken stew, ghee rice, chai, beef biryani dabeli, samosa, tawa pulav, cheese vada pav neer dosa, coffee, pav bhaji, khali dosa, panipuri, masala dosa, tea fruit custard, russian cutlet rolls, chicken roll, tandoori chicken, biryani, chicken lollipop, paratha, chicken grill burgers, chicken bucket, paneer zinger burger prompt service pizza, spinach curry, salad masala dosa masala dosa, panneer butter masala pasta, fries, cheesiano pizza, veggie pizza, cheesy garlic bread, peri peri paneer pizza sweet pongal, mini idlis, filter coffee, open masala dosa, pakoda, vada, raagi dosa paratha, vada pav, chaat, pav bhaji, panipuri, masala poori, dhokla rumali roti, rumali shawarma, burgers, shawarma burger lassi rolls, momos, paratha, chicken tikka roll, mutton keema, egg roll coffee chaat, dabeli, pav bhaji, dhokla, gujarati food, jalebi, panipuri white pasta, noodles, babycorn manchurian, pizza, veg momos, fry momos, tawa pulav momos, pizza sandwich, manchow soup, spring roll, noodles, fried rice, fries chicken biryani, rolls filter coffee, lunch thali, idli, mini idlis, ghee masala dosa, rasam vada, pongal chaat, samosa, thali, sweet lassi, biryani, egg roll, masala paneer masala dosa rolls, burgers, juicy momos, chicken momo, chocolate momos, mushroom momo, paneer momos vada, coffee, masala dosa, gulab jamun, roti, idli, tomato soup paratha, coffee, halwa, lassi mutton biryani, ambur biryani, chicken biryani french fries, peri peri fries, cup cake, potato fries, fried cheese, chicken fries, mexican fries masala vada pav, cheese vada pav, fries momos, noodles, thukpa, teriyaki chicken, chicken chowmein, clear chicken soup, beef chilli noodles, pasta, tibetan momos, clear soup, chicken momo, tibetan thukpa, tea garlic bread, sandwiches, aloo tikki burger, club sandwich, white sauce pasta, garlic rice aloo paratha, samosa, kachori, poha, chaat nachos, tacos, mexican pizza, cheesy fiesta potato, fries, rice bowl, salsa thali, dhokla, samosa, poha, club kachori, paratha, tea tea, chole, khichda, butter paneer, paneer bhurji, paratha, masala chai noodles, pasta, schezwan momos, chicken momo, teriyaki chicken, thukpa, fries burgers, oreo mcflurry, french fries, mcspicy chicken burger, cheesy fries, paneer pockets, tikki masala dosa, sandwiches, coffee, onion dosa, rava dosa, chaat, sandwich burgers, tea, ferrero rocher, sandwich, french fries paratha, rolls, roti shawarma, chicken grill, tandoori chicken, butter chicken, rolls, chicken tikka, grape juice sweet lassi, gulab jamun, palak paneer paratha, paneer parantha masala dosa, coffee, pongal, tea, bonda ginger chai, ginger tea, pakoda, paratha, maggi, pav bhaji, sulemani chai mughlai paratha, laccha paratha, rolls beef fry, fish fry, appam, masala prawn, egg roast, chicken curry, biryani burgers, chicken popcorn, peri peri chicken, wings, peri peri burger, fries, crunchy veg burger burgers, momo burger, chocolate momos, tandoori momos coffee, burgers, pasta, beef steak, chicken lasagne, salads, sandwiches tortilla chips, tabasco pizza, salsa, mixed sauce pasta, white sauce pasta, manali pizza, nawabi pizza fish thali, aloo paratha rolls, biryani, mutton seekh, egg roll, chicken tikka, chicken roll chaat, aloo tikki, dabeli, panipuri, pav bhaji, vada pav, masala poori rolls, chicken mayo, bbq chicken, chocolate fantasy, paneer roll, fiery paneer tikka, chicken wrap chicken biryani cheese dosa, tea, pizza dosa fish, rasmalai, doi katla, aalo bhaja, bhetki paturi, chicken kasha, aloo posto cheese paratha burgers, fries, chicken wings, popcorn, chicken grill waffles, sandwiches, maggi, thick shakes, chocolate sandwich filter coffee, badam milk, idli, hot coffee, samosa, lemon tea, mini idlis mutton kosha, basanti pulao, fish curry, chicken biryani pizza, garlic bread, chicken lasagne whole meat shawarma, jumbo shawarma, spicy shawarma, momos shawarma, sandwiches chicken grill, biryani, roti, chicken masala burgers, fries, wood fire pizza, nachos margarita, pizza burger, garlic bread ginger tea, filter coffee, sandwich, poha, waffles, vada sandwiches, chocolate sandwich, potato twister, sev puri, corn sandwich, cheese sandwich, panipuri pizza parantha, chai, paratha, fries, cheese maggi, rajma chawal poha, tea, paratha shawarma masala dosa, vada, filter coffee aloo paratha, manchurian sugarcane juice, popcorn sandwiches, noodles, sandwich ginger tea, chai, samosa, bun omelette, elaichi tea, egg bhurji, carrot cake coffee, masala dosa, vegetable biryani vada, masala dosa, idli tea, coffee, neer dosa, gajar ka halwa, thali, chaat, cheese dosa badam milk, potato twister, pav bhaji, panipuri, tikki chaat, cheese cutlet coffee, masala dosa kachori, indori poha, cheese paratha, paneer parantha, thali, poha jalebi biryani, paratha, chicken masala, kerala parotta biryani paratha poha, jalebi, paratha, bhindi masala, kachori, puri sabzi, samosa kosha mangsho, daab chingri, fish curry, dum biryani lassi, chai, paratha chicken kebab litti, liti chokha, lassi, tea, paratha, thali, chai biryani lassi, panneer butter masala, paratha, thali coffee, thali, kharabath, masala dosa, idli vada, vanilla ice cream, bisi bele bhaath pizza fries, almond shake momos, chicken lollipop, chicken momo, noodles, chicken thukpa coffee, pav bhaji, masala dosa, vada sambar kharabath, filter coffee, idli vada, crispy vada, kesari bath, hot coffee, tea pizza, ice cream roll egg biryani, donne biryani pizza, peri peri fries, veg paprika chicken grill, roast chicken, chicken wings, sweet potato mash, pulled chicken burger, sweet potato fries panneer butter masala, lassi, paratha, jeera rice, paneer parantha, veg kolhapuri, bhindi fry coffee burgers, zinger burger biryani, chicken curry, paya soup, paratha, mutton keema, chicken guntur, pepper chicken roti, chicken biryani tandoori chicken, butter chicken, tandoori roti, bhindi masala, paratha, dal makhani mutton biryani, ghee rice paratha, chicken kebab, biryani, lassi, butter chicken, veg kolhapuri, pahari chicken lassi, amritsari kulcha, punjabi kulcha, paneer kulcha, punjabi chole, aloo kulcha, paratha roti, dal makhani, lassi, panneer butter masala, kulcha, masala papad, butter chicken roti, dal makhani, lassi, panneer butter masala, kulcha, masala papad, butter chicken lassi, paratha, paneer parantha, butter chicken, punjabi chicken, shahi paneer, chicken kolhapuri burgers, belgian fries, pasta, salads, falafel pockets, greek sandwich roti, masala dosa kulcha, chole, mutton curry, paratha, mint raita, chicken curry, dal makhani dal makhani, amritsari kulcha vada pav, misal pav, sabudana vada, dabeli, pav bhaji, sabudana khichdi, lassi nutella waffle sweet pongal, curd rice tandoori chicken, butter naan, kadai paneer, pepper chicken paratha, palak paneer honey chilli potatoes, nachos, lemonade, hakka noodles, babycorn manchurian, mushroom manchurian, spring roll biryani, chilli chicken, neer dosa butter naan, buttermilk, jowar roti, panneer butter masala benne dosa, idli, coffee akki rottis, neer dosa paratha, butter naan, thali, tandoori roti, lassi sea food, neer dosa, fish, crab sukha, biryani, chicken thali, chicken meal noodles, beef momos, chicken shaptra, chicken thukpa, clear soup, beef momo, chicken thupka dal makhani, thali, rajma masala, dal fry, sweet lassi, gulab jamun paratha, lassi, manchurian, thali jowar roti, buttermilk, jolada rotti, brinjal curry, coffee, pongal, vegetable biryani appam, buttermilk, fry prawns, roast beef, masala prawn, chicken stew, murgh ghee roast paratha, kheer, lassi, buttermilk, paneer bhurji, custard, bhindi masala rooftop ambience sea food, thali, red snapper, fish fry, neer dosa idli, masala dosa chicken grill, rumali roti, rolls kharabath, crispy vada, filter coffee, idli vada, idli chutney, kesari bath, poha faluda, brownie, sandwich, kulfi, fruit salad, sweet lassi, chocolate fudge veg thali, fish thali raita, hyderabadi biryani fish curry, appam, tea, egg roast, sea food pasta, momos, rolls, chicken roll, chilli chicken, paneer roll, spaghetti masala dosa sandwiches, fruit juices, burgers, chicken sandwich, omelette, french fries, oreo shake panipuri, chaat, noodles, dahi bhalle rolls, veggie roll, chicken roll, french fries sandwiches, chocolate sandwich, chaat, veg cheese sandwich, chilli cheese, corn sandwich paratha wood fire pizza coffee, thali, kharabath, masala dosa, idli vada, vanilla ice cream, bisi bele bhaath paratha, rasgulla chaat, mysore pak, panipuri, pav bhaji, malai kulfi, mango lassi rasmalai, kaju katli, paratha, pav bhaji, badam milk, rasgulla, dhokla mutton biryani, mutton chops, chicken biryani, chicken fry, paya, mutton fry, chilli chicken vada, masala dosa, idli mutton biryani, ghee rice curd rice, bisi bele bhaath, pongal coffee, tomato soup, thali, vada sambar, biryani chicken fry, mutton fry, mutton biryani, chicken biryani, chicken kebab, donne biryani, chilli chicken burgers, crispy chicken, chicken wings, rice bowl, zinger burger, fries, chicken bucket coffee, thali, kharabath, masala dosa, idli vada, vanilla ice cream, bisi bele bhaath sandwiches, chocolate sandwich, potato twister, sev puri, corn sandwich, cheese sandwich, panipuri chicken grill, grape juice, biryani, shawarma roll, rolls, chicken kebab, chicken shwarma roll biryani, chicken curry, paratha, paya soup, mutton keema, chicken guntur, pepper chicken vada, kesari bath, idli, coffee, benne masala dosa, kharabath, tea masala dosa, pongal, tea, bonda, filter coffee idli, masala dosa, filter coffee, upma, aloo palya, crispy vada, kharabath rava dosa, roti, masala dosa, kulcha, sandwiches, vada pav, idli burgers, tandoor chicken burger, cheesy italian fries, chocolate shake, cheesy chicken fries, whopper burger, chicken whopper garlic bread, pasta, pizza burger chai, lemon tea, chicken roll burgers, tea, ferrero rocher, sandwich, french fries sandwich, salad, veggie delight, salads, roasted chicken honey chilli potatoes, nachos, lemonade, hakka noodles, babycorn manchurian, mushroom manchurian, spring roll masala poori, dahipuri, panipuri, sev puri, vada pav burgers, french fries, chicken burger coffee, masala dosa, tea, badam milk, vada, idli, raagi dosa noodles, pasta, schezwan momos, chicken momo, teriyaki chicken, thukpa, fries garlic bread, sandwiches, aloo tikki burger, club sandwich, white sauce pasta, garlic rice coffee vada pav, misal pav, sabudana vada, dabeli, pav bhaji, sabudana khichdi, lassi biryani tea, kharabath, filter coffee, idli paratha, coffee, halwa, lassi puri saagu, idli sambar, filter coffee, plain dosa, idli vada, vada sambar, rava idli paratha vada, rava idli, masala dosa, coffee vada, coffee, idli, masala dosa masala dosa, idli, vada sambar burgers, fries, chicken filet burger, peri peri chicken wings, peri peri chicken salad, peri peri chicken burger, falafel rolls, biryani, mutton seekh, egg roll, chicken tikka, chicken roll buttermilk, thali, brinjal curry, salad, jowar roti, chilli bhajji chicken biryani, rolls fish curry, appam, tea, egg roast, sea food pasta, thin crust pizza, cheesy garlic bread, salsa, brownie, manali pizza, masala garlic bread lassi, chai, paratha chicken grill, rumali roti, rolls paneer hyderabadi, biryani, idli, panneer butter masala, roti, coffee, masala dosa benne dosa, mirchi bajji, filter coffee, poha, tea, butter dosa, crispy dosa sea food, neer dosa, fish, crab sukha, biryani, chicken thali, chicken meal masala dosa, coffee, pongal, rava idli, badam halwa, thali, vada tacos, california burrito, salsa, nachos, rice bowl, pink lemonade fruit custard, russian cutlet roast chicken, thalassery biryani rumali roti, rumali shawarma, burgers, shawarma burger pasta, momos, rolls, chicken roll, chilli chicken, paneer roll, spaghetti tandoori chicken, butter naan, kadai paneer, pepper chicken gulab jamun, buttermilk, egg bhurji, sprout salad, roti masala dosa, idli chutney, kharabath, filter coffee, kesari bath, idli vada, maddur vada tandoori maggi, paneer sizzler, pasta, pizza, butter garlic fries, peri peri maggi, garlic maggi pot biryani, sea food, fish thali masala dosa, panneer butter masala roti, masala dosa coffee, masala dosa, vegetable biryani paratha, kheer, lassi, buttermilk, paneer bhurji, custard, bhindi masala poha, tea, paratha masala dosa, vada, set dosa, filter coffee, raita, idli sambar, crispy dosa paratha, thali coffee nachos, tacos, burrito, mexican pizza, cheesy fiesta potato, fries, rice bowl rolls, chicken roll, chicken wrap, veggie wrap, raita, cheesy chicken, sabudana kheer sabudana vada, akki rottis, vegetable biryani, coffee, bhel puri, vada pav, buttermilk fish thali, aloo paratha burgers, chicken popcorn, peri peri chicken, wings, peri peri burger, fries, crunchy veg burger kachori, indori poha, cheese paratha, paneer parantha, thali, poha jalebi chicken stew, ghee rice, chai, beef biryani paratha, butter naan, thali, tandoori roti, lassi fish, rasmalai, doi katla, aalo bhaja, bhetki paturi, chicken kasha, aloo posto masala dosa, tea, vada, idli, coffee coffee, jeera rice, masala dosa, set dosa, neer dosa thali, dhokla, samosa, poha, club kachori, paratha, tea masala dosa filter coffee, pongal chaat, samosa, thali, sweet lassi, biryani, egg roll, masala paneer sandwiches, fruit juices, burgers, chicken sandwich, omelette, french fries, oreo shake coffee, masala dosa, masala poori, kadhai paneer roti, chicken biryani masala dosa, handi biryani, maddur vada, filter coffee, goli bajji, kesari bath, rava idli pizza parantha, chai, paratha, fries, cheese maggi, rajma chawal dal makhani, thali, rajma masala, dal fry, sweet lassi, gulab jamun chaat, panipuri, lassi, aloo paratha, chai, gulab jamun thali, egg masala, chole, paratha, roti, butter chicken, paneer manchurian masala dosa, vada, filter coffee coffee, pav bhaji, masala dosa, vada sambar panipuri, chaat, noodles, dahi bhalle rolls, chicken roll, tandoori chicken, biryani, chicken lollipop, paratha, chicken grill akki rottis, neer dosa rolls, veggie roll, chicken roll, french fries masala dosa, plain dosa rooftop ambience tea, chocolate cookies, ginger chai, masala chai, poori bhaji, sulemani chai, sandwich sandwiches, chocolate sandwich, chaat, veg cheese sandwich, chilli cheese, corn sandwich masala dosa, idli pav bhaji, dahipuri, chaat, paratha, noodles paratha wood fire pizza dahi vada, masala dosa, coffee, chaat, roti tea, masala dosa, vada paratha, shahi paneer panneer butter masala, idli, masala dosa, vada, coffee, roti, thali salad radhaballavi, egg noodles, egg roll, fish curry, egg devils, thali, alur dom puttu biryani, egg roast burgers, fries, chicken filet burger, peri peri chicken wings, peri peri chicken salad, peri peri chicken burger, falafel roast chicken paratha, shahi paneer pav bhaji, coffee, set dosa, masala dosa, vada, masala poori rasgulla, mutton kosha, chicken kasha, samosa chaat, kheer, veg thali gulab jamun, buttermilk, egg bhurji, sprout salad, roti thali, egg masala, chole, paratha, roti, butter chicken, paneer manchurian fries biryani coffee, chaat chaat, pav bhaji, panipuri, basket chat, mango lassi, sev puri, misal fish, appam, egg roast, kadala curry, chicken curry, beef fry, ghee rice biryani, kshatriya kebab paratha, thali coffee, masala dosa, tea, badam milk, vada, idli, raagi dosa biryani lassi, veg thali, roti, aloo paratha, egg curry burgers, whopper meal, crispy chicken, french fries, grilled wings whole meat shawarma, malgoum shawarma, rolls, pita bread, kerala parotta paratha, pasta dabeli, samosa, tawa pulav, cheese vada pav prompt service neer dosa, coffee, pav bhaji, khali dosa, panipuri, masala dosa, tea fruit custard, russian cutlet rolls, chicken roll, chicken wrap, veggie wrap, raita, cheesy chicken, sabudana kheer paratha, vada pav, chaat, pav bhaji, panipuri, masala poori, dhokla pasta, fries, cheesiano pizza, veggie pizza, cheesy garlic bread, peri peri paneer pizza chicken grill, grape juice, biryani, shawarma roll, rolls, chicken kebab, chicken shwarma roll burgers, crispy chicken, chicken wings, rice bowl, zinger burger, fries, chicken bucket lassi rolls, paratha, chicken biryani rumali roti, rumali shawarma, burgers, shawarma burger samosa, chicken chettinad, murgh makhani coffee biryani rolls, momos, paratha, chicken tikka roll, mutton keema, egg roll momos, pizza sandwich, manchow soup, spring roll, noodles, fried rice, fries chaat, samosa, thali, sweet lassi, biryani, egg roll, masala paneer paratha, coffee, halwa, lassi aloo paratha masala dosa, panneer butter masala vada, rava idli, masala dosa, coffee tandoori chicken, rolls kheer, lassi, paratha, amritsari kulcha, dal makhani, chole bhature, aloo kulcha aloo paratha, samosa, kachori, poha, chaat pizza, burgers tacos, fries, nachos, burrito shawarma, chicken grill, tandoori chicken, butter chicken, rolls, chicken tikka, grape juice rolls, chicken roll, tandoori chicken, biryani, chicken lollipop, paratha, chicken grill vada, coffee, masala dosa, gulab jamun, roti, idli, tomato soup lassi, amritsari kulcha, punjabi kulcha, paneer kulcha, punjabi chole, aloo kulcha, paratha thali, dhokla, samosa, poha, club kachori, paratha, tea noodles, corn momo, manchurian, momo platter, veg momos, potato momos, tandoori momos noodles, pasta, schezwan momos, chicken momo, teriyaki chicken, thukpa, fries burgers, tea, ferrero rocher, sandwich, french fries sweet lassi, gulab jamun, palak paneer paratha, paneer parantha burgers, mocha frappe, french fries, maharaja mac, oreo shake, egg wrap mughlai paratha, laccha paratha, rolls pizza, garlic bread pizza, thick shakes ginger chai, ginger tea, pakoda, paratha, maggi, pav bhaji, sulemani chai burgers, chicken popcorn, peri peri chicken, wings, peri peri burger, fries, crunchy veg burger rolls, biryani, mutton seekh, egg roll, chicken tikka, chicken roll masala dosa, coffee, pongal, tea, bonda chaat, aloo tikki, dabeli, panipuri, pav bhaji, vada pav, masala poori pizza, garlic bread, chicken lasagne tortilla chips, tabasco pizza, salsa, mixed sauce pasta, white sauce pasta, manali pizza, nawabi pizza burgers, momo burger, chocolate momos, tandoori momos rolls, chicken egg roll, aloo paratha, sattu paratha, paneer roll burgers, fries, chicken wings vada, masala dosa, filter coffee, kesari bath, kharabath, open dosa waffles, sandwiches, maggi, thick shakes, chocolate sandwich mutton kosha, basanti pulao, chicken biryani filter coffee, tea, hot coffee, hatti samosa coffee, thali, kharabath, masala dosa, idli vada, vanilla ice cream, bisi bele bhaath shawarma coffee, masala dosa vada, masala dosa, idli aloo paratha, manchurian poha, tea, paratha masala dosa, vada, filter coffee paratha poha, jalebi, paratha, bhindi masala, kachori, puri sabzi, samosa chicken kebab lassi, chai, paratha litti, liti chokha, lassi, tea, paratha, thali, chai biryani peri peri chicken, chicken pizza, white pasta, kit kat shake chicken grill, roast chicken, chicken wings, sweet potato mash, pulled chicken burger, sweet potato fries egg biryani, donne biryani chicken biryani, butter chicken coffee, pav bhaji, masala dosa, vada sambar coffee biryani, butter chicken, chicken wings, tandoori chicken, chicken grill, arabian grape juice lassi, paratha, paneer parantha, butter chicken, punjabi chicken, shahi paneer, chicken kolhapuri biryani, chicken curry, paya soup, paratha, mutton keema, chicken guntur, pepper chicken akki rottis, neer dosa raita, vegetable biryani, biryani combo dal makhani, roti, panneer butter masala, lassi, kulcha, masala papad, butter chicken roti, masala dosa paratha, chicken kebab, biryani, lassi, butter chicken, veg kolhapuri, pahari chicken cheese dosa, tea, pizza dosa fish, rasmalai, doi katla, aalo bhaja, bhetki paturi, chicken kasha, aloo posto masala prawn, mutton kosha, thali, fish cutlet, mutton curry, luchi, fish finger tandoori chicken, butter naan, kadai paneer, pepper chicken paratha, chicken curry paratha, palak paneer biryani, chilli chicken, neer dosa sea food, neer dosa honey chilli potatoes, nachos, lemonade, hakka noodles, babycorn manchurian, mushroom manchurian, spring roll vada, pongal, podi idli, masala dosa, podi dosa, idiyappam, rice paratha, kheer, lassi, buttermilk, paneer bhurji, custard, bhindi masala vada pav, misal pav, sabudana vada, dabeli, pav bhaji, sabudana khichdi, lassi rolls, veg momos, masala fries paratha, butter naan, thali, tandoori roti, lassi sea food, neer dosa, fish, crab sukha, biryani, chicken thali, chicken meal dal makhani, thali, rajma masala, dal fry, sweet lassi, gulab jamun benne dosa, idli, coffee paratha, lassi, manchurian, thali veg thali, fish thali panneer butter masala, manchurian, noodles, tandoori roti, naan, paratha, french fries idli, masala dosa chicken grill, rumali roti, rolls fish curry, appam, tea, egg roast, sea food chocolate sandwich, chaat, corn sandwich, chilli cheese, cheese sandwiches, veg sandwich paratha, rasgulla chaat, mysore pak, panipuri, pav bhaji, malai kulfi, mango lassi paneer hyderabadi, biryani, idli, panneer butter masala, roti, coffee, masala dosa sea food, neer dosa, fish, crab sukha, biryani, chicken thali, chicken meal biryani, butter chicken, chicken wings, tandoori chicken, chicken grill, arabian grape juice chicken grill, shawarma, tandoori chicken, chicken kebab, rolls, chicken tikka, grape juice thali, dhokla, samosa, poha, club kachori, paratha, tea pot biryani, sea food, fish thali tea, masala dosa, vada lassi, amritsari kulcha, punjabi kulcha, paneer kulcha, punjabi chole, aloo kulcha, paratha masala dosa, coffee, rava idli, badam halwa, thali, vada, fruit salad tacos, california burrito, salsa, nachos, rice bowl, pink lemonade pasta, fries, cheesiano pizza, veggie pizza, cheesy garlic bread, peri peri paneer pizza fruit custard, russian cutlet burgers, wings, fries, rice bowl, popcorn chicken, zinger burger, chicken snacker noodles, corn momo, manchurian, momo platter, veg momos, potato momos, tandoori momos pizza, thick shakes vada, masala dosa, filter coffee, kesari bath, kharabath, open dosa paratha, kheer, lassi, buttermilk, paneer bhurji, custard, bhindi masala rolls, chicken roll, chicken wrap, veggie wrap, raita, cheesy chicken, sabudana kheer coffee, french fries, hash brown, cappuccino, maharaja mac, wings, tea garlic bread, peppy paneer pizza, chocolava cake, cheese burst pizza poha, tea, paratha cheese dosa, tea, pizza dosa burgers, fries, chicken wings pizza, garlic bread, chicken lasagne masala dosa, tea, vada, idli, coffee paratha, thali kheer, lassi, paratha, amritsari kulcha, dal makhani, chole bhature, aloo kulcha aloo paratha, manchurian coffee shawarma, chicken grill, tandoori chicken, butter chicken, rolls, chicken tikka, grape juice sandwiches, chaat, chicken ham, salads, salad, tea, sandwich coffee, pav bhaji, masala dosa, vada sambar masala dosa, handi biryani, maddur vada, filter coffee, goli bajji, kesari bath, rava idli vada, pongal, podi idli, masala dosa, podi dosa, idiyappam, rice tortilla chips, tabasco pizza, salsa, mixed sauce pasta, white sauce pasta, manali pizza, nawabi pizza biryani, kshatriya kebab coffee, masala dosa dal makhani, thali, rajma masala, dal fry, sweet lassi, gulab jamun rolls, veg momos, masala fries tea, chocolate cookies, ginger chai, masala chai, poori bhaji, sulemani chai, sandwich pav bhaji, dahipuri, chaat, paratha, noodles fries noodles paratha, chicken curry chicken biryani, butter chicken nachos, tacos, mexican pizza, cheesy fiesta potato, fries, rice bowl, salsa paratha, chicken kebab, biryani, lassi, butter chicken, veg kolhapuri, pahari chicken burgers, chicken fries, onion rings, chicken whopper, spicy chicken wings, mutton whopper, crispy veg burger masala prawn, mutton kosha, thali, fish cutlet, mutton curry, luchi, fish finger masala dosa, idli akki rottis, neer dosa aloo paratha biryani vada, masala dosa, idli radhaballavi, egg noodles, egg roll, fish curry, egg devils, thali, alur dom chicken grill, grape juice, biryani, shawarma roll, rolls, chicken kebab, chicken shwarma roll biryani, chicken curry, paya soup, paratha, mutton keema, chicken guntur, pepper chicken litti, liti chokha, lassi, tea, paratha, thali, chai rumali roti, rumali shawarma, burgers, shawarma burger coffee, masala dosa, tea, badam milk, vada, idli, raagi dosa idli, masala dosa, filter coffee, upma, aloo palya, crispy vada, kharabath roti, masala dosa burgers, tea, ferrero rocher, sandwich, french fries chocolate sandwich, chaat, corn sandwich, chilli cheese, cheese sandwiches, veg sandwich vada pav, misal pav, sabudana vada, dabeli, pav bhaji, sabudana khichdi, lassi coffee thali, egg masala, chole, paratha, roti, butter chicken, paneer manchurian gulab jamun, buttermilk, egg bhurji, sprout salad, roti paratha, palak paneer tea, kharabath, filter coffee, idli rolls, chicken roll, tandoori chicken, biryani, chicken lollipop, paratha, chicken grill panneer butter masala, manchurian, noodles, tandoori roti, naan, paratha, french fries paratha, lassi, manchurian, thali mutton kosha, basanti pulao, chicken biryani rolls, biryani, mutton seekh, egg roll, chicken tikka, chicken roll filter coffee, pongal fish, rasmalai, doi katla, aalo bhaja, bhetki paturi, chicken kasha, aloo posto paratha, butter naan, thali, tandoori roti, lassi chaat, samosa, thali, sweet lassi, biryani, egg roll, masala paneer tandoori chicken, butter naan, kadai paneer, pepper chicken chicken grill, rumali roti, rolls masala dosa, vada, filter coffee lassi fish curry, appam, tea, egg roast, sea food paratha, pasta lassi, chai, paratha vada, coffee, masala dosa, gulab jamun, roti, idli, tomato soup mughlai paratha, laccha paratha, rolls paratha, shahi paneer shawarma rolls, jumbo chicken roll, falafel roll, chicken kudu roll, shawarma, mutton roll, spicy roll deluxe thali, chole bhature vada, butter masala dosa, coffee kesaria lassi, chaat, pav bhaji, paratha, rasmalai, jalebi rabri, tea donne biryani, pepper chicken paratha, lassi, dal bati, kachori, roti, churma, liti chokha sandwich, salads, sandwiches, salad, chicken tikka thatte idli paratha, roti, curd rice, thali, tea, dal bati, gajar halwa lassi, thali, biryani, pav bhaji, chole bhature, gulab jamun, veg kolhapuri burgers, cheesy fries, chicken wings, veg burger, veg whopper filter coffee, onion rava masala dosa, tea, chole bhature, roti, noodles, vada paratha, sea food, fish biryani, duck roast roti, paratha, biryani, thali biryani, sea food, fish curry rice fish curry, appam, paratha, sea food, beef biryani, beef curry, beef fry burgers, beef burger, cheesy fries, peri peri chicken burger, beef patty, oreo shake, steak burger butter chicken, shawarma roll, chicken shawarama, rolls, chicken grill, al faham chicken, roti paratha, chicken biryani, butter chicken, lassi, chilli paneer, tandoori chicken, naan rolls, veggie roll, paneer achari roll, keema roll neer dosa, biryani, malabari paratha, thali, chicken curry aloo paratha, veggie wrap, sabudana kheer, chicken wrap, rolls, khichda, thali chicken burger, popcorn chicken, sandwich pepperoni, cheesy pizza french fries, chicken roll, sandwich, falafel roll, charcoal shawarma, chicken fries, brosted chicken shawarma, chicken shawarama, kerala parotta, lemon tea, fish, ghee rice, appam chicken momo, noodles, pan fried momos paratha, dal makhani, lassi, naan, veg thali, chole, kulcha sandwiches, sandwich, oreo shake, french fries garlic bread, nachos, pasta, thin crust pizza, manali pizza, hawaian pizza chicken curry tea pasta italiano, pizza burger, stuffed garlic bread momos, noodles kulfi, masala vada pav chaat, pav bhaji, buttermilk, ajwaini paratha, raj kachori, sev puri, bhel puri coffee, roti, masala dosa murgh patiala, shawarma, chicken grill burgers, fries, peri peri chicken salad, jumbo royale burger, salads, rolls, chicken peri peri wrap burgers, fries, chicken wrap cheese sandwiches, cheese sandwich, chocolate sandwich, chicken sandwich, chocolate sandwiches, french fries, teriyaki chicken chicken biryani paratha, kheer, thali, roti, rajma, paneer chatpata fries, malgoum shawarma mutton biryani, rolls, chicken roll rolls, french fries, paratha chole bhature, chaat, jalebi, kulfi, rasgulla burrito bowl, tacos, salad, salads, steak, lemonade, fish shawarma shawarma, alpham chicken, chicken grill chaat, pav bhaji, paratha, lassi, panipuri, dahipuri, bhel puri chaat, paratha, vada pav, dal makhani, paneer bhurji, rabri, kulcha mutton biryani, donne biryani, mutton fry, chicken guntur, chicken biryani chicken momo, chilli pork, chicken thukpa, noodles, manchow soup, pork momo, veg momos burgers, lamb burger, sandwiches, brownie, churros, hot dog, chocolate cake pork thali, chicken curry, prawn curry, momos, pork fry, smoked pork, salad chicken biryani, chicken samosa, hyderabadi biryani, kheer, mutton biryani fish, mutton kasha, mutton curry, mutton kosha, mutton thali, doi katla, aalo bhaja fish fry, chicken curry, duck roast, kerala style biryani biryani burgers chaat, raj kachori, dhokla, rasmalai, paratha, chole, pav bhaji panneer butter masala coffee, cheesecake, sweet potato cake, hot chocolate, sweet potato latte, ramen, french toast momos, shawarma noodles shawarma, falafel pita, veg bonanza pizza, cheese manakeesh, arabic cuisine, cheese steak pizza rolls, jumbo shawarma pepper chicken, donne biryani, chicken biryani, chicken kebab biryani, appam, chicken curry shawarma rolls, chicken momo, biryani, paneer roll appam, roast chicken, duck roast, vegetable stew vada pav, kulfi, mumbai sandwich, rolls, keema roll vada pav, kulfi, mumbai sandwich, rolls, keema roll coffee, cheesecake, sweet potato cake, hot chocolate, sweet potato latte, ramen, french toast chaat, raj kachori, dhokla, rasmalai, paratha, chole, pav bhaji biryani shawarma, chicken shawarama, kerala parotta, lemon tea, fish, ghee rice, appam coffee, rava idli, kesari bath, rava masala dosa, badam halwa, vada, pongal mutton biryani, rolls, chicken roll chole bhature, chaat, jalebi, kulfi, rasgulla chaat, pav bhaji, buttermilk, ajwaini paratha, raj kachori, sev puri, bhel puri fish fry, chicken curry, duck roast, kerala style biryani pasta italiano, pizza burger, stuffed garlic bread chaat, pav bhaji, paratha, lassi, panipuri, dahipuri, bhel puri vada, butter masala dosa, coffee burgers, fries, peri peri chicken salad, jumbo royale burger, salads, rolls, chicken peri peri wrap paratha, kheer, thali, roti, rajma, paneer chatpata sandwich, salads, sandwiches, salad, chicken tikka burgers, hot wings, fries filter coffee, onion rava masala dosa, tea, chole bhature, roti, noodles, vada cheese sandwiches, cheese sandwich, chocolate sandwich, chicken sandwich, chocolate sandwiches, french fries, teriyaki chicken paratha, chicken biryani, butter chicken, lassi, chilli paneer, tandoori chicken, naan coffee, cheesecake, sweet potato cake, hot chocolate, sweet potato latte, ramen, french toast shawarma panneer butter masala, vada, filter coffee, tandoori roti masala dosa, caramel coffee, filter coffee, vada kulfi, masala vada pav aloo paratha, masala dosa, coffee, dahi vada, paneer parantha, sweet lassi, mix veg parantha rolls, jumbo chicken roll, falafel roll, chicken kudu roll, mutton roll, shawarma, spicy roll biryani, appam, chicken curry chicken burger, popcorn chicken, sandwich fish, mutton kasha, mutton curry, mutton kosha, mutton thali, doi katla, aalo bhaja burgers, fries, mutton whopper, chicken grill, mango shake, chicken whopper, chocolate milkshake mutton biryani, donne biryani, mutton fry, chicken guntur, chicken biryani fries, malgoum shawarma shawarma, falafel pita, veg bonanza pizza, cheese manakeesh, arabic cuisine, cheese steak pizza hot wings, crispy chicken, popcorn chicken, rice bowl, rice bowls, zinger burger chicken momo, chilli pork, chicken thukpa, noodles, manchow soup, pork momo, veg momos chicken biryani, chicken samosa, hyderabadi biryani, kheer, mutton biryani momos, noodles aloo paratha, veggie wrap, sabudana kheer, chicken wrap, rolls, khichda, thali burgers french fries, chicken roll, sandwich, falafel roll, charcoal shawarma, chicken fries, brosted chicken rolls, french fries, paratha shawarma rolls, jumbo shawarma pork thali, chicken curry, prawn curry, momos, pork fry, smoked pork, salad fish curry, appam, paratha, sea food, beef biryani, beef curry, beef fry coffee, roti, masala dosa burgers, fries, mc chicken, mc veggie burger tea pepper chicken, donne biryani, chicken biryani, chicken kebab burgers, beef burger, cheesy fries, peri peri chicken burger, beef patty, oreo shake, steak burger podi dosa, vada, pongal, ghee dosa, masala dosa, coffee sandwiches, sandwich, oreo shake, french fries coffee, vada, masala dosa, gulab jamun chicken curry murgh patiala, shawarma, chicken grill badam milk, chaat, sev puri, gol gappe chaat, paratha, vada pav, dal makhani, paneer bhurji, rabri, kulcha noodles garlic bread, nachos, pasta, thin crust pizza, manali pizza, hawaian pizza masala dosa rolls, chicken momo, biryani, paneer roll shawarma, alpham chicken, chicken grill appam, roast chicken, duck roast, vegetable stew masala dosa, thali, rice chaat, pav bhaji, buttermilk, ajwaini paratha, raj kachori, sev puri, bhel puri shawarma sandwich, salads, sandwiches, salad, chicken tikka burgers, fries, peri peri chicken salad, jumbo royale burger, salads, rolls, chicken peri peri wrap fries, malgoum shawarma rolls, jumbo chicken roll, falafel roll, chicken kudu roll, mutton roll, shawarma, spicy roll chaat, pav bhaji, paratha, lassi, panipuri, dahipuri, bhel puri rolls, french fries, paratha deluxe thali, chole bhature paratha, roti, curd rice, thali, tea, dal bati, gajar halwa burgers, cheesy fries, chicken wings, veg burger, veg whopper vada, butter masala dosa, coffee shawarma hot wings, crispy chicken, popcorn chicken, rice bowl, rice bowls, zinger burger burgers, beef burger, cheesy fries, peri peri chicken burger, beef patty, oreo shake, steak burger thatte idli butter chicken, shawarma roll, chicken shawarama, rolls, chicken grill, al faham chicken, roti donne biryani, pepper chicken filter coffee, onion rava masala dosa, tea, chole bhature, roti, noodles, vada shawarma, alpham chicken, chicken grill paratha, sea food, fish biryani, duck roast rasgulla, chaat, rasmalai, mysore pak, badam milk, sandwiches, barfi biryani, sea food, fish curry rice rolls, veggie roll, paneer achari roll, keema roll fish curry, appam, paratha, sea food, beef biryani, beef curry, beef fry chicken momo, noodles, pan fried momos kesaria lassi, chaat, pav bhaji, paratha, rasmalai, jalebi rabri, tea garlic bread, nachos, pasta, thin crust pizza, manali pizza, hawaian pizza chicken burger, popcorn chicken, sandwich kulfi, masala vada pav french fries, chicken roll, sandwich, falafel roll, charcoal shawarma, chicken fries, brosted chicken pepperoni, cheesy pizza momos, noodles neer dosa, biryani, malabari paratha, thali, chicken curry chocolava paratha, lassi, dal bati, kachori, roti, churma, liti chokha aloo paratha, veggie wrap, sabudana kheer, chicken wrap, rolls, khichda, thali momos, shawarma sandwiches, sandwich, oreo shake, french fries burgers chicken biryani, chicken samosa, hyderabadi biryani, kheer, mutton biryani shawarma, chicken shawarama, kerala parotta, lemon tea, fish, ghee rice, appam burgers, hot wings, fries murgh patiala, shawarma, chicken grill pork thali, chicken curry, prawn curry, momos, pork fry, smoked pork, salad cheese sandwiches, cheese sandwich, chocolate sandwich, chicken sandwich, chocolate sandwiches, french fries, teriyaki chicken tea burgers, fries, mc chicken, mc veggie burger coffee, roti, masala dosa burrito bowl, tacos, salad, salads, steak, lemonade, fish paratha, kheer, thali, roti, rajma, paneer chatpata biryani, appam, chicken curry coffee, idli, masala dosa, burgers roti, paratha, biryani, thali chicken biryani burgers, lamb burger, sandwiches, brownie, churros, hot dog, chocolate cake chaat, raj kachori, dhokla, rasmalai, paratha, chole, pav bhaji chaat, paratha, vada pav, dal makhani, paneer bhurji, rabri, kulcha lassi, thali, biryani, pav bhaji, chole bhature, gulab jamun, veg kolhapuri paratha, chicken biryani, butter chicken, lassi, chilli paneer, tandoori chicken, naan mutton biryani, donne biryani, mutton fry, chicken guntur, chicken biryani rolls, jumbo shawarma chicken momo, chilli pork, chicken thukpa, noodles, manchow soup, pork momo, veg momos shawarma chicken curry panneer butter masala biryani fish, mutton kasha, mutton curry, mutton kosha, mutton thali, doi katla, aalo bhaja fish fry, chicken curry, duck roast, kerala style biryani lassi, shahi paneer, kheer, paneer bhurji, methi paratha, paneer parantha, stuffed paratha noodles pepper chicken, donne biryani, chicken biryani, chicken kebab filter coffee, vada, masala dosa, pongal, idli, onion uttapam, kesari bath shawarma, falafel pita, veg bonanza pizza, cheese manakeesh, arabic cuisine, cheese steak pizza chaat, paratha, panipuri, pav bhaji, dahipuri, tea, rolls mutton biryani, rolls, chicken roll chole bhature, chaat, jalebi, kulfi, rasgulla coffee, cheesecake, sweet potato cake, hot chocolate, sweet potato latte, ramen, french toast rolls, chicken momo, biryani, paneer roll appam, roast chicken, duck roast, vegetable stew vada pav, kulfi, mumbai sandwich, rolls, keema roll rasgulla, chaat, rasmalai, mysore pak, badam milk, sandwiches, barfi chaat, raj kachori, dhokla, rasmalai, paratha, chole, pav bhaji coffee, cheesecake, sweet potato cake, hot chocolate, sweet potato latte, ramen, french toast chicken biryani rolls, falafel roll, jumbo chicken roll, chicken kudu roll, spicy roll, mutton roll, shawarma biryani, appam, chicken curry chicken burger, popcorn chicken, burgers, sandwich, fries fish, mutton kasha, mutton curry, mutton kosha, mutton thali, doi katla, aalo bhaja burgers, fries, mutton whopper, chicken grill, mango shake, chicken whopper, chicken burger mutton biryani, donne biryani, mutton fry, chicken guntur, chicken biryani malgoum shawarma, french fries rice bowl, hot wings, popcorn chicken, crispy chicken, rice bowls, zinger burger shawarma, falafel pita, veg bonanza pizza, cheese manakeesh, arabic cuisine, cheese steak pizza momos, chicken momo, chilli pork, chicken thukpa, noodles, manchow soup, pork momo momos, noodles chicken wrap, veggie wrap, aloo paratha, rolls, sabudana kheer, khichda, roti burgers shawarma, french fries, chicken roll, sandwich, brosted chicken, falafel roll, chicken fries rolls, french fries, paratha shawarma shawarma, rolls chicken curry, prawn curry, smoked pork thali, momos, pork fry, pork vindaloo, salad fish curry, appam, paratha, sea food, beef biryani, beef curry, beef fry coffee, roti, masala dosa burgers, maharaja burger, mc chicken, french fries, mc veggie burger tea biryani mutton biryani shawarma, chicken shawarama, kerala parotta, lemon tea, fish, ghee rice, appam murgh patiala, shawarma, chicken grill noodles coffee, rava idli, kesari bath, rava masala dosa, thali, badam halwa, vada mutton biryani, rolls, chicken roll pepper chicken, donne biryani, chicken biryani, chicken kebab chole bhature, chaat, jalebi, kulfi, rasgulla fish fry, chicken curry, duck roast, kerala style biryani podi dosa, vada, pongal, ghee dosa, masala dosa, coffee sandwiches, sandwich, oreo shake, french fries pasta italiano, pizza burger, stuffed garlic bread chaat, pav bhaji, paratha, lassi, panipuri, dahipuri, bhel puri donne biryani, pepper chicken vada, butter masala dosa, coffee burgers, fries, jumbo royale burger, salads, peri peri chicken salad, potato wedges, rolls noodles, chicken lollipop paratha, kheer, thali, roti, rajma, paneer chatpata sandwich, salads, sandwiches, salad, chicken tikka coffee, vada, masala dosa, gulab jamun butter chicken, shawarma roll, chicken shawarama, chicken grill, rolls, al faham chicken, biryani filter coffee, onion rava masala dosa, tea, chole bhature, roti, noodles, vada chicken curry burgers, chicken fries, hot wings chicken biryani, chicken samosa, hyderabadi biryani, kheer, mutton biryani chicken cheese sandwich, cheese sandwiches, chocolate sandwich, chocolate sandwiches, french fries, teriyaki chicken badam milk, chaat, sev puri, gol gappe chaat, paratha, vada pav, dal makhani, paneer bhurji, rabri, kulcha paratha, chicken biryani, butter chicken, lassi, chilli paneer, tandoori chicken, naan coffee, cheesecake, sweet potato cake, hot chocolate, sweet potato latte, ramen, french toast garlic bread, nachos, pasta, thin crust pizza, hawaian pizza, manali pizza tea, coffee, kadala curry, chicken dum biryani, shawarma, ghee rice, chicken kebab masala dosa panneer butter masala, vada, filter coffee, tandoori roti rolls, chicken momo, biryani, paneer roll shawarma, alpham chicken masala dosa, caramel coffee, filter coffee, vada appam, roast chicken, duck roast, vegetable stew aloo paratha, masala dosa, coffee, dahi vada, paneer parantha, sweet lassi, mix veg parantha burgers, fried cheese, cheesy fries, oreo shake, pulled beef burger, beef patty, cheese balls masala dosa, thali, rice burgers, mojito, bbq burger, peri peri fries, grilled burger peri peri chicken, fries, lemongrass chicken, margherita pizza panneer butter masala, idli, masala dosa, vada, coffee, roti, thali shawarma, chicken grill, faluda poha, samosa, jalebi, kachori fries, white sauce pasta, monster pizza, cheesy garlic bread, cheesy pizza, margherita pizza puttu biryani, egg roast burgers, peri peri chicken, grilled lamb burger, chicken burger, french fries gulab jamun, raita, chaat, chole, soya chaap, panipuri, dal makhani roast chicken burgers, wings, whopper burger, cheesy fries, italian fries jeera rice, corn paratha, paneer bhurji, gobhi matar, vegetarian, sweet lassi, dal fry fish, paratha whole meat shawarma, fries, jumbo shawarma, malgoum shawarma, rolls, chicken shawarama, kerala parotta pyaz kachori, chaat, gajar ka halwa, shrikhand, jalebi rabri, churma, boondi raita neer dosa fish curry, roast chicken, kerala parotta, appam, mutton pepper fry, sea food, ghee rice gulab jamun, buttermilk, egg bhurji, sprout salad, roti tacos, nachos, potato pops, potato burrito, fiery potato, rice bowls, taco joint ambur biryani, mutton biryani, raita thali, egg masala, chole, paratha, roti, butter chicken, paneer manchurian veg momos, noodles, cheese momos, jhol momos, wai wai bhel, brownie, chicken momo veg salad, sandwich fish, appam, egg roast, kadala curry, chicken curry, beef fry, ghee rice dum biryani, mutton biryani biryani, paratha lassi, veg thali, roti, aloo paratha, egg curry panneer butter masala, butter chicken, kadhai paneer, egg biryani, paratha, noodles, chilli paneer burgers, crispy chicken, chicken grill, fiery chicken, chicken wings, ginger chicken, rice bowl butter chicken, paratha rava idli, filter coffee, tea, vada, paper masala dosa, donne biryani roti mutton biryani, dragon chicken, chicken dum biryani, vegetable biryani, paneer biryani chicken stew, ghee rice, chai, beef biryani masala dosa, vada, tea, coffee, idli vada, masala dosa, kharabath, filter coffee, kesari bath, idli sambar rumali roti, rumali shawarma, burgers, shawarma burger chicken grill, biryani, shawarma roll, rolls, arabian pulpy grape juice coffee, peri peri fries, hot chocolate, scrambled eggs, donut, grilled chicken wrap, ice tea chaat, dabeli, panipuri masala dosa rolls, momos, paratha, chicken tikka roll, mutton keema, egg roll chaat, dabeli, pav bhaji, dhokla, gujarati food, jalebi, panipuri poha, bread omelette, ginger chai, ginger tea momos, pizza sandwich, manchow soup, chowmein, spring roll, noodles, white pasta masala dosa, panneer butter masala podi idli, masala dosa, pongal, coffee, mini idlis, appam, raagi dosa vada, rava idli, masala dosa, coffee egg biryani, donne biryani mutton biryani, chicken kebab, donne biryani mutton kosha, kosha mangsho aloo paratha, samosa, kachori, poha, chaat french fries, peri peri fries, cup cake, potato fries, fried cheese, chicken fries, mexican fries tandoori chicken, chicken boneless biryani, hyderabadi biryani, lemon chicken, mutton biryani, raita pav bhaji, dabeli, paratha, raj kachori, vada pav rolls, chicken roll, tandoori chicken, biryani, chicken lollipop, paratha, chicken grill mutton biryani, ambur biryani, chicken biryani momos, noodles, thukpa, teriyaki chicken, chicken chowmein, clear chicken soup, beef chilli noodles, pasta, tibetan momos, clear soup, chicken momo, tibetan thukpa, tea masala dosa pizza, spinach curry, salad coffee, dahi vada, chaat tea, chole, khichda, butter paneer, paneer bhurji, paratha, masala chai thali, mutton handi paratha, rolls, roti sabudana vada, masala dosa, filter coffee, pesarattu upma, podi idli, mirchi bajji, pongal coffee, vada, chaat, rava idli fish thali, aloo paratha burgers, strawberry shake, fries, pancakes, chicken salad, lamb benne dosa ginger chai, ginger tea, pakoda, paratha, maggi, pav bhaji, sulemani chai pasta, supreme pizza, thin crust pizza, cheesy garlic bread pizza, rolls, burgers beef fry, fish fry, appam, masala prawn, egg roast, chicken curry, biryani chole, kulcha, mutton curry, paratha, mint raita, chicken curry, dal makhani butter chicken, dal makhani, roti, tangdi kabab, panneer butter masala burgers, chicken popcorn, peri peri chicken, wings, peri peri burger, fries, crunchy veg burger baklava, falafel roll, falafel plate, pita bread, mint lemonade, pita pocket, pomegranate juice cheese vada pav, kulfi, burgers, tikki, cheese fingers, schezwan vada pav pizza parantha, chai, paratha, fries, cheese maggi, rajma chawal chicken curry, fish, thali, rolls, rasgulla, chicken biryani coffee, burgers, pasta, beef steak, chicken lasagne, salads, sandwiches pizza, barbeque chicken pizza, bannoffee pie, mocktails, pasta alfredo, burgers, nachos, veg burger pizza, chicken biryani bingsu, mocktails, custard, chocolate oreo, sandwiches, brownie, korean ice cream sandwiches, fries, sandwich, pizza, thick shakes, garlic bread poha, kachori, samosa, sabudana khichdi, paratha appam, chicken curry, passion fruit juice, crepe pita bread, rolls, shawarma roll, lebanese shawarma, chicken grill, barbeque chicken shawarma, sandwiches fish, rasmalai, doi katla, aalo bhaja, bhetki paturi, chicken kasha, aloo posto burgers, fries, chicken wings, popcorn, chicken grill sandwiches, maggi, ginger chai, samosa, ginger tea, kesar chai, masala chai mutton kosha, basanti pulao, fish curry, chicken biryani whole meat shawarma, jumbo shawarma, spicy shawarma, momos momos, rice noodles, kung pao chicken, noodle, rice bowl, thai green curry, chicken dim sum sandwiches, maggi, rolls, chole bhature, ginger tea, paratha, rava masala dosa rolls, bbq chicken, paneer makhanwala, jumbo chicken roll, veggie wrap, sabudana vada, chicken wrap ginger tea, filter coffee, sandwich, poha, waffles, vada gulab jamun, samosa, paratha, paneer curry, biryani, chaat, veg cutlet masala dosa, pongal, filter coffee, tea, idli exotic garlic bread, spicy falafel, burgers, pasta, pita pocket, pita pizza, veggie pizza tandoori chai, tea, paratha, samosa chaat, onion pakoda, raj kachori idli, coffee, masala dosa, fruit juices, vada, thali, manchurian cheese paratha filter coffee, badam milk, idli, hot coffee, samosa, lemon tea, mini idlis burgers, wood fire pizza, nachos filter coffee, lunch thali, idli, mini idlis, ghee masala dosa, rasam vada, pongal coffee, sandwiches, tea vada, idli, masala dosa, filter coffee, tea, sandwiches ginger tea, chai, samosa, bun omelette, elaichi tea, egg bhurji, carrot cake tea, coffee, neer dosa, gajar ka halwa, thali, chaat, cheese dosa veg momos, burgers, chocolate momos, momo burger, whole meat shawarma, paneer momos chicken drumsticks, wood fire pizza, thin crust pizza, barbeque chicken, lime soda, veggie pizza, bbq chicken masala dosa, biryani, chicken stew, tea, appam, paratha spicy chicken biryani, paratha, chicken masala, kerala parotta paratha, liti chokha, buttermilk, tea, aloo litti, raita naan rolls, veggie roll, chicken tikka roll, beda roti kosha mangsho, daab chingri, fish curry, dum biryani kachori, indori poha, cheese paratha, paneer parantha, thali, poha jalebi butter naan, tandoori chicken, chicken tikka masala, malai kofta, biryani, wheat paratha, noodles poha, jalebi, paratha, bhindi masala, kachori, puri sabzi, samosa saag, veg thali burgers, zinger burger biryani liti chokha, chilli chicken, chicken litti, paratha, lassi, pan fried momos, egg curry pizza fries, almond shake mushroom masala, thali, aloo paratha, roti, samosa, panneer butter masala pizza, peri peri fries, veg paprika momos, chicken lollipop, chicken momo, noodles, chicken thukpa roti, chicken biryani rolls, chicken wings, shawarma, chicken tikka roll, burgers, fries, pasta pizza, ice cream roll tandoori chicken, butter chicken, tandoori roti, bhindi masala, paratha, dal makhani lassi, paratha, paneer parantha, butter chicken, punjabi chicken, shahi paneer, chicken kolhapuri tikki, chicken tikka, chicken biryani, thali, shammi kebab roll, rumali roti, nihari chicken nachos, chicken tacos, rice bowl raita, vegetable biryani, biryani combo thali, coffee, buttermilk, tea, methi paratha, sweet lassi, aamras biryani, murgh lababdar, thali bhindi fry, aloo fry, sweet lassi, paratha, tawa roti, palak paneer, butter chicken burgers, belgian fries, pasta, salads, falafel pockets, greek sandwich roti, dal makhani, lassi, panneer butter masala, kulcha, masala papad, butter chicken lassi, punjabi chicken, paratha, kadhai murgh, butter naan, lemon chicken, roti biryani, fish curry chicken biryani, dum biryani, vegetable biryani, mutton biryani chicken biryani, hyderabadi dum biryani, raita nutella waffle tandoori chicken, butter naan, kadai paneer, pepper chicken chicken biryani, thali, rolls, ambur biryani, palak paneer, salad, bhatti ka murgh dal makhani, amritsari kulcha paratha, mutton curry dum aloo, sweet lassi, aloo paratha, biryani peri peri chicken, fries, lemongrass chicken, margherita pizza coffee, vegetable biryani, masala chai, roti hyderabadi biryani, ginger chicken noodles, beef momos, chicken shaptra, chicken thukpa, clear soup, beef momo, chicken thupka burgers, cheesy pizza, chips, fries, rice bowl, white sauce pasta, chicken wings pizza, dragon chicken, butter chicken, noodles, chicken wings, chicken noodle sea food chicken curry, red rice, fish curry appam, buttermilk, fry prawns, roast beef, masala prawn, chicken stew, murgh ghee roast thali egg noodles, biryani veg thali, fish thali thali, thepla, gulab jamun, masala lassi, rice, gujarati food, roti sea food, thali, red snapper, fish fry, neer dosa dal makhani, rice, buttermilk raita, hyderabadi biryani idli, masala dosa, sweet lassi lassi, nachos, mojito, roti, panipuri, pizza, waffles nachos, rice bowl, california burrito, rice bowls, chicken quesadilla, bbq chicken, pink lemonade momos, noodles, thukpa, chicken thupka, manchow soup, chicken momo, crispy honey chicken chai, aloo samosa, tea thali, chicken lollipop, gundappa donne biryani, mutton biryani sabudana khichdi, pav bhaji, pyaz kachori, chole bhature, faluda, malai ghewar, lassi dhokla, raj kachori, panipuri, jalebi, pyaz kachori rolls, aloo paratha, lassi, bread omelette chole bhature, omelette english breakfast, eggs, baked beans, oreo pancake, nutella pancakes, french toast, omelette wood fire pizza chicken noodle, noodles, paneer lababdar, paratha rolls, shawarma roll, chicken grill, thali pizza, mocktails chicken biryani, chicken kebab burgers lassi, nachos, mojito, roti, panipuri, pizza, waffles dum aloo, sweet lassi, aloo paratha, biryani fries, white sauce pasta, monster pizza, cheesy garlic bread, cheesy pizza, margherita pizza bingsu, mocktails, custard, chocolate oreo, sandwiches, brownie, korean ice cream pizza, garlic bread, chocolava butter naan, tandoori chicken, chicken tikka masala, malai kofta, biryani, wheat paratha, noodles sea food pizza, dragon chicken, butter chicken, noodles, chicken wings, chicken noodle bhindi fry, aloo fry, sweet lassi, paratha, tawa roti, palak paneer, butter chicken garlic bread, pasta, veggie pizza, salsa, nachos, nawabi pizza, sicilian pizza chole bhature, omelette rolls, shawarma roll, chicken grill, thali butter chicken, paratha tacos, nachos, potato pops, potato burrito, fiery potato, rice bowls, taco joint pyaz kachori, chaat, gajar ka halwa, shrikhand, jalebi rabri, churma, boondi raita lassi, nachos, mojito, roti, panipuri, pizza, waffles masala chaach, stuffed paratha, gulkand lassi nachos, rice bowl, california burrito, rice bowls, chicken quesadilla, bbq chicken, pink lemonade filter coffee, lunch thali, idli, mini idlis, ghee masala dosa, rasam vada, pongal momos, noodles, thukpa, chicken thupka, manchow soup, chicken momo, crispy honey chicken pizza, spinach curry, salad coffee, sandwiches, tea baklava, falafel roll, falafel plate, pita bread, mint lemonade, pita pocket, pomegranate juice momos, noodles, thukpa, teriyaki chicken, chicken chowmein, clear chicken soup, beef chilli podi idli, masala dosa, pongal, coffee, mini idlis, appam, raagi dosa pizza, ice cream roll gulab jamun, raita, chaat, chole, soya chaap, panipuri, dal makhani veg momos, noodles, cheese momos, jhol momos, wai wai bhel, brownie, chicken momo masala idli, filter coffee tea, upma, coffee, pongal, podi idli, masala vada, mini idlis chole, kulcha, mutton curry, paratha, mint raita, chicken curry, dal makhani neer dosa burgers, peri peri chicken, spicy chicken, grilled lamb burger, chicken burger, french fries noodles, pasta, tibetan momos, clear soup, thukpa, steak, chicken momo momos, rice noodles, kung pao chicken, noodle, rice bowl, thai green curry, chicken dim sum sandwiches, masala pav, chicken burger, filter coffee, burgers, masala chai, french fries kosha mangsho, daab chingri, fish curry, dum biryani rice bowl, burgers, hot wings, virgin mojito, chicken popcorn, fries, zinger burger appam, buttermilk, fry prawns, roast beef, masala prawn, chicken stew, murgh ghee roast chai, ginger tea, maggi, aloo paratha, samosa, coffee, sandwich naan noodles, beef momos, chicken shaptra, chicken thukpa, clear soup, beef momo, chicken thupka jeera rice, corn paratha, paneer bhurji, gobhi matar, vegetarian, sweet lassi, dal fry tea, coffee, neer dosa, gajar ka halwa, thali, chaat, cheese dosa pizza, peri peri fries, veg paprika burgers, chicken crisp burger, chicken whopper, chicken keema burger, chicken fries, mutton whopper, chocolate shake burgers, oreo mcflurry, french fries, mcspicy chicken burger, paneer pockets, tikki, chicken maharaja mac rolls, bbq chicken, paneer makhanwala, jumbo chicken roll, veggie wrap, sabudana vada, chicken wrap chicken biryani, thali, rolls, ambur biryani, palak paneer, salad, bhatti ka murgh ginger tea, chai, samosa, bun omelette, elaichi tea, egg bhurji, carrot cake tikki, chicken tikka, chicken biryani, thali, shammi kebab roll, rumali roti, nihari rolls, chicken wings, shawarma, chicken tikka roll, burgers, fries, pasta chaat, dabeli, pav bhaji, dhokla, gujarati food, jalebi, panipuri thali, chicken lollipop, gundappa donne biryani, mutton biryani chicken curry, fish, thali, rolls, rasgulla, chicken biryani poha, kachori, samosa, sabudana khichdi, paratha sabudana khichdi, pav bhaji, pyaz kachori, chole bhature, faluda, malai ghewar, lassi dal makhani, amritsari kulcha appam, chicken curry, passion fruit juice, crepe biryani, paratha, chicken masala, kerala parotta hyderabadi biryani, ginger chicken burgers, mojito, bbq burger, peri peri fries, grilled burger pav bhaji, dabeli, paratha, raj kachori, vada pav paratha, mutton curry dhokla, raj kachori, panipuri, jalebi, pyaz kachori masala dosa burgers, zinger burger butter chicken, dal makhani, roti, tangdi kabab, panneer butter masala saag, veg thali peri peri chicken, fries, lemongrass chicken, margherita pizza burgers, belgian fries, pasta, salads, falafel pockets, greek sandwich rolls, masala veg frankie, chicken frankie rolls, aloo paratha, lassi, bread omelette masala dosa, biryani, chicken stew, tea, appam, paratha fish thali, aloo paratha rolls, momos, masala fries, kulfi, french fries, egg roll, paneer roll coffee, burgers, pasta, beef steak, chicken lasagne, salads, sandwiches momos, chicken lollipop, chicken momo, noodles, chicken thukpa idli, vada, coffee, masala dosa, masala poori thali, thepla, gulab jamun, masala lassi, rice, gujarati food, roti burgers, fries, chicken wings, popcorn, chicken grill chai, lemon tea, ginger tea, rolls thali sea food, thali, red snapper, fish fry, neer dosa filter coffee, masala dosa falafel, shawarma, chicken shawarama, salad, whole wheat pita, middle eastern food, pizza chicken curry, red rice, fish curry plain paratha, prawn, chicken biryani, chicken dak bunglow, chicken masala, roti, aloo posto english breakfast, eggs, baked beans, oreo pancake, nutella pancakes, french toast, omelette sandwiches, sandwich, salads, shahi paneer chicken nachos, chicken tacos, rice bowl chicken noodle, noodles, paneer lababdar, paratha rolls, momos, chicken egg roll, fries, cheese roll, veggie roll tea, chole, khichda, butter paneer, paneer bhurji, paratha, masala chai egg noodles, biryani chicken biryani, chicken kebab panneer butter masala poha, bread omelette, ginger chai, ginger tea idli sambar, bisi bele bhaath, podi masala dosa, tea, filter coffee, curd rice, vada fish, appam, egg roast, kadala curry, chicken curry, beef fry, ghee rice roast chicken, thalassery biryani burgers, wood fire pizza, nachos mushroom masala, thali, aloo paratha, roti, samosa, panneer butter masala benne dosa thali, mutton handi chicken biryani, ambur biryani, kothu paratha, onion raita, fish fry burgers fish, paratha donne biryani, mutton biryani, chicken kebab, chilli chicken, chicken biryani, kshatriya kebab, chicken fries chicken grill, grape juice, tandoori chicken, shawarma roll, wings, rolls, chicken curry tandoori chicken, chicken boneless biryani, hyderabadi biryani, lemon chicken, mutton biryani, raita paratha, liti chokha, buttermilk, tea, aloo litti, raita shawarma, chicken grill, faluda mutton biryani, dragon chicken, chicken dum biryani, vegetable biryani, paneer biryani pizza, chicken biryani nutella waffle liti chokha, chilli chicken, chicken litti, paratha, lassi, pan fried momos, egg curry pizza parantha, chai, paratha, fries, cheese maggi, rajma chawal raita, hyderabadi biryani chicken stew, ghee rice, chai, beef biryani beef fry, fish fry, appam, masala prawn, egg roast, chicken curry, biryani dal makhani, rice, buttermilk masala dosa, plain dosa wood fire pizza rolls, veggie roll, chicken tikka roll, beda roti kachori, indori poha, cheese paratha, paneer parantha, thali, poha jalebi paratha, rolls, roti tandoori chicken, butter chicken, tandoori roti, bhindi masala, paratha, dal makhani puttu biryani, egg roast masala dosa dum biryani, mutton biryani panneer butter masala, idli, masala dosa, vada, coffee, roti, thali roast chicken burgers, peri peri chicken, spicy chicken, grilled lamb burger, chicken burger, french fries jeera rice, corn paratha, paneer bhurji, gobhi matar, vegetarian, sweet lassi, dal fry radhaballavi, egg noodles, egg roll, egg devils, alur dom puttu biryani, egg roast fries, white sauce pasta, monster pizza, cheesy garlic bread, cheesy pizza, margherita pizza shawarma, chicken grill, faluda burgers, wings, whopper burger, cheesy fries, italian fries gulab jamun, raita, chaat, chole, soya chaap, panipuri, dal makhani fish, paratha paratha, shahi paneer neer dosa thali, egg masala, paratha, chole, roti, butter chicken, paneer manchurian gulab jamun, buttermilk, egg bhurji, sprout salad, roti fish curry, roast chicken, kerala parotta, appam, mutton pepper fry, sea food, ghee rice biryani fish, appam, egg roast, kadala curry, chicken curry, beef fry, ghee rice ambur biryani, mutton biryani, raita lassi, veg thali, roti, aloo paratha, egg curry rasgulla, mutton kosha, chicken kasha, samosa chaat, kheer, veg thali pyaz kachori, chaat, gajar ka halwa, shrikhand, jalebi rabri, churma, boondi raita paratha, kadai paneer tacos, nachos, potato pops, potato burrito, fiery potato, rice bowls, taco joint veg momos, noodles, cheese momos, jhol momos, wai wai bhel, brownie, chicken momo rava idli, filter coffee, tea, vada, paper masala dosa, donne biryani whole meat shawarma, fries, jumbo shawarma, malgoum shawarma, rolls, chicken shawarama, kerala parotta butter chicken, paratha veg salad, sandwich dum biryani, mutton biryani mutton biryani, dragon chicken, chicken dum biryani, vegetable biryani, paneer biryani ghee rice masala dosa, vada, tea, coffee, idli litti, liti chokha, lassi, tea, paratha, thali, chai friendly staff burgers, crispy chicken, fiery chicken, chicken wings, chicken grill, rice bowl, hot wings butter naan, tandoori chicken, chicken tikka masala, malai kofta, biryani, wheat paratha, noodles lassi chicken biryani, chicken kebab chicken stew, ghee rice, chai, beef biryani tandoori chicken, butter chicken, tandoori roti, bhindi masala, paratha, dal makhani masala dosa chicken grill, grape juice, biryani, shawarma roll, rolls, chicken kebab, chicken shwarma roll raita, vegetable biryani, biryani combo vada, masala dosa, kharabath, filter coffee, kesari bath, idli sambar egg biryani, donne biryani lassi, paratha, paneer parantha, butter chicken, punjabi chicken, shahi paneer, chicken kolhapuri biryani, fish curry tandoori chicken, chicken boneless biryani, hyderabadi biryani, lemon chicken, mutton biryani, raita vada, rava idli, masala dosa, coffee podi idli, masala dosa, pongal, coffee, mini idlis, appam, raagi dosa biryani, chicken curry, paratha, paya soup, mutton keema, chicken guntur, pepper chicken masala dosa, panneer butter masala lassi, punjabi chicken, paratha, kadhai murgh, butter naan, lemon chicken, roti chaat, samosa, thali, sweet lassi, biryani, egg roll, masala paneer mutton biryani, chicken kebab, donne biryani poha, bread omelette, ginger chai, ginger tea fish thali, aloo paratha aloo paratha, samosa, kachori, poha, chaat chole, kulcha, mutton curry, paratha, mint raita, chicken curry, dal makhani bhindi fry, aloo fry, sweet lassi, paratha, tawa roti, palak paneer, butter chicken mutton biryani, ambur biryani, chicken biryani rolls, momos, chicken egg roll, fries, cheese roll, veggie roll coffee, dahi vada, chaat pizza, spinach curry, salad masala dosa momos, pizza sandwich, manchow soup, chowmein, spring roll, noodles, white pasta chaat, dabeli, pav bhaji, dhokla, gujarati food, jalebi, panipuri chaat, dabeli, panipuri plain paratha, prawn, chicken biryani, chicken dak bunglow, chicken masala, roti, aloo posto chicken biryani, thali, rolls, ambur biryani, palak paneer, salad, bhatti ka murgh beef fry, fish fry, appam, masala prawn, egg roast, chicken curry, biryani noodles, pasta, tibetan momos, clear soup, thukpa, steak, chicken momo chicken biryani, dum biryani, vegetable biryani, mutton biryani rumali roti, rumali shawarma, burgers, shawarma burger burgers, oreo mcflurry, french fries, mcspicy chicken burger, paneer pockets, tikki, chicken maharaja mac mutton kosha, basanti pulao, fish curry, chicken biryani rolls, chicken roll, tandoori chicken, biryani, chicken lollipop, paratha, chicken grill tea, chole, khichda, butter paneer, paneer bhurji, paratha, masala chai ginger chai, ginger tea, pakoda, paratha, maggi, pav bhaji, sulemani chai paratha, rolls, roti mushroom masala, thali, aloo paratha, roti, samosa, panneer butter masala shawarma, sandwiches momos, noodles, thukpa, teriyaki chicken, chicken chowmein, clear chicken soup, beef chilli masala dosa, pongal, filter coffee, tea, idli dal makhani, amritsari kulcha pav bhaji, dabeli, paratha, raj kachori, vada pav fish, rasmalai, doi katla, aalo bhaja, bhetki paturi, chicken kasha, aloo posto filter coffee, lunch thali, idli, mini idlis, ghee masala dosa, rasam vada, pongal butter chicken, dal makhani, roti, tangdi kabab, panneer butter masala rolls, chicken mayo, bbq chicken, chocolate fantasy, paneer roll, fiery paneer tikka, chicken wrap paratha, palak paneer chicken curry, fish, thali, rolls, rasgulla, chicken biryani burgers, tea, ferrero rocher, sandwich, french fries pizza, chicken biryani pizza, barbeque chicken poha, kachori, samosa, sabudana khichdi, paratha french fries, peri peri fries, cup cake, potato fries, fried cheese, chicken fries, mexican fries pasta, supreme pizza, thin crust pizza, cheesy garlic bread tikki, chicken tikka, chicken biryani, thali, shammi kebab roll, rumali roti, nihari vada, idli, masala dosa, filter coffee, tea, sandwiches baklava, falafel roll, falafel plate, pita bread, mint lemonade, pita pocket, pomegranate juice burgers, chicken popcorn, peri peri chicken, wings, peri peri burger, fries, crunchy veg burger pizza parantha, chai, paratha, fries, cheese maggi, rajma chawal cheese paratha coffee, burgers, pasta, beef steak, chicken lasagne, salads, sandwiches chai, lemon tea, chicken roll masala dosa, biryani, chicken stew, tea, appam, paratha idli, coffee, masala dosa, fruit juices, vada, thali, manchurian gulab jamun, samosa, paratha, paneer curry, biryani, chaat, veg cutlet kosha mangsho, daab chingri, fish curry, dum biryani pizza, rolls, burgers saag, veg thali nachos, rice bowl, california burrito, rice bowls, chicken quesadilla, bbq chicken, pink lemonade bingsu, mocktails, custard, chocolate oreo, sandwiches, brownie, korean ice cream chaat, aloo tikki, dabeli, panipuri, pav bhaji, vada pav, masala poori naan burgers, fries, chicken wings, popcorn, chicken grill momos, noodles, thukpa, chicken thupka, manchow soup, chicken momo, crispy honey chicken momos, rice noodles, kung pao chicken, rice bowl, noodle, thai green curry, chicken dim sum sattu paratha tea, coffee, neer dosa, gajar ka halwa, thali, chaat, cheese dosa filter coffee, badam milk, idli, hot coffee, samosa, lemon tea, mini idlis spicy chicken burgers, wood fire pizza, nachos chicken biryani, hyderabadi dum biryani, raita chicken curry, red rice, fish curry akki rottis, neer dosa kachori, indori poha, cheese paratha, paneer parantha, thali, poha jalebi coffee, sandwiches, tea roti, dal makhani, lassi, panneer butter masala, kulcha, masala papad, butter chicken ginger tea, filter coffee, sandwich, poha, waffles, vada sandwiches, fries, sandwich, pizza, thick shakes, garlic bread chai, aloo samosa, tea biryani, paratha, chicken masala, kerala parotta masala dosa, vada, filter coffee cheese vada pav, kulfi, burgers, tikki, cheese fingers, schezwan vada pav appam, buttermilk, fry prawns, roast beef, masala prawn, chicken stew, murgh ghee roast coffee ginger tea, chai, samosa, bun omelette, elaichi tea, egg bhurji, carrot cake roti, chicken biryani rolls, veggie roll, chicken tikka roll, beda roti paratha, butter naan, thali, tandoori roti, lassi poha, jalebi, paratha, bhindi masala, kachori, puri sabzi, samosa chai, ginger tea, maggi, aloo paratha, samosa, coffee, sandwich liti chokha, chilli chicken, chicken litti, paratha, lassi, pan fried momos, egg curry rolls, chicken wings, shawarma, chicken tikka roll, burgers, fries, pasta paratha, mutton curry chicken nachos, chicken tacos, rice bowl tandoori chicken, butter naan, kadai paneer, pepper chicken burgers, belgian fries, pasta, salads, falafel pockets, greek sandwich pizza, peri peri fries, veg paprika veg thali, fish thali egg noodles, biryani benne dosa pizza fries, almond shake vada pav, misal pav, sabudana vada, dabeli, pav bhaji, sabudana khichdi, lassi noodles, beef momos, chicken shaptra, chicken thukpa, clear soup, beef momo, chicken thupka sea food pizza, ice cream roll thali, thepla, gulab jamun, masala lassi, rice, gujarati food, roti nutella waffle peri peri chicken, fries, lemongrass chicken, margherita pizza momos, chicken lollipop, chicken momo, noodles, chicken thukpa burgers, cheesy pizza, chips, fries, rice bowl, white sauce pasta, chicken wings whole meat shawarma, jumbo shawarma, spicy shawarma, momos hyderabadi biryani, ginger chicken pizza, dragon chicken, butter chicken, noodles, chicken wings, chicken noodle coffee, vegetable biryani, masala chai, roti appam, chicken curry, passion fruit juice, crepe thali donne biryani, mutton biryani, chicken kebab, chilli chicken, chicken biryani, kshatriya kebab, chicken fries fish curry, appam, tea, egg roast, sea food raita, hyderabadi biryani idli, masala dosa, sweet lassi chicken grill, rumali roti, rolls dal makhani, rice, buttermilk burgers, zinger burger lassi, nachos, mojito, roti, panipuri, pizza, waffles pizza, spicy paneer, chicken wings, garlic bread thali, chicken lollipop, gundappa donne biryani, mutton biryani noodles, nasi goreng, rolls, kiwi mojito, brownie, tom yum soup, dumplings sabudana khichdi, pav bhaji, pyaz kachori, chole bhature, faluda, malai ghewar, lassi dhokla, raj kachori, panipuri, jalebi, pyaz kachori sandwiches, fruit juices, burgers, chicken sandwich, omelette, french fries, oreo shake lassi, soya chaap, fish, masala papad paratha chole bhature, omelette english breakfast, eggs, baked beans, oreo pancake, nutella pancakes, french toast, omelette bhaji dosa wood fire pizza rolls, shawarma roll, chicken grill, thali burgers sea food, thali, red snapper, fish fry, neer dosa lassi, nachos, mojito, roti, panipuri, pizza, waffles bingsu, mocktails, custard, chocolate oreo, sandwiches, brownie, korean ice cream chole bhature, puri sabzi, chaat, panipuri, rasmalai, jalebi, pav bhaji nachos, rice bowl, california burrito, rice bowls, chicken quesadilla, bbq chicken, pink lemonade filter coffee, lunch thali, idli, mini idlis, ghee masala dosa, rasam vada, pongal momos, noodles, thukpa, chicken thupka, manchow soup, chicken momo, crispy honey chicken veg momos, noodles, cheese momos, jhol momos, wai wai bhel, brownie, chicken momo masala idli, filter coffee burgers, peri peri chicken, spicy chicken, grilled lamb burger, chicken burger, french fries noodles, pasta, tibetan momos, clear soup, thukpa, steak, chicken momo sandwiches, masala pav, chicken burger, filter coffee, burgers, masala chai, french fries pizza, lemonade, pasta kosha mangsho, daab chingri, fish curry, dum biryani noodles, beef momos, chicken shaptra, chicken thukpa, clear soup, beef momo, chicken thupka burgers, oreo mcflurry, french fries, mcspicy chicken burger, paneer pockets, tikki, chicken maharaja mac ginger tea, chai, samosa, bun omelette, elaichi tea, egg bhurji, carrot cake sattu paratha burgers, zinger burger masala dosa burgers, belgian fries, pasta, salads, falafel pockets, greek sandwich thali, thepla, gulab jamun, masala lassi, rice, gujarati food, roti sea food, thali, red snapper, fish fry, neer dosa tea, chole, khichda, butter paneer, paneer bhurji, paratha, masala chai chole bhature, omelette rolls, shawarma roll, chicken grill, thali butter chicken, paratha tacos, nachos, potato pops, potato burrito, fiery potato, rice bowls, taco joint pyaz kachori, chaat, gajar ka halwa, shrikhand, jalebi rabri, churma, boondi raita lassi, nachos, mojito, roti, panipuri, pizza, waffles masala chaach, stuffed paratha, gulkand lassi pizza, spinach curry, salad coffee, sandwiches, tea fries, white sauce pasta, monster pizza, cheesy garlic bread, cheesy pizza, margherita pizza baklava, falafel roll, falafel plate, pita bread, mint lemonade, pita pocket, pomegranate juice momos, noodles, thukpa, teriyaki chicken, chicken chowmein, clear chicken soup, beef chilli podi idli, masala dosa, pongal, coffee, mini idlis, appam, raagi dosa pizza, ice cream roll gulab jamun, raita, chaat, chole, soya chaap, panipuri, dal makhani bingsu, mocktails, custard, chocolate oreo, sandwiches, brownie, korean ice cream tea, upma, coffee, pongal, podi idli, masala vada, mini idlis chole, kulcha, mutton curry, paratha, mint raita, chicken curry, dal makhani neer dosa momos, rice noodles, kung pao chicken, rice bowl, noodle, thai green curry, chicken dim sum rice bowl, burgers, hot wings, virgin mojito, chicken popcorn, fries, zinger burger appam, buttermilk, fry prawns, roast beef, masala prawn, chicken stew, murgh ghee roast chai, ginger tea, maggi, aloo paratha, samosa, coffee, sandwich butter naan, tandoori chicken, chicken tikka masala, malai kofta, biryani, wheat paratha, noodles naan sea food tea, coffee, neer dosa, gajar ka halwa, thali, chaat, cheese dosa pizza, peri peri fries, veg paprika jeera rice, corn paratha, paneer bhurji, gobhi matar, vegetarian, sweet lassi, dal fry burgers, chicken crisp burger, chicken whopper, chicken keema burger, chicken fries, mutton whopper, chocolate shake rolls, bbq chicken, paneer makhanwala, jumbo chicken roll, veggie wrap, sabudana vada, chicken wrap chicken biryani, thali, rolls, ambur biryani, palak paneer, salad, bhatti ka murgh tikki, chicken tikka, chicken biryani, thali, shammi kebab roll, rumali roti, nihari rolls, chicken wings, shawarma, chicken tikka roll, burgers, fries, pasta pizza, dragon chicken, butter chicken, noodles, chicken wings, chicken noodle chaat, dabeli, pav bhaji, dhokla, gujarati food, jalebi, panipuri thali, chicken lollipop, gundappa donne biryani, mutton biryani chicken curry, fish, thali, rolls, rasgulla, chicken biryani poha, kachori, samosa, sabudana khichdi, paratha sabudana khichdi, pav bhaji, pyaz kachori, chole bhature, faluda, malai ghewar, lassi dal makhani, amritsari kulcha appam, chicken curry, passion fruit juice, crepe biryani, paratha, chicken masala, kerala parotta paratha, liti chokha, buttermilk, tea, aloo litti, raita hyderabadi biryani, ginger chicken burgers, mojito, bbq burger, peri peri fries, grilled burger paratha, mutton curry pav bhaji, dabeli, paratha, raj kachori, vada pav bhindi fry, aloo fry, sweet lassi, paratha, tawa roti, palak paneer, butter chicken dhokla, raj kachori, panipuri, jalebi, pyaz kachori butter chicken, dal makhani, roti, tangdi kabab, panneer butter masala saag, veg thali peri peri chicken, fries, lemongrass chicken, margherita pizza rolls, masala veg frankie, chicken frankie fish thali, aloo paratha masala dosa, biryani, chicken stew, tea, appam, paratha rolls, momos, masala fries, kulfi, french fries, egg roll, paneer roll momos, chicken lollipop, chicken momo, noodles, chicken thukpa coffee, burgers, pasta, beef steak, chicken lasagne, salads, sandwiches idli, vada, coffee, masala dosa, masala poori burgers, fries, chicken wings, popcorn, chicken grill chai, lemon tea, ginger tea, rolls thali garlic bread, pasta, veggie pizza, salsa, nachos, nawabi pizza, sicilian pizza filter coffee, masala dosa falafel, shawarma, chicken shawarama, salad, whole wheat pita, middle eastern food, pizza chicken curry, red rice, fish curry plain paratha, prawn, chicken biryani, chicken dak bunglow, chicken masala, roti, aloo posto english breakfast, eggs, baked beans, oreo pancake, nutella pancakes, french toast, omelette sandwiches, sandwich, salads, shahi paneer chicken nachos, chicken tacos, rice bowl rolls, veggie roll, chicken tikka roll, beda roti rolls, momos, chicken egg roll, fries, cheese roll, veggie roll egg noodles, biryani chicken biryani, chicken kebab panneer butter masala poha, bread omelette, ginger chai, ginger tea ambur biryani, mutton biryani, prawn, raita, brinjal curry, vegetable biryani, fish fish, appam, egg roast, kadala curry, chicken curry, beef fry, ghee rice lassi, paratha, paneer parantha, butter chicken, punjabi chicken, shahi paneer, chicken kolhapuri roast chicken, thalassery biryani burgers, wood fire pizza, nachos masala dosa, panneer butter masala lassi, veg thali, roti, aloo paratha, egg curry whole meat shawarma donne biryani, mutton biryani, chicken kebab, chilli chicken, chicken biryani, kshatriya kebab, chicken fries burgers, chicken popcorn, peri peri chicken, wings, peri peri burger, fries, crunchy veg burger noodles, nasi goreng, rolls, kiwi mojito, brownie, tom yum soup, dumplings idli, masala dosa, sweet lassi chole bhature, puri sabzi, chaat, panipuri, rasmalai, jalebi, pav bhaji vada, rava idli, masala dosa, coffee shawarma, chicken grill, faluda mutton biryani, dragon chicken, chicken dum biryani, vegetable biryani, paneer biryani sandwiches, fruit juices, burgers, chicken sandwich, omelette, french fries, oreo shake chaat, panipuri, lassi, aloo paratha, chai, gulab jamun nutella waffle chicken grill, biryani, shawarma roll, rolls, arabian pulpy grape juice pizza parantha, chai, paratha, fries, cheese maggi, rajma chawal raita, hyderabadi biryani chicken stew, ghee rice, chai, beef biryani beef fry, fish fry, appam, masala prawn, egg roast, chicken curry, biryani dal makhani, rice, buttermilk masala dosa, plain dosa lassi, soya chaap, fish, masala papad roti, chicken biryani paratha wood fire pizza kachori, indori poha, cheese paratha, paneer parantha, thali, poha jalebi paratha, rolls, roti tandoori chicken, butter chicken, tandoori roti, bhindi masala, paratha, dal makhani puttu biryani, egg roast chaat, dabeli, panipuri masala dosa dum biryani, mutton biryani burgers, mojito, bbq burger, peri peri fries, grilled burger peri peri chicken, fries, lemongrass chicken, margherita pizza fish curry, roast chicken, kerala parotta, appam, mutton pepper fry, sea food, ghee rice jeera rice, corn paratha, paneer bhurji, gobhi matar, vegetarian, sweet lassi, dal fry gulab jamun, raita, chaat, chole, soya chaap, panipuri, dal makhani puttu biryani, egg roast burgers, peri peri chicken, spicy chicken, grilled lamb burger, chicken burger, french fries fries, white sauce pasta, monster pizza, cheesy garlic bread, cheesy pizza, margherita pizza shawarma, chicken grill, faluda fish, paratha panneer butter masala, idli, masala dosa, vada, coffee, roti, thali burgers, wings, whopper burger, cheesy fries, italian fries roast chicken whole meat shawarma, fries, jumbo shawarma, malgoum shawarma, rolls, chicken shawarama, kerala parotta gulab jamun, buttermilk, egg bhurji, sprout salad, roti paratha, tikka, rajma, sweet lassi, murgh patiala, paneer lababdar, dal makhani fish, appam, egg roast, kadala curry, chicken curry, beef fry, ghee rice lassi, veg thali, roti, aloo paratha, egg curry thali, egg masala, paratha, chole, roti, butter chicken, paneer manchurian rolls, bbq chicken, paneer makhanwala, jumbo chicken roll, veggie wrap, sabudana vada, chicken wrap mutton biryani, dragon chicken, chicken dum biryani, vegetable biryani, paneer biryani dum biryani, mutton biryani veg momos, noodles, cheese momos, jhol momos, wai wai bhel, brownie, chicken momo neer dosa ambur biryani, mutton biryani, raita tacos, nachos, potato pops, potato burrito, fiery potato, rice bowls, taco joint butter chicken, paratha pyaz kachori, chaat, gajar ka halwa, shrikhand, jalebi rabri, churma, boondi raita butter naan, tandoori chicken, chicken tikka masala, malai kofta, biryani, wheat paratha, noodles burgers, crispy chicken, fiery chicken, chicken wings, chicken grill, rice bowl, hot wings chicken stew, ghee rice, chai, beef biryani chicken grill, biryani, shawarma roll, rolls, arabian pulpy grape juice roti filter coffee, lunch thali, idli, mini idlis, ghee masala dosa, rasam vada, pongal rolls, chicken roll, tandoori chicken, biryani, chicken lollipop, paratha, chicken grill pizza, spinach curry, salad masala dosa, panneer butter masala raita, vegetable biryani, biryani combo masala dosa tandoori chicken, butter chicken, tandoori roti, bhindi masala, paratha, dal makhani egg biryani, donne biryani lassi, paratha, paneer parantha, butter chicken, punjabi chicken, shahi paneer, chicken kolhapuri vada, masala dosa, kharabath, filter coffee, kesari bath, idli sambar podi idli, masala dosa, pongal, coffee, mini idlis, appam, raagi dosa lassi, punjabi chicken, paratha, kadhai murgh, butter naan, lemon chicken, roti rolls, momos, paratha, chicken tikka roll, mutton keema, egg roll tandoori chicken, chicken boneless biryani, hyderabadi biryani, lemon chicken, mutton biryani, raita bhindi fry, aloo fry, sweet lassi, paratha, tawa roti, palak paneer, butter chicken masala dosa rumali roti, rumali shawarma, burgers, shawarma burger burgers, cheesy pizza, chips, fries, rice bowl, white sauce pasta, chicken wings fish thali, aloo paratha vada, rava idli, masala dosa, coffee coffee, dahi vada, chaat chole, kulcha, mutton curry, paratha, mint raita, chicken curry, dal makhani pizza, dragon chicken, butter chicken, noodles, chicken wings, chicken noodle chaat, dabeli, panipuri plain paratha, prawn, chicken biryani, chicken dak bunglow, chicken masala, roti, aloo posto mutton biryani, ambur biryani, chicken biryani butter chicken, dal makhani, roti, tangdi kabab, panneer butter masala momos, pizza sandwich, manchow soup, chowmein, spring roll, noodles, white pasta chaat, dabeli, pav bhaji, dhokla, gujarati food, jalebi, panipuri masala dosa, rava dosa, rava idli, filter coffee, vada, kesari bath, veg sandwich mutton biryani, chicken kebab, donne biryani noodles, pasta, tibetan momos, clear soup, thukpa, steak, chicken momo momos, noodles, thukpa, teriyaki chicken, chicken chowmein, clear chicken soup, beef chilli beef fry, fish fry, appam, masala prawn, egg roast, chicken curry, biryani pav bhaji, dabeli, paratha, raj kachori, vada pav pizza, chicken biryani mushroom masala, thali, aloo paratha, roti, samosa, panneer butter masala pasta, supreme pizza, thin crust pizza, cheesy garlic bread thali, mutton handi masala dosa, pongal, filter coffee, tea, idli burgers, oreo mcflurry, french fries, mcspicy chicken burger, paneer pockets, tikki, chicken maharaja mac french fries, peri peri fries, cup cake, potato fries, fried cheese, chicken fries, mexican fries rolls, shawarma, chicken shawarama, beef shwarma, haleem, beef seekh roll, chicken roll tea, chole, khichda, butter paneer, paneer bhurji, paratha, masala chai paratha, rolls, roti chicken curry, fish, thali, rolls, rasgulla, chicken biryani ginger chai, ginger tea, pakoda, paratha, maggi, pav bhaji, sulemani chai fish, rasmalai, doi katla, aalo bhaja, bhetki paturi, chicken kasha, aloo posto appam, chicken curry, passion fruit juice, crepe coffee, burgers, pasta, beef steak, chicken lasagne, salads, sandwiches baklava, falafel roll, falafel plate, pita bread, mint lemonade, pita pocket, pomegranate juice tikki, chicken tikka, chicken biryani, thali, shammi kebab roll, rumali roti, nihari bingsu, mocktails, custard, chocolate oreo, sandwiches, brownie, korean ice cream burgers, chicken popcorn, peri peri chicken, peri peri burger, fries, chicken wings, crunchy veg burger shawarma, sandwiches sandwiches, fries, sandwich, pizza, thick shakes, garlic bread lassi, nachos, mojito, roti, panipuri, pizza, waffles pizza, garlic bread, chocolava dal makhani, amritsari kulcha gulab jamun, samosa, paratha, paneer curry, biryani, chaat, veg cutlet liti chokha, chilli chicken, chicken litti, paratha, lassi, pan fried momos, egg curry cheese paratha rolls, chicken wings, shawarma, chicken tikka roll, burgers, fries, pasta dum biryani kosha mangsho, daab chingri, fish curry, dum biryani whole meat shawarma, jumbo shawarma, spicy shawarma, momos vada, idli, masala dosa, filter coffee, tea, sandwiches momos, rice noodles, kung pao chicken, rice bowl, noodle, thai green curry, chicken dim sum naan saag, veg thali sattu paratha burgers, fries, chicken wings, popcorn, chicken grill masala dosa, vada, tea, coffee, idli burgers, wood fire pizza, nachos roti, dal makhani, lassi, panneer butter masala, kulcha, masala papad, butter chicken burgers, mojito, bbq burger, peri peri fries, grilled burger chicken curry, red rice, fish curry masala dosa, biryani, chicken stew, tea, appam, paratha burgers, zinger burger poha, bread omelette, ginger chai, ginger tea roti, chicken biryani filter coffee, badam milk, idli, hot coffee, samosa, lemon tea, mini idlis pizza parantha, chai, paratha, fries, cheese maggi, rajma chawal tea, coffee, neer dosa, gajar ka halwa, thali, chaat, cheese dosa coffee, sandwiches, tea ginger tea, filter coffee, sandwich, poha, waffles, vada momos, chicken lollipop, chicken momo, noodles, chicken thukpa poha, jalebi, paratha, bhindi masala, kachori, puri sabzi, samosa biryani, paratha, chicken masala, kerala parotta spicy chicken raita, hyderabadi biryani rolls, veggie roll, chicken tikka roll, beda roti veg momos, burgers, chocolate momos, momo burger, whole meat shawarma, paneer momos kachori, indori poha, cheese paratha, paneer parantha, thali, poha jalebi biryani, murgh lababdar, thali hyderabadi biryani, ginger chicken paratha, mutton curry burgers, raita, fries, chicken noodle, bbq burger, poha, sandwiches coffee, vegetable biryani, masala chai, roti burgers, belgian fries, pasta, salads, falafel pockets, greek sandwich ginger tea, chai, samosa, bun omelette, elaichi tea, egg bhurji, carrot cake pizza, peri peri fries, veg paprika tandoori chicken, butter naan, kadai paneer, pepper chicken pizza, ice cream roll egg noodles, biryani pizza fries, almond shake benne dosa nutella waffle paratha, liti chokha, buttermilk, tea, aloo litti, raita sea food noodles, beef momos, chicken shaptra, chicken thukpa, clear soup, beef momo, chicken thupka sabudana khichdi, pav bhaji, pyaz kachori, chole bhature, faluda, malai ghewar, lassi peri peri chicken, fries, lemongrass chicken, margherita pizza chicken nachos, chicken tacos, rice bowl appam, buttermilk, fry prawns, roast beef, masala prawn, chicken stew, murgh ghee roast sandwiches, maggi, ginger chai, samosa, ginger tea, kesar chai, masala chai dhokla, raj kachori, panipuri, jalebi, pyaz kachori chole bhature, omelette english breakfast, eggs, baked beans, oreo pancake, nutella pancakes, french toast, omelette rolls, shawarma roll, chicken grill, thali veg thali, fish thali thali donne biryani, mutton biryani, chicken kebab, chilli chicken, chicken biryani, kshatriya kebab, chicken fries chai, aloo samosa, tea fish curry, appam, tea, egg roast, sea food poha, kachori, samosa, sabudana khichdi, paratha dal makhani, rice, buttermilk idli, masala dosa, sweet lassi sea food, thali, red snapper, fish fry, neer dosa nachos, rice bowl, california burrito, rice bowls, chicken quesadilla, bbq chicken, pink lemonade momos, noodles, thukpa, chicken thupka, manchow soup, chicken momo, crispy honey chicken chicken biryani, thali, rolls, ambur biryani, palak paneer, salad, bhatti ka murgh thali, chicken lollipop, gundappa donne biryani, mutton biryani sandwiches, fruit juices, burgers, chicken sandwich, omelette, french fries, oreo shake thali, thepla, gulab jamun, masala lassi, rice, gujarati food, roti paratha wood fire pizza chicken noodle, noodles, paneer lababdar, paratha chicken biryani, chicken kebab burgers lassi, nachos, mojito, roti, panipuri, pizza, waffles bingsu, mocktails, custard, chocolate oreo, sandwiches, brownie, korean ice cream chole bhature, omelette rolls, shawarma roll, chicken grill, thali tacos, nachos, potato pops, potato burrito, fiery potato, rice bowls, taco joint pyaz kachori, chaat, gajar ka halwa, shrikhand, jalebi rabri, churma, boondi raita lassi, nachos, mojito, roti, panipuri, pizza, waffles masala chaach, stuffed paratha, gulkand lassi podi idli, masala dosa, pongal, coffee, mini idlis, appam, raagi dosa gulab jamun, raita, chaat, chole, soya chaap, panipuri, dal makhani pizza, ice cream roll tea, upma, coffee, pongal, podi idli, masala vada, mini idlis coffee, sandwiches, tea rice bowl, burgers, hot wings, virgin mojito, chicken popcorn, fries, zinger burger pizza, barbeque chicken chaat, dabeli, pav bhaji, dhokla, gujarati food, jalebi, panipuri poha, kachori, samosa, sabudana khichdi, paratha sabudana khichdi, pav bhaji, pyaz kachori, chole bhature, faluda, malai ghewar, lassi rolls, chicken wings, shawarma, chicken tikka roll, burgers, fries, pasta burgers, mojito, bbq burger, peri peri fries, grilled burger dhokla, raj kachori, panipuri, jalebi, pyaz kachori butter chicken, dal makhani, roti, tangdi kabab, panneer butter masala peri peri chicken, fries, lemongrass chicken, margherita pizza chicken nachos, chicken tacos, rice bowl english breakfast, eggs, baked beans, oreo pancake, nutella pancakes, french toast, omelette sandwiches, sandwich, salads, shahi paneer egg noodles, biryani dum aloo, sweet lassi, aloo paratha, biryani butter chicken, paratha nachos, rice bowl, california burrito, rice bowls, chicken quesadilla, bbq chicken, pink lemonade fries, white sauce pasta, monster pizza, cheesy garlic bread, cheesy pizza, margherita pizza filter coffee, lunch thali, idli, mini idlis, ghee masala dosa, rasam vada, pongal momos, noodles bingsu, mocktails, custard, chocolate oreo, sandwiches, brownie, korean ice cream chai, ginger tea, maggi, aloo paratha, samosa, coffee, sandwich momos, noodles, thukpa, chicken thupka, manchow soup, chicken momo, crispy honey chicken baklava, falafel roll, falafel plate, pita bread, mint lemonade, pita pocket, pomegranate juice momos, noodles, thukpa, teriyaki chicken, chicken chowmein, clear chicken soup, beef chilli pizza, spinach curry, salad burgers, peri peri chicken, spicy chicken, grilled lamb burger, chicken burger, french fries appam, buttermilk, fry prawns, roast beef, masala prawn, chicken stew, murgh ghee roast masala idli, filter coffee noodles, pasta, tibetan momos, clear soup, thukpa, steak, chicken momo veg momos, noodles, cheese momos, jhol momos, wai wai bhel, brownie, chicken momo neer dosa chole, kulcha, mutton curry, paratha, mint raita, chicken curry, dal makhani burgers, chicken crisp burger, chicken whopper, chicken keema burger, chicken fries, mutton whopper, chocolate shake sandwiches, masala pav, chicken burger, filter coffee, burgers, masala chai, french fries momos, rice noodles, kung pao chicken, rice bowl, noodle, thai green curry, chicken dim sum kosha mangsho, daab chingri, fish curry, dum biryani rolls, bbq chicken, paneer makhanwala, jumbo chicken roll, veggie wrap, sabudana vada, chicken wrap noodles, beef momos, chicken shaptra, chicken thukpa, clear soup, beef momo, chicken thupka butter naan, tandoori chicken, chicken tikka masala, malai kofta, biryani, wheat paratha, noodles ginger tea, chai, samosa, bun omelette, elaichi tea, egg bhurji, carrot cake bhindi fry, aloo fry, sweet lassi, paratha, tawa roti, palak paneer, butter chicken sea food appam, chicken curry, passion fruit juice, crepe tea, coffee, neer dosa, gajar ka halwa, thali, chaat, cheese dosa chicken biryani, thali, rolls, ambur biryani, palak paneer, salad, bhatti ka murgh tikki, chicken tikka, chicken biryani, thali, shammi kebab roll, rumali roti, nihari fish thali, aloo paratha pizza, peri peri fries, veg paprika plain paratha, prawn, chicken biryani, chicken dak bunglow, chicken masala, roti, aloo posto masala dosa thali, chicken lollipop, gundappa donne biryani, mutton biryani burgers, wedges, ice tea, maharaja burger, maharaja mac, french fries, hash brown momos, chicken lollipop, chicken momo, noodles, chicken thukpa chicken curry, fish, thali, rolls, rasgulla, chicken biryani naan pav bhaji, dabeli, paratha, raj kachori, vada pav biryani, paratha, chicken masala, kerala parotta paratha, mutton curry coffee, burgers, pasta, beef steak, chicken lasagne, salads, sandwiches dal makhani, amritsari kulcha saag, veg thali pizza, dragon chicken, butter chicken, noodles, chicken wings, chicken noodle hyderabadi biryani, ginger chicken masala dosa, biryani, chicken stew, tea, appam, paratha rolls, masala veg frankie, chicken frankie rolls, momos, masala fries, kulfi, french fries, egg roll, paneer roll paratha, liti chokha, buttermilk, tea, aloo litti, raita garlic bread, pasta, veggie pizza, salsa, nachos, nawabi pizza, sicilian pizza thali burgers, fries, chicken wings, popcorn, chicken grill burgers, belgian fries, pasta, salads, falafel pockets, greek sandwich chicken curry, red rice, fish curry idli, vada, coffee, masala dosa, masala poori sea food, thali, red snapper, fish fry, neer dosa jeera rice, corn paratha, paneer bhurji, gobhi matar, vegetarian, sweet lassi, dal fry thali, thepla, gulab jamun, masala lassi, rice, gujarati food, roti burgers, zinger burger chai, lemon tea, ginger tea, rolls filter coffee, masala dosa falafel, shawarma, chicken shawarama, salad, whole wheat pita, middle eastern food, pizza chicken noodle, noodles, paneer lababdar, paratha chocolate momos, thukpa, tandoori momos, paneer momos tea, chole, khichda, butter paneer, paneer bhurji, paratha, masala chai rolls, momos, chicken egg roll, fries, cheese roll, veggie roll chicken biryani, chicken kebab rolls, veggie roll, chicken tikka roll, beda roti panneer butter masala poha, bread omelette, ginger chai, ginger tea burgers, wood fire pizza, nachos fish, appam, egg roast, kadala curry, chicken curry, beef fry, ghee rice roast chicken, thalassery biryani masala dosa, panneer butter masala shawarma, chicken grill, faluda donne biryani, mutton biryani, chicken kebab, chilli chicken, chicken biryani, kshatriya kebab, chicken fries paratha, rolls, roti mutton biryani, ambur biryani, chicken biryani chicken grill, biryani, shawarma roll, rolls, arabian pulpy grape juice chaat, dabeli, panipuri beef fry, fish fry, appam, masala prawn, egg roast, chicken curry, biryani kachori, indori poha, cheese paratha, paneer parantha, thali, poha jalebi chicken stew, ghee rice, chai, beef biryani mutton biryani, dragon chicken, chicken dum biryani, vegetable biryani, paneer biryani raita, hyderabadi biryani sandwiches, fruit juices, burgers, chicken sandwich, omelette, french fries, oreo shake roti, chicken biryani pizza parantha, chai, paratha, fries, cheese maggi, rajma chawal nutella waffle masala dosa, plain dosa paratha wood fire pizza puttu biryani, egg roast dum biryani, mutton biryani tandoori chicken, butter chicken, tandoori roti, bhindi masala, paratha, dal makhani masala dosa burgers, mojito, bbq burger, peri peri fries, grilled burger peri peri chicken, fries, lemongrass chicken, margherita pizza radhaballavi, egg noodles, egg roll, egg devils, alur dom jeera rice, corn paratha, paneer bhurji, gobhi matar, vegetarian, sweet lassi, dal fry gulab jamun, raita, chaat, chole, soya chaap, panipuri, dal makhani puttu biryani, egg roast burgers, peri peri chicken, spicy chicken, grilled lamb burger, chicken burger, french fries paratha, shahi paneer fries, white sauce pasta, monster pizza, cheesy garlic bread, cheesy pizza, margherita pizza shawarma, chicken grill, faluda fish, paratha panneer butter masala, idli, masala dosa, vada, coffee, roti, thali roast chicken whole meat shawarma, fries, jumbo shawarma, malgoum shawarma, rolls, chicken shawarama, kerala parotta gulab jamun, buttermilk, egg bhurji, sprout salad, roti fish, appam, egg roast, kadala curry, chicken curry, beef fry, ghee rice lassi, veg thali, roti, aloo paratha, egg curry thali, egg masala, chole, paratha, roti, butter chicken, paneer manchurian rolls, bbq chicken, paneer makhanwala, jumbo chicken roll, veggie wrap, sabudana vada, chicken wrap mutton biryani, dragon chicken, chicken dum biryani, vegetable biryani, paneer biryani rasgulla, mutton kosha, chicken kasha, samosa chaat, kheer, veg thali dum biryani, mutton biryani friendly staff veg momos, noodles, cheese momos, jhol momos, wai wai bhel, brownie, chicken momo neer dosa paratha, kadai paneer ambur biryani, mutton biryani, raita tacos, nachos, potato pops, potato burrito, fiery potato, rice bowls, taco joint butter chicken, paratha pyaz kachori, chaat, gajar ka halwa, shrikhand, jalebi rabri, churma, boondi raita chicken grill, grape juice, biryani, shawarma roll, rolls, chicken kebab, chicken shwarma roll burgers, chicken crisp burger, chicken whopper, chicken keema burger, chicken fries, mutton whopper, chocolate shake coffee, masala dosa, tea, badam milk, vada, idli, raagi dosa butter naan, tandoori chicken, chicken tikka masala, malai kofta, biryani, wheat paratha, noodles chicken stew, ghee rice, chai, beef biryani chicken biryani, rolls filter coffee, lunch thali, idli, mini idlis, ghee masala dosa, rasam vada, pongal lassi rolls, chicken roll, tandoori chicken, biryani, chicken lollipop, paratha, chicken grill pizza, spinach curry, salad masala dosa, panneer butter masala raita, vegetable biryani, biryani combo burgers, chicken bucket, paneer zinger burger masala dosa tandoori chicken, butter chicken, tandoori roti, bhindi masala, paratha, dal makhani egg biryani, donne biryani lassi, paratha, paneer parantha, butter chicken, punjabi chicken, shahi paneer, chicken kolhapuri vada, masala dosa, kharabath, filter coffee, kesari bath, idli sambar podi idli, masala dosa, pongal, coffee, mini idlis, appam, raagi dosa paratha, vada pav, chaat, pav bhaji, panipuri, masala poori, dhokla lassi, punjabi chicken, paratha, kadhai murgh, butter naan, lemon chicken, roti biryani, chicken curry, paratha, paya soup, mutton keema, chicken guntur, pepper chicken rava dosa, roti, masala dosa, kulcha, sandwiches, vada pav, idli rolls, momos, paratha, chicken tikka roll, mutton keema, egg roll tandoori chicken, chicken boneless biryani, hyderabadi biryani, lemon chicken, mutton biryani, raita bhindi fry, aloo fry, sweet lassi, paratha, tawa roti, palak paneer, butter chicken masala dosa dabeli, samosa, tawa pulav, cheese vada pav rumali roti, rumali shawarma, burgers, shawarma burger fish thali, aloo paratha chaat, samosa, thali, sweet lassi, biryani, egg roll, masala paneer paratha, coffee, halwa, lassi vada, rava idli, masala dosa, coffee chole, kulcha, mutton curry, paratha, mint raita, chicken curry, dal makhani chai, lemon tea, chicken roll pizza, dragon chicken, butter chicken, noodles, chicken wings, chicken noodle chaat, dabeli, panipuri plain paratha, prawn, chicken biryani, chicken dak bunglow, chicken masala, roti, aloo posto mutton biryani, ambur biryani, chicken biryani butter chicken, dal makhani, roti, tangdi kabab, panneer butter masala momos, pizza sandwich, manchow soup, chowmein, spring roll, noodles, white pasta chaat, dabeli, pav bhaji, dhokla, gujarati food, jalebi, panipuri aloo paratha, poha, samosa, kachori, chaat noodles, pasta, tibetan momos, clear soup, thukpa, steak, chicken momo momos, noodles, thukpa, teriyaki chicken, chicken chowmein, clear chicken soup, beef chilli beef fry, fish fry, appam, masala prawn, egg roast, chicken curry, biryani pav bhaji, dabeli, paratha, raj kachori, vada pav mushroom masala, thali, aloo paratha, roti, samosa, panneer butter masala masala dosa, pongal, filter coffee, tea, idli mutton kosha, basanti pulao, fish curry, chicken biryani masala dosa, pongal, tea, bonda, filter coffee noodles, pasta, schezwan momos, chicken momo, teriyaki chicken, thukpa, fries burgers, oreo mcflurry, french fries, mcspicy chicken burger, paneer pockets, tikki, chicken maharaja mac french fries, peri peri fries, cup cake, potato fries, fried cheese, chicken fries, mexican fries paratha, palak paneer tea, chole, khichda, butter paneer, paneer bhurji, paratha, masala chai pie, thin crust pizza, cheesy pizza, pepperoni pizza, paneer pizza paratha, rolls, roti burgers, tea, ferrero rocher, sandwich, french fries chicken curry, fish, thali, rolls, rasgulla, chicken biryani ginger chai, ginger tea, pakoda, paratha, maggi, pav bhaji, sulemani chai fish, rasmalai, doi katla, aalo bhaja, bhetki paturi, chicken kasha, aloo posto appam, chicken curry, passion fruit juice, crepe momos, noodles coffee, burgers, pasta, beef steak, chicken lasagne, salads, sandwiches baklava, falafel roll, falafel plate, pita bread, mint lemonade, pita pocket, pomegranate juice tikki, chicken tikka, chicken biryani, thali, shammi kebab roll, rumali roti, nihari bingsu, mocktails, custard, chocolate oreo, sandwiches, brownie, korean ice cream burgers, chicken popcorn, peri peri chicken, peri peri burger, fries, chicken wings, crunchy veg burger biryani shawarma, sandwiches garlic bread, pasta, veggie pizza, salsa, nachos, nawabi pizza, sicilian pizza pizza, garlic bread, chocolava dal makhani, amritsari kulcha rolls, burgers, sandwiches, nachos, sweet lassi, fries, methi paratha gulab jamun, samosa, paratha, paneer curry, biryani, chaat, veg cutlet rolls, biryani, mutton seekh, egg roll, chicken tikka, chicken roll garlic bread, sandwiches, aloo tikki burger, club sandwich, white sauce pasta, garlic rice cheese paratha rolls, chicken wings, shawarma, chicken tikka roll, burgers, fries, pasta kosha mangsho, daab chingri, fish curry, dum biryani whole meat shawarma, jumbo shawarma, spicy shawarma, momos momos, rice noodles, kung pao chicken, rice bowl, noodle, thai green curry, chicken dim sum naan saag, veg thali sattu paratha burgers, fries, chicken wings, popcorn, chicken grill masala dosa, vada, tea, coffee, idli burgers, wood fire pizza, nachos roti, dal makhani, lassi, panneer butter masala, kulcha, masala papad, butter chicken burgers, mojito, bbq burger, peri peri fries, grilled burger chicken curry, red rice, fish curry masala dosa, biryani, chicken stew, tea, appam, paratha burgers, zinger burger poha, bread omelette, ginger chai, ginger tea akki rottis, neer dosa roti, chicken biryani chaat, aloo tikki, dabeli, panipuri, pav bhaji, vada pav, masala poori filter coffee, badam milk, idli, hot coffee, samosa, lemon tea, mini idlis pizza parantha, chai, paratha, fries, cheese maggi, rajma chawal cheese vada pav, kulfi, burgers, tikki, cheese fingers, schezwan vada pav tea, coffee, neer dosa, gajar ka halwa, thali, chaat, cheese dosa coffee, sandwiches, tea masala dosa, vada, filter coffee ginger tea, filter coffee, sandwich, poha, waffles, vada momos, chicken lollipop, chicken momo, noodles, chicken thukpa poha, jalebi, paratha, bhindi masala, kachori, puri sabzi, samosa litti, liti chokha, lassi, tea, paratha, thali, chai biryani, paratha, chicken masala, kerala parotta coffee raita, hyderabadi biryani paratha, butter naan, thali, tandoori roti, lassi kachori, indori poha, cheese paratha, paneer parantha, thali, poha jalebi hyderabadi biryani, ginger chicken paratha, mutton curry lassi, chai, paratha burgers, belgian fries, pasta, salads, falafel pockets, greek sandwich ginger tea, chai, samosa, bun omelette, elaichi tea, egg bhurji, carrot cake burgers, cheesy pizza, chips, fries, rice bowl, white sauce pasta, chicken wings pizza, peri peri fries, veg paprika coffee, thali, kharabath, masala dosa, idli vada, vanilla ice cream, bisi bele bhaath tandoori chicken, butter naan, kadai paneer, pepper chicken pizza, ice cream roll egg noodles, biryani pizza fries, almond shake vada pav, misal pav, sabudana vada, dabeli, pav bhaji, sabudana khichdi, lassi nutella waffle thali, chicken lollipop, gundappa donne biryani, mutton biryani sea food noodles, beef momos, chicken shaptra, chicken thukpa, clear soup, beef momo, chicken thupka peri peri chicken, fries, lemongrass chicken, margherita pizza chicken nachos, chicken tacos, rice bowl appam, buttermilk, fry prawns, roast beef, masala prawn, chicken stew, murgh ghee roast chai, ginger tea, maggi, aloo paratha, samosa, coffee, sandwich chicken grill, rumali roti, rolls honey chilli potatoes, nachos, lemonade, hakka noodles, babycorn manchurian, mushroom manchurian, spring roll rolls, aloo paratha, lassi, bread omelette benne dosa, idli, coffee veg thali, fish thali thali donne biryani, mutton biryani, chicken kebab, chilli chicken, chicken biryani, kshatriya kebab, chicken fries faluda, brownie, sandwich, kulfi, fruit salad, sweet lassi, chocolate fudge fish curry, appam, tea, egg roast, sea food poha, kachori, samosa, sabudana khichdi, paratha dal makhani, rice, buttermilk idli, masala dosa, sweet lassi sea food, thali, red snapper, fish fry, neer dosa lassi, nachos, mojito, roti, panipuri, pizza, waffles nachos, rice bowl, california burrito, rice bowls, chicken quesadilla, bbq chicken, pink lemonade momos, noodles, thukpa, chicken thupka, manchow soup, chicken momo, crispy honey chicken chai, aloo samosa, tea noodles, nasi goreng, rolls, kiwi mojito, brownie, tom yum soup, dumplings matar paneer, paratha, chole bhature, lassi sabudana khichdi, pav bhaji, pyaz kachori, chole bhature, faluda, malai ghewar, lassi dhokla, raj kachori, panipuri, jalebi, pyaz kachori sandwiches, fruit juices, burgers, chicken sandwich, omelette, french fries, oreo shake thali, thepla, gulab jamun, masala lassi, rice, gujarati food, roti lassi, soya chaap, fish, masala papad paratha chole bhature, omelette english breakfast, eggs, baked beans, oreo pancake, nutella pancakes, french toast, omelette bhaji dosa wood fire pizza rolls, shawarma roll, chicken grill, thali chicken biryani, chicken kebab burgers lassi, nachos, mojito, roti, panipuri, pizza, waffles bingsu, mocktails, custard, chocolate oreo, sandwiches, brownie, korean ice cream chole bhature, puri sabzi, chaat, panipuri, rasmalai, jalebi, pav bhaji momos, noodles, thukpa, teriyaki chicken, chicken chowmein, clear chicken soup, beef chilli pizza, spinach curry, salad appam, buttermilk, fry prawns, roast beef, masala prawn, chicken stew, murgh ghee roast kulcha, chole, mutton curry, paratha, mint raita, chicken curry, dal makhani burgers, chicken crisp burger, chicken whopper, chicken keema burger, chicken fries, mutton whopper, chocolate shake pizza, peri peri fries, veg paprika fish thali, aloo paratha thali, chicken lollipop, gundappa donne biryani, mutton biryani burgers, wedges, ice tea, maharaja burger, maharaja mac, french fries, hash brown biryani, paratha, chicken masala, kerala parotta burgers, zinger burger, chicken bucket, virgin mojito, chicken wings, crispy chicken, hot wings coffee, burgers, pasta, beef steak, chicken lasagne, salads, sandwiches dal makhani, amritsari kulcha rolls, masala veg frankie, chicken frankie rolls, aloo paratha, lassi, bread omelette burgers, fries, chicken wings, popcorn, chicken grill idli, vada, coffee, masala dosa, masala poori chai, lemon tea, ginger tea, rolls falafel, shawarma, chicken shawarama, salad, whole wheat pita, middle eastern food, pizza chocolate momos, thukpa, tandoori momos, paneer momos rolls, momos, chicken egg roll, fries, cheese roll, veggie roll chaat, thali, chole bhature, kulfi, paneer tikka, lassi, badam milk dum aloo, sweet lassi, aloo paratha, biryani chole bhature, omelette rolls, shawarma roll, chicken grill, thali butter chicken, paratha tacos, nachos, potato pops, potato burrito, fiery potato, rice bowls, taco joint pyaz kachori, chaat, gajar ka halwa, shrikhand, jalebi rabri, churma, boondi raita lassi, nachos, mojito, roti, panipuri, pizza, waffles masala chaach, stuffed paratha, gulkand lassi rice bowl, nachos, california burrito, rice bowls, chicken quesadilla, bbq chicken, pink lemonade fries, white sauce pasta, monster pizza, cheesy garlic bread, cheesy pizza, margherita pizza filter coffee, lunch thali, idli, mini idlis, ghee masala dosa, rasam vada, pongal momos, noodles bingsu, mocktails, custard, chocolate oreo, sandwiches, brownie, korean ice cream podi idli, masala dosa, pongal, coffee, mini idlis, appam, raagi dosa momos, noodles, thukpa, chicken thupka, manchow soup, chicken momo, crispy honey chicken gulab jamun, raita, chaat, chole, soya chaap, panipuri, dal makhani pizza, ice cream roll burgers, peri peri chicken, spicy chicken, grilled lamb burger, chicken burger, french fries masala idli, filter coffee noodles, pasta, tibetan momos, clear soup, thukpa, steak, chicken momo veg momos, noodles, cheese momos, jhol momos, wai wai bhel, brownie, chicken momo neer dosa tea, upma, coffee, pongal, podi idli, masala vada, mini idlis coffee, sandwiches, tea sandwiches, masala pav, chicken burger, filter coffee, burgers, masala chai, french fries kosha mangsho, daab chingri, fish curry, dum biryani rolls, bbq chicken, paneer makhanwala, jumbo chicken roll, veggie wrap, sabudana vada, chicken wrap pizza, barbeque chicken noodles, beef momos, chicken shaptra, chicken thukpa, clear soup, beef momo, chicken thupka butter naan, tandoori chicken, chicken tikka masala, malai kofta, biryani, wheat paratha, noodles ginger tea, chai, samosa, bun omelette, elaichi tea, egg bhurji, carrot cake bhindi fry, aloo fry, sweet lassi, paratha, tawa roti, palak paneer, butter chicken sea food chaat, dabeli, pav bhaji, dhokla, gujarati food, jalebi, panipuri tea, coffee, neer dosa, gajar ka halwa, thali, chaat, cheese dosa masala dosa poha, kachori, samosa, sabudana khichdi, paratha momos, chicken lollipop, chicken momo, noodles, chicken thukpa fish, thali, rolls, rasgulla, chicken biryani sabudana khichdi, pav bhaji, pyaz kachori, chole bhature, faluda, malai ghewar, lassi naan rolls, chicken wings, shawarma, chicken tikka roll, burgers, fries, pasta burgers, mojito, bbq burger, peri peri fries, grilled burger paratha, mutton curry dhokla, raj kachori, panipuri, jalebi, pyaz kachori butter chicken, dal makhani, roti, tangdi kabab, panneer butter masala pizza, dragon chicken, butter chicken, noodles, chicken wings, chicken noodle peri peri chicken, fries, lemongrass chicken, margherita pizza paratha, liti chokha, buttermilk, tea, aloo litti, raita garlic bread, pasta, veggie pizza, salsa, nachos, nawabi pizza, sicilian pizza burgers, belgian fries, pasta, salads, falafel pockets, greek sandwich sea food, thali, red snapper, fish fry, neer dosa chicken nachos, chicken tacos, rice bowl thali, thepla, gulab jamun, masala lassi, rice, gujarati food, roti burgers, zinger burger english breakfast, eggs, baked beans, oreo pancake, nutella pancakes, french toast, omelette sandwiches, sandwich, salads, shahi paneer tea, chole, khichda, butter paneer, paneer bhurji, paratha, masala chai egg noodles, biryani rolls, veggie roll, chicken tikka roll, beda roti panneer butter masala friendly staff burgers, wood fire pizza, nachos chai, ginger tea, maggi, aloo paratha, samosa, coffee, sandwich baklava, falafel roll, falafel plate, pita bread, mint lemonade, pita pocket, pomegranate juice lassi, paratha, paneer parantha, butter chicken, punjabi chicken, shahi paneer, chicken kolhapuri fish, appam, egg roast, kadala curry, chicken curry, beef fry, ghee rice roast chicken, thalassery biryani ambur biryani, mutton biryani, prawn, raita, brinjal curry, vegetable biryani, fish tandoori chicken, butter naan, kadai paneer, pepper chicken momos, rice noodles, kung pao chicken, rice bowl, noodle, thai green curry, chicken dim sum chai, lemon tea, chicken roll masala dosa, panneer butter masala shawarma, chicken grill, faluda appam, chicken curry, passion fruit juice, crepe paratha, rolls, roti chicken grill, biryani, shawarma roll, rolls, arabian pulpy grape juice lassi, veg thali, roti, aloo paratha, egg curry tikki, chicken tikka, chicken biryani, thali, shammi kebab roll, rumali roti, nihari whole meat shawarma chaat, dabeli, panipuri idli, masala dosa, sweet lassi burgers, chicken popcorn, peri peri chicken, peri peri burger, fries, chicken wings, crunchy veg burger noodles, nasi goreng, rolls, kiwi mojito, brownie, tom yum soup, dumplings beef fry, fish fry, appam, masala prawn, egg roast, chicken curry, biryani matar paneer, paratha, chole bhature, lassi kachori, indori poha, cheese paratha, paneer parantha, thali, poha jalebi chicken stew, ghee rice, chai, beef biryani mutton biryani, dragon chicken, chicken dum biryani, vegetable biryani, paneer biryani chole bhature, puri sabzi, chaat, panipuri, rasmalai, jalebi, pav bhaji vada, rava idli, masala dosa, coffee raita, hyderabadi biryani sandwiches, fruit juices, burgers, chicken sandwich, omelette, french fries, oreo shake roti, chicken biryani pizza parantha, chai, paratha, fries, cheese maggi, rajma chawal chaat, panipuri, lassi, aloo paratha, chai, gulab jamun thali dal makhani, rice, buttermilk chicken curry, red rice, fish curry nutella waffle fish curry, appam, tea, egg roast, sea food rolls, chicken roll, tandoori chicken, biryani, chicken lollipop, paratha, chicken grill pongal, filter coffee, idli, masala dosa masala dosa, plain dosa lassi, soya chaap, fish, masala papad filter coffee, masala dosa masala dosa, idli paratha wood fire pizza puttu biryani, egg roast dum biryani, mutton biryani tandoori chicken, butter chicken, tandoori roti, bhindi masala, paratha, dal makhani chicken biryani, chicken kebab masala dosa burgers, fries, peri peri chicken, nachos, wings, rolls, tandoori burger pizza, nachos, salads, peri peri fries, brownie, pasta alfredo, spaghetti chaat, pav bhaji, dabeli, vada pav, tawa pulav, panipuri, malpua rolls, fries, egg roll chaat, panipuri, masala poori, pav bhaji, bhel puri, pizza, dahi papdi butter chicken, paratha garlic bread, paneer pizza, supreme pizza, tandoori paneer burgers, crispy chicken, chicken zinger burger, french fries, chicken fries, hot wings coffee, roti, vada pav white pasta, noodles, babycorn manchurian, pizza, veg momos, fry momos, tawa pulav burgers, chicken tandoori grill burger, cheesy chicken fries, chicken whopper, whopper burger, tandoor chicken burger, mutton whopper biryani burgers, bun nippat masala, masala cola, pizza, masala pepsi, masala soda, sandwiches salad, salads, sandwiches vada pav, dabeli, pav bhaji, samosa pav garlic bread, sandwiches, aloo tikki burger, club sandwich, white sauce pasta, garlic rice rolls, chicken tikka roll, cheese roll pizza, pasta, burgers, lasagne, masala garlic bread maggi, sandwiches, rolls filter coffee, kesari bath, curd rice, idli vada, crispy masala dosa, masala tea, thick coconut chutney rolls, burgers, sandwiches, nachos, sweet lassi, fries, methi paratha pizza, garlic bread rolls, whole meat shawarma hariyali chicken, rice kheer, chicken kebab, chicken biryani, firewood biryani, mutton biryani, badam phirni pizza, white sauce pasta, masala garlic bread rolls, mutton seekh roll, malai tikka, chicken tikka roll, mutton baida roti, reshmi tikka roll, beda roti burgers, mc spicy chicken, chicken burger, maharaja mac paratha, paneer pakora, chole bhature, rajma chawal, chaach, lassi, buttermilk rolls, biryani, butter chicken, chicken manchurian roll badam milk, potato twister, pav bhaji, panipuri, tikki chaat, cheese cutlet chole, tea, filter coffee, vada, upma, butter masala dosa, idli masala dosa, coffee vada, idli, kharabath, noodles, filter coffee masala dosa, panneer butter masala, thali fried cheese, french fries, maggi, thick shakes, chilli cheese fries, tea burgers, salad, mocktails, pasta arrabiata, fries, nutella cheesecake, teriyaki chicken wings irish coffee, gelato ice cream, italian icecream, chocolate cake chilli chicken rolls, shawarma, chicken shawarama, beef shwarma, haleem, beef seekh roll, chicken roll sandwiches, tea, masala chai, pasta, maggi, sandwich, chicken burger lassi, amritsari kulcha, chole donne biryani, mutton biryani butter naan, buttermilk, jowar roti, panneer butter masala chilli chicken, chicken curry, mutton biryani, gundappa donne biryani dal makhani coffee, paratha, chaat, masala dosa, dahipuri, pav bhaji, tea donne chicken biryani, akki rottis, roti, mutton chops, chicken curry, vada, coffee beef biryani, chicken biryani, chicken kebab, mutton biryani, beef kabab, paratha, ghee rice momos, hakka noodles, chop suey sandwiches, fruit bowl, panipuri, corn sandwich, palak paneer, arabian grape juice, cheesy grilled sandwich burgers, biryani nachos, california burrito, rice bowl, salads shawarma, burgers, beef burger, potato wedges, vegetable noodles, cheese fatayer, garlic fries rolls, momos, paneer roll, veggie roll gobhi pakoda, bajji, raita, ginger tea, jalapeno cheese poppers, mojito, chai tandoori chicken, butter chicken, garlic naan garlic naan, tandoori chicken, basmati rice samosa, tea paratha, samosa, vada pav tea, filter coffee, pongal, masala dosa irish coffee, gelato ice cream, italian icecream, chocolate cake gulab jamun, jalebi, samosa, chole, sev puri, rasgulla, masala poori badam milk, chaat, rasmalai, mysore pak, samosa, paneer cutlets, kachori paratha, samosa, vada pav panipuri, paratha, dhokla, vada pav, hot badam milk, chaat, thali chole, tea, filter coffee, vada, upma, butter masala dosa, idli sea food, fish fry, fish curry, fish kebab, buttermilk, fry prawns, ragi mudde salad, salads, sandwiches filter coffee, rava idli, rava masala dosa, vada, raagi dosa, podi dosa, badam halwa masala dosa, panneer butter masala, thali noodles, thukpa, beef momos, chowmein, veg momos, cheese momos garlic naan, tandoori chicken, basmati rice rolls, beef kabab, seekh kebab, seekh roll burgers, salad, mocktails, pasta arrabiata, fries, nutella cheesecake, teriyaki chicken wings beef biryani, chicken biryani, chicken kebab, mutton biryani, beef kabab, paratha, ghee rice gulab jamun, jalebi, samosa, chole, sev puri, rasgulla, masala poori momos, hakka noodles, chop suey mutton cutlets, masala dosa, filter coffee, omelette, vada, scrambled eggs, hot coffee masala dosa, idli, kali dosa, ghee khali dosa, tomato rice, set dosa, ghee rice biryani burgers, fries, peri peri chicken, nachos, wings, rolls, tandoori burger chicken curry, biryani, chilli chicken, fry prawns, chicken kebab paratha, paneer pakora, chole bhature, rajma chawal, chaach, lassi, buttermilk sandwiches, fruit bowl, panipuri, corn sandwich, palak paneer, arabian grape juice, cheesy grilled sandwich akki rottis, rumali roti, masala dosa, vada, raagi roti, rava idli, coffee burgers, ginger chicken, virgin mojito, popcorn, rice bowl burgers, biryani filter coffee, idli burgers, chicken tandoori grill burger, cheesy chicken fries, chicken whopper, whopper burger, tandoor chicken burger, mutton whopper rolls, shawarma, chicken shawarama, beef shwarma, haleem, beef seekh roll, chicken roll rolls, burgers, sandwiches, nachos, sweet lassi, fries, methi paratha pizza, garlic bread vada, idli, kharabath, noodles, filter coffee biryani pav bhaji, panipuri, chaat burgers, peri peri fries thukpa, vegetable noodles, steam chicken momos, chowmein, chicken shaptra, chicken manchurian, dumplings chilli chicken donne chicken biryani, akki rottis, roti, mutton chops, chicken curry, vada, coffee shawarma, burgers, beef burger, potato wedges, vegetable noodles, cheese fatayer, garlic fries masala dosa, filter coffee, vada, akki rottis, rava dosa donne biryani, mutton biryani rolls, chicken tikka roll, cheese roll coffee, paratha, chaat, masala dosa, dahipuri, pav bhaji, tea hariyali chicken, rice kheer, chicken kebab, chicken biryani, firewood biryani, mutton biryani, badam phirni rolls, veggie wrap, chicken wrap, paneer wrap, chole, dal makhani, jal-jeera masala dosa, filter coffee filter coffee, kesari bath, curd rice, idli vada, crispy masala dosa, masala tea, thick coconut chutney chilli chicken, mutton biryani, pepper chicken, chicken fry, donne chicken biryani, chicken guntur, chicken kebab gobhi pakoda, bajji, raita, ginger tea, jalapeno cheese poppers, mojito, chai tandoori chicken, butter chicken, garlic naan pav bhaji, chaat, masala poori, panipuri, dahipuri, sev puri, sandwiches samosa, tea chicken biryani, mutton biryani, andhra meal, mutton fry, fry prawns, fish fry, chilli chicken chicken kebab, ghee rice, chicken grill, paratha, chicken biryani biryani, buttermilk, mutton fry, mutton curry, thali podi masala dosa, crispy masala dosa, idli, vada, coffee, paper plain dosa, aloo palya idli, coffee masala dosa, khali dosa, kali dosa, gini dosa, idli, potato masala, coffee ragi mudde, buttermilk vada nachos, california burrito, rice bowl, salads panipuri, paratha, dhokla, vada pav, hot badam milk, chaat, thali dal makhani pongal, filter coffee, idli, masala dosa nachos, pasta del barone, cheesy garlic bread, thin crust pizza, oreo milkshake, tortilla chips, manali pizza pav bhaji, chaat, panipuri, grilled sandwich, hot dog, bhel puri, masala poori burgers, peri peri chicken, salad, nachos, peri peri wings, chicken fries, salads dabeli, masala poori, misal pav, dahipuri, papdi chaat, panipuri, pav bhaji benne masala dosa, aloo palya hyderabadi biryani, chicken biryani, vegetable biryani burgers, chicken wings, mango shake, chicken crisp burger, cheesy fries, chicken fries, burger meal kerala parotta, shawarma chaat, pav bhaji, bhel puri, dahipuri, vada pav, raj kachori, samosa pav bhaji, paratha, pizza sandwich, burgers, vada pav, chocolate mousse, sandwiches chaat, panipuri, masala poori, pav bhaji, bhel puri, pizza, dahi papdi momos, noodles, fish, spring roll, chicken noodle, hunan chicken, chicken momo biryani whole meat shawarma, malgoum shawarma, roti, kerala parotta, pita bread paratha bamboo chicken biryani biryani, rumali roti, chicken noodle malai kofta, fries, chicken biryani, stuffed kulcha burgers, crispy chicken, chicken zinger burger, french fries, chicken fries, hot wings masala dosa rolls, veggie roll, chicken biryani, paneer tikka roll, wheat roll vada, thatte idli, kesari bath akki rottis, roti, rava idli, filter coffee, pongal, masala dosa, kokum juice vada, filter coffee, masala dosa aloo palya, masala poori, panipuri, rolls, chaat, benne dosa, dahipuri benne masala dosa, filter coffee, chai, butter masala dosa, crispy vada, tea, kesari bath burgers, popcorn, chicken roll vada, idli, pongal, upma, tea, kesari bath, coffee mishti doi, doi katla, mutton kosha, fish curry, aloo posto, gulab jamun dhokla, tea, lassi, tiranga paratha, sandwich, pizza parantha, rasgulla egg manchurian, paratha, momos, masala chai, raj kachori, rolls, chaat vada pav, dabeli, pav bhaji, chaat, misal pav, bread pakora, jumbo vada pavs vada pav, dabeli, pav bhaji, samosa pav pasta, momos, noodles, manchurian, peri peri fries, chinese bhel, tacos cheese paratha, lassi, pizza, paneer parantha butter chicken, tandoori chicken, rolls, chicken masala, chicken tikka, roti filter coffee, vada, chai, caramel coffee, masala dosa, kesari bath, veg dosa neer dosa, fish curry, chicken sukha, rawas fry, thali, fish rava fry burgers, nachos, mocktails, schezwan momos, paneer manchurian, paneer noodles, patiala paneer chaat, lassi, tawa pulav, potato twister, dal makhani, chole bhature, rajma filter coffee, kharabath, masala dosa, tea, idli vada, kesari bath beef biryani, paratha, fish curry, chicken biryani, fish fry rolls, chicken tikka, chicken seekh roll, seekh kebab, aloo tikka roll, murgh malai kebab, beda roti burgers, coke float, french fries pizza, garlic bread, chocolava cake chicken sukha, neer dosa rolls, paneer tikka roll, chicken reshmi tikka roll, beda roti rolls, biryani, chicken tikka roll, chicken manchurian vada, sweet corn soup momos, pizza, nachos, burgers, pasta filter coffee, crispy dosa, vada, burgers, mini idlis, ghee roast masala dosa, paratha mutton biryani vada, idli, coffee, kesari bath paratha, vada pav, thali, lassi, manchurian masala dosa, coffee kesari bath, idli vada, sweet pongal, filter coffee, idli chatni, idli chutney, upma biryani chaap, egg noodles, chicken momo, veg momos, wheat momo, thukpa french chicken, roti, biryani maggi, sandwiches, rolls donne biryani, chicken kebab, chicken lollipop, mutton biryani, chicken biryani combo chicken grill, shawarma, rolls, biryani, kerala parotta paratha, deluxe thali, lassi, paneer tikka, roti, biryani, panneer butter masala coffee, kadhai paneer pork pepper fry, mutton chops, mutton biryani, chicken fry, garlic chicken, akki rottis, pepper chicken sandwiches, salad, corn soup chilli chicken, chicken curry, mutton biryani, gundappa donne biryani misal pav, vada pav, buttermilk, dabeli, sabudana vada, shrikhand, sabudana khichdi badami holige, puran poli rava idli, benne masala dosa, filter coffee, tea, pav bhaji, pongal, curd vadai benne masala dosa, filter coffee, chai, butter masala dosa, crispy vada, tea, kesari bath akki rottis, roti, rava idli, filter coffee, pongal, masala dosa, kokum juice masala dosa, pongal, bisi bele bhaath, curd vadai, rava idli, filter coffee, idli vada biryani masala dosa banana leaf meal neer dosa, filter coffee, button idli, benne masala dosa, puri saagu, badam halwa, vada aloo palya, masala poori, panipuri, rolls, chaat, benne dosa, dahipuri masala dosa, filter coffee, tea, onion dosa, vada sambar, badam milk, badam halwa neer dosa, fish curry, chicken sukha, rawas fry, thali, fish rava fry zinger burger, french fries, choco lash, hot wings, virgin mojito panneer butter masala, manchurian, fruit salad, idli, filter coffee, dhokla, kashmiri pulao paratha thali, idli, neer dosa shahi paneer, custard, rajma, sweet lassi, protein chapati, biryani, jeera rice burgers, chicken fries, veg burger, chicken wings, chicken whopper, mango shake, supreme burger pizza, garlic bread, chocolava cake pasta, momos, noodles, manchurian, peri peri fries, chinese bhel, tacos burgers, french fries, maharaja burger chaat, chips, dahipuri, masala poori sandwiches, sandwich, bun nippat cheese dabeli, masala poori, misal pav, dahipuri, papdi chaat, panipuri, pav bhaji chilli paneer, manchurian, aloo paratha, dahipuri paratha, vada pav, thali, lassi, manchurian shawarma, chicken shawarama, falafel wrap, lemonade chaat, dahipuri, chips, masala poori, bhel puri, jal-jeera, sev puri sandwiches, salad, corn soup vada, masala idli, benne khali dosa, benne masala dosa, set dosa, filter coffee masala dosa, coffee, khali dosa, idli, kali dosa chilli chicken, chicken curry, mutton biryani, gundappa donne biryani coffee, bonda soup, masala dosa, neer dosa maggi, sandwiches, rolls chaat, panipuri, masala poori, pav bhaji, bhel puri, pizza, dahi papdi idli, masala dosa upma, filter coffee, sagu masala dosa, badam halwa, rava idli, hot coffee, kesari bath bamboo chicken biryani donne biryani, chicken kebab, chicken lollipop, mutton biryani, chicken biryani combo paratha, deluxe thali, lassi, paneer tikka, roti, biryani, panneer butter masala masala dosa, chaat, panneer butter masala vada, sweet corn soup momos, noodles, fish, spring roll, chicken noodle, hunan chicken, chicken momo biryani, roti, thali, sandwich, salad, gulab jamun paratha, thali rabri, naan, chaap, raita, tandoori chicken, tangdi kabab, dal makhani roti, fish fry, egg noodles pizza burger chole, vada, roti, paratha burgers, mcmuffin, french fries, waffles, pancakes, mc veggie, coffee burgers, jerk chicken salad, salads, lemon mojito, lemonade, chicken patty, veg burger hyderabadi biryani, dum biryani, chicken biryani tandoori chicken paratha dabeli, pav bhaji, cheese vada pav paratha sandwiches, paratha, fruit lassi, gulab jamun rolls, falafel, biryani, paratha tandoori momos, pasta, afghani momos, chicken wings, chowmein, roasted chilli biryani, chicken grill, roast chicken, tandoori chicken, pepper chicken, roti, rolls veg platter, chicken kebab roll, chai, aloo samosa, chicken samosa sandwich, paratha, poha, sandwiches, idli vada, tea, roti jeera rice, thali, roti panneer butter masala, paratha, vegetable biryani paratha, veg thali, chole bhature, gulab jamun, lassi, dal fry, roti poha, aloo paratha chicken guntur, vegetable biryani, executive chicken biryani, mutton biryani, hyderabadi chicken biryani paratha, thali chicken wrap, veggie wrap, rolls mutton thali, salad, palak paneer, chicken curry, butter chicken, buttermilk, shahi paneer biryani, idli, vada, chicken curry crispy chicken fish, veg thali, biryani vegetable biryani, chicken biryani, chicken kebab, mutton biryani fish chole bhature, deluxe thali, lassi, chaat, aloo paratha, soya chaap biryani, dahipuri pepperoni pizza thali, fish curry, dal makhani, khichda, chicken handi kheer, paneer chatpata, mango lassi, thali, paratha, gulab jamun, buttermilk chicken grill, shawarma, naan appam, masala dosa, tea, coffee rasgulla, mutton kosha, luchi, fish cutlet, aloo posto, alur dom, thali liti chokha, litti, sattu paratha, dal bati, thali, roti burgers, fries, peri peri wings, chicken jumbo burger, salads, jumbo royale burger, peri peri chicken rolls, chicken roll, chicken baida roti french fries, whole meat shawarma, chicken shawarama chole, samosa chaat, papdi chaat, dahipuri, sev puri, chai, panipuri chicken noodle, momos mutton curry, veg thali paratha plain dosa, palak dosa, mushroom dosa french fries, peri peri fries rolls, rice, biryani chole bhature, chaat, jalebi, puri sabzi, buttermilk, dhokla, panipuri butter chicken, dal makhani, malai kofta fish, paratha, fried rice paratha, roti, paneer tikka masala, bhindi masala, aloo gobhi masala biryani, paratha paratha, pizza parantha, sandwich, tea, honey chilli potatoes, pasta alfredo, coffee paratha aloo paratha, dal makhani, chaat mudpie, sandwich, masala dosa, hot coffee, pasta, pizza dosa, paratha chocolate momos, thukpa, momo burger, chicken momo biryani, chicken curry mutton biryani gulab jamun, thali, salad chaat, panipuri, jalebi, vada pav, samosa, chole bhature, gol gappe pork curry, pandi curry thali, lassi, rice, chole bhature, paratha, dal makhani, dal tadka burgers paratha, thali, rajma roti, rice roast chicken, appam, kadala curry, fish fry dal tadka paratha, lassi, panneer butter masala, tandoori roti panneer butter masala, lassi paratha, tandoori chicken, panneer butter masala, chole bhature lassi, paratha, paneer bhurji veggie pizza, french fries burgers, chicken fries, chicken grill, hot wings, chicken roll gulab jamun thali, fried rice, chicken tikka, butter chicken rolls, rasgulla, fish fry, bhetki paturi, mutton kosha, veg thali, luchi tacos, nachos, burrito, rice bowl, pizza, fiesta potatoes, chicken burritos pizza thepla, poha, gujarati food, paratha, chocolate sandwich, cheese dabeli non veg thali, egg maggi mutton curry, aloo paratha sandwiches, chaat, panipuri, sandwich samosa, jalebi, rasmalai, poha, aloo poori, panipuri, aloo sabji biryani, raita waffles, burgers, pizza, tea papdi chaat, panneer butter masala, tea, paneer lababdar, biryani, kullad chai, chicken tikka masala biryani, coffee, kerala parotta, tea, thalassery dum biriyani, appam, noodles pasta, burgers, pizza, nachos, exotic garlic bread, french fries, chocolate shake rolls, chicken biryani, chilli chicken, butter chicken, roti, panneer butter masala, tandoori chicken vada, set dosa, thali, masala dosa, roti, idli veg thali, fish thali rolls, noodles, mughlai paratha, paneer kathi roll, veg manchow soup, crispy chicken, chicken manchurian lassi, naan, chicken biryani, butter chicken, aloo paratha, manchurian, paneer tikka masala burgers, pasta, chicken zinger burger, french fries chicken kasha, tawa roti, manchurian, mutton curry, mutton kosha, prawn chole bhature, chaat, jalebi, puri sabzi, buttermilk, dhokla, panipuri vada, set dosa, thali, masala dosa, roti, idli garlic bread, veggie pizza chaat, panipuri, jalebi, vada pav, samosa, chole bhature, gol gappe burgers, fries, peri peri wings, chicken jumbo burger, salads, jumbo royale burger, peri peri chicken samosa, jalebi, rasmalai, poha, aloo poori, panipuri, aloo sabji pizza, peppy paneer crispy chicken gulab jamun, thali, salad mutton thali, salad, palak paneer, chicken curry, butter chicken, buttermilk, shahi paneer mutton curry, aloo paratha tandoori chicken biryani, raita vegetable biryani, chicken biryani, chicken kebab, mutton biryani biryani, paratha chicken grill, rose milk, pulpy grape juice, shawarma roll, chicken wings, rolls, butter chicken mutton curry, veg thali rasgulla, mutton kosha, luchi, fish cutlet, aloo posto, alur dom, thali dabeli, veg manchow soup, momos, hakka noodles, egg roll, rolls, dragon chicken kheer, paneer chatpata, mango lassi, thali, paratha, gulab jamun, buttermilk paratha, pizza parantha, sandwich, tea, honey chilli potatoes, pasta alfredo, coffee paratha jeera rice, thali, roti roast chicken, appam, kadala curry, fish fry chole bhature, deluxe thali, lassi, chaat, aloo paratha, soya chaap biryani, dahipuri paratha, veg thali, chole bhature, gulab jamun, lassi, dal fry, roti rolls, salad, dal makhani, chicken wrap, pizza, chocolate cake, chocolate fantasy burgers, jerk chicken salad, salads, lemon mojito, lemonade, chicken patty, veg burger rolls, falafel, biryani, paratha thali, fried rice, chicken tikka, butter chicken idli, vada, pongal, onion rava dosa rolls, mix veg aloo paratha, dal makhani, chaat paratha, thali, rajma papdi chaat, panneer butter masala, tea, paneer lababdar, biryani, kullad chai, chicken tikka masala paratha pasta, burgers, pizza, nachos, exotic garlic bread, french fries, chocolate shake mutton biryani dal tadka rolls, rasgulla, fish fry, bhetki paturi, mutton kosha, veg thali, luchi biryani, coffee, kerala parotta, tea, thalassery dum biriyani, appam, noodles biryani, roti, thali, sandwich, salad, gulab jamun chocolate momos, thukpa, momo burger, chicken momo idli, plain dosa roti, fish fry, egg noodles chicken guntur, vegetable biryani, executive chicken biryani, mutton biryani, hyderabadi chicken biryani paratha, thali paratha rolls, rice, biryani chole, samosa chaat, papdi chaat, dahipuri, sev puri, chai, panipuri pepperoni pizza veg thali, fish thali biryani, idli, vada, chicken curry gulab jamun fish thali, fish curry, dal makhani, khichda, chicken handi burgers, chicken fries, chicken grill, hot wings, chicken roll paratha chole, vada, roti, paratha paratha, roti, paneer tikka masala, bhindi masala, aloo gobhi masala chole bhature, chaat, jalebi, puri sabzi, buttermilk, dhokla, panipuri fish, veg thali, biryani biryani, chicken grill, roast chicken, tandoori chicken, pepper chicken, roti, rolls chicken grill, shawarma, naan paratha, lassi, panneer butter masala, tandoori roti liti chokha, litti, sattu paratha, dal bati, thali, roti tacos, nachos, burrito, rice bowl, pizza, fiesta potatoes, chicken burritos veggie pizza, french fries panneer butter masala, paratha, vegetable biryani rolls, chicken roll, chicken baida roti butter chicken, dal makhani, malai kofta waffles, burgers, pizza, tea panneer butter masala, coffee, tea, idli, manchurian, vada, thali idli thali, lassi, rice, chole bhature, paratha, dal makhani, dal tadka burgers, mcmuffin, french fries, waffles, pancakes, mc veggie, coffee biryani, chicken curry fish, paratha, fried rice masala dosa, tea, onion dosa, vada, rava idli, kesari bath panneer butter masala, lassi sandwiches, chaat, panipuri, sandwich mudpie, sandwich, masala dosa, hot coffee, pasta, pizza dosa, paratha paratha, tandoori chicken, panneer butter masala, chole bhature burgers fish curry, roast chicken, kerala parotta, appam, mutton pepper fry, sea food, ghee rice burgers, fries, peri peri chicken, nachos, wings, rolls, tandoori burger burgers, tandoori grill burger, mango shake, cheesy fries, whopper burger, chicken keema burger, chicken crisp burger pepper chicken, chicken biryani, mutton biryani idli vada, tea, masala dosa, filter coffee, pav bhaji, kesari bath, chaat dal fry rolls, beda roti, kathi roll, veggie roll, chicken seekh roll, chicken kalimirch, mutton kebab roll butter chicken, paratha rolls, fries, egg roll rolls, chicken grill garlic bread, paneer pizza, supreme pizza, tandoori paneer burgers, crispy chicken, chicken zinger burger, french fries, chicken fries, hot wings tacos, fries, nachos, tikka masala burrito, chicken quesadilla, crispy chicken, salsa lassi, amritsari kulcha, chole coffee, roti, vada pav sandwiches, tea, masala chai, pasta, maggi, sandwich, chicken burger chicken biryani, lemon chicken roll kesari bath, vada, filter coffee biryani rolls, shawarma, chicken shawarama, beef shwarma, haleem, beef seekh roll, chicken roll salad, salads, sandwiches peri peri chicken, shawarma, biryani, rolls mutton chops, mutton fry, brain fry, mutton masala, mutton curry, donne biryani, chicken curry pizza, pasta, burgers, lasagne, masala garlic bread pizza, garlic bread vada, masala dosa, filter coffee rolls, chicken tikka roll, cheese roll rolls, burgers, sandwiches, nachos, sweet lassi, fries, methi paratha momos, shawarma, chicken shawarama dum biryani dal makhani rolls, whole meat shawarma rice kheer, hariyali chicken, chicken kebab, chicken biryani, firewood biryani, mutton biryani, badam phirni rolls, egg roll, chai, ginger tea, biryani, luchi, rasgulla nachos, pasta del barone, cheesy garlic bread, thin crust pizza, oreo milkshake, tortilla chips, manali pizza burgers, mc spicy chicken, chicken burger, maharaja mac filter coffee, vada burgers, fries, veg burger, wings chai, maggi, english breakfast masala dosa, coffee donne biryani, mutton biryani masala dosa, chole, filter coffee, tea, vada, idli, upma burgers, salad, mocktails, pasta arrabiata, fries, nutella cheesecake, teriyaki chicken wings masala dosa, panneer butter masala, thali coffee, idli, masala dosa, burgers biryani, chicken curry, kerala parotta, appam, chicken grill irish coffee, gelato ice cream, italian icecream, chocolate cake burgers, cheesy pizza, chips, fries, rice bowl, white sauce pasta, chicken wings burgers, biryani chilli chicken filter coffee, mini idlis fried cheese, french fries, maggi, thick shakes, chilli cheese fries, tea paratha, panneer butter masala, dal tadka, shahi paneer, sweet lassi, dal makhani, biryani garlic naan, tandoori chicken, basmati rice paratha, samosa, vada pav lassi, shahi paneer, kheer, paneer bhurji, methi paratha, paneer parantha, stuffed paratha paratha, paneer pakora, chole bhature, rajma chawal, chaach, lassi, buttermilk filter coffee, kesari bath, curd rice, idli vada, crispy masala dosa, masala tea, thick coconut chutney donne biryani, chilli chicken, chicken guntur, mutton biryani, mutton thali, chicken biryani filter coffee, rava dosa, masala dosa, tea, pav bhaji, manchurian, dahi vada donne chicken biryani, akki rottis, roti, mutton chops, chicken curry, vada, coffee rice, hyderabadi biryani, crab masala, mutton, chilli chicken beef biryani, chicken biryani, chicken kebab, mutton biryani, beef kabab, paratha, ghee rice momos, hakka noodles, chop suey sandwiches, fruit bowl, panipuri, corn sandwich, palak paneer, arabian grape juice, cheesy grilled sandwich veg momos, honey chilli potatoes shawarma, burgers, beef burger, potato wedges, vegetable noodles, cheese fatayer, garlic fries rolls, momos, paneer roll, veggie roll seekh kebab, hyderabadi biryani, vegetable biryani, chicken biryani, raita, kheer, egg biryani gobhi pakoda, bajji, raita, ginger tea, jalapeno cheese poppers, mojito, chai tandoori chicken, butter chicken, garlic naan samosa, tea paratha, samosa, vada pav gulab jamun, jalebi, samosa, chole, sev puri, rasgulla, masala poori irish coffee, gelato ice cream, italian icecream, chocolate cake badam milk, chaat, rasmalai, mysore pak, samosa, paneer cutlets, kachori rasgulla, mishti doi, samosa, kheer kadam, veg cutlet, rasmalai garlic naan, tandoori chicken, basmati rice burgers, salad, mocktails, pasta arrabiata, fries, nutella cheesecake, teriyaki chicken wings burgers, biryani pizza, garlic bread burgers, french fries, maharaja chicken burger, mc flurry masala dosa, filter coffee, vada, akki rottis, rava dosa masala dosa, idli, vada, filter coffee filter coffee, rava idli, rava masala dosa, vada, raagi dosa, podi dosa, badam halwa masala dosa, panneer butter masala, thali noodles, thukpa, chowmein, beef momos, veg momos, cheese momos masala dosa, chole, filter coffee, tea, vada, idli, upma rolls, beef kabab, seekh kebab, seekh roll beef biryani, chicken biryani, chicken kebab, mutton biryani, beef kabab, paratha, ghee rice gulab jamun, jalebi, samosa, chole, sev puri, rasgulla, masala poori momos, hakka noodles, chop suey mutton cutlets, masala dosa, filter coffee, omelette, vada, scrambled eggs, hot coffee lassi, amritsari kulcha, chole biryani burgers, fries, peri peri chicken, nachos, wings, rolls, tandoori burger chicken curry, biryani, chilli chicken, fry prawns, chicken kebab paratha, paneer pakora, chole bhature, rajma chawal, chaach, lassi, buttermilk sandwiches, fruit bowl, panipuri, corn sandwich, palak paneer, arabian grape juice, cheesy grilled sandwich coffee, roti, vada pav filter coffee, vada burgers, ginger chicken, virgin mojito, crispy chicken, rice bowl, popcorn filter coffee, idli burgers, chicken tandoori grill burger, cheesy chicken fries, chicken whopper, whopper burger, tandoor chicken burger, mutton whopper rolls, shawarma, chicken shawarama, beef shwarma, haleem, beef seekh roll, chicken roll vada, idli, kharabath, noodles, filter coffee paratha, momos, pasta, lassi, sandwiches, burgers, nachos biryani pav bhaji, panipuri, chaat thukpa, vegetable noodles, steam chicken momos, chowmein, chicken shaptra, chicken manchurian, dumplings chilli chicken donne chicken biryani, akki rottis, roti, mutton chops, chicken curry, vada, coffee shawarma, burgers, beef burger, potato wedges, vegetable noodles, cheese fatayer, garlic fries sandwich donne biryani, mutton biryani rolls, beda roti, afghan chicken, reshmi kebab, chicken tikka roll rolls, chicken tikka roll, cheese roll rice kheer, hariyali chicken, chicken kebab, chicken biryani, firewood biryani, mutton biryani, badam phirni rolls, veggie wrap, chicken wrap, paneer wrap, chole, dal makhani, jal-jeera dal makhani filter coffee, kesari bath, curd rice, idli vada, crispy masala dosa, masala tea, thick coconut chutney chilli chicken, mutton biryani, pepper chicken, chicken fry, donne chicken biryani, chicken guntur, chicken kebab gobhi pakoda, bajji, raita, ginger tea, jalapeno cheese poppers, mojito, chai tandoori chicken, butter chicken, garlic naan pav bhaji, chaat, masala poori, panipuri, dahipuri, sev puri, sandwiches samosa, tea tea, tomato rice, vada, pongal, filter coffee, idli, biryani chai, maggi, english breakfast akki rottis, rumali roti, masala dosa, vada, raagi roti, rava idli, coffee biryani, buttermilk, mutton fry, mutton curry, thali biryani, chicken curry, kerala parotta, appam, chicken grill sandwiches, tea, masala chai, pasta, maggi, sandwich, chicken burger pepper chicken, chicken biryani, mutton biryani rolls, french fries, chicken momo, roti, pulpy grape juice, mutton keema, chicken kebab idli, filter coffee, vada curry, podi dosa, sweet pongal veg momos, honey chilli potatoes seekh kebab, hyderabadi biryani, vegetable biryani, chicken biryani, raita, kheer, egg biryani pizza, pasta, burgers, lasagne, masala garlic bread rolls, chicken grill vada, masala dosa, filter coffee nachos, pasta del barone, cheesy garlic bread, thin crust pizza, oreo milkshake, tortilla chips, manali pizza burgers, peri peri chicken, salad, nachos, peri peri wings, chicken fries, salads hyderabadi biryani, chicken biryani, vegetable biryani malai kofta, fries, chicken biryani, stuffed kulcha kerala parotta, shawarma biryani burgers, chicken wings, mango shake, chicken crisp burger, cheesy fries, chicken fries, burger meal aloo paratha, roti, butter chicken pav bhaji, paratha, pizza sandwich, burgers, vada pav, chocolate mousse, sandwiches chaat, pav bhaji, bhel puri, dahipuri, vada pav, raj kachori, samosa biryani, rumali roti, chicken noodle momos, shanghai chicken whole meat shawarma, malgoum shawarma, roti, kerala parotta, pita bread burgers, chicken grill, chicken popcorn, hot wings tandoori chicken, rolls, punjabi chicken, hyderabadi biryani, butter chicken mishti doi, doi katla, mutton kosha, fish curry, aloo posto, gulab jamun vada, coffee, vegetable biryani, idli, cheese masala dosa, chole bhature egg manchurian, paratha, momos, masala chai, raj kachori, rolls, chaat chaat, lassi, tawa pulav, potato twister, dal makhani, chole bhature, rajma cheese paratha, lassi, pizza, paneer parantha filter coffee, vada, chai, caramel coffee, masala dosa, kesari bath, veg dosa tandoori fries, pizza fries vada pav, dabeli, pav bhaji, chaat, misal pav, bread pakora, jumbo vada pavs chicken curry, akki rottis, pork curry, chilli pork, roti, neer dosa beef biryani, paratha, fish curry, chicken biryani, fish fry sea food, malabar fish curry pizza, masala garlic bread, nachos chicken sukha, neer dosa burgers, coke float, french fries rolls, chicken tikka, chicken seekh roll, seekh kebab, aloo tikka roll, murgh malai kebab, beda roti rolls, paneer tikka roll, chicken reshmi tikka roll, beda roti pizza, garlic bread chicken kebab, mutton biryani momos, thukpa, noodles, honey chilli potatoes, clear soup, chicken noodle, crispy noodle friendly staff chicken grill, shawarma, rolls, biryani, kerala parotta sandwich, chicken ham, sandwiches, chicken tikka donne biryani, mutton chops, chicken fry, chicken biryani appam, fish curry, fish fry, pothichoru pork pepper fry, mutton chops, mutton biryani, chicken fry, garlic chicken, akki rottis, pepper chicken pasta, sandwiches, chicken jumbo burger, burgers, lime soda sweet, sandwich, fried cheese burgers, doner kebabs, lamb doner, hummus pita, momos, rolls, chicken doner rolls, paneer roll, chicken egg roll, double egg roll chicken biryani rasmalai, gulab jamun momos, thukpa, noodles, honey chilli potatoes, clear soup, chicken noodle, crispy noodle donne biryani, mutton chops, chicken fry, chicken biryani chicken curry, akki rottis, pork curry, chilli pork, roti, neer dosa tandoori chicken, rolls, punjabi chicken, hyderabadi biryani, butter chicken aloo paratha, roti, butter chicken hyderabadi biryani, chicken biryani, vegetable biryani burgers, peri peri chicken, salad, nachos, peri peri wings, chicken fries, salads garlic bread, pasta, chicken wings, chocolava, spicy chicken, cheesy pizza sandwich, chicken ham, sandwiches, chicken tikka burgers, chicken wings, mango shake, chicken crisp burger, cheesy fries, chicken fries, burger meal burgers, coke float, french fries kerala parotta, shawarma mishti doi, doi katla, mutton kosha, fish curry, aloo posto, gulab jamun sea food, malabar fish curry egg manchurian, paratha, momos, masala chai, raj kachori, rolls, chaat biryani chicken grill, shawarma, rolls, biryani, kerala parotta rolls, chicken tikka, chicken seekh roll, seekh kebab, aloo tikka roll, murgh malai kebab, beda roti malai kofta, fries, chicken biryani, stuffed kulcha burgers, chicken grill, chicken popcorn, hot wings chaat, pav bhaji, bhel puri, dahipuri, vada pav, raj kachori, samosa rolls, paneer tikka roll, chicken reshmi tikka roll, beda roti pav bhaji, paratha, pizza sandwich, burgers, vada pav, chocolate mousse, sandwiches pasta, sandwiches, chicken jumbo burger, burgers, lime soda sweet, sandwich, fried cheese pizza, masala garlic bread, nachos filter coffee, vada, chai, caramel coffee, masala dosa, kesari bath, veg dosa burgers, doner kebabs, lamb doner, hummus pita, momos, rolls, chicken doner cheese paratha, lassi, pizza, paneer parantha chaat, lassi, tawa pulav, potato twister, dal makhani, chole bhature, rajma momos, shanghai chicken appam, fish curry, fish fry, pothichoru tea, sandwiches burgers, coffee, peri peri chicken wings, beef burger, veggie pizza, mango salad, chicken burger fish curry, roast chicken, kerala parotta, appam, mutton pepper fry, sea food, ghee rice lassi, soya chaap, tandoori chaap, malai chaap, biryani, laccha paratha, gulab jamun kadhai paneer, paratha biryani, chicken kebab paratha, tikka, rajma, sweet lassi, murgh patiala, paneer lababdar, dal makhani burgers, tandoori grill burger, mango shake, cheesy fries, whopper burger, chicken keema burger, chicken crisp burger pepper chicken, chicken biryani, mutton biryani rolls biryani, thali biryani idli vada, tea, masala dosa, filter coffee, pav bhaji, kesari bath, chaat rolls, chicken tikka roll, egg roll, veggie roll chicken grill, shawarma, naan pav bhaji, gulab jamun, chaat, paratha, vada pav, buttermilk, thali chicken noodle, momos dal fry rolls, beda roti, kathi roll, veggie roll, chicken seekh roll, chicken kalimirch, mutton kebab roll idli vada, masala dosa, filter coffee, curd rice chaat, dabeli, pav bhaji, sandwiches, farsan, sandwich, vada pav burgers, peri peri chicken, fries, jumbo royale burger, falafel roll, shawarma, chicken jumbo burger biryani, roast beef, chicken curry, tea, pazham pori, fish fry, beef fry rajma, tandoori roti, sweet lassi, tandoori chicken, naan, dal makhani, veg thali burgers, ginger chicken, hot wings, veg burger, french fries, rice bowl burgers, coffee, peri peri chicken wings, beef burger, veggie pizza, mango salad, chicken burger donne biryani, pepper chicken, chicken biryani combo, chicken fry tacos, fries, nachos, tikka masala burrito, chicken quesadilla, crispy chicken, salsa coffee roti burgers, french fries, garlic bread, sandwiches, cheesy juicy burger, veg burger appam, masala dosa, tea, coffee burgers, cheesy pizza, chips, fries, rice bowl, white sauce pasta, chicken wings masala dosa, rava dosa, rava idli, filter coffee, vada, kesari bath, veg sandwich biryani sandwich chicken wrap, rolls, chicken overload, falafel, paratha, paneer wrap, veggie wrap pasta, supreme pizza, thin crust pizza, cheesy garlic bread tea, sandwiches samosa, poha, chaat, ginger tea, chhole bhature, chole, aloo tikki sandwiches, sandwich, french fries, creme caramel, onion rings, potato fries fish, thali, rolls, rasgulla, chicken biryani chicken grill, rolls, chicken roll, shawarma roll, rumali roti, paneer roll, tandoori chicken peri peri chicken, shawarma, biryani, rolls paratha, lassi, panneer butter masala, tandoori roti rolls, paratha, double egg roll mutton chops, mutton fry, brain fry, mutton masala, mutton curry, donne biryani, chicken curry shawarma, rolls, chicken grill, kathi roll, chicken biryani, paneer roll, chicken shawarama palak chicken, mutton keema masala, sarson ka saag, mushroom masala, makkai roti, dal tadka, palak paneer sea food, fish, tomato masala, murgh ghee roast, neer dosa, ghee roast mutton, mutton sukha rolls, chicken roll, chicken baida roti malabar fish curry, appam, sea food, idiyappam, fish fry, thali, ghee rice burgers, pancakes, steak, beef burger, oreo thick shakes, chicken juicy burger, pasta chicken grill, chicken shawarama, shawarma, tandoori chicken, rumali roti, rolls, egg biryani rolls, paratha, chicken chaap, kathi roll, chicken egg roll, mutton biryani momos, shawarma, chicken shawarama dum biryani sweet lassi, thali, kadhai paneer, kadhi, aloo paratha, paneer bhurji, chole momos, thukpa, butter tea naan rolls, beda roti, chicken malai roll, paneer roll, peri peri chicken, mutton baida roti, chicken beda paratha, gulab jamun, sweet lassi, paneer bhurji, chaach, paneer parantha, raita paneer biryani, vegetable biryani, paratha rolls, egg roll, chai, ginger tea, biryani, rasgulla, luchi french fries momos, thick shakes, peri peri fries, burgers, hot chocolate, sandwich, virgin mojito noodles, paneer manchurian, chaat, paratha, paneer fried rice, babycorn manchurian chole, veg thali chai, maggi, english breakfast pizza biryani, murgh lababdar, thali burgers, raita, fries, chicken noodle, bbq burger, poha, sandwiches coffee, vegetable biryani, masala chai, roti biryani, chicken curry, kerala parotta, appam, chicken grill vada, kesari bath, filter coffee egg noodles, biryani biryani sandwiches, maggi, ginger chai, samosa, ginger tea, kesar chai, masala chai chaat, panipuri, rajma chawal, dahi bhalle, dhokla, thepla paratha, panneer butter masala, dal tadka, shahi paneer, sweet lassi, dal makhani, biryani poha, bun maskas, ginger chai, sabudana khichdi, vada pav, paneer akuri, tea filter coffee, mini idlis ginger tea, cheesy samosa, ginger chai, masala tea, indori poha, chocolate samosa, chicken samosa burgers beef fry, kerala parotta, fish, roast beef, appam, crab toast, mackerel fry donne biryani, chilli chicken, chicken guntur, mutton biryani, mutton thali, chicken biryani salads, pasta, sandwiches, momos, hakka noodles, veg salad, russian salad cajun potato, pasta, panneer butter masala, sandwich, kulcha, raita, dal makhani tandoori chicken, aloo paratha, chicken curry, butter naan, paneer bhurji vada, coffee, masala dosa, idli, tea, podi dosa, pongal chaat, pav bhaji, panipuri, kheer, jalebi, tea, dahipuri ambur biryani chaat, pav bhaji, panipuri, samosa, chole bhature, jalebi, paratha chicken, biryani, rice, garlic naan, roti panneer butter masala, rolls, chicken roll, paneer roll, tandoori chicken, naan, egg bhurji chaat, pav bhaji, panipuri, samosa, chole bhature, jalebi, paratha burgers, coffee, peri peri chicken wings, beef burger, veggie pizza, mango salad, chicken burger salads, pasta, sandwiches, momos, hakka noodles, veg salad, russian salad paratha, tikka, rajma, sweet lassi, murgh patiala, paneer lababdar, dal makhani chaat, panipuri, rajma chawal, dahi bhalle, dhokla, thepla burgers, ginger chicken, hot wings, veg burger, french fries, rice bowl sandwiches, maggi, ginger chai, samosa, ginger tea, kesar chai, masala chai biryani coffee thali, chole bhature, lassi, gulab jamun, salad filter coffee, rava dosa, panneer butter masala, tea, masala dosa, idli, thali garlic bread, burst pizza rajma, tandoori roti, sweet lassi, tandoori chicken, naan, dal makhani, veg thali french fries chicken wrap, veggie wrap, paratha, chicken meatballs biryani, thali biryani burgers burgers biryani, murgh lababdar, thali masala dosa, rava dosa, rava idli, filter coffee, vada, kesari bath, veg sandwich malabar fish curry, appam, sea food, idiyappam, fish fry, thali, ghee rice burgers, peri peri chicken, fries, jumbo royale burger, falafel roll, shawarma, chicken jumbo burger sandwiches, sandwich, french fries, creme caramel, onion rings, potato fries lassi, soya chaap, tandoori chaap, malai chaap, biryani, laccha paratha, gulab jamun biryani, roast beef, chicken curry, tea, pazham pori, fish fry, beef fry shawarma, rolls, chicken grill, kathi roll, chicken biryani, paneer roll, chicken shawarama ginger tea, cheesy samosa, ginger chai, masala tea, indori poha, chocolate samosa, chicken samosa noodles, paneer manchurian, chaat, paratha, paneer fried rice, babycorn manchurian biryani, chicken kebab samosa, poha, chaat, ginger tea, chhole bhature, chole, aloo tikki biryani chicken grill, chicken shawarama, shawarma, tandoori chicken, rumali roti, rolls, egg biryani sea food, fish, tomato masala, murgh ghee roast, neer dosa, ghee roast mutton, mutton sukha chole, veg thali palak chicken, mutton keema masala, sarson ka saag, mushroom masala, makkai roti, dal tadka, palak paneer idli vada, masala dosa, filter coffee, curd rice chaat, pav bhaji, panipuri, kheer, jalebi, tea, dahipuri rolls, paratha, chicken chaap, kathi roll, chicken egg roll, mutton biryani pav bhaji, masala dosa, tea, roti cajun potato, pasta, panneer butter masala, sandwich, kulcha, raita, dal makhani ambur biryani chaat, pav bhaji, panipuri, samosa, chole bhature, jalebi, paratha poha, bun maskas, ginger chai, sabudana khichdi, vada pav, paneer akuri, tea dal fry chicken grill, rolls, chicken roll, shawarma roll, rumali roti, paneer roll, tandoori chicken tea, sandwiches burgers, coffee, peri peri chicken wings, beef burger, veggie pizza, mango salad, chicken burger tandoori chicken, aloo paratha, chicken curry, butter naan, paneer bhurji chaat, dabeli, pav bhaji, sandwiches, farsan, sandwich, vada pav peri peri chicken, shawarma, biryani, rolls fish curry, roast chicken, kerala parotta, appam, mutton pepper fry, sea food, ghee rice salads, pasta, sandwiches, momos, hakka noodles, veg salad, russian salad rolls, egg roll, chai, ginger tea, biryani, rasgulla, luchi burgers, raita, fries, chicken noodle, bbq burger, poha, sandwiches coffee paratha, panneer butter masala, dal tadka, shahi paneer, sweet lassi, dal makhani, biryani vada, rava masala dosa, biryani momos, thick shakes, peri peri fries, burgers, hot chocolate, sandwich, virgin mojito chicken teriyaki bao, kaffir lime, walnut brownie, rice bowls, khao suey, veg bao, snapper burgers, french fries, garlic bread, sandwiches, cheesy juicy burger, veg burger rolls paratha, gulab jamun, sweet lassi, paneer bhurji, chaach, paneer parantha, raita rolls, beda roti, chicken malai roll, paneer roll, peri peri chicken, mutton baida roti, chicken beda beef fry, kerala parotta, fish, roast beef, appam, crab toast, mackerel fry coffee, vegetable biryani, masala chai, roti salads, salad, sandwich, chicken ham, roast chicken sub chicken, biryani, rice, garlic naan, roti pav bhaji, gulab jamun, chaat, paratha, vada pav, buttermilk, thali roti panneer butter masala, rolls, chicken roll, paneer roll, tandoori chicken, naan, egg bhurji dum biryani pasta, supreme pizza, thin crust pizza, cheesy garlic bread momos, noodles, fish, spring roll, chicken noodle, hunan chicken, chicken momo paratha biryani biryani, pepper chicken biryani, chicken fry rolls, veggie roll, chicken biryani, paneer tikka roll, wheat roll masala dosa chaat, panipuri, masala poori, pav bhaji, bhel puri, pizza, dahi papdi tandoori chicken, masala tikka akki rottis, roti, rava idli, filter coffee, pongal, masala dosa, kokum juice burgers, hot wings, popcorn chicken vada, thatte idli, kesari bath dabeli, masala poori, misal pav, dahipuri, papdi chaat, panipuri, pav bhaji burgers, french fries, crispy veg burger, chicken fries, chicken crisp burger aloo palya, masala poori, panipuri, rolls, chaat, benne dosa, dahipuri neer dosa, fish curry, chicken sukha, rawas fry, thali, fish rava fry french chicken, roti, biryani paratha, deluxe thali, lassi, paneer tikka, roti, biryani, panneer butter masala coffee, kadhai paneer chaat vada pav, dabeli, pav bhaji, samosa pav pasta, momos, noodles, manchurian, peri peri fries, chinese bhel, tacos badam halwa, butter masala dosa, filter coffee, neer dosa, pasta, tea, biryani filter coffee, crispy dosa, vada, burgers, mini idlis, ghee roast masala dosa, paratha paratha, vada pav, thali, lassi, manchurian momos, pizza, nachos, burgers, pasta vada, sweet corn soup pizza, garlic bread, chocolava cake benne masala dosa, aloo palya rolls, chicken roll, chicken biryani, chicken lollipop kesari bath, idli vada, sweet pongal, filter coffee, idli chatni, idli chutney, upma filter coffee, kharabath, tea, idli vada, khara bhath, kesari bath, crispy vada benne masala dosa, filter coffee, chai, butter masala dosa, crispy vada, tea, kesari bath donne biryani, chicken kebab, chicken lollipop, mutton biryani, chicken biryani combo burgers, nachos, mocktails, schezwan momos, paneer manchurian, paneer noodles, patiala paneer maggi, sandwiches, rolls mutton biryani vada, idli, coffee, kesari bath chilli chicken, chicken curry, mutton biryani, gundappa donne biryani masala poori, bhel puri, panipuri, chaat, dahipuri, sev puri, dahi aloo puri lemon chicken, chicken biryani cup cake, cake pops, chocolate truffle sandwiches, salad, corn soup cup cake, cake pops, chocolate truffle mutton biryani chicken biryani, chicken masala, brain fry, chilli chicken, mutton biryani, nalli fry, chicken fry donne biryani, chicken kebab, chicken lollipop, mutton biryani, chicken biryani combo coffee, kadhai paneer pizza french chicken, roti, biryani paratha, deluxe thali, lassi, paneer tikka, roti, biryani, panneer butter masala vada, sweet corn soup burgers, popcorn, chicken roll masala dosa, chaat, panneer butter masala garlic bread, pasta momos, noodles, fish, spring roll, chicken noodle, hunan chicken, chicken momo lemon chicken, chicken biryani donne biryani, chicken biryani, chilli chicken burgers, hot wings, popcorn chicken masala dosa, bonda soup, rava dosa, tomato soup, bhel puri, coffee, roti chaat cup cake, cake pops, chocolate truffle sandwiches, cheese sandwich tandoori chicken, masala tikka benne masala dosa, filter coffee, chai, butter masala dosa, crispy vada, tea, kesari bath akki rottis, roti, rava idli, filter coffee, pongal, masala dosa, kokum juice badami holige, puran poli masala dosa, pongal, bisi bele bhaath, curd vadai, rava idli, filter coffee, idli vada biryani banana leaf meal aloo palya, masala poori, panipuri, rolls, chaat, benne dosa, dahipuri neer dosa, filter coffee, button idli, benne masala dosa, puri saagu, badam halwa, vada masala dosa, filter coffee, tea, onion dosa, vada sambar, badam milk, badam halwa masala dosa, coffee, khali dosa, idli, kali dosa shahi paneer, custard, rajma, sweet lassi, protein chapati, biryani, jeera rice paratha neer dosa, fish curry, chicken sukha, rawas fry, thali, fish rava fry thali, idli, neer dosa pasta, momos, noodles, manchurian, peri peri fries, chinese bhel, tacos rolls, chicken roll, chicken biryani, chicken lollipop chaat, chips, dahipuri, masala poori sandwiches, sandwich, bun nippat cheese dabeli, masala poori, misal pav, dahipuri, papdi chaat, panipuri, pav bhaji chilli paneer, manchurian, aloo paratha, dahipuri maggi, sandwiches, rolls shawarma, chicken shawarama, falafel wrap, lemonade paratha, vada pav, thali, lassi, manchurian biryani, pepper chicken sandwiches, salad, corn soup pepper chicken, chicken biryani, mutton biryani burgers, fries, peri peri chicken, nachos, wings, rolls, tandoori burger butter chicken, paratha pizza, nachos, salads, peri peri fries, brownie, pasta alfredo, spaghetti rolls, fries, egg roll lassi, amritsari kulcha, chole coffee, roti, vada pav garlic bread, paneer pizza, supreme pizza, tandoori paneer burgers, crispy chicken, chicken zinger burger, french fries, chicken fries, hot wings sandwiches, tea, masala chai, pasta, maggi, sandwich, chicken burger biryani burgers, chicken tandoori grill burger, cheesy chicken fries, chicken whopper, whopper burger, tandoor chicken burger, mutton whopper chilli chicken rolls, chicken tikka roll, cheese roll filter coffee, kesari bath, curd rice, idli vada, crispy masala dosa, masala tea, thick coconut chutney pizza, garlic bread garlic bread, sandwiches, aloo tikki burger, club sandwich, white sauce pasta, garlic rice pizza, pasta, burgers, lasagne, masala garlic bread paratha, paneer pakora, chole bhature, rajma chawal, chaach, lassi, buttermilk rolls, burgers, sandwiches, nachos, sweet lassi, fries, methi paratha rolls, shawarma, chicken shawarama, beef shwarma, haleem, beef seekh roll, chicken roll rice kheer, hariyali chicken, chicken kebab, chicken biryani, firewood biryani, mutton biryani, badam phirni donne biryani, mutton biryani butter naan, buttermilk, jowar roti, panneer butter masala burgers, mc spicy chicken, chicken burger, maharaja mac masala dosa, chole, filter coffee, tea, vada, idli, upma vada, idli, kharabath, noodles, filter coffee filter coffee, vada dal makhani nachos, pasta del barone, cheesy garlic bread, thin crust pizza, oreo milkshake, tortilla chips, manali pizza chai, maggi, english breakfast masala dosa, coffee rolls, mutton seekh roll, malai tikka, chicken tikka roll, mutton baida roti, reshmi tikka roll, beda roti rolls, biryani, butter chicken, chicken manchurian roll chaat, pav bhaji, dabeli, vada pav, tawa pulav, panipuri, malpua masala dosa, panneer butter masala, thali irish coffee, gelato ice cream, italian icecream, chocolate cake fried cheese, french fries, maggi, thick shakes, chilli cheese fries, tea momos, chicken lollipop, chicken momo, noodles, chicken thukpa rolls, whole meat shawarma burgers, salad, mocktails, pasta arrabiata, fries, nutella cheesecake, teriyaki chicken wings samosa, tea burgers, cheesy pizza, chips, fries, rice bowl, white sauce pasta, chicken wings badam milk, potato twister, pav bhaji, panipuri, tikki chaat, cheese cutlet chilli chicken, mutton biryani, pepper chicken, chicken fry, donne chicken biryani, chicken guntur, chicken kebab donne chicken biryani, akki rottis, roti, mutton chops, chicken curry, vada, coffee coffee, paratha, chaat, masala dosa, dahipuri, pav bhaji, tea beef biryani, chicken biryani, chicken kebab, mutton biryani, beef kabab, paratha, ghee rice momos, hakka noodles, chop suey sandwiches, fruit bowl, panipuri, corn sandwich, palak paneer, arabian grape juice, cheesy grilled sandwich burgers, biryani nachos, california burrito, rice bowl, salads shawarma, burgers, beef burger, potato wedges, vegetable noodles, cheese fatayer, garlic fries rolls, momos, paneer roll, veggie roll gobhi pakoda, bajji, raita, ginger tea, jalapeno cheese poppers, mojito, chai tandoori chicken, butter chicken, garlic naan garlic naan, tandoori chicken, basmati rice paratha, samosa, vada pav tea, filter coffee, pongal, masala dosa irish coffee, gelato ice cream, italian icecream, chocolate cake paratha, samosa, vada pav gulab jamun, jalebi, samosa, chole, sev puri, rasgulla, masala poori badam milk, chaat, rasmalai, mysore pak, samosa, paneer cutlets, kachori pav bhaji, kulfi, chaat, fries, coffee, chole bhature, paratha vada, idli, kharabath, noodles, filter coffee donne chicken biryani, akki rottis, roti, mutton chops, chicken curry, vada, coffee rice kheer, hariyali chicken, chicken kebab, chicken biryani, firewood biryani, mutton biryani, badam phirni rolls, veggie wrap, chicken wrap, paneer wrap, chole, dal makhani, jal-jeera samosa, tea filter coffee, rava idli, rava masala dosa, vada, raagi dosa, podi dosa, badam halwa biryani masala dosa, panneer butter masala, thali noodles, thukpa, chowmein, beef momos, veg momos, cheese momos garlic naan, tandoori chicken, basmati rice masala dosa, chole, filter coffee, tea, vada, idli, upma rolls, beef kabab, seekh kebab, seekh roll burgers, salad, mocktails, pasta arrabiata, fries, nutella cheesecake, teriyaki chicken wings beef biryani, chicken biryani, chicken kebab, mutton biryani, beef kabab, paratha, ghee rice momos, hakka noodles, chop suey mutton cutlets, masala dosa, filter coffee, omelette, vada, scrambled eggs, hot coffee masala dosa, idli, kali dosa, ghee khali dosa, tomato rice, set dosa, ghee rice biryani, tea burgers, fries, peri peri chicken, nachos, wings, rolls, tandoori burger chicken curry, biryani, chilli chicken, fry prawns, chicken kebab paratha, paneer pakora, chole bhature, rajma chawal, chaach, lassi, buttermilk sandwiches, fruit bowl, panipuri, corn sandwich, palak paneer, arabian grape juice, cheesy grilled sandwich akki rottis, rumali roti, masala dosa, vada, raagi roti, rava idli, coffee burgers, ginger chicken, virgin mojito, crispy chicken, rice bowl, popcorn burgers, biryani rolls, shawarma, chicken shawarama, beef shwarma, haleem, beef seekh roll, chicken roll rolls, burgers, sandwiches, nachos, sweet lassi, fries, methi paratha pizza, garlic bread sea food, fish fry, fish curry, fish kebab, buttermilk, fry prawns, ragi mudde thukpa, vegetable noodles, steam chicken momos, chowmein, chicken shaptra, chicken manchurian, dumplings chilli chicken burgers, french fries, maharaja chicken burger, mc flurry shawarma, burgers, beef burger, potato wedges, vegetable noodles, cheese fatayer, garlic fries masala dosa, filter coffee, vada, akki rottis, rava dosa sandwich donne biryani, mutton biryani rolls, chicken tikka roll, cheese roll coffee, paratha, chaat, masala dosa, dahipuri, pav bhaji, tea masala dosa, filter coffee filter coffee, kesari bath, curd rice, idli vada, crispy masala dosa, masala tea, thick coconut chutney chilli chicken, mutton biryani, pepper chicken, chicken fry, donne chicken biryani, chicken guntur, chicken kebab tandoori chicken, butter chicken, garlic naan gulab jamun, jalebi, samosa, chole, sev puri, rasgulla, masala poori lassi, amritsari kulcha, chole biryani, buttermilk, mutton fry, mutton curry, thali podi masala dosa, crispy masala dosa, idli, vada, coffee, paper plain dosa, aloo palya filter coffee, vada masala dosa, khali dosa, kali dosa, gini dosa, idli, potato masala, coffee filter coffee, idli pav bhaji, panipuri, chaat vada nachos, california burrito, rice bowl, salads dal makhani pongal, filter coffee, idli, masala dosa gobhi pakoda, bajji, raita, ginger tea, jalapeno cheese poppers, mojito, chai pav bhaji, chaat, masala poori, panipuri, dahipuri, sev puri, sandwiches nachos, pasta del barone, cheesy garlic bread, thin crust pizza, oreo milkshake, tortilla chips, manali pizza waffles, sandwiches, burgers, pasta primavera, veg burger, omelette, chicken sausages jeera rice, thali, roti tea, biryani naan, paratha, sweet lassi, egg masala, matar paneer, dal tadka, panneer butter masala gulab jamun, thali, salad lassi, naan, chicken biryani, butter chicken, aloo paratha, manchurian, paneer tikka masala burgers sandwiches, paratha, fruit lassi, gulab jamun lassi, dal makhani, ajwaini paratha, mushroom masala, roti, shahi tukda, shahi paneer rolls, momos, paratha, chaap vada, idli, masala dosa, coffee biryani filter coffee, vada, biryani, masala dosa vada, set dosa, thali, masala dosa, roti, idli rice bowl, burgers, crispy chicken, chicken wings, french fries, popcorn chicken beef fry, beef biryani, fish curry, appam, karimeen fry poha, panneer butter masala, aloo paratha, malai kofta paratha, chai, pav bhaji, rolls, vada pav, tea, poori chole tea, coffee, sabudana khichdi, samosa, sandwiches, onion pakoda, khichda fries, whole meat shawarma, rolls coffee, vada, chaat, rava idli chole bhature, jalebi, noodle samosa, chaat biryani, gulab jamun, shikanji, kulfi, chaat rolls, paratha thalassery biryani, chicken fry, chicken biryani burgers, strawberry shake, fries, pancakes, chicken salad, lamb sandwiches, maggi, rolls, chole bhature, ginger tea, paratha, rava masala dosa thali, lassi, dal bati churma, paratha, buttermilk, paneer malai kofta, dal tadka chicken curry, paratha, fish, kerala parotta liti chokha, palak paneer, litti, poha, pav bhaji, noodles, chai burgers, fries rolls, chicken shawarama, chicken shwarma roll, abbabi chicken, shawarma roll paratha, thali, rajma, poha vada, coffee, idli, tea, masala dosa, onion dosa, podi dosa dal fry, chilli paneer, aloo paratha, dal tadka masala vada pav, kulfi mocktails, chicken wings lassi, thali, paratha, rajma, malai kofta, buttermilk, phulke ghar ke chai, vada pav, pizza paneer tikka, dal bati, gulab jamun, thali, tandoori mushrooms, chole, chinese bhel dal tadka burgers manchow soup, tandoori chicken, paratha hyderabadi biryani, paneer biryani rolls, chicken biryani dal bati, liti chokha rice bowl, paneer tikka, rice bowls, california burrito aloo paratha, panneer butter masala paneer tikka, tandoori momos, soya chaap, afghani chaap burgers, jerk chicken salad, salads, lemon mojito, lemonade, chicken patty, veg burger waffles, sandwiches, burgers, pasta primavera, veg burger, omelette, chicken sausages cheese naan, biryani, onion rings chicken grill, shawarma roll, biryani, pulpy grape juice, paratha, chicken shawarama, chicken tikka paratha, rajma chawal pasta, pizza, garlic bread shawarma, pita bread, al faham chicken, barbeque chicken dal tadka, matar methi malai, malai kofta, jeera rice, roti chicken grill, butter chicken, shawarma, chicken shwarma roll, chicken lollipop, rumali roti, rolls liti chokha, chilli chicken, chicken litti, paratha, lassi, pan fried momos, egg curry rolls, beda roti, chicken baida roti, chicken tikka roll, aloo tikka roll, mushroom roll biryani, pepper chicken, ghee rice, dal fry sattu paratha, lassi, dal makhani, roti chole, lassi, paratha chicken biryani, mutton biryani rolls, veg momos, chicken momo, paneer tikka roll paratha, puri sabzi, tea, chole chaat, burgers, cheese maggi, tea, chocolate shake, lassi, cheese vada pav waffles, sandwiches, burgers, pasta primavera, veg burger, omelette, chicken sausages chaat, chole bhature, thali, dahipuri, raj kachori, raita, lassi liti chokha, palak paneer, litti, poha, pav bhaji, noodles, chai tea, coffee, sabudana khichdi, samosa, sandwiches, onion pakoda, khichda thalassery biryani, chicken fry, chicken biryani burgers rice bowl, paneer tikka, rice bowls, california burrito rice bowl, burgers, crispy chicken, chicken wings, french fries, popcorn chicken biryani chole bhature, jalebi, noodle samosa, chaat vada, coffee, idli, tea, masala dosa, onion dosa, podi dosa rolls, chicken biryani stuffed garlic bread shawarma, pita bread, al faham chicken, barbeque chicken paratha, rajma chawal chicken grill, butter chicken, shawarma, chicken shwarma roll, chicken lollipop, rumali roti, rolls idli, vada, pongal, filter coffee, mini idlis, rava masala dosa, tea paratha, chai, pav bhaji, rolls, vada pav, tea, poori chole chicken curry, paratha, fish, kerala parotta manchow soup, tandoori chicken, paratha sattu paratha, lassi, dal makhani, roti pasta, pizza, garlic bread dal fry, chilli paneer, aloo paratha, dal tadka chicken grill, shawarma roll, biryani, pulpy grape juice, paratha, chicken shawarama, chicken tikka rolls, beda roti, chicken baida roti, chicken tikka roll, aloo tikka roll, mushroom roll mocktails, chicken wings rolls, whole meat shawarma, chicken shawarama, malgoum shawarma rolls, veg momos, chicken momo, paneer tikka roll thali, lassi, dal bati churma, paratha, buttermilk, paneer malai kofta, dal tadka biryani, pepper chicken, ghee rice, dal fry dal bati, liti chokha filter coffee, vada, biryani, masala dosa lassi, paratha, chur chur naan, raita, chana masala, buttermilk, kheer lassi, thali, paratha, rajma, malai kofta, buttermilk, phulke ghar ke hyderabadi biryani, paneer biryani poha, panneer butter masala, aloo paratha, malai kofta dal tadka, matar methi malai, malai kofta, jeera rice, roti chole, lassi, paratha lassi, naan, chicken biryani, butter chicken, aloo paratha, manchurian, paneer tikka masala beef fry, beef biryani, fish curry, appam, karimeen fry burgers, fries aloo paratha, panneer butter masala chai, vada pav, pizza rolls, chicken shawarama, chicken shwarma roll, abbabi chicken, shawarma roll masala vada pav, kulfi paratha, thali, rajma, poha cheese naan, biryani, onion rings tea, biryani chicken biryani, mutton biryani paneer tikka, dal bati, gulab jamun, thali, tandoori mushrooms, chole, chinese bhel paratha naan, paratha, sweet lassi, egg masala, matar paneer, dal tadka, panneer butter masala chaat, tea, sev puri, chai, raj kachori, coffee, pakoda rolls, paratha burgers, tandoor chicken burger, mutton whopper, mutton burger, cheesy fries, chicken whopper, chicken crisp burger poha, vada pav, tea, sandwiches, chicken sandwich, french omelette, french fries noodles, chilli chicken sandwich, poha, gujarati food, dabeli, pav bhaji, tea, thali masala dosa, roti, curd rice rolls liti chokha burgers, popcorn chicken, hot wings, virgin mojito, rice bowl chicken biryani burgers, masala fries, wings tacos, nachos, burrito, rice bowl, pizza, fiesta potatoes, chicken burritos pane pizza, garlic bread, thin crust pizza, paneer pizza, pepperoni, pasta panneer butter masala, paratha, vegetable biryani chole, paratha, rajma, dal makhani cheesy chicken wrap, veggie wrap, chicken rice feast, chicken biryani, paratha, paneer wrap, rolls liti chokha, litti, sattu paratha, dal bati, thali, roti biryani, chicken curry laccha paratha, murgh lababdar, biryani, mutton bhuna gosht, litti, bhuna chicken filter coffee, plain dosa paratha, paneer thali, tandoori roti, chole bhature sandwiches, chaat, panipuri, sandwich plain dosa, palak dosa, mushroom dosa burgers, club chicken sandwich, fries, lamb burger, cheese sandwich, chicken bbq burger sabudana vada, kulfi, schezwan vada pav, ginger tea rajma, dal makhani, paneer thali burgers, mcmuffin, french fries, waffles, pancakes, mc veggie, coffee rolls, chicken tikka roll, chicken bhuna roll, biryani, lassi, paneer bhurji roll, beda roti sandwich, paratha, poha, sandwiches, idli vada, tea, roti paratha, thali potato fries, chicken curry chicken biryani burgers biryani, fish, mughlai paratha burgers, hot dog, mint mojito, french fries, bbq burger, lime mojito, grilled burger pizza laccha paratha, butter naan, roti, vegetable biryani chaat, burgers french fries, peri peri fries veggie pizza, french fries momos, chocolate bar, fish, sweet potato fries, dumplings, rice noodles, paneer bao non veg thali, egg maggi mutton biryani, roti rolls, noodles, mughlai paratha, paneer kathi roll, veg manchow soup, crispy chicken, chicken manchurian thali, biryani, aloo paratha paneer biryani fish, veg thali, biryani lassi, paratha, paneer bhurji chicken grill, chicken tikka roll, grape juice, biryani, shawarma roll, tandoori chicken, tandoori raan panneer butter masala, lassi chole bhature, paratha paratha waffles, burgers, pizza, tea appam, egg curry paratha biryani, shawarma paratha mutton curry, kulcha, biryani, chicken curry lassi, chaat, chole bhature, jalebi, panipuri, thali, paratha butter naan, kulcha, paratha, butter chicken, shawarma, roti, thali thali, jowar roti, brinjal curry, coffee, buttermilk, salad, akki rottis rolls, momos, fries, chicken manchurian roll chicken grill, dal fry, arabian grape juice, rumali roti, shawarma roll roti, dal tadka rice, paratha, thali mutton curry beef fry, appam, chicken curry, kerala parotta, idiyappam, egg curry, biryani lassi, paratha, chaach, chole bhature, thali dal makhani, reshmi kebab, thali, panneer butter masala, naan, masala papad paratha, tandoori chicken, panneer butter masala, chole bhature rice, mutton biryani, chicken biryani, haleem, vegetable biryani, hyderabadi biryani, chicken guntur veg tandoori momos, keema pav, butter chicken, pav bhaji, rolls, galauti kebab, achari paneer thali, biryani paratha, thali dal makhani, thali, shahi paneer dum biryani chai pasta burgers, chicken roll, rolls, fries, wings, tandoori momos, chicken grill rolls, cinnamon roll, cinnamon bun aloo tikki chat chicken grill, chicken tikka roll, grape juice, biryani, shawarma roll, tandoori chicken, tandoori raan butter naan, kulcha, paratha, butter chicken, shawarma, roti, thali appam, egg curry fish curry, chicken curry paratha, thali chai chaach, sweet lassi, onion paratha, chicken parantha, vegetable paratha, aloo methi laccha paratha, murgh lababdar, biryani, mutton bhuna gosht, litti, bhuna chicken burgers, tandoor chicken burger, mutton whopper, mutton burger, cheesy fries, chicken whopper, chicken crisp burger burgers chole bhature, paratha beef fry, appam, chicken curry, kerala parotta, idiyappam, egg curry, biryani sandwich, paratha, poha, sandwiches, idli vada, tea, roti mutton curry, kulcha, biryani, chicken curry tacos, nachos, pizza, mexican fries laccha paratha, butter naan, roti, vegetable biryani rolls, cheesy chicken, chocolava cake, paneer wrap masala dosa, roti, curd rice rice, paratha, thali paneer biryani sandwich, poha, gujarati food, dabeli, pav bhaji, tea, thali filter coffee, plain dosa momos, chocolate bar, fish, sweet potato fries, dumplings, rice noodles, paneer bao lassi, chaat, chole bhature, jalebi, panipuri, thali, paratha roti, dal tadka thali, jowar roti, brinjal curry, coffee, buttermilk, salad, akki rottis fries, peri peri chicken, chicken crisp burger non veg thali, egg maggi biryani, fish, mughlai paratha paratha rolls, momos, fries, chicken manchurian roll dum biryani mutton biryani, roti chicken grill, dal fry, arabian grape juice, rumali roti, shawarma roll palak paneer, idli, aloo paratha, rajma chawal, salads, salad, detox smoothie chicken grill, thalassery biryani, hyderabadi chicken biryani, shawarma burgers, club chicken sandwich, fries, lamb burger, cheese sandwich, chicken bbq burger mutton curry chicken biryani burgers, chicken roll, rolls, fries, wings, tandoori momos, chicken grill veg tandoori momos, keema pav, butter chicken, pav bhaji, rolls, galauti kebab, achari paneer noodles, chilli chicken coffee, mini idlis, kothu parotta, podi dosa, tea, masala dosa, paratha thali, biryani, aloo paratha dal makhani, reshmi kebab, thali, panneer butter masala, naan, masala papad chicken biryani rolls dal makhani, thali, shahi paneer panneer butter masala, lassi lassi, paratha, chaach, chole bhature, thali lassi, paratha, paneer bhurji rice, mutton biryani, chicken biryani, haleem, vegetable biryani, hyderabadi biryani, chicken guntur pasta masala dosa, filter coffee, ghee rice, tea thali, biryani filter coffee, idli, vada, masala dosa, tea, pongal, plain dosa poha, vada pav, tea, sandwiches, chicken sandwich, french omelette, french fries paratha, paneer thali, tandoori roti, chole bhature chaat, burgers potato fries, chicken curry rolls, chicken tikka roll, chicken bhuna roll, biryani, lassi, paneer bhurji roll, beda roti coffee, vada, mla dosa fish, veg thali, biryani burgers '"
      ]
     },
     "execution_count": 127,
     "metadata": {},
     "output_type": "execute_result"
    }
   ],
   "source": [
    "dishes"
   ]
  },
  {
   "cell_type": "code",
   "execution_count": 128,
   "id": "7a7b9185",
   "metadata": {},
   "outputs": [
    {
     "data": {
      "text/plain": [
       "{'a',\n",
       " 'about',\n",
       " 'above',\n",
       " 'after',\n",
       " 'again',\n",
       " 'against',\n",
       " 'all',\n",
       " 'also',\n",
       " 'am',\n",
       " 'an',\n",
       " 'and',\n",
       " 'any',\n",
       " 'are',\n",
       " \"aren't\",\n",
       " 'as',\n",
       " 'at',\n",
       " 'be',\n",
       " 'because',\n",
       " 'been',\n",
       " 'before',\n",
       " 'being',\n",
       " 'below',\n",
       " 'between',\n",
       " 'both',\n",
       " 'but',\n",
       " 'by',\n",
       " 'can',\n",
       " \"can't\",\n",
       " 'cannot',\n",
       " 'com',\n",
       " 'could',\n",
       " \"couldn't\",\n",
       " 'did',\n",
       " \"didn't\",\n",
       " 'do',\n",
       " 'does',\n",
       " \"doesn't\",\n",
       " 'doing',\n",
       " \"don't\",\n",
       " 'down',\n",
       " 'during',\n",
       " 'each',\n",
       " 'else',\n",
       " 'ever',\n",
       " 'few',\n",
       " 'for',\n",
       " 'from',\n",
       " 'further',\n",
       " 'get',\n",
       " 'had',\n",
       " \"hadn't\",\n",
       " 'has',\n",
       " \"hasn't\",\n",
       " 'have',\n",
       " \"haven't\",\n",
       " 'having',\n",
       " 'he',\n",
       " \"he'd\",\n",
       " \"he'll\",\n",
       " \"he's\",\n",
       " 'hence',\n",
       " 'her',\n",
       " 'here',\n",
       " \"here's\",\n",
       " 'hers',\n",
       " 'herself',\n",
       " 'him',\n",
       " 'himself',\n",
       " 'his',\n",
       " 'how',\n",
       " \"how's\",\n",
       " 'however',\n",
       " 'http',\n",
       " 'i',\n",
       " \"i'd\",\n",
       " \"i'll\",\n",
       " \"i'm\",\n",
       " \"i've\",\n",
       " 'if',\n",
       " 'in',\n",
       " 'into',\n",
       " 'is',\n",
       " \"isn't\",\n",
       " 'it',\n",
       " \"it's\",\n",
       " 'its',\n",
       " 'itself',\n",
       " 'just',\n",
       " 'k',\n",
       " \"let's\",\n",
       " 'like',\n",
       " 'me',\n",
       " 'more',\n",
       " 'most',\n",
       " \"mustn't\",\n",
       " 'my',\n",
       " 'myself',\n",
       " 'no',\n",
       " 'nor',\n",
       " 'not',\n",
       " 'of',\n",
       " 'off',\n",
       " 'on',\n",
       " 'once',\n",
       " 'only',\n",
       " 'or',\n",
       " 'other',\n",
       " 'otherwise',\n",
       " 'ought',\n",
       " 'our',\n",
       " 'ours',\n",
       " 'ourselves',\n",
       " 'out',\n",
       " 'over',\n",
       " 'own',\n",
       " 'r',\n",
       " 'same',\n",
       " 'shall',\n",
       " \"shan't\",\n",
       " 'she',\n",
       " \"she'd\",\n",
       " \"she'll\",\n",
       " \"she's\",\n",
       " 'should',\n",
       " \"shouldn't\",\n",
       " 'since',\n",
       " 'so',\n",
       " 'some',\n",
       " 'such',\n",
       " 'than',\n",
       " 'that',\n",
       " \"that's\",\n",
       " 'the',\n",
       " 'their',\n",
       " 'theirs',\n",
       " 'them',\n",
       " 'themselves',\n",
       " 'then',\n",
       " 'there',\n",
       " \"there's\",\n",
       " 'therefore',\n",
       " 'these',\n",
       " 'they',\n",
       " \"they'd\",\n",
       " \"they'll\",\n",
       " \"they're\",\n",
       " \"they've\",\n",
       " 'this',\n",
       " 'those',\n",
       " 'through',\n",
       " 'to',\n",
       " 'too',\n",
       " 'under',\n",
       " 'until',\n",
       " 'up',\n",
       " 'very',\n",
       " 'was',\n",
       " \"wasn't\",\n",
       " 'we',\n",
       " \"we'd\",\n",
       " \"we'll\",\n",
       " \"we're\",\n",
       " \"we've\",\n",
       " 'were',\n",
       " \"weren't\",\n",
       " 'what',\n",
       " \"what's\",\n",
       " 'when',\n",
       " \"when's\",\n",
       " 'where',\n",
       " \"where's\",\n",
       " 'which',\n",
       " 'while',\n",
       " 'who',\n",
       " \"who's\",\n",
       " 'whom',\n",
       " 'why',\n",
       " \"why's\",\n",
       " 'with',\n",
       " \"won't\",\n",
       " 'would',\n",
       " \"wouldn't\",\n",
       " 'www',\n",
       " 'you',\n",
       " \"you'd\",\n",
       " \"you'll\",\n",
       " \"you're\",\n",
       " \"you've\",\n",
       " 'your',\n",
       " 'yours',\n",
       " 'yourself',\n",
       " 'yourselves'}"
      ]
     },
     "execution_count": 128,
     "metadata": {},
     "output_type": "execute_result"
    }
   ],
   "source": [
    "set(STOPWORDS)"
   ]
  },
  {
   "cell_type": "code",
   "execution_count": 129,
   "id": "26ba44b3",
   "metadata": {},
   "outputs": [],
   "source": [
    "wordcloud=WordCloud(stopwords=STOPWORDS, width=3000, height=3000).generate(dishes)"
   ]
  },
  {
   "cell_type": "code",
   "execution_count": 130,
   "id": "8bd33ead",
   "metadata": {},
   "outputs": [
    {
     "data": {
      "text/plain": [
       "(-0.5, 2999.5, 2999.5, -0.5)"
      ]
     },
     "execution_count": 130,
     "metadata": {},
     "output_type": "execute_result"
    },
    {
     "data": {
      "image/png": "[encoded data removed]",
      "text/plain": [
       "<Figure size 432x288 with 1 Axes>"
      ]
     },
     "metadata": {
      "needs_background": "light"
     },
     "output_type": "display_data"
    }
   ],
   "source": [
    "plt.imshow(wordcloud)\n",
    "plt.axis('off')"
   ]
  },
  {
   "cell_type": "code",
   "execution_count": 131,
   "id": "3caff22a",
   "metadata": {},
   "outputs": [
    {
     "data": {
      "text/html": [
       "<div>\n",
       "<style scoped>\n",
       "    .dataframe tbody tr th:only-of-type {\n",
       "        vertical-align: middle;\n",
       "    }\n",
       "\n",
       "    .dataframe tbody tr th {\n",
       "        vertical-align: top;\n",
       "    }\n",
       "\n",
       "    .dataframe thead th {\n",
       "        text-align: right;\n",
       "    }\n",
       "</style>\n",
       "<table border=\"1\" class=\"dataframe\">\n",
       "  <thead>\n",
       "    <tr style=\"text-align: right;\">\n",
       "      <th></th>\n",
       "      <th>url</th>\n",
       "      <th>address</th>\n",
       "      <th>name</th>\n",
       "      <th>online_order</th>\n",
       "      <th>book_table</th>\n",
       "      <th>rate</th>\n",
       "      <th>votes</th>\n",
       "      <th>phone</th>\n",
       "      <th>location</th>\n",
       "      <th>rest_type</th>\n",
       "      <th>dish_liked</th>\n",
       "      <th>cuisines</th>\n",
       "      <th>approx_cost(for two people)</th>\n",
       "      <th>reviews_list</th>\n",
       "      <th>menu_item</th>\n",
       "      <th>listed_in(type)</th>\n",
       "      <th>listed_in(city)</th>\n",
       "    </tr>\n",
       "  </thead>\n",
       "  <tbody>\n",
       "    <tr>\n",
       "      <th>0</th>\n",
       "      <td>https://www.zomato.com/bangalore/jalsa-banasha...</td>\n",
       "      <td>942, 21st Main Road, 2nd Stage, Banashankari, ...</td>\n",
       "      <td>Jalsa</td>\n",
       "      <td>Yes</td>\n",
       "      <td>Yes</td>\n",
       "      <td>4.1</td>\n",
       "      <td>775</td>\n",
       "      <td>080 42297555\\r\\n+91 9743772233</td>\n",
       "      <td>Banashankari</td>\n",
       "      <td>Casual Dining</td>\n",
       "      <td>Pasta, Lunch Buffet, Masala Papad, Paneer Laja...</td>\n",
       "      <td>North Indian, Mughlai, Chinese</td>\n",
       "      <td>800.0</td>\n",
       "      <td>[('Rated 4.0', 'RATED\\n  A beautiful place to ...</td>\n",
       "      <td>[]</td>\n",
       "      <td>Buffet</td>\n",
       "      <td>Banashankari</td>\n",
       "    </tr>\n",
       "    <tr>\n",
       "      <th>1</th>\n",
       "      <td>https://www.zomato.com/bangalore/spice-elephan...</td>\n",
       "      <td>2nd Floor, 80 Feet Road, Near Big Bazaar, 6th ...</td>\n",
       "      <td>Spice Elephant</td>\n",
       "      <td>Yes</td>\n",
       "      <td>No</td>\n",
       "      <td>4.1</td>\n",
       "      <td>787</td>\n",
       "      <td>080 41714161</td>\n",
       "      <td>Banashankari</td>\n",
       "      <td>Casual Dining</td>\n",
       "      <td>Momos, Lunch Buffet, Chocolate Nirvana, Thai G...</td>\n",
       "      <td>Chinese, North Indian, Thai</td>\n",
       "      <td>800.0</td>\n",
       "      <td>[('Rated 4.0', 'RATED\\n  Had been here for din...</td>\n",
       "      <td>[]</td>\n",
       "      <td>Buffet</td>\n",
       "      <td>Banashankari</td>\n",
       "    </tr>\n",
       "    <tr>\n",
       "      <th>2</th>\n",
       "      <td>https://www.zomato.com/SanchurroBangalore?cont...</td>\n",
       "      <td>1112, Next to KIMS Medical College, 17th Cross...</td>\n",
       "      <td>San Churro Cafe</td>\n",
       "      <td>Yes</td>\n",
       "      <td>No</td>\n",
       "      <td>3.8</td>\n",
       "      <td>918</td>\n",
       "      <td>+91 9663487993</td>\n",
       "      <td>Banashankari</td>\n",
       "      <td>Cafe, Casual Dining</td>\n",
       "      <td>Churros, Cannelloni, Minestrone Soup, Hot Choc...</td>\n",
       "      <td>Cafe, Mexican, Italian</td>\n",
       "      <td>800.0</td>\n",
       "      <td>[('Rated 3.0', \"RATED\\n  Ambience is not that ...</td>\n",
       "      <td>[]</td>\n",
       "      <td>Buffet</td>\n",
       "      <td>Banashankari</td>\n",
       "    </tr>\n",
       "    <tr>\n",
       "      <th>3</th>\n",
       "      <td>https://www.zomato.com/bangalore/addhuri-udupi...</td>\n",
       "      <td>1st Floor, Annakuteera, 3rd Stage, Banashankar...</td>\n",
       "      <td>Addhuri Udupi Bhojana</td>\n",
       "      <td>No</td>\n",
       "      <td>No</td>\n",
       "      <td>3.7</td>\n",
       "      <td>88</td>\n",
       "      <td>+91 9620009302</td>\n",
       "      <td>Banashankari</td>\n",
       "      <td>Quick Bites</td>\n",
       "      <td>Masala Dosa</td>\n",
       "      <td>South Indian, North Indian</td>\n",
       "      <td>300.0</td>\n",
       "      <td>[('Rated 4.0', \"RATED\\n  Great food and proper...</td>\n",
       "      <td>[]</td>\n",
       "      <td>Buffet</td>\n",
       "      <td>Banashankari</td>\n",
       "    </tr>\n",
       "    <tr>\n",
       "      <th>4</th>\n",
       "      <td>https://www.zomato.com/bangalore/grand-village...</td>\n",
       "      <td>10, 3rd Floor, Lakshmi Associates, Gandhi Baza...</td>\n",
       "      <td>Grand Village</td>\n",
       "      <td>No</td>\n",
       "      <td>No</td>\n",
       "      <td>3.8</td>\n",
       "      <td>166</td>\n",
       "      <td>+91 8026612447\\r\\n+91 9901210005</td>\n",
       "      <td>Basavanagudi</td>\n",
       "      <td>Casual Dining</td>\n",
       "      <td>Panipuri, Gol Gappe</td>\n",
       "      <td>North Indian, Rajasthani</td>\n",
       "      <td>600.0</td>\n",
       "      <td>[('Rated 4.0', 'RATED\\n  Very good restaurant ...</td>\n",
       "      <td>[]</td>\n",
       "      <td>Buffet</td>\n",
       "      <td>Banashankari</td>\n",
       "    </tr>\n",
       "  </tbody>\n",
       "</table>\n",
       "</div>"
      ],
      "text/plain": [
       "                                                 url  \\\n",
       "0  https://www.zomato.com/bangalore/jalsa-banasha...   \n",
       "1  https://www.zomato.com/bangalore/spice-elephan...   \n",
       "2  https://www.zomato.com/SanchurroBangalore?cont...   \n",
       "3  https://www.zomato.com/bangalore/addhuri-udupi...   \n",
       "4  https://www.zomato.com/bangalore/grand-village...   \n",
       "\n",
       "                                             address                   name  \\\n",
       "0  942, 21st Main Road, 2nd Stage, Banashankari, ...                  Jalsa   \n",
       "1  2nd Floor, 80 Feet Road, Near Big Bazaar, 6th ...         Spice Elephant   \n",
       "2  1112, Next to KIMS Medical College, 17th Cross...        San Churro Cafe   \n",
       "3  1st Floor, Annakuteera, 3rd Stage, Banashankar...  Addhuri Udupi Bhojana   \n",
       "4  10, 3rd Floor, Lakshmi Associates, Gandhi Baza...          Grand Village   \n",
       "\n",
       "  online_order book_table  rate  votes                             phone  \\\n",
       "0          Yes        Yes   4.1    775    080 42297555\\r\\n+91 9743772233   \n",
       "1          Yes         No   4.1    787                      080 41714161   \n",
       "2          Yes         No   3.8    918                    +91 9663487993   \n",
       "3           No         No   3.7     88                    +91 9620009302   \n",
       "4           No         No   3.8    166  +91 8026612447\\r\\n+91 9901210005   \n",
       "\n",
       "       location            rest_type  \\\n",
       "0  Banashankari        Casual Dining   \n",
       "1  Banashankari        Casual Dining   \n",
       "2  Banashankari  Cafe, Casual Dining   \n",
       "3  Banashankari          Quick Bites   \n",
       "4  Basavanagudi        Casual Dining   \n",
       "\n",
       "                                          dish_liked  \\\n",
       "0  Pasta, Lunch Buffet, Masala Papad, Paneer Laja...   \n",
       "1  Momos, Lunch Buffet, Chocolate Nirvana, Thai G...   \n",
       "2  Churros, Cannelloni, Minestrone Soup, Hot Choc...   \n",
       "3                                        Masala Dosa   \n",
       "4                                Panipuri, Gol Gappe   \n",
       "\n",
       "                         cuisines  approx_cost(for two people)  \\\n",
       "0  North Indian, Mughlai, Chinese                        800.0   \n",
       "1     Chinese, North Indian, Thai                        800.0   \n",
       "2          Cafe, Mexican, Italian                        800.0   \n",
       "3      South Indian, North Indian                        300.0   \n",
       "4        North Indian, Rajasthani                        600.0   \n",
       "\n",
       "                                        reviews_list menu_item  \\\n",
       "0  [('Rated 4.0', 'RATED\\n  A beautiful place to ...        []   \n",
       "1  [('Rated 4.0', 'RATED\\n  Had been here for din...        []   \n",
       "2  [('Rated 3.0', \"RATED\\n  Ambience is not that ...        []   \n",
       "3  [('Rated 4.0', \"RATED\\n  Great food and proper...        []   \n",
       "4  [('Rated 4.0', 'RATED\\n  Very good restaurant ...        []   \n",
       "\n",
       "  listed_in(type) listed_in(city)  \n",
       "0          Buffet    Banashankari  \n",
       "1          Buffet    Banashankari  \n",
       "2          Buffet    Banashankari  \n",
       "3          Buffet    Banashankari  \n",
       "4          Buffet    Banashankari  "
      ]
     },
     "execution_count": 131,
     "metadata": {},
     "output_type": "execute_result"
    }
   ],
   "source": [
    "df.head()"
   ]
  },
  {
   "cell_type": "code",
   "execution_count": 132,
   "id": "55a65526",
   "metadata": {},
   "outputs": [
    {
     "data": {
      "text/plain": [
       "'[(\\'Rated 4.0\\', \\'RATED\\\\n  A beautiful place to dine in.The interiors take you back to the Mughal era. The lightings are just perfect.We went there on the occasion of Christmas and so they had only limited items available. But the taste and service was not compromised at all.The only complaint is that the breads could have been better.Would surely like to come here again.\\'), (\\'Rated 4.0\\', \\'RATED\\\\n  I was here for dinner with my family on a weekday. The restaurant was completely empty. Ambience is good with some good old hindi music. Seating arrangement are good too. We ordered masala papad, panner and baby corn starters, lemon and corrionder soup, butter roti, olive and chilli paratha. Food was fresh and good, service is good too. Good for family hangout.\\\\nCheers\\'), (\\'Rated 2.0\\', \\'RATED\\\\n  Its a restaurant near to Banashankari BDA. Me along with few of my office friends visited to have buffet but unfortunately they only provide veg buffet. On inquiring they said this place is mostly visited by vegetarians. Anyways we ordered ala carte items which took ages to come. Food was ok ok. Definitely not visiting anymore.\\'), (\\'Rated 4.0\\', \\'RATED\\\\n  We went here on a weekend and one of us had the buffet while two of us took Ala Carte. Firstly the ambience and service of this place is great! The buffet had a lot of items and the good was good. We had a Pumpkin Halwa intm the dessert which was amazing. Must try! The kulchas are great here. Cheers!\\'), (\\'Rated 5.0\\', \\'RATED\\\\n  The best thing about the place is itÃ\\x83\\\\x83Ã\\x82\\\\x83Ã\\x83\\\\x82Ã\\x82\\\\x82Ã\\x83\\\\x83Ã\\x82\\\\x82Ã\\x83\\\\x82Ã\\x82\\\\x92s ambiance. Second best thing was yummy ? food. We try buffet and buffet food was not disappointed us.\\\\nTest ?. ?? ?? ?? ?? ??\\\\nQuality ?. ??????????.\\\\nService: Staff was very professional and friendly.\\\\n\\\\nOverall experience was excellent.\\\\n\\\\nsubirmajumder85.wixsite.com\\'), (\\'Rated 5.0\\', \\'RATED\\\\n  Great food and pleasant ambience. Expensive but Coll place to chill and relax......\\\\n\\\\nService is really very very good and friendly staff...\\\\n\\\\nFood : 5/5\\\\nService : 5/5\\\\nAmbience :5/5\\\\nOverall :5/5\\'), (\\'Rated 4.0\\', \\'RATED\\\\n  Good ambience with tasty food.\\\\nCheese chilli paratha with Bhutta palak methi curry is a good combo.\\\\nLemon Chicken in the starters is a must try item.\\\\nEgg fried rice was also quite tasty.\\\\nIn the mocktails, recommend \"Alice in Junoon\". Do not miss it.\\'), (\\'Rated 4.0\\', \\'RATED\\\\n  You canÃ\\x83\\\\x83Ã\\x82\\\\x83Ã\\x83\\\\x82Ã\\x82\\\\x82Ã\\x83\\\\x83Ã\\x82\\\\x82Ã\\x83\\\\x82Ã\\x82\\\\x92t go wrong with Jalsa. Never been a fan of their buffet and thus always order alacarteÃ\\x83\\\\x83Ã\\x82\\\\x83Ã\\x83\\\\x82Ã\\x82\\\\x82Ã\\x83\\\\x83Ã\\x82\\\\x82Ã\\x83\\\\x82Ã\\x82\\\\x92. Service at times can be on the slower side but food is worth the wait.\\'), (\\'Rated 5.0\\', \\'RATED\\\\n  Overdelighted by the service and food provided at this place. A royal and ethnic atmosphere builds a strong essence of being in India and also the quality and taste of food is truly authentic. I would totally recommend to visit this place once.\\'), (\\'Rated 4.0\\', \\'RATED\\\\n  The place is nice and comfortable. Food wise all jalea outlets maintain a good standard. The soya chaap was a standout dish. Clearly one of trademark dish as per me and a must try.\\\\n\\\\nThe only concern is the parking. It very congested and limited to just 5cars. The basement parking is very steep and makes it cumbersome\\'), (\\'Rated 4.0\\', \\'RATED\\\\n  The place is nice and comfortable. Food wise all jalea outlets maintain a good standard. The soya chaap was a standout dish. Clearly one of trademark dish as per me and a must try.\\\\n\\\\nThe only concern is the parking. It very congested and limited to just 5cars. The basement parking is very steep and makes it cumbersome\\'), (\\'Rated 4.0\\', \\'RATED\\\\n  The place is nice and comfortable. Food wise all jalea outlets maintain a good standard. The soya chaap was a standout dish. Clearly one of trademark dish as per me and a must try.\\\\n\\\\nThe only concern is the parking. It very congested and limited to just 5cars. The basement parking is very steep and makes it cumbersome\\')]'"
      ]
     },
     "execution_count": 132,
     "metadata": {},
     "output_type": "execute_result"
    }
   ],
   "source": [
    "df['reviews_list'][0]"
   ]
  },
  {
   "cell_type": "code",
   "execution_count": null,
   "id": "1aac587b",
   "metadata": {},
   "outputs": [],
   "source": []
  }
 ],
 "metadata": {
  "kernelspec": {
   "display_name": "Python 3",
   "language": "python",
   "name": "python3"
  },
  "language_info": {
   "codemirror_mode": {
    "name": "ipython",
    "version": 3
   },
   "file_extension": ".py",
   "mimetype": "text/x-python",
   "name": "python",
   "nbconvert_exporter": "python",
   "pygments_lexer": "ipython3",
   "version": "3.8.8"
  }
 },
 "nbformat": 4,
 "nbformat_minor": 5
}
